{
 "cells": [
  {
   "cell_type": "code",
   "execution_count": 1,
   "metadata": {},
   "outputs": [],
   "source": [
    "import os\n",
    "import bs4\n",
    "import requests"
   ]
  },
  {
   "cell_type": "code",
   "execution_count": 2,
   "metadata": {},
   "outputs": [],
   "source": [
    "def http_folder_download(url, folder_name):\n",
    "    r = requests.get(url)\n",
    "    # TO BE ADDED: assert r.status_code = 200\n",
    "    html = bs4.BeautifulSoup(r.text, \"html.parser\")\n",
    "    if not os.path.exists(folder_name):\n",
    "        os.makedirs(folder_name)\n",
    "    for line in html.find_all(\"a\"):\n",
    "        filename = line[\"href\"]\n",
    "\n",
    "        if filename != '../':\n",
    "            print(\"writing file: \" + filename)\n",
    "            r = requests.get(url + line[\"href\"])\n",
    "            with open (folder_name + '/' + filename, 'wb') as f:            \n",
    "                f.write(r.content)\n",
    "                f.close()\n",
    "\n",
    "    print(\"Done downloading: \" + url)"
   ]
  },
  {
   "cell_type": "code",
   "execution_count": 3,
   "metadata": {},
   "outputs": [
    {
     "name": "stdout",
     "output_type": "stream",
     "text": [
      "writing file: 020700-flows.dbf\n",
      "writing file: 020700-flows.prj\n",
      "writing file: 020700-flows.shp\n",
      "writing file: 020700-flows.shx\n",
      "writing file: 020700-inlets.dbf\n",
      "writing file: 020700-inlets.prj\n",
      "writing file: 020700-inlets.shp\n",
      "writing file: 020700-inlets.shx\n",
      "writing file: 020700-inlets0.dbf\n",
      "writing file: 020700-inlets0.prj\n",
      "writing file: 020700-inlets0.shp\n",
      "writing file: 020700-inlets0.shx\n",
      "writing file: 020700-wbd.dbf\n",
      "writing file: 020700-wbd.prj\n",
      "writing file: 020700-wbd.shp\n",
      "writing file: 020700-wbd.shx\n",
      "writing file: 020700-wbdbuf.dbf\n",
      "writing file: 020700-wbdbuf.prj\n",
      "writing file: 020700-wbdbuf.shp\n",
      "writing file: 020700-wbdbuf.shx\n",
      "writing file: 020700-weights.tif\n",
      "writing file: 020700.tif\n",
      "writing file: 020700_catch.sqlite\n",
      "writing file: 020700_comid.txt\n",
      "writing file: 020700ang.tif\n",
      "writing file: 020700catchhuc.tif\n",
      "writing file: 020700catchmask.tif\n",
      "writing file: 020700dd.tif\n",
      "writing file: 020700fel.tif\n",
      "writing file: 020700hand.tif\n",
      "writing file: 020700p.tif\n",
      "writing file: 020700sd8.tif\n",
      "writing file: 020700slp.tif\n",
      "writing file: 020700src.tif\n",
      "writing file: 020700ssa.tif\n",
      "writing file: 020700waterbodymask.tif\n",
      "writing file: hydroprop-basetable-020700.csv\n",
      "writing file: hydroprop-basetable-020700.nohand0.csv\n",
      "writing file: hydroprop-fulltable-020700.csv\n",
      "writing file: hydroprop-fulltable-020700.nohand0.csv\n",
      "Done downloading: https://web.corral.tacc.utexas.edu/nfiedata/HAND/020700/\n"
     ]
    }
   ],
   "source": [
    "url = 'https://web.corral.tacc.utexas.edu/nfiedata/HAND/020700/'\n",
    "folder_name = '020700'\n",
    "\n",
    "http_folder_download(url, folder_name)"
   ]
  },
  {
   "cell_type": "code",
   "execution_count": null,
   "metadata": {},
   "outputs": [],
   "source": []
  }
 ],
 "metadata": {
  "kernelspec": {
   "display_name": "Python 3",
   "language": "python",
   "name": "python3"
  },
  "language_info": {
   "codemirror_mode": {
    "name": "ipython",
    "version": 3
   },
   "file_extension": ".py",
   "mimetype": "text/x-python",
   "name": "python",
   "nbconvert_exporter": "python",
   "pygments_lexer": "ipython3",
   "version": "3.6.5"
  }
 },
 "nbformat": 4,
 "nbformat_minor": 2
}
