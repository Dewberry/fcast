{
 "cells": [
  {
   "cell_type": "markdown",
   "metadata": {
    "toc-hr-collapsed": false
   },
   "source": [
    "# Download BAT from AWS S3\n",
    "Downloads the Best Available Topography (BAT) from Amazon Web Services (AWS) Simple Storage Service (S3) when provided with a shapefile area of interest.\n",
    "\n",
    "### Author\n",
    "John Wall (jwall@Dewberry.com) <br/>\n",
    "Alec Brazeau (abrazeau@Dewberry.com)\n",
    "\n",
    "### Import Libraries"
   ]
  },
  {
   "cell_type": "code",
   "execution_count": 1,
   "metadata": {},
   "outputs": [],
   "source": [
    "from localutils import *"
   ]
  },
  {
   "cell_type": "markdown",
   "metadata": {},
   "source": [
    "### Area of Interest/Inputs\n",
    "Currently, this assumes the area of interest file will be in the same projection as the BAT files (i.e. ESRI:102008)."
   ]
  },
  {
   "cell_type": "code",
   "execution_count": 2,
   "metadata": {},
   "outputs": [],
   "source": [
    "aoi = '/mnt/c/gis/fcast_data/NC_state_flowlines_NWM_USGS_102008.shp'\n",
    "\n",
    "# USGS Grid\n",
    "grid = 's3://dewberry-demo/bats/cells/master/USGS_grid.shp'\n",
    "\n",
    "# Output directory\n",
    "download_dir = '/mnt/c/gis/fcast_data/tiffs'"
   ]
  },
  {
   "cell_type": "markdown",
   "metadata": {},
   "source": [
    "### Load US Geological Survey 30-minute by 60-mintue map coverage\n",
    "These cells act as the processing and look-up keys for the BAT."
   ]
  },
  {
   "cell_type": "code",
   "execution_count": 3,
   "metadata": {},
   "outputs": [],
   "source": [
    "reference_grid = gpd.read_file(grid)"
   ]
  },
  {
   "cell_type": "markdown",
   "metadata": {},
   "source": [
    "### Load the area of interest shapefile\n",
    "Show the Area of Interest (AOI) geometry for reference."
   ]
  },
  {
   "cell_type": "code",
   "execution_count": 4,
   "metadata": {},
   "outputs": [
    {
     "data": {
      "image/svg+xml": [
       "<svg xmlns=\"http://www.w3.org/2000/svg\" xmlns:xlink=\"http://www.w3.org/1999/xlink\" width=\"300\" height=\"300\" viewBox=\"1632879.6319487616 -314234.7155655492 3100.2794588843826 2690.9429122410947\" preserveAspectRatio=\"xMinYMin meet\"><g transform=\"matrix(1,0,0,-1,0,-625778.4882188573)\"><path fill-rule=\"evenodd\" fill=\"#66cc99\" stroke=\"#555555\" stroke-width=\"20.668529725895883\" opacity=\"0.6\" d=\"M 1633005.4734513513,-312965.60194971546 L 1633012.6108516913,-312914.7667971935 L 1633024.7397308145,-312841.9989294877 L 1633047.0532457915,-312740.7920601854 L 1633079.7216604445,-312642.4381175666 L 1633122.3940923698,-312547.9934941188 L 1633174.6122087818,-312458.472593414 L 1633235.8151493382,-312374.8369346801 L 1633305.345550187,-312297.98482538934 L 1633463.6159963273,-312140.3039300506 L 1633538.0466651544,-312073.2353287256 L 1633618.8149568997,-312013.95122635196 L 1633705.1101096182,-311963.046723967 L 1633796.0658820602,-311921.0328071631 L 1633890.7692491086,-311888.331216752 L 1633988.2695668354,-311865.27021527966 L 1634087.5881151808,-311852.0812918864 L 1634187.7279224652,-311848.8968385909 L 1634277.9992113572,-311850.5514102729 L 1634316.7968140729,-311822.2961804993 L 1634401.4053566123,-311772.57756039617 L 1634490.479762857,-311731.39143642545 L 1634583.1621975824,-311699.1344534756 L 1634678.560078276,-311676.11726392596 L 1634775.7546711974,-311662.56153589435 L 1634873.8099392843,-311658.597818452 L 1634971.7815567034,-311664.26428436465 L 1635068.7260032215,-311679.506362468 L 1635163.7096508236,-311704.1772632178 L 1635255.8177550598,-311738.0393923532 L 1635344.1632645354,-311780.7666390598 L 1635427.8953636992,-311831.9475165947 L 1635506.2076666635,-311891.0891251289 L 1635578.345983141,-311957.6218986422 L 1635643.6155817097,-312030.90509015514 L 1635701.3878804548,-312110.23294247274 L 1635751.1065005579,-312194.84148501215 L 1635792.2926245285,-312283.915891257 L 1635824.5496074783,-312376.59832598217 L 1635847.566797028,-312471.9962066758 L 1635861.1225250596,-312569.1907995971 L 1635865.086242502,-312667.24606768426 L 1635864.7186382026,-312709.5660739421 L 1635857.7116499713,-312819.369746243 L 1635838.6840002968,-312927.7389894935 L 1635807.8660368465,-313033.3618916673 L 1635782.3043073264,-313105.86966529203 L 1635744.055138947,-313199.09606545523 L 1635696.617871692,-313287.99975629256 L 1635640.47419119,-313371.6779954519 L 1635576.194189388,-313449.2811006569 L 1635457.685768638,-313578.50366157765 L 1635388.1145985322,-313647.2844235183 L 1635312.155510766,-313708.93795471254 L 1635230.5355052806,-313762.87417285563 L 1635144.0357623268,-313808.57685759006 L 1635053.4841658343,-313845.6085912203 L 1634959.7473797833,-313873.6149452114 L 1634863.722553416,-313892.3278724039 L 1634766.3287346722,-313901.5682724771 L 1634608.2861719856,-313908.78925921913 L 1634536.8278329473,-313960.07304745924 L 1634451.8752776321,-314009.2015524338 L 1634362.5163565245,-314049.76668369304 L 1634269.6116448832,-314081.3777768478 L 1634174.055865868,-314103.73039979057 L 1634076.7692738671,-314116.60928454326 L 1633978.688791944,-314119.89040040533 L 1633880.7589887553,-314113.5421484375 L 1633783.9229818399,-314097.6256657765 L 1633689.1133548804,-314072.29423685104 L 1633597.2431764125,-314037.79181716946 L 1633509.1972064762,-313994.4506838941 L 1633425.823375893,-313942.6882358311 L 1633347.924620228,-313883.0029736515 L 1633276.251147082,-313815.96969905746 L 1633211.4932111823,-313742.2339791274 L 1633154.2744668515,-313662.50592915225 L 1633105.145961877,-313577.55337383715 L 1633064.5808306178,-313488.1944527295 L 1633032.9697374632,-313395.28974108805 L 1633010.6171145204,-313299.733962073 L 1632997.7382297677,-313202.4473700721 L 1632994.4571139056,-313104.3668881489 L 1633000.8053658733,-313006.4370849602 L 1633005.4734513513,-312965.60194971546 z\" /></g></svg>"
      ],
      "text/plain": [
       "<shapely.geometry.polygon.Polygon at 0x7ffbcbf27b70>"
      ]
     },
     "execution_count": 4,
     "metadata": {},
     "output_type": "execute_result"
    }
   ],
   "source": [
    "aoi_poly = gpd.read_file(aoi).geometry.buffer(1000)\n",
    "aoi_poly[0]"
   ]
  },
  {
   "cell_type": "markdown",
   "metadata": {},
   "source": [
    "### Download the BAT files\n",
    "Download the BAT covering the AOI printing the local name."
   ]
  },
  {
   "cell_type": "code",
   "execution_count": 6,
   "metadata": {},
   "outputs": [
    {
     "name": "stdout",
     "output_type": "stream",
     "text": [
      "/mnt/c/gis/fcast_data/tiffs/c68390_aoi.tif\n",
      "/mnt/c/gis/fcast_data/tiffs/c67468_aoi.tif\n",
      "/mnt/c/gis/fcast_data/tiffs/c67567_aoi.tif\n",
      "/mnt/c/gis/fcast_data/tiffs/c68599_aoi.tif\n",
      "/mnt/c/gis/fcast_data/tiffs/c67828_aoi.tif\n",
      "/mnt/c/gis/fcast_data/tiffs/c68618_aoi.tif\n",
      "/mnt/c/gis/fcast_data/tiffs/c67524_aoi.tif\n",
      "/mnt/c/gis/fcast_data/tiffs/c68043_aoi.tif\n",
      "/mnt/c/gis/fcast_data/tiffs/c67167_aoi.tif\n",
      "/mnt/c/gis/fcast_data/tiffs/c67381_aoi.tif\n",
      "/mnt/c/gis/fcast_data/tiffs/c67466_aoi.tif\n",
      "/mnt/c/gis/fcast_data/tiffs/c67662_aoi.tif\n",
      "/mnt/c/gis/fcast_data/tiffs/c68241_aoi.tif\n",
      "/mnt/c/gis/fcast_data/tiffs/c67111_aoi.tif\n",
      "/mnt/c/gis/fcast_data/tiffs/c67375_aoi.tif\n",
      "/mnt/c/gis/fcast_data/tiffs/c68392_aoi.tif\n",
      "/mnt/c/gis/fcast_data/tiffs/c68254_aoi.tif\n",
      "/mnt/c/gis/fcast_data/tiffs/c67066_aoi.tif\n",
      "/mnt/c/gis/fcast_data/tiffs/c67607_aoi.tif\n",
      "/mnt/c/gis/fcast_data/tiffs/c68165_aoi.tif\n",
      "/mnt/c/gis/fcast_data/tiffs/c67775_aoi.tif\n",
      "/mnt/c/gis/fcast_data/tiffs/c67309_aoi.tif\n",
      "/mnt/c/gis/fcast_data/tiffs/c68209_aoi.tif\n",
      "/mnt/c/gis/fcast_data/tiffs/c67812_aoi.tif\n",
      "/mnt/c/gis/fcast_data/tiffs/c67737_aoi.tif\n",
      "/mnt/c/gis/fcast_data/tiffs/c68583_aoi.tif\n",
      "/mnt/c/gis/fcast_data/tiffs/c67987_aoi.tif\n",
      "/mnt/c/gis/fcast_data/tiffs/c67660_aoi.tif\n",
      "/mnt/c/gis/fcast_data/tiffs/c67557_aoi.tif\n",
      "/mnt/c/gis/fcast_data/tiffs/c67666_aoi.tif\n",
      "/mnt/c/gis/fcast_data/tiffs/c67770_aoi.tif\n",
      "/mnt/c/gis/fcast_data/tiffs/c67230_aoi.tif\n",
      "/mnt/c/gis/fcast_data/tiffs/c67273_aoi.tif\n",
      "/mnt/c/gis/fcast_data/tiffs/c68609_aoi.tif\n",
      "/mnt/c/gis/fcast_data/tiffs/c67268_aoi.tif\n",
      "/mnt/c/gis/fcast_data/tiffs/c68292_aoi.tif\n",
      "/mnt/c/gis/fcast_data/tiffs/c68060_aoi.tif\n",
      "/mnt/c/gis/fcast_data/tiffs/c67903_aoi.tif\n",
      "/mnt/c/gis/fcast_data/tiffs/c67512_aoi.tif\n"
     ]
    }
   ],
   "source": [
    "download_bat(reference_grid, aoi_poly, download_dir)"
   ]
  },
  {
   "cell_type": "markdown",
   "metadata": {},
   "source": [
    "____\n",
    "# END"
   ]
  }
 ],
 "metadata": {
  "kernelspec": {
   "display_name": "Python 3",
   "language": "python",
   "name": "python3"
  },
  "language_info": {
   "codemirror_mode": {
    "name": "ipython",
    "version": 3
   },
   "file_extension": ".py",
   "mimetype": "text/x-python",
   "name": "python",
   "nbconvert_exporter": "python",
   "pygments_lexer": "ipython3",
   "version": "3.6.8"
  },
  "toc-autonumbering": false,
  "toc-showcode": false,
  "toc-showmarkdowntxt": false,
  "toc-showtags": false
 },
 "nbformat": 4,
 "nbformat_minor": 2
}
