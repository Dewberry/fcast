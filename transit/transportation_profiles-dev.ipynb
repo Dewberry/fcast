{
 "cells": [
  {
   "cell_type": "markdown",
   "metadata": {},
   "source": [
    "# Transportation Profiles\n",
    "Creates topographic profiles along or offset from from transportation routes.\n",
    "\n",
    "Assumes transportation routes, from the National Transportation Dataset, align well with elevation data, from the Best Available Topographic dataset.\n",
    "\n",
    "### Author\n",
    "John Wall (jwall@Dewberry.com)\n",
    "\n",
    "### Import libraries"
   ]
  },
  {
   "cell_type": "code",
   "execution_count": 29,
   "metadata": {},
   "outputs": [],
   "source": [
    "import geopandas as gpd\n",
    "from matplotlib import pyplot as plt"
   ]
  },
  {
   "cell_type": "markdown",
   "metadata": {},
   "source": [
    "### Load data"
   ]
  },
  {
   "cell_type": "code",
   "execution_count": 85,
   "metadata": {},
   "outputs": [],
   "source": [
    "streams = \"/mnt/c/gis/fcast_data/sample_streams.shp\"\n",
    "roads = \"/mnt/c/gis/fcast_data/sample_roads.shp\""
   ]
  },
  {
   "cell_type": "markdown",
   "metadata": {},
   "source": [
    "### Initial processing"
   ]
  },
  {
   "cell_type": "code",
   "execution_count": 86,
   "metadata": {},
   "outputs": [
    {
     "data": {
      "text/html": [
       "<div>\n",
       "<style scoped>\n",
       "    .dataframe tbody tr th:only-of-type {\n",
       "        vertical-align: middle;\n",
       "    }\n",
       "\n",
       "    .dataframe tbody tr th {\n",
       "        vertical-align: top;\n",
       "    }\n",
       "\n",
       "    .dataframe thead th {\n",
       "        text-align: right;\n",
       "    }\n",
       "</style>\n",
       "<table border=\"1\" class=\"dataframe\">\n",
       "  <thead>\n",
       "    <tr style=\"text-align: right;\">\n",
       "      <th></th>\n",
       "      <th>Join_Count</th>\n",
       "      <th>TARGET_FID</th>\n",
       "      <th>COMID</th>\n",
       "      <th>FDATE</th>\n",
       "      <th>RESOLUTION</th>\n",
       "      <th>GNIS_ID</th>\n",
       "      <th>GNIS_NAME</th>\n",
       "      <th>LENGTHKM</th>\n",
       "      <th>REACHCODE</th>\n",
       "      <th>FLOWDIR</th>\n",
       "      <th>...</th>\n",
       "      <th>MAX_</th>\n",
       "      <th>AVE</th>\n",
       "      <th>STDEV</th>\n",
       "      <th>GOTQ</th>\n",
       "      <th>NWISWEB</th>\n",
       "      <th>HUC</th>\n",
       "      <th>HUC_REG</th>\n",
       "      <th>SUBREGIONS</th>\n",
       "      <th>ACCOUNTING</th>\n",
       "      <th>geometry</th>\n",
       "    </tr>\n",
       "  </thead>\n",
       "  <tbody>\n",
       "    <tr>\n",
       "      <th>0</th>\n",
       "      <td>1</td>\n",
       "      <td>407</td>\n",
       "      <td>9747396</td>\n",
       "      <td>1999-10-12</td>\n",
       "      <td>Medium</td>\n",
       "      <td>988957</td>\n",
       "      <td>Long Creek</td>\n",
       "      <td>6.556</td>\n",
       "      <td>03050102000189</td>\n",
       "      <td>With Digitized</td>\n",
       "      <td>...</td>\n",
       "      <td>2940.0</td>\n",
       "      <td>33.988</td>\n",
       "      <td>75.423</td>\n",
       "      <td>1</td>\n",
       "      <td>http://waterdata.usgs.gov/nwis/nwisman/?site_n...</td>\n",
       "      <td>03050102</td>\n",
       "      <td>03</td>\n",
       "      <td>0305</td>\n",
       "      <td>030501</td>\n",
       "      <td>LINESTRING Z (1263251.978737631 -451527.977621...</td>\n",
       "    </tr>\n",
       "  </tbody>\n",
       "</table>\n",
       "<p>1 rows × 141 columns</p>\n",
       "</div>"
      ],
      "text/plain": [
       "   Join_Count  TARGET_FID    COMID       FDATE RESOLUTION GNIS_ID   GNIS_NAME  \\\n",
       "0           1         407  9747396  1999-10-12     Medium  988957  Long Creek   \n",
       "\n",
       "   LENGTHKM       REACHCODE         FLOWDIR  ...    MAX_     AVE   STDEV  \\\n",
       "0     6.556  03050102000189  With Digitized  ...  2940.0  33.988  75.423   \n",
       "\n",
       "   GOTQ                                            NWISWEB       HUC  HUC_REG  \\\n",
       "0     1  http://waterdata.usgs.gov/nwis/nwisman/?site_n...  03050102       03   \n",
       "\n",
       "   SUBREGIONS  ACCOUNTING                                           geometry  \n",
       "0        0305      030501  LINESTRING Z (1263251.978737631 -451527.977621...  \n",
       "\n",
       "[1 rows x 141 columns]"
      ]
     },
     "execution_count": 86,
     "metadata": {},
     "output_type": "execute_result"
    }
   ],
   "source": [
    "gdf_streams = gpd.read_file(streams)\n",
    "gdf_streams.head(2)"
   ]
  },
  {
   "cell_type": "code",
   "execution_count": 87,
   "metadata": {},
   "outputs": [
    {
     "data": {
      "text/html": [
       "<div>\n",
       "<style scoped>\n",
       "    .dataframe tbody tr th:only-of-type {\n",
       "        vertical-align: middle;\n",
       "    }\n",
       "\n",
       "    .dataframe tbody tr th {\n",
       "        vertical-align: top;\n",
       "    }\n",
       "\n",
       "    .dataframe thead th {\n",
       "        text-align: right;\n",
       "    }\n",
       "</style>\n",
       "<table border=\"1\" class=\"dataframe\">\n",
       "  <thead>\n",
       "    <tr style=\"text-align: right;\">\n",
       "      <th></th>\n",
       "      <th>PERMANENT_</th>\n",
       "      <th>SOURCE_FEA</th>\n",
       "      <th>SOURCE_DAT</th>\n",
       "      <th>SOURCE_D_1</th>\n",
       "      <th>SOURCE_ORI</th>\n",
       "      <th>LOADDATE</th>\n",
       "      <th>INTERSTATE</th>\n",
       "      <th>INTERSTA_1</th>\n",
       "      <th>INTERSTA_2</th>\n",
       "      <th>INTERSTA_3</th>\n",
       "      <th>...</th>\n",
       "      <th>STATE_RO_2</th>\n",
       "      <th>STATE_RO_3</th>\n",
       "      <th>COUNTY_ROU</th>\n",
       "      <th>FEDERAL_LA</th>\n",
       "      <th>STCO_FIPSC</th>\n",
       "      <th>TNMFRC</th>\n",
       "      <th>FULL_STREE</th>\n",
       "      <th>MTFCC_CODE</th>\n",
       "      <th>SHAPE_Leng</th>\n",
       "      <th>geometry</th>\n",
       "    </tr>\n",
       "  </thead>\n",
       "  <tbody>\n",
       "    <tr>\n",
       "      <th>0</th>\n",
       "      <td>8f249974-24ec-4a47-8fdd-cad7fef35901</td>\n",
       "      <td>1106092867736</td>\n",
       "      <td>{FBF2B128-FAA1-4076-8910-749C39CD00BF}</td>\n",
       "      <td>2018 May MAF/TIGER</td>\n",
       "      <td>U.S. Department of Commerce, U.S. Census Burea...</td>\n",
       "      <td>2019-05-13</td>\n",
       "      <td>None</td>\n",
       "      <td>None</td>\n",
       "      <td>None</td>\n",
       "      <td>None</td>\n",
       "      <td>...</td>\n",
       "      <td>None</td>\n",
       "      <td>None</td>\n",
       "      <td>None</td>\n",
       "      <td>None</td>\n",
       "      <td>37071</td>\n",
       "      <td>4</td>\n",
       "      <td>Hillcrest Rd</td>\n",
       "      <td>S1400</td>\n",
       "      <td>0.000796</td>\n",
       "      <td>LINESTRING (1268171.889787646 -453181.84868317...</td>\n",
       "    </tr>\n",
       "    <tr>\n",
       "      <th>1</th>\n",
       "      <td>60fbec8f-3606-481a-b574-1db508a2382a</td>\n",
       "      <td>1108311086747</td>\n",
       "      <td>{FBF2B128-FAA1-4076-8910-749C39CD00BF}</td>\n",
       "      <td>2018 May MAF/TIGER</td>\n",
       "      <td>U.S. Department of Commerce, U.S. Census Burea...</td>\n",
       "      <td>2019-05-13</td>\n",
       "      <td>None</td>\n",
       "      <td>None</td>\n",
       "      <td>None</td>\n",
       "      <td>None</td>\n",
       "      <td>...</td>\n",
       "      <td>None</td>\n",
       "      <td>None</td>\n",
       "      <td>None</td>\n",
       "      <td>None</td>\n",
       "      <td>37071</td>\n",
       "      <td>4</td>\n",
       "      <td>None</td>\n",
       "      <td>S1740</td>\n",
       "      <td>0.011924</td>\n",
       "      <td>LINESTRING (1264230.575675119 -450374.70059585...</td>\n",
       "    </tr>\n",
       "  </tbody>\n",
       "</table>\n",
       "<p>2 rows × 26 columns</p>\n",
       "</div>"
      ],
      "text/plain": [
       "                             PERMANENT_     SOURCE_FEA  \\\n",
       "0  8f249974-24ec-4a47-8fdd-cad7fef35901  1106092867736   \n",
       "1  60fbec8f-3606-481a-b574-1db508a2382a  1108311086747   \n",
       "\n",
       "                               SOURCE_DAT          SOURCE_D_1  \\\n",
       "0  {FBF2B128-FAA1-4076-8910-749C39CD00BF}  2018 May MAF/TIGER   \n",
       "1  {FBF2B128-FAA1-4076-8910-749C39CD00BF}  2018 May MAF/TIGER   \n",
       "\n",
       "                                          SOURCE_ORI    LOADDATE INTERSTATE  \\\n",
       "0  U.S. Department of Commerce, U.S. Census Burea...  2019-05-13       None   \n",
       "1  U.S. Department of Commerce, U.S. Census Burea...  2019-05-13       None   \n",
       "\n",
       "  INTERSTA_1 INTERSTA_2 INTERSTA_3  ... STATE_RO_2 STATE_RO_3 COUNTY_ROU  \\\n",
       "0       None       None       None  ...       None       None       None   \n",
       "1       None       None       None  ...       None       None       None   \n",
       "\n",
       "  FEDERAL_LA STCO_FIPSC TNMFRC    FULL_STREE MTFCC_CODE SHAPE_Leng  \\\n",
       "0       None      37071      4  Hillcrest Rd      S1400   0.000796   \n",
       "1       None      37071      4          None      S1740   0.011924   \n",
       "\n",
       "                                            geometry  \n",
       "0  LINESTRING (1268171.889787646 -453181.84868317...  \n",
       "1  LINESTRING (1264230.575675119 -450374.70059585...  \n",
       "\n",
       "[2 rows x 26 columns]"
      ]
     },
     "execution_count": 87,
     "metadata": {},
     "output_type": "execute_result"
    }
   ],
   "source": [
    "gdf_roads = gpd.read_file(roads)\n",
    "gdf_roads.head(2)"
   ]
  },
  {
   "cell_type": "markdown",
   "metadata": {},
   "source": [
    "### Filtering"
   ]
  },
  {
   "cell_type": "code",
   "execution_count": 96,
   "metadata": {},
   "outputs": [],
   "source": [
    "# Stream of interest\n",
    "stream = gdf[gdf[\"COMID\"] == 9747396].to_crs(gdf_roads.crs)\n",
    "stream_shape = list(stream.geometry)[0]\n",
    "\n",
    "intersecting_roads = gdf_roads[gdf_roads.geometry.apply(lambda row: stream_shape.intersects(row))]"
   ]
  },
  {
   "cell_type": "code",
   "execution_count": 97,
   "metadata": {},
   "outputs": [
    {
     "data": {
      "text/plain": [
       "3"
      ]
     },
     "execution_count": 97,
     "metadata": {},
     "output_type": "execute_result"
    }
   ],
   "source": [
    "len(intersecting_roads)"
   ]
  },
  {
   "cell_type": "code",
   "execution_count": 98,
   "metadata": {},
   "outputs": [
    {
     "data": {
      "image/png": "[encoded data removed]",
      "text/plain": [
       "<Figure size 432x288 with 1 Axes>"
      ]
     },
     "metadata": {
      "needs_background": "light"
     },
     "output_type": "display_data"
    }
   ],
   "source": [
    "ax = \n",
    "intersecting_roads.plot();"
   ]
  },
  {
   "cell_type": "code",
   "execution_count": 94,
   "metadata": {},
   "outputs": [
    {
     "data": {
      "image/png": "[encoded data removed]",
      "text/plain": [
       "<Figure size 432x288 with 1 Axes>"
      ]
     },
     "metadata": {
      "needs_background": "light"
     },
     "output_type": "display_data"
    }
   ],
   "source": [
    "stream.to_crs(gdf_roads.crs).plot();"
   ]
  }
 ],
 "metadata": {
  "kernelspec": {
   "display_name": "Python 3",
   "language": "python",
   "name": "python3"
  },
  "language_info": {
   "codemirror_mode": {
    "name": "ipython",
    "version": 3
   },
   "file_extension": ".py",
   "mimetype": "text/x-python",
   "name": "python",
   "nbconvert_exporter": "python",
   "pygments_lexer": "ipython3",
   "version": "3.6.8"
  }
 },
 "nbformat": 4,
 "nbformat_minor": 2
}
