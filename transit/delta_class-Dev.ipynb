{
 "cells": [
  {
   "cell_type": "markdown",
   "metadata": {},
   "source": [
    "# $\\Delta$ Class Development\n",
    "Interface notebook testing a Python class created from `advanced_profile_creation-Dev`\n",
    "\n",
    "### Author\n",
    "John Wall (jwall@Dewberry.com)\n",
    "\n",
    "### Import libraries"
   ]
  },
  {
   "cell_type": "code",
   "execution_count": 1,
   "metadata": {},
   "outputs": [],
   "source": [
    "from TransitOps import *"
   ]
  },
  {
   "cell_type": "markdown",
   "metadata": {},
   "source": [
    "### Provide input data"
   ]
  },
  {
   "cell_type": "code",
   "execution_count": 2,
   "metadata": {},
   "outputs": [],
   "source": [
    "streams = \"/mnt/c/gis/fcast_data/sample_streams.shp\"\n",
    "roads = \"/mnt/c/gis/fcast_data/sample_roads.shp\"\n",
    "dem = \"/mnt/c/gis/fcast_data/tiffs/c67567_aoi.tif\"\n",
    "\n",
    "our_prj = {'proj': 'aea', 'lat_1': 20, 'lat_2': 60, 'lat_0': 40,\n",
    "             'lon_0': -96, 'x_0': 0, 'y_0': 0, 'ellps': 'GRS80',\n",
    "             'units': 'm', 'no_defs': True}"
   ]
  },
  {
   "cell_type": "markdown",
   "metadata": {},
   "source": [
    "### Test class object initialization"
   ]
  },
  {
   "cell_type": "code",
   "execution_count": 3,
   "metadata": {},
   "outputs": [],
   "source": [
    "datasets = DepthToInundationPts(streams, roads, dem, our_prj)"
   ]
  },
  {
   "cell_type": "markdown",
   "metadata": {},
   "source": [
    "### Test object output"
   ]
  },
  {
   "cell_type": "code",
   "execution_count": 4,
   "metadata": {},
   "outputs": [
    {
     "data": {
      "text/html": [
       "<div>\n",
       "<style scoped>\n",
       "    .dataframe tbody tr th:only-of-type {\n",
       "        vertical-align: middle;\n",
       "    }\n",
       "\n",
       "    .dataframe tbody tr th {\n",
       "        vertical-align: top;\n",
       "    }\n",
       "\n",
       "    .dataframe thead th {\n",
       "        text-align: right;\n",
       "    }\n",
       "</style>\n",
       "<table border=\"1\" class=\"dataframe\">\n",
       "  <thead>\n",
       "    <tr style=\"text-align: right;\">\n",
       "      <th></th>\n",
       "      <th>transit</th>\n",
       "      <th>geometry</th>\n",
       "      <th>geometry_min</th>\n",
       "      <th>side</th>\n",
       "      <th>offset</th>\n",
       "      <th>offset_min</th>\n",
       "      <th>delta_z</th>\n",
       "    </tr>\n",
       "  </thead>\n",
       "  <tbody>\n",
       "    <tr>\n",
       "      <th>0</th>\n",
       "      <td>Besstown Rd</td>\n",
       "      <td>LINESTRING Z (1264274.342034306 -452328.815437...</td>\n",
       "      <td>226.710168</td>\n",
       "      <td>upstream</td>\n",
       "      <td>LINESTRING Z (1264180.085532356 -452295.715640...</td>\n",
       "      <td>226.356918</td>\n",
       "      <td>0.353249</td>\n",
       "    </tr>\n",
       "    <tr>\n",
       "      <th>1</th>\n",
       "      <td>Costner School Rd</td>\n",
       "      <td>LINESTRING Z (1266126.206046507 -452609.044009...</td>\n",
       "      <td>223.999378</td>\n",
       "      <td>upstream</td>\n",
       "      <td>LINESTRING Z (1266069.092688204 -452526.958295...</td>\n",
       "      <td>222.211342</td>\n",
       "      <td>1.788036</td>\n",
       "    </tr>\n",
       "    <tr>\n",
       "      <th>2</th>\n",
       "      <td>Puetts Chapel Rd</td>\n",
       "      <td>LINESTRING Z (1264972.305214914 -452754.188909...</td>\n",
       "      <td>228.069603</td>\n",
       "      <td>upstream</td>\n",
       "      <td>LINESTRING Z (1264879.552337602 -452716.813734...</td>\n",
       "      <td>224.987543</td>\n",
       "      <td>3.082060</td>\n",
       "    </tr>\n",
       "    <tr>\n",
       "      <th>3</th>\n",
       "      <td>Besstown Rd</td>\n",
       "      <td>LINESTRING Z (1264274.342034306 -452328.815437...</td>\n",
       "      <td>226.710168</td>\n",
       "      <td>downstream</td>\n",
       "      <td>LINESTRING Z (1264418.469588207 -452152.987224...</td>\n",
       "      <td>226.411835</td>\n",
       "      <td>0.298333</td>\n",
       "    </tr>\n",
       "    <tr>\n",
       "      <th>4</th>\n",
       "      <td>Costner School Rd</td>\n",
       "      <td>LINESTRING Z (1266126.206046507 -452609.044009...</td>\n",
       "      <td>223.999378</td>\n",
       "      <td>downstream</td>\n",
       "      <td>LINESTRING Z (1266346.404820265 -452520.689647...</td>\n",
       "      <td>221.328263</td>\n",
       "      <td>2.671115</td>\n",
       "    </tr>\n",
       "    <tr>\n",
       "      <th>5</th>\n",
       "      <td>Puetts Chapel Rd</td>\n",
       "      <td>LINESTRING Z (1264972.305214914 -452754.188909...</td>\n",
       "      <td>228.069603</td>\n",
       "      <td>downstream</td>\n",
       "      <td>LINESTRING Z (1265133.880477114 -452597.678766...</td>\n",
       "      <td>224.766019</td>\n",
       "      <td>3.303584</td>\n",
       "    </tr>\n",
       "  </tbody>\n",
       "</table>\n",
       "</div>"
      ],
      "text/plain": [
       "             transit                                           geometry  \\\n",
       "0        Besstown Rd  LINESTRING Z (1264274.342034306 -452328.815437...   \n",
       "1  Costner School Rd  LINESTRING Z (1266126.206046507 -452609.044009...   \n",
       "2   Puetts Chapel Rd  LINESTRING Z (1264972.305214914 -452754.188909...   \n",
       "3        Besstown Rd  LINESTRING Z (1264274.342034306 -452328.815437...   \n",
       "4  Costner School Rd  LINESTRING Z (1266126.206046507 -452609.044009...   \n",
       "5   Puetts Chapel Rd  LINESTRING Z (1264972.305214914 -452754.188909...   \n",
       "\n",
       "   geometry_min        side  \\\n",
       "0    226.710168    upstream   \n",
       "1    223.999378    upstream   \n",
       "2    228.069603    upstream   \n",
       "3    226.710168  downstream   \n",
       "4    223.999378  downstream   \n",
       "5    228.069603  downstream   \n",
       "\n",
       "                                              offset  offset_min   delta_z  \n",
       "0  LINESTRING Z (1264180.085532356 -452295.715640...  226.356918  0.353249  \n",
       "1  LINESTRING Z (1266069.092688204 -452526.958295...  222.211342  1.788036  \n",
       "2  LINESTRING Z (1264879.552337602 -452716.813734...  224.987543  3.082060  \n",
       "3  LINESTRING Z (1264418.469588207 -452152.987224...  226.411835  0.298333  \n",
       "4  LINESTRING Z (1266346.404820265 -452520.689647...  221.328263  2.671115  \n",
       "5  LINESTRING Z (1265133.880477114 -452597.678766...  224.766019  3.303584  "
      ]
     },
     "execution_count": 4,
     "metadata": {},
     "output_type": "execute_result"
    }
   ],
   "source": [
    "datasets.delta_z"
   ]
  }
 ],
 "metadata": {
  "kernelspec": {
   "display_name": "Python 3",
   "language": "python",
   "name": "python3"
  },
  "language_info": {
   "codemirror_mode": {
    "name": "ipython",
    "version": 3
   },
   "file_extension": ".py",
   "mimetype": "text/x-python",
   "name": "python",
   "nbconvert_exporter": "python",
   "pygments_lexer": "ipython3",
   "version": "3.6.8"
  }
 },
 "nbformat": 4,
 "nbformat_minor": 2
}
