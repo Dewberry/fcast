{
 "cells": [
  {
   "cell_type": "markdown",
   "metadata": {},
   "source": [
    "# Short_range National Water Model Forecast\n",
    "### Workflow for creating an 18 hour stream flow forecast given a date, time, and NHDplus COMID (stream segment identifier)"
   ]
  },
  {
   "cell_type": "code",
   "execution_count": 58,
   "metadata": {},
   "outputs": [],
   "source": [
    "import gcsfs\n",
    "import xarray as xr\n",
    "import matplotlib.pyplot as plt\n",
    "import numpy as np\n",
    "import json\n",
    "import pandas as pd\n",
    "from scipy.interpolate import interp1d\n",
    "\n",
    "%matplotlib inline"
   ]
  },
  {
   "cell_type": "markdown",
   "metadata": {},
   "source": [
    "## Set up the Google Cloud File System"
   ]
  },
  {
   "cell_type": "code",
   "execution_count": 2,
   "metadata": {},
   "outputs": [],
   "source": [
    "fs = gcsfs.GCSFileSystem(project='national-water-model')"
   ]
  },
  {
   "cell_type": "markdown",
   "metadata": {},
   "source": [
    "## Open all netcdf files of interest, concat them into an xarray multifile dataset\n",
    "\n",
    "- This step takes longer than expected due to reading from GCS over the internet"
   ]
  },
  {
   "cell_type": "code",
   "execution_count": 3,
   "metadata": {},
   "outputs": [],
   "source": [
    "date = '20190802' # a date\n",
    "start_time = '00' # start at 00:00 because its easy at the moment\n",
    "comid = 4512772 # some small segment on the Potomac near DC\n",
    "# comid = 229757 # the South Platte River in Denver\n",
    "# comid = 7471678 # somewhere on the Mississippi River"
   ]
  },
  {
   "cell_type": "code",
   "execution_count": 4,
   "metadata": {},
   "outputs": [],
   "source": [
    "open_ncdfs = []\n",
    "for i in range(1,19): # for times 1-18\n",
    "    hr_from_start = str(i).zfill(3)\n",
    "    filepath = f'national-water-model/nwm.{date}/short_range/nwm.t{start_time}z.short_range.channel_rt.f{hr_from_start}.conus.nc'\n",
    "    file = fs.open(filepath, 'rb')\n",
    "    open_ncdfs.append(file)\n",
    "mfdset = xr.open_mfdataset(open_ncdfs)"
   ]
  },
  {
   "cell_type": "markdown",
   "metadata": {},
   "source": [
    "## Get the model analysis_assim time and streamflow (AKA time zero)"
   ]
  },
  {
   "cell_type": "code",
   "execution_count": 45,
   "metadata": {},
   "outputs": [
    {
     "name": "stdout",
     "output_type": "stream",
     "text": [
      "2019-08-02T00:00:00.000000000 112.6999974809587\n"
     ]
    }
   ],
   "source": [
    "filepath = f'national-water-model/nwm.{date}/analysis_assim/nwm.t{start_time}z.analysis_assim.channel_rt.tm00.conus.nc'\n",
    "file = fs.open(filepath, 'rb')\n",
    "assim = xr.open_dataset(file)\n",
    "ds = assim.sel(feature_id=comid)\n",
    "assim_time = ds['time'].values[0]\n",
    "df = assim['streamflow'].to_dataframe()\n",
    "assim_flow = df.loc[comid].values[0]\n",
    "print(assim_time, assim_flow)"
   ]
  },
  {
   "cell_type": "markdown",
   "metadata": {},
   "source": [
    "## Get only the streamflow data for the COMID of interest"
   ]
  },
  {
   "cell_type": "code",
   "execution_count": 46,
   "metadata": {},
   "outputs": [
    {
     "data": {
      "text/html": [
       "<div>\n",
       "<style scoped>\n",
       "    .dataframe tbody tr th:only-of-type {\n",
       "        vertical-align: middle;\n",
       "    }\n",
       "\n",
       "    .dataframe tbody tr th {\n",
       "        vertical-align: top;\n",
       "    }\n",
       "\n",
       "    .dataframe thead th {\n",
       "        text-align: right;\n",
       "    }\n",
       "</style>\n",
       "<table border=\"1\" class=\"dataframe\">\n",
       "  <thead>\n",
       "    <tr style=\"text-align: right;\">\n",
       "      <th></th>\n",
       "      <th>streamflow</th>\n",
       "    </tr>\n",
       "  </thead>\n",
       "  <tbody>\n",
       "    <tr>\n",
       "      <th>2019-08-02 00:00:00</th>\n",
       "      <td>112.699997</td>\n",
       "    </tr>\n",
       "    <tr>\n",
       "      <th>2019-08-02 01:00:00</th>\n",
       "      <td>119.389997</td>\n",
       "    </tr>\n",
       "    <tr>\n",
       "      <th>2019-08-02 02:00:00</th>\n",
       "      <td>124.859997</td>\n",
       "    </tr>\n",
       "    <tr>\n",
       "      <th>2019-08-02 03:00:00</th>\n",
       "      <td>129.759997</td>\n",
       "    </tr>\n",
       "    <tr>\n",
       "      <th>2019-08-02 04:00:00</th>\n",
       "      <td>133.689997</td>\n",
       "    </tr>\n",
       "  </tbody>\n",
       "</table>\n",
       "</div>"
      ],
      "text/plain": [
       "                     streamflow\n",
       "2019-08-02 00:00:00  112.699997\n",
       "2019-08-02 01:00:00  119.389997\n",
       "2019-08-02 02:00:00  124.859997\n",
       "2019-08-02 03:00:00  129.759997\n",
       "2019-08-02 04:00:00  133.689997"
      ]
     },
     "execution_count": 46,
     "metadata": {},
     "output_type": "execute_result"
    }
   ],
   "source": [
    "output_da = mfdset.sel(feature_id=comid)['streamflow']\n",
    "times = output_da['time'].values\n",
    "arr = output_da.values\n",
    "d = {**{assim_time: assim_flow}, **dict(zip(times, arr))}\n",
    "df = pd.DataFrame([d]).T.rename(columns={0:'streamflow'})\n",
    "df.head()"
   ]
  },
  {
   "cell_type": "markdown",
   "metadata": {},
   "source": [
    "# Plot it "
   ]
  },
  {
   "cell_type": "code",
   "execution_count": 53,
   "metadata": {},
   "outputs": [
    {
     "data": {
      "image/png": "[encoded data removed]",
      "text/plain": [
       "<Figure size 1440x432 with 1 Axes>"
      ]
     },
     "metadata": {
      "needs_background": "light"
     },
     "output_type": "display_data"
    }
   ],
   "source": [
    "ax = df.plot(figsize=(20,6), title=f'Short-range 18-hour forecast for COMID: {comid}')\n",
    "ax.grid(True, which=\"both\")\n",
    "# ax.set_xticklabels(pd.Series(df.index).dt.strftime('%Y-%m-%d %H:00'), rotation='vertical')\n",
    "ax.set(xlabel='Date', ylabel='Streamflow (cms)');"
   ]
  },
  {
   "cell_type": "markdown",
   "metadata": {},
   "source": [
    "# Convert Flow to Stage"
   ]
  },
  {
   "cell_type": "code",
   "execution_count": 54,
   "metadata": {},
   "outputs": [],
   "source": [
    "ds = xr.open_dataset(r'data/hydroprop-fulltable2D.nc')\n",
    "dis_ds = ds.Discharge.sel(CatchId=comid)\n",
    "dis_df = dis_ds.to_dataframe().reset_index().drop(columns=['CatchId']).dropna()"
   ]
  },
  {
   "cell_type": "code",
   "execution_count": 55,
   "metadata": {},
   "outputs": [
    {
     "data": {
      "text/html": [
       "<div>\n",
       "<style scoped>\n",
       "    .dataframe tbody tr th:only-of-type {\n",
       "        vertical-align: middle;\n",
       "    }\n",
       "\n",
       "    .dataframe tbody tr th {\n",
       "        vertical-align: top;\n",
       "    }\n",
       "\n",
       "    .dataframe thead th {\n",
       "        text-align: right;\n",
       "    }\n",
       "</style>\n",
       "<table border=\"1\" class=\"dataframe\">\n",
       "  <thead>\n",
       "    <tr style=\"text-align: right;\">\n",
       "      <th></th>\n",
       "      <th>Stage</th>\n",
       "      <th>Discharge</th>\n",
       "    </tr>\n",
       "  </thead>\n",
       "  <tbody>\n",
       "    <tr>\n",
       "      <th>0</th>\n",
       "      <td>0.0000</td>\n",
       "      <td>0.000000</td>\n",
       "    </tr>\n",
       "    <tr>\n",
       "      <th>1</th>\n",
       "      <td>0.3048</td>\n",
       "      <td>30.085741</td>\n",
       "    </tr>\n",
       "    <tr>\n",
       "      <th>2</th>\n",
       "      <td>0.6096</td>\n",
       "      <td>96.720480</td>\n",
       "    </tr>\n",
       "    <tr>\n",
       "      <th>3</th>\n",
       "      <td>0.9144</td>\n",
       "      <td>180.899337</td>\n",
       "    </tr>\n",
       "    <tr>\n",
       "      <th>4</th>\n",
       "      <td>1.2192</td>\n",
       "      <td>323.340296</td>\n",
       "    </tr>\n",
       "  </tbody>\n",
       "</table>\n",
       "</div>"
      ],
      "text/plain": [
       "    Stage   Discharge\n",
       "0  0.0000    0.000000\n",
       "1  0.3048   30.085741\n",
       "2  0.6096   96.720480\n",
       "3  0.9144  180.899337\n",
       "4  1.2192  323.340296"
      ]
     },
     "execution_count": 55,
     "metadata": {},
     "output_type": "execute_result"
    }
   ],
   "source": [
    "dis_df.head()"
   ]
  },
  {
   "cell_type": "markdown",
   "metadata": {},
   "source": [
    "## Make an interpolation function to convert from streamflow to stage based on the rating curve provided by the NWM"
   ]
  },
  {
   "cell_type": "code",
   "execution_count": 63,
   "metadata": {},
   "outputs": [],
   "source": [
    "f = interp1d(dis_df.Discharge, dis_df.Stage, kind='cubic')\n",
    "stage_df = df.apply(f).rename(columns={'streamflow': 'stage'})"
   ]
  },
  {
   "cell_type": "markdown",
   "metadata": {},
   "source": [
    "## Plot the forecasted stage depth"
   ]
  },
  {
   "cell_type": "code",
   "execution_count": 64,
   "metadata": {},
   "outputs": [
    {
     "data": {
      "image/png": "[encoded data removed]",
      "text/plain": [
       "<Figure size 1440x432 with 1 Axes>"
      ]
     },
     "metadata": {
      "needs_background": "light"
     },
     "output_type": "display_data"
    }
   ],
   "source": [
    "ax = stage_df.plot(figsize=(20,6), title='Short-range 18-hour forecast')\n",
    "ax.grid(True, which=\"both\")\n",
    "ax.set(xlabel='Date', ylabel='Depth (m)');"
   ]
  }
 ],
 "metadata": {
  "kernelspec": {
   "display_name": "Python [conda env:gis]",
   "language": "python",
   "name": "conda-env-gis-py"
  },
  "language_info": {
   "codemirror_mode": {
    "name": "ipython",
    "version": 3
   },
   "file_extension": ".py",
   "mimetype": "text/x-python",
   "name": "python",
   "nbconvert_exporter": "python",
   "pygments_lexer": "ipython3",
   "version": "3.7.3"
  }
 },
 "nbformat": 4,
 "nbformat_minor": 2
}
