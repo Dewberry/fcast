{
 "cells": [
  {
   "cell_type": "code",
   "execution_count": 43,
   "metadata": {},
   "outputs": [],
   "source": [
    "import gcsfs\n",
    "import xarray as xr\n",
    "import matplotlib.pyplot as plt\n",
    "import numpy as np\n",
    "import json\n",
    "%matplotlib inline"
   ]
  },
  {
   "cell_type": "code",
   "execution_count": 2,
   "metadata": {},
   "outputs": [],
   "source": [
    "fs = gcsfs.GCSFileSystem(project='national-water-model')\n",
    "# alldays = fs.ls('national-water-model')\n",
    "# len(alldays)"
   ]
  },
  {
   "cell_type": "code",
   "execution_count": 3,
   "metadata": {},
   "outputs": [],
   "source": [
    "date = '20190730'\n",
    "open_ncdfs = []\n",
    "for i in range(1,19):\n",
    "    hr = str(i).zfill(3)\n",
    "    file = fs.open(f'national-water-model/nwm.{date}/short_range/nwm.t00z.short_range.channel_rt.f{hr}.conus.nc', 'rb')\n",
    "    open_ncdfs.append(file)\n",
    "mfdset = xr.open_mfdataset(open_ncdfs)"
   ]
  },
  {
   "cell_type": "code",
   "execution_count": 4,
   "metadata": {},
   "outputs": [
    {
     "data": {
      "text/plain": [
       "<xarray.Dataset>\n",
       "Dimensions:         (feature_id: 2729077, reference_time: 1, time: 18)\n",
       "Coordinates:\n",
       "  * reference_time  (reference_time) datetime64[ns] 2019-07-30\n",
       "  * feature_id      (feature_id) int32 101 179 181 ... 1180001803 1180001804\n",
       "  * time            (time) datetime64[ns] 2019-07-30T01:00:00 ... 2019-07-30T18:00:00\n",
       "Data variables:\n",
       "    crs             (time) |S1 b'' b'' b'' b'' b'' b'' ... b'' b'' b'' b'' b''\n",
       "    streamflow      (time, feature_id) float64 dask.array<shape=(18, 2729077), chunksize=(1, 2729077)>\n",
       "    nudge           (time, feature_id) float64 dask.array<shape=(18, 2729077), chunksize=(1, 2729077)>\n",
       "    velocity        (time, feature_id) float64 dask.array<shape=(18, 2729077), chunksize=(1, 2729077)>\n",
       "    qSfcLatRunoff   (time, feature_id) float64 dask.array<shape=(18, 2729077), chunksize=(1, 2729077)>\n",
       "    qBucket         (time, feature_id) float64 dask.array<shape=(18, 2729077), chunksize=(1, 2729077)>\n",
       "    qBtmVertRunoff  (time, feature_id) float64 dask.array<shape=(18, 2729077), chunksize=(1, 2729077)>\n",
       "Attributes:\n",
       "    featureType:                timeSeries\n",
       "    proj4:                      +proj=lcc +units=m +a=6370000.0 +b=6370000.0 ...\n",
       "    model_initialization_time:  2019-07-30_00:00:00\n",
       "    station_dimension:          feature_id\n",
       "    model_output_valid_time:    2019-07-30_01:00:00\n",
       "    model_total_valid_times:    [18]\n",
       "    stream_order_output:        [1]\n",
       "    cdm_datatype:               Station\n",
       "    Conventions:                CF-1.6\n",
       "    code_version:               v5.1.0-beta2\n",
       "    NWM_version_number:         v2.0\n",
       "    model_output_type:          channel_rt\n",
       "    model_configuration:        short_range\n",
       "    dev_OVRTSWCRT:              [1]\n",
       "    dev_NOAH_TIMESTEP:          [3600]\n",
       "    dev_channel_only:           [0]\n",
       "    dev_channelBucket_only:     [0]\n",
       "    dev:                        dev_ prefix indicates development/internal me..."
      ]
     },
     "execution_count": 4,
     "metadata": {},
     "output_type": "execute_result"
    }
   ],
   "source": [
    "mfdset"
   ]
  },
  {
   "cell_type": "code",
   "execution_count": 8,
   "metadata": {},
   "outputs": [],
   "source": [
    "comid = 4512772\n",
    "output_arr = mfdset.sel(feature_id=comid)['streamflow'].values"
   ]
  },
  {
   "cell_type": "code",
   "execution_count": 41,
   "metadata": {},
   "outputs": [],
   "source": [
    "# build json output\n",
    "d = {'COMID':comid, 'streamflow': {}}\n",
    "for idx, val in enumerate(output_arr):\n",
    "    d['streamflow'][idx+1] = val"
   ]
  },
  {
   "cell_type": "markdown",
   "metadata": {},
   "source": [
    "# Is this the desired format?"
   ]
  },
  {
   "cell_type": "code",
   "execution_count": 46,
   "metadata": {},
   "outputs": [
    {
     "name": "stdout",
     "output_type": "stream",
     "text": [
      "{\n",
      "    \"COMID\": 4512772,\n",
      "    \"streamflow\": {\n",
      "        \"1\": 154.149996554479,\n",
      "        \"2\": 163.80999633856118,\n",
      "        \"3\": 171.6599961631,\n",
      "        \"4\": 177.9199960231781,\n",
      "        \"5\": 182.25999592617154,\n",
      "        \"6\": 184.9199958667159,\n",
      "        \"7\": 186.27999583631754,\n",
      "        \"8\": 186.73999582603574,\n",
      "        \"9\": 186.59999582916498,\n",
      "        \"10\": 186.08999584056437,\n",
      "        \"11\": 185.35999585688114,\n",
      "        \"12\": 184.48999587632716,\n",
      "        \"13\": 183.55999589711428,\n",
      "        \"14\": 182.59999591857195,\n",
      "        \"15\": 181.62999594025314,\n",
      "        \"16\": 180.65999596193433,\n",
      "        \"17\": 179.70999598316848,\n",
      "        \"18\": 178.76999600417912\n",
      "    }\n",
      "}\n"
     ]
    }
   ],
   "source": [
    "print(json.dumps(d, indent=4))"
   ]
  },
  {
   "cell_type": "code",
   "execution_count": 11,
   "metadata": {},
   "outputs": [],
   "source": [
    "# cms_to_cfs_factor = 35.31467\n",
    "# cfsout = output_arr*cms_to_cfs_factor"
   ]
  },
  {
   "cell_type": "code",
   "execution_count": 49,
   "metadata": {},
   "outputs": [
    {
     "data": {
      "image/png": "[encoded data removed]",
      "text/plain": [
       "<Figure size 1440x432 with 1 Axes>"
      ]
     },
     "metadata": {
      "needs_background": "light"
     },
     "output_type": "display_data"
    }
   ],
   "source": [
    "fig, ax = plt.subplots(figsize=(20, 6))\n",
    "ax.grid(True, which=\"both\")\n",
    "ax.plot(output_arr)\n",
    "ax.set_ylabel('Flow(cms)')\n",
    "ax.set_xlabel('Time(UTC)')\n",
    "\n",
    "ax.set_title(f'COMID {comid} 18 hour forecast for {date}')\n",
    "ax.set_autoscaley_on(False)\n",
    "ax.set_ylim([0,200])\n",
    "\n",
    "plt.show()"
   ]
  },
  {
   "cell_type": "markdown",
   "metadata": {},
   "source": [
    "# This is the Hydroshare NWM Forecast Viewer we are trying to mimic:\n",
    "![COMID 4512772 from HydroShare NWM Forecast Viewer](images/hydroshare_forecast_4512772.jpg)"
   ]
  },
  {
   "cell_type": "code",
   "execution_count": 48,
   "metadata": {},
   "outputs": [],
   "source": [
    "[f.close() for f in open_ncdfs];"
   ]
  }
 ],
 "metadata": {
  "kernelspec": {
   "display_name": "Python [conda env:gis]",
   "language": "python",
   "name": "conda-env-gis-py"
  },
  "language_info": {
   "codemirror_mode": {
    "name": "ipython",
    "version": 3
   },
   "file_extension": ".py",
   "mimetype": "text/x-python",
   "name": "python",
   "nbconvert_exporter": "python",
   "pygments_lexer": "ipython3",
   "version": "3.7.3"
  }
 },
 "nbformat": 4,
 "nbformat_minor": 2
}
