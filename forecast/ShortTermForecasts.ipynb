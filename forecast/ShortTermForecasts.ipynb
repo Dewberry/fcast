{
 "cells": [
  {
   "cell_type": "markdown",
   "metadata": {},
   "source": [
    "# Short_range National Water Model Forecast\n",
    "### Workflow for creating an 18 hour stream flow forecast given a date, time, and NHDplus COMID (stream segment identifier)"
   ]
  },
  {
   "cell_type": "code",
   "execution_count": 1,
   "metadata": {},
   "outputs": [],
   "source": [
    "import gcsfs\n",
    "import xarray as xr\n",
    "import matplotlib.pyplot as plt\n",
    "import numpy as np\n",
    "import json\n",
    "\n",
    "import dask \n",
    "from dask.distributed import Client, LocalCluster\n",
    "# import dask.bag as db\n",
    "from multiprocessing import cpu_count\n",
    "\n",
    "%matplotlib inline"
   ]
  },
  {
   "cell_type": "markdown",
   "metadata": {},
   "source": [
    "## Start the local cluster\n",
    "#### *__NOTE__*: this is *currently* equal or slower in computation time because of the overhead of the dask scheduler. Without the local cluster, xarray operates serially."
   ]
  },
  {
   "cell_type": "code",
   "execution_count": 2,
   "metadata": {},
   "outputs": [
    {
     "data": {
      "text/html": [
       "<table style=\"border: 2px solid white;\">\n",
       "<tr>\n",
       "<td style=\"vertical-align: top; border: 0px solid white\">\n",
       "<h3>Client</h3>\n",
       "<ul>\n",
       "  <li><b>Scheduler: </b>tcp://127.0.0.1:63464\n",
       "  <li><b>Dashboard: </b><a href='http://127.0.0.1:8787/status' target='_blank'>http://127.0.0.1:8787/status</a>\n",
       "</ul>\n",
       "</td>\n",
       "<td style=\"vertical-align: top; border: 0px solid white\">\n",
       "<h3>Cluster</h3>\n",
       "<ul>\n",
       "  <li><b>Workers: </b>8</li>\n",
       "  <li><b>Cores: </b>8</li>\n",
       "  <li><b>Memory: </b>34.21 GB</li>\n",
       "</ul>\n",
       "</td>\n",
       "</tr>\n",
       "</table>"
      ],
      "text/plain": [
       "<Client: scheduler='tcp://127.0.0.1:63464' processes=8 cores=8>"
      ]
     },
     "execution_count": 2,
     "metadata": {},
     "output_type": "execute_result"
    }
   ],
   "source": [
    "num_workers = cpu_count()\n",
    "cluster = LocalCluster(n_workers=num_workers)\n",
    "client = Client(cluster)\n",
    "client"
   ]
  },
  {
   "cell_type": "markdown",
   "metadata": {},
   "source": [
    "## Set up the Google Cloud File System"
   ]
  },
  {
   "cell_type": "code",
   "execution_count": 3,
   "metadata": {},
   "outputs": [],
   "source": [
    "fs = gcsfs.GCSFileSystem(project='national-water-model')\n",
    "# alldays = fs.ls('national-water-model')\n",
    "# len(alldays)"
   ]
  },
  {
   "cell_type": "markdown",
   "metadata": {},
   "source": [
    "## Open all netcdf files of interest, concat them into an xarray multifile dataset\n",
    "\n",
    "- This step takes longer than expected due to reading from GCS over the internet"
   ]
  },
  {
   "cell_type": "code",
   "execution_count": 15,
   "metadata": {},
   "outputs": [
    {
     "data": {
      "text/plain": [
       "<xarray.Dataset>\n",
       "Dimensions:         (feature_id: 2729077, reference_time: 1, time: 18)\n",
       "Coordinates:\n",
       "  * reference_time  (reference_time) datetime64[ns] 2019-07-30\n",
       "  * feature_id      (feature_id) int32 101 179 181 ... 1180001803 1180001804\n",
       "  * time            (time) datetime64[ns] 2019-07-30T01:00:00 ... 2019-07-30T18:00:00\n",
       "Data variables:\n",
       "    crs             (time) |S1 b'' b'' b'' b'' b'' b'' ... b'' b'' b'' b'' b''\n",
       "    streamflow      (time, feature_id) float64 dask.array<shape=(18, 2729077), chunksize=(1, 2729077)>\n",
       "    nudge           (time, feature_id) float64 dask.array<shape=(18, 2729077), chunksize=(1, 2729077)>\n",
       "    velocity        (time, feature_id) float64 dask.array<shape=(18, 2729077), chunksize=(1, 2729077)>\n",
       "    qSfcLatRunoff   (time, feature_id) float64 dask.array<shape=(18, 2729077), chunksize=(1, 2729077)>\n",
       "    qBucket         (time, feature_id) float64 dask.array<shape=(18, 2729077), chunksize=(1, 2729077)>\n",
       "    qBtmVertRunoff  (time, feature_id) float64 dask.array<shape=(18, 2729077), chunksize=(1, 2729077)>\n",
       "Attributes:\n",
       "    featureType:                timeSeries\n",
       "    proj4:                      +proj=lcc +units=m +a=6370000.0 +b=6370000.0 ...\n",
       "    model_initialization_time:  2019-07-30_00:00:00\n",
       "    station_dimension:          feature_id\n",
       "    model_output_valid_time:    2019-07-30_01:00:00\n",
       "    model_total_valid_times:    [18]\n",
       "    stream_order_output:        [1]\n",
       "    cdm_datatype:               Station\n",
       "    Conventions:                CF-1.6\n",
       "    code_version:               v5.1.0-beta2\n",
       "    NWM_version_number:         v2.0\n",
       "    model_output_type:          channel_rt\n",
       "    model_configuration:        short_range\n",
       "    dev_OVRTSWCRT:              [1]\n",
       "    dev_NOAH_TIMESTEP:          [3600]\n",
       "    dev_channel_only:           [0]\n",
       "    dev_channelBucket_only:     [0]\n",
       "    dev:                        dev_ prefix indicates development/internal me..."
      ]
     },
     "execution_count": 15,
     "metadata": {},
     "output_type": "execute_result"
    }
   ],
   "source": [
    "date = '20190730' # todays date\n",
    "start_time = '00' # start at 00:00 \n",
    "open_ncdfs = []\n",
    "for i in range(1,19): # for times 1-18\n",
    "    hr_from_start = str(i).zfill(3)\n",
    "    filepath = f'national-water-model/nwm.{date}/short_range/nwm.t{start_time}z.short_range.channel_rt.f{hr_from_start}.conus.nc'\n",
    "    file = fs.open(filepath, 'rb')\n",
    "    open_ncdfs.append(file)\n",
    "mfdset = xr.open_mfdataset(open_ncdfs)\n",
    "mfdset"
   ]
  },
  {
   "cell_type": "markdown",
   "metadata": {},
   "source": [
    "## Get only the streamflow data for the COMID of interest"
   ]
  },
  {
   "cell_type": "code",
   "execution_count": 6,
   "metadata": {},
   "outputs": [
    {
     "data": {
      "text/plain": [
       "<xarray.DataArray 'streamflow' (time: 18)>\n",
       "dask.array<shape=(18,), dtype=float64, chunksize=(1,)>\n",
       "Coordinates:\n",
       "    feature_id  int32 4512772\n",
       "  * time        (time) datetime64[ns] 2019-07-30T01:00:00 ... 2019-07-30T18:00:00\n",
       "Attributes:\n",
       "    long_name:     River Flow\n",
       "    units:         m3 s-1\n",
       "    coordinates:   latitude longitude\n",
       "    grid_mapping:  crs\n",
       "    valid_range:   [      0 5000000]"
      ]
     },
     "execution_count": 6,
     "metadata": {},
     "output_type": "execute_result"
    }
   ],
   "source": [
    "comid = 4512772\n",
    "output_da = mfdset.sel(feature_id=comid)['streamflow']\n",
    "output_da"
   ]
  },
  {
   "cell_type": "markdown",
   "metadata": {},
   "source": [
    "# What is the desired output JSON format?"
   ]
  },
  {
   "cell_type": "code",
   "execution_count": 8,
   "metadata": {},
   "outputs": [
    {
     "name": "stdout",
     "output_type": "stream",
     "text": [
      "{\n",
      "    \"COMID\": 4512772,\n",
      "    \"data\": {\n",
      "        \"2019-07-30T01:00:00.000000000\": 154.149996554479,\n",
      "        \"2019-07-30T02:00:00.000000000\": 163.80999633856118,\n",
      "        \"2019-07-30T03:00:00.000000000\": 171.6599961631,\n",
      "        \"2019-07-30T04:00:00.000000000\": 177.9199960231781,\n",
      "        \"2019-07-30T05:00:00.000000000\": 182.25999592617154,\n",
      "        \"2019-07-30T06:00:00.000000000\": 184.9199958667159,\n",
      "        \"2019-07-30T07:00:00.000000000\": 186.27999583631754,\n",
      "        \"2019-07-30T08:00:00.000000000\": 186.73999582603574,\n",
      "        \"2019-07-30T09:00:00.000000000\": 186.59999582916498,\n",
      "        \"2019-07-30T10:00:00.000000000\": 186.08999584056437,\n",
      "        \"2019-07-30T11:00:00.000000000\": 185.35999585688114,\n",
      "        \"2019-07-30T12:00:00.000000000\": 184.48999587632716,\n",
      "        \"2019-07-30T13:00:00.000000000\": 183.55999589711428,\n",
      "        \"2019-07-30T14:00:00.000000000\": 182.59999591857195,\n",
      "        \"2019-07-30T15:00:00.000000000\": 181.62999594025314,\n",
      "        \"2019-07-30T16:00:00.000000000\": 180.65999596193433,\n",
      "        \"2019-07-30T17:00:00.000000000\": 179.70999598316848,\n",
      "        \"2019-07-30T18:00:00.000000000\": 178.76999600417912\n",
      "    }\n",
      "}\n"
     ]
    }
   ],
   "source": [
    "test_output = {'COMID': comid, 'data': dict(zip(output_da['time'].values.astype(str), output_da.values))}\n",
    "print(json.dumps(test_output, sort_keys=True, indent=4))"
   ]
  },
  {
   "cell_type": "code",
   "execution_count": 9,
   "metadata": {},
   "outputs": [
    {
     "name": "stdout",
     "output_type": "stream",
     "text": [
      "{\n",
      "    \"dims\": [\n",
      "        \"time\"\n",
      "    ],\n",
      "    \"attrs\": {\n",
      "        \"long_name\": \"River Flow\",\n",
      "        \"units\": \"m3 s-1\",\n",
      "        \"coordinates\": \"latitude longitude\",\n",
      "        \"grid_mapping\": \"crs\",\n",
      "        \"valid_range\": [\n",
      "            0,\n",
      "            5000000\n",
      "        ]\n",
      "    },\n",
      "    \"data\": [\n",
      "        154.149996554479,\n",
      "        163.80999633856118,\n",
      "        171.6599961631,\n",
      "        177.9199960231781,\n",
      "        182.25999592617154,\n",
      "        184.9199958667159,\n",
      "        186.27999583631754,\n",
      "        186.73999582603574,\n",
      "        186.59999582916498,\n",
      "        186.08999584056437,\n",
      "        185.35999585688114,\n",
      "        184.48999587632716,\n",
      "        183.55999589711428,\n",
      "        182.59999591857195,\n",
      "        181.62999594025314,\n",
      "        180.65999596193433,\n",
      "        179.70999598316848,\n",
      "        178.76999600417912\n",
      "    ],\n",
      "    \"coords\": {\n",
      "        \"feature_id\": {\n",
      "            \"dims\": [],\n",
      "            \"attrs\": {\n",
      "                \"long_name\": \"Reach ID\",\n",
      "                \"comment\": \"NHDPlusv2 ComIDs within CONUS, arbitrary Reach IDs outside of CONUS\",\n",
      "                \"cf_role\": \"timeseries_id\"\n",
      "            },\n",
      "            \"data\": 4512772\n",
      "        },\n",
      "        \"time\": {\n",
      "            \"dims\": [\n",
      "                \"time\"\n",
      "            ],\n",
      "            \"attrs\": {\n",
      "                \"long_name\": \"valid output time\",\n",
      "                \"standard_name\": \"time\",\n",
      "                \"valid_min\": [\n",
      "                    26074140\n",
      "                ],\n",
      "                \"valid_max\": [\n",
      "                    26075160\n",
      "                ]\n",
      "            },\n",
      "            \"data\": [\n",
      "                \"2019-07-30 01:00:00\",\n",
      "                \"2019-07-30 02:00:00\",\n",
      "                \"2019-07-30 03:00:00\",\n",
      "                \"2019-07-30 04:00:00\",\n",
      "                \"2019-07-30 05:00:00\",\n",
      "                \"2019-07-30 06:00:00\",\n",
      "                \"2019-07-30 07:00:00\",\n",
      "                \"2019-07-30 08:00:00\",\n",
      "                \"2019-07-30 09:00:00\",\n",
      "                \"2019-07-30 10:00:00\",\n",
      "                \"2019-07-30 11:00:00\",\n",
      "                \"2019-07-30 12:00:00\",\n",
      "                \"2019-07-30 13:00:00\",\n",
      "                \"2019-07-30 14:00:00\",\n",
      "                \"2019-07-30 15:00:00\",\n",
      "                \"2019-07-30 16:00:00\",\n",
      "                \"2019-07-30 17:00:00\",\n",
      "                \"2019-07-30 18:00:00\"\n",
      "            ]\n",
      "        }\n",
      "    },\n",
      "    \"name\": \"streamflow\"\n",
      "}\n"
     ]
    }
   ],
   "source": [
    "print(json.dumps(output_da.to_dict(), indent=4, default=str))"
   ]
  },
  {
   "cell_type": "markdown",
   "metadata": {},
   "source": [
    "# Plot it and compare to a plot grabbed from the Hydroshare NWM forecast Viewer"
   ]
  },
  {
   "cell_type": "code",
   "execution_count": 13,
   "metadata": {},
   "outputs": [
    {
     "data": {
      "text/plain": [
       "array([154.14999655, 163.80999634, 171.65999616, 177.91999602,\n",
       "       182.25999593, 184.91999587, 186.27999584, 186.73999583,\n",
       "       186.59999583, 186.08999584, 185.35999586, 184.48999588,\n",
       "       183.5599959 , 182.59999592, 181.62999594, 180.65999596,\n",
       "       179.70999598, 178.769996  ])"
      ]
     },
     "execution_count": 13,
     "metadata": {},
     "output_type": "execute_result"
    }
   ],
   "source": [
    "# get an array of the streamflow values in cms\n",
    "output_arr = output_da.values\n",
    "output_arr"
   ]
  },
  {
   "cell_type": "code",
   "execution_count": 11,
   "metadata": {},
   "outputs": [],
   "source": [
    "# cms_to_cfs_factor = 35.31467\n",
    "# cfsout = output_arr*cms_to_cfs_factor"
   ]
  },
  {
   "cell_type": "code",
   "execution_count": 18,
   "metadata": {},
   "outputs": [
    {
     "data": {
      "image/png": "[encoded data removed]",
      "text/plain": [
       "<Figure size 1440x432 with 1 Axes>"
      ]
     },
     "metadata": {
      "needs_background": "light"
     },
     "output_type": "display_data"
    }
   ],
   "source": [
    "# plot it\n",
    "fig, ax = plt.subplots(figsize=(20, 6))\n",
    "ax.grid(True, which=\"both\")\n",
    "ax.plot(output_arr)\n",
    "ax.set_ylabel('Flow(cms)')\n",
    "ax.set_xlabel('Time(UTC)')\n",
    "\n",
    "ax.set_title(f'COMID {comid} 18-hour forecast for {date}')\n",
    "ax.set_autoscaley_on(False)\n",
    "ax.set_ylim([0,200])\n",
    "\n",
    "plt.show()"
   ]
  },
  {
   "cell_type": "markdown",
   "metadata": {},
   "source": [
    "### This is the Hydroshare NWM Forecast Viewer we are trying to mimic:\n",
    "![COMID 4512772 from HydroShare NWM Forecast Viewer](images/hydroshare_forecast_4512772.jpg)"
   ]
  },
  {
   "cell_type": "code",
   "execution_count": 19,
   "metadata": {},
   "outputs": [],
   "source": [
    "[f.close() for f in open_ncdfs];"
   ]
  }
 ],
 "metadata": {
  "kernelspec": {
   "display_name": "Python [conda env:gis]",
   "language": "python",
   "name": "conda-env-gis-py"
  },
  "language_info": {
   "codemirror_mode": {
    "name": "ipython",
    "version": 3
   },
   "file_extension": ".py",
   "mimetype": "text/x-python",
   "name": "python",
   "nbconvert_exporter": "python",
   "pygments_lexer": "ipython3",
   "version": "3.7.3"
  }
 },
 "nbformat": 4,
 "nbformat_minor": 2
}
