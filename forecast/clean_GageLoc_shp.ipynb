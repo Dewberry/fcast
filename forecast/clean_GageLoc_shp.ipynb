{
 "cells": [
  {
   "cell_type": "markdown",
   "metadata": {},
   "source": [
    "# Notebook used to clean the GageLoc.shp file\n",
    "Source: https://www.sciencebase.gov/catalog/item/577445bee4b07657d1a991b6\n",
    "\n",
    "This file has attributes that allow us to compare USGS gages to NHDPlus COMIDs"
   ]
  },
  {
   "cell_type": "code",
   "execution_count": 50,
   "metadata": {},
   "outputs": [],
   "source": [
    "import geopandas as gpd\n",
    "import numpy as np\n",
    "import json\n",
    "from shapely.vectorized import contains\n",
    "import requests\n",
    "\n",
    "%matplotlib inline"
   ]
  },
  {
   "cell_type": "code",
   "execution_count": 2,
   "metadata": {},
   "outputs": [],
   "source": [
    "file = r'data/GageLoc/GageLoc.shp'"
   ]
  },
  {
   "cell_type": "code",
   "execution_count": 38,
   "metadata": {},
   "outputs": [],
   "source": [
    "gdf = gpd.read_file(file)"
   ]
  },
  {
   "cell_type": "code",
   "execution_count": 39,
   "metadata": {},
   "outputs": [
    {
     "data": {
      "text/html": [
       "<div>\n",
       "<style scoped>\n",
       "    .dataframe tbody tr th:only-of-type {\n",
       "        vertical-align: middle;\n",
       "    }\n",
       "\n",
       "    .dataframe tbody tr th {\n",
       "        vertical-align: top;\n",
       "    }\n",
       "\n",
       "    .dataframe thead th {\n",
       "        text-align: right;\n",
       "    }\n",
       "</style>\n",
       "<table border=\"1\" class=\"dataframe\">\n",
       "  <thead>\n",
       "    <tr style=\"text-align: right;\">\n",
       "      <th></th>\n",
       "      <th>COMID</th>\n",
       "      <th>EVENTDATE</th>\n",
       "      <th>REACHCODE</th>\n",
       "      <th>REACHSMDAT</th>\n",
       "      <th>REACHRESOL</th>\n",
       "      <th>FEATURECOM</th>\n",
       "      <th>FEATURECLA</th>\n",
       "      <th>SOURCE_ORI</th>\n",
       "      <th>SOURCE_DAT</th>\n",
       "      <th>SOURCE_FEA</th>\n",
       "      <th>FEATUREDET</th>\n",
       "      <th>Measure</th>\n",
       "      <th>Offset</th>\n",
       "      <th>EventType</th>\n",
       "      <th>FLComID</th>\n",
       "      <th>geometry</th>\n",
       "    </tr>\n",
       "  </thead>\n",
       "  <tbody>\n",
       "    <tr>\n",
       "      <th>0</th>\n",
       "      <td>0</td>\n",
       "      <td>2014-12-04</td>\n",
       "      <td>01100005001603</td>\n",
       "      <td>None</td>\n",
       "      <td>Medium</td>\n",
       "      <td>0</td>\n",
       "      <td>0</td>\n",
       "      <td>USGS, Water Resources Division</td>\n",
       "      <td>None</td>\n",
       "      <td>01206900</td>\n",
       "      <td>http://waterdata.usgs.gov/nwis/nwisman/?site_n...</td>\n",
       "      <td>45.31563</td>\n",
       "      <td>0.0</td>\n",
       "      <td>StreamGage</td>\n",
       "      <td>7712706</td>\n",
       "      <td>POINT Z (-73.06957627616134 41.67398586084777 0)</td>\n",
       "    </tr>\n",
       "    <tr>\n",
       "      <th>1</th>\n",
       "      <td>0</td>\n",
       "      <td>2014-12-04</td>\n",
       "      <td>01100005001605</td>\n",
       "      <td>None</td>\n",
       "      <td>Medium</td>\n",
       "      <td>0</td>\n",
       "      <td>0</td>\n",
       "      <td>USGS, Water Resources Division</td>\n",
       "      <td>None</td>\n",
       "      <td>01206000</td>\n",
       "      <td>http://waterdata.usgs.gov/nwis/nwisman/?site_n...</td>\n",
       "      <td>15.86635</td>\n",
       "      <td>0.0</td>\n",
       "      <td>StreamGage</td>\n",
       "      <td>7713630</td>\n",
       "      <td>POINT Z (-73.06380259320338 41.70447942382566 0)</td>\n",
       "    </tr>\n",
       "    <tr>\n",
       "      <th>2</th>\n",
       "      <td>0</td>\n",
       "      <td>2014-12-04</td>\n",
       "      <td>01090002000178</td>\n",
       "      <td>None</td>\n",
       "      <td>Medium</td>\n",
       "      <td>0</td>\n",
       "      <td>0</td>\n",
       "      <td>USGS, Water Resources Division</td>\n",
       "      <td>None</td>\n",
       "      <td>01105917</td>\n",
       "      <td>http://waterdata.usgs.gov/nwis/nwisman/?site_n...</td>\n",
       "      <td>9.65026</td>\n",
       "      <td>0.0</td>\n",
       "      <td>StreamGage</td>\n",
       "      <td>5878903</td>\n",
       "      <td>POINT Z (-70.83861945994248 41.6629127556689 0)</td>\n",
       "    </tr>\n",
       "    <tr>\n",
       "      <th>3</th>\n",
       "      <td>0</td>\n",
       "      <td>2014-12-04</td>\n",
       "      <td>01100005000020</td>\n",
       "      <td>None</td>\n",
       "      <td>Medium</td>\n",
       "      <td>0</td>\n",
       "      <td>0</td>\n",
       "      <td>USGS, Water Resources Division</td>\n",
       "      <td>None</td>\n",
       "      <td>01205500</td>\n",
       "      <td>http://waterdata.usgs.gov/nwis/nwisman/?site_n...</td>\n",
       "      <td>45.47307</td>\n",
       "      <td>0.0</td>\n",
       "      <td>StreamGage</td>\n",
       "      <td>7718288</td>\n",
       "      <td>POINT Z (-73.16756586892285 41.3834695280468 0)</td>\n",
       "    </tr>\n",
       "    <tr>\n",
       "      <th>4</th>\n",
       "      <td>0</td>\n",
       "      <td>2014-12-04</td>\n",
       "      <td>01090004000089</td>\n",
       "      <td>None</td>\n",
       "      <td>Medium</td>\n",
       "      <td>0</td>\n",
       "      <td>0</td>\n",
       "      <td>USGS, Water Resources Division</td>\n",
       "      <td>None</td>\n",
       "      <td>01109200</td>\n",
       "      <td>http://waterdata.usgs.gov/nwis/nwisman/?site_n...</td>\n",
       "      <td>69.19802</td>\n",
       "      <td>0.0</td>\n",
       "      <td>StreamGage</td>\n",
       "      <td>6129557</td>\n",
       "      <td>POINT Z (-71.25475652348776 41.8795729280263 0)</td>\n",
       "    </tr>\n",
       "  </tbody>\n",
       "</table>\n",
       "</div>"
      ],
      "text/plain": [
       "   COMID   EVENTDATE       REACHCODE REACHSMDAT REACHRESOL  FEATURECOM  \\\n",
       "0      0  2014-12-04  01100005001603       None     Medium           0   \n",
       "1      0  2014-12-04  01100005001605       None     Medium           0   \n",
       "2      0  2014-12-04  01090002000178       None     Medium           0   \n",
       "3      0  2014-12-04  01100005000020       None     Medium           0   \n",
       "4      0  2014-12-04  01090004000089       None     Medium           0   \n",
       "\n",
       "   FEATURECLA                      SOURCE_ORI SOURCE_DAT SOURCE_FEA  \\\n",
       "0           0  USGS, Water Resources Division       None   01206900   \n",
       "1           0  USGS, Water Resources Division       None   01206000   \n",
       "2           0  USGS, Water Resources Division       None   01105917   \n",
       "3           0  USGS, Water Resources Division       None   01205500   \n",
       "4           0  USGS, Water Resources Division       None   01109200   \n",
       "\n",
       "                                          FEATUREDET   Measure  Offset  \\\n",
       "0  http://waterdata.usgs.gov/nwis/nwisman/?site_n...  45.31563     0.0   \n",
       "1  http://waterdata.usgs.gov/nwis/nwisman/?site_n...  15.86635     0.0   \n",
       "2  http://waterdata.usgs.gov/nwis/nwisman/?site_n...   9.65026     0.0   \n",
       "3  http://waterdata.usgs.gov/nwis/nwisman/?site_n...  45.47307     0.0   \n",
       "4  http://waterdata.usgs.gov/nwis/nwisman/?site_n...  69.19802     0.0   \n",
       "\n",
       "    EventType  FLComID                                          geometry  \n",
       "0  StreamGage  7712706  POINT Z (-73.06957627616134 41.67398586084777 0)  \n",
       "1  StreamGage  7713630  POINT Z (-73.06380259320338 41.70447942382566 0)  \n",
       "2  StreamGage  5878903   POINT Z (-70.83861945994248 41.6629127556689 0)  \n",
       "3  StreamGage  7718288   POINT Z (-73.16756586892285 41.3834695280468 0)  \n",
       "4  StreamGage  6129557   POINT Z (-71.25475652348776 41.8795729280263 0)  "
      ]
     },
     "execution_count": 39,
     "metadata": {},
     "output_type": "execute_result"
    }
   ],
   "source": [
    "gdf.head()"
   ]
  },
  {
   "cell_type": "markdown",
   "metadata": {},
   "source": [
    "## Using a census states shapefile, assign state attributes to each GageLoc point"
   ]
  },
  {
   "cell_type": "code",
   "execution_count": null,
   "metadata": {},
   "outputs": [],
   "source": [
    "# a shapefile of states, to identify which points are in which state. Spatial reduction method\n",
    "stateshp = r'C:\\Data\\Boundaries\\cb_2017_us_state_500k\\cb_2017_us_state_500k.shp'\n",
    "usgdf = gpd.read_file(stateshp)\n",
    "# CONUS only\n",
    "usgdf = usgdf.drop(usgdf[(usgdf['NAME'] == 'Alaska')\n",
    "                         | (usgdf['NAME'] == 'Guam')\n",
    "                         | (usgdf['NAME'] == 'Commonwealth of the Northern Mariana Islands')\n",
    "                         | (usgdf['NAME'] == 'American Samoa')\n",
    "                         | (usgdf['NAME'] == 'United States Virgin Islands')].index)\n",
    "assert usgdf.crs == gdf.crs, 'Error: the CRSs do not match'"
   ]
  },
  {
   "cell_type": "code",
   "execution_count": null,
   "metadata": {},
   "outputs": [],
   "source": [
    "usgdf.head()"
   ]
  },
  {
   "cell_type": "markdown",
   "metadata": {},
   "source": [
    "### Pull the x and y coords into arrays for `shapely.vectorized.contains`"
   ]
  },
  {
   "cell_type": "code",
   "execution_count": null,
   "metadata": {},
   "outputs": [],
   "source": [
    "x = np.array(gdf.geometry.x)\n",
    "y = np.array(gdf.geometry.y)"
   ]
  },
  {
   "cell_type": "markdown",
   "metadata": {},
   "source": [
    "### Attribute the points with info based on the state that they are in"
   ]
  },
  {
   "cell_type": "code",
   "execution_count": null,
   "metadata": {},
   "outputs": [],
   "source": [
    "for i, g in enumerate(usgdf.geometry.tolist()):\n",
    "    bmask = contains(g, x, y)\n",
    "    geoid = usgdf.iloc[i]['GEOID']\n",
    "    stusps = usgdf.iloc[i]['STUSPS']\n",
    "    gdf['bool'] = bmask\n",
    "    gdf.loc[gdf['bool'] == True, 'GEOID'] = geoid\n",
    "    gdf.loc[gdf['bool'] == True, 'STUSPS'] = stusps\n",
    "    gdf = gdf.drop(columns=['bool'])"
   ]
  },
  {
   "cell_type": "markdown",
   "metadata": {},
   "source": [
    "### Attribute the points with 0/1 based on whether there is a USGS rating curve available at that STAID"
   ]
  },
  {
   "cell_type": "code",
   "execution_count": null,
   "metadata": {},
   "outputs": [],
   "source": [
    "for i, gage in enumerate(gdf.SOURCE_FEA.tolist()):\n",
    "    url = f'https://waterdata.usgs.gov/nwisweb/get_ratings?site_no={gage}&file_type=exsa'\n",
    "    if 'INDEP' in requests.get(url).text:\n",
    "        gdf.loc[i, 'HAS_USGS_RC'] = 1\n",
    "    else:\n",
    "        gdf.loc[i, 'HAS_USGS_RC'] = 0"
   ]
  },
  {
   "cell_type": "code",
   "execution_count": null,
   "metadata": {},
   "outputs": [],
   "source": [
    "gdf.to_file('data/GageLoc/GageLoc_wState.shp')"
   ]
  },
  {
   "cell_type": "markdown",
   "metadata": {},
   "source": [
    "### Make a dictionary containing STAID: COMID and write it to a json"
   ]
  },
  {
   "cell_type": "code",
   "execution_count": 6,
   "metadata": {},
   "outputs": [],
   "source": [
    "subset = gdf.drop(columns=['COMID','EVENTDATE', 'REACHCODE', 'REACHSMDAT',\n",
    "                        'REACHRESOL', 'FEATURECOM', 'FEATURECLA',\n",
    "                        'SOURCE_ORI', 'SOURCE_DAT', 'FEATUREDET',\n",
    "                        'Measure', 'Offset', 'EventType', 'geometry'])\n",
    "usgs_nhd = dict(zip(subset.SOURCE_FEA, subset.FLComID))"
   ]
  },
  {
   "cell_type": "code",
   "execution_count": 7,
   "metadata": {},
   "outputs": [
    {
     "data": {
      "text/plain": [
       "7718288"
      ]
     },
     "execution_count": 7,
     "metadata": {},
     "output_type": "execute_result"
    }
   ],
   "source": [
    "usgs_nhd['01205500']"
   ]
  },
  {
   "cell_type": "code",
   "execution_count": 8,
   "metadata": {},
   "outputs": [],
   "source": [
    "with open('data/STATID_COMID_dict.json', 'w') as fp:\n",
    "    json.dump(usgs_nhd, fp, indent=2)"
   ]
  },
  {
   "cell_type": "markdown",
   "metadata": {},
   "source": [
    "### Used STAID as the key because there are dups for the COMID (a NHD line can have more that one USGS gage station on it)"
   ]
  },
  {
   "cell_type": "code",
   "execution_count": 17,
   "metadata": {},
   "outputs": [],
   "source": [
    "duped = subset.duplicated(subset='FLComID')\n",
    "duplicated = subset[duped]"
   ]
  },
  {
   "cell_type": "code",
   "execution_count": 18,
   "metadata": {},
   "outputs": [
    {
     "data": {
      "text/html": [
       "<div>\n",
       "<style scoped>\n",
       "    .dataframe tbody tr th:only-of-type {\n",
       "        vertical-align: middle;\n",
       "    }\n",
       "\n",
       "    .dataframe tbody tr th {\n",
       "        vertical-align: top;\n",
       "    }\n",
       "\n",
       "    .dataframe thead th {\n",
       "        text-align: right;\n",
       "    }\n",
       "</style>\n",
       "<table border=\"1\" class=\"dataframe\">\n",
       "  <thead>\n",
       "    <tr style=\"text-align: right;\">\n",
       "      <th></th>\n",
       "      <th>SOURCE_FEA</th>\n",
       "      <th>FLComID</th>\n",
       "    </tr>\n",
       "  </thead>\n",
       "  <tbody>\n",
       "    <tr>\n",
       "      <th>85</th>\n",
       "      <td>01208013</td>\n",
       "      <td>7713680</td>\n",
       "    </tr>\n",
       "    <tr>\n",
       "      <th>91</th>\n",
       "      <td>01189200</td>\n",
       "      <td>6109449</td>\n",
       "    </tr>\n",
       "    <tr>\n",
       "      <th>96</th>\n",
       "      <td>01189180</td>\n",
       "      <td>6109449</td>\n",
       "    </tr>\n",
       "    <tr>\n",
       "      <th>97</th>\n",
       "      <td>01184455</td>\n",
       "      <td>7700004</td>\n",
       "    </tr>\n",
       "    <tr>\n",
       "      <th>110</th>\n",
       "      <td>01196210</td>\n",
       "      <td>6174472</td>\n",
       "    </tr>\n",
       "  </tbody>\n",
       "</table>\n",
       "</div>"
      ],
      "text/plain": [
       "    SOURCE_FEA  FLComID\n",
       "85    01208013  7713680\n",
       "91    01189200  6109449\n",
       "96    01189180  6109449\n",
       "97    01184455  7700004\n",
       "110   01196210  6174472"
      ]
     },
     "execution_count": 18,
     "metadata": {},
     "output_type": "execute_result"
    }
   ],
   "source": [
    "duplicated.head()"
   ]
  }
 ],
 "metadata": {
  "kernelspec": {
   "display_name": "Python [conda env:gis]",
   "language": "python",
   "name": "conda-env-gis-py"
  },
  "language_info": {
   "codemirror_mode": {
    "name": "ipython",
    "version": 3
   },
   "file_extension": ".py",
   "mimetype": "text/x-python",
   "name": "python",
   "nbconvert_exporter": "python",
   "pygments_lexer": "ipython3",
   "version": "3.7.3"
  }
 },
 "nbformat": 4,
 "nbformat_minor": 4
}
