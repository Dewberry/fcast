{
 "cells": [
  {
   "cell_type": "markdown",
   "metadata": {},
   "source": [
    "# Get Gage Datum"
   ]
  },
  {
   "cell_type": "code",
   "execution_count": 1,
   "metadata": {},
   "outputs": [],
   "source": [
    "from GageUSGS import GageUSGS\n",
    "from usgs_nwm import new_plot"
   ]
  },
  {
   "cell_type": "code",
   "execution_count": 2,
   "metadata": {},
   "outputs": [
    {
     "name": "stdout",
     "output_type": "stream",
     "text": [
      "Help on class GageUSGS in module GageUSGS:\n",
      "\n",
      "class GageUSGS(builtins.object)\n",
      " |  GageUSGS(gage: str, get_rc: bool = True)\n",
      " |  \n",
      " |  USGS stream gage class containing data scraped from USGS websites.\n",
      " |  \n",
      " |  The class currently supports scraping of stream gage metadata \n",
      " |  (i.e. vertical datum, lat/lon, etc.), currently available data\n",
      " |  at a gage, as well as rating curves and their metadata.\n",
      " |  \n",
      " |  Parameters:\n",
      " |      gage (str): A string representing a USGS gage id (e.g. '01400000').\n",
      " |      get_rc (bool, optional): Get the rating curve for the USGS gage. Defaults to True.\n",
      " |  \n",
      " |  Methods defined here:\n",
      " |  \n",
      " |  __init__(self, gage: str, get_rc: bool = True)\n",
      " |      Initialize self.  See help(type(self)) for accurate signature.\n",
      " |  \n",
      " |  ----------------------------------------------------------------------\n",
      " |  Data descriptors defined here:\n",
      " |  \n",
      " |  HUC8\n",
      " |      HUC8 that the gage is within\n",
      " |  \n",
      " |  __dict__\n",
      " |      dictionary for instance variables (if defined)\n",
      " |  \n",
      " |  __weakref__\n",
      " |      list of weak references to the object (if defined)\n",
      " |  \n",
      " |  available_data\n",
      " |      The data available from the metadata url\n",
      " |  \n",
      " |  drainage_area_sqmi\n",
      " |      Drainage area upstream of the gage in sq miles\n",
      " |  \n",
      " |  feet_above_vertical_datum\n",
      " |      Feet aboe the vertical datum, for stage to elevation conversions\n",
      " |  \n",
      " |  gage\n",
      " |      Gage id string\n",
      " |  \n",
      " |  horizontal_datum\n",
      " |      Horizontal Datum of the gage\n",
      " |  \n",
      " |  lat\n",
      " |      Latitude of the gage\n",
      " |  \n",
      " |  lon\n",
      " |      Longitude of the gage\n",
      " |  \n",
      " |  metadata\n",
      " |      Dictionary of general gage metadata\n",
      " |  \n",
      " |  metadata_url\n",
      " |      Url that the gage metadata is gathered from\n",
      " |  \n",
      " |  rating_curve\n",
      " |      USGS Rating curve at gage location\n",
      " |  \n",
      " |  rating_curve_metadata\n",
      " |      USGS Rating curve metadata at gage location\n",
      " |  \n",
      " |  rating_curve_url\n",
      " |  \n",
      " |  vertical_datum\n",
      " |      Vertical datum of the gage\n",
      "\n"
     ]
    }
   ],
   "source": [
    "help(GageUSGS)"
   ]
  },
  {
   "cell_type": "code",
   "execution_count": 3,
   "metadata": {},
   "outputs": [],
   "source": [
    "gage = '01651000'\n",
    "test_station = GageUSGS(gage)"
   ]
  },
  {
   "cell_type": "code",
   "execution_count": 4,
   "metadata": {},
   "outputs": [
    {
     "data": {
      "text/html": [
       "<div>\n",
       "<style scoped>\n",
       "    .dataframe tbody tr th:only-of-type {\n",
       "        vertical-align: middle;\n",
       "    }\n",
       "\n",
       "    .dataframe tbody tr th {\n",
       "        vertical-align: top;\n",
       "    }\n",
       "\n",
       "    .dataframe thead th {\n",
       "        text-align: right;\n",
       "    }\n",
       "</style>\n",
       "<table border=\"1\" class=\"dataframe\">\n",
       "  <thead>\n",
       "    <tr style=\"text-align: right;\">\n",
       "      <th></th>\n",
       "      <th>INDEP</th>\n",
       "      <th>SHIFT</th>\n",
       "      <th>DEP</th>\n",
       "      <th>INDEP_SHIFT</th>\n",
       "      <th>INDEP_m</th>\n",
       "      <th>SHIFT_m</th>\n",
       "      <th>DEP_cms</th>\n",
       "      <th>INDEP_SHIFT_m</th>\n",
       "    </tr>\n",
       "  </thead>\n",
       "  <tbody>\n",
       "    <tr>\n",
       "      <th>0</th>\n",
       "      <td>0.83</td>\n",
       "      <td>0.02</td>\n",
       "      <td>0.00</td>\n",
       "      <td>0.85</td>\n",
       "      <td>0.252984</td>\n",
       "      <td>0.006096</td>\n",
       "      <td>0.000000</td>\n",
       "      <td>0.259080</td>\n",
       "    </tr>\n",
       "    <tr>\n",
       "      <th>1</th>\n",
       "      <td>0.84</td>\n",
       "      <td>0.02</td>\n",
       "      <td>0.27</td>\n",
       "      <td>0.86</td>\n",
       "      <td>0.256032</td>\n",
       "      <td>0.006096</td>\n",
       "      <td>0.007646</td>\n",
       "      <td>0.262128</td>\n",
       "    </tr>\n",
       "    <tr>\n",
       "      <th>2</th>\n",
       "      <td>0.85</td>\n",
       "      <td>0.02</td>\n",
       "      <td>0.53</td>\n",
       "      <td>0.87</td>\n",
       "      <td>0.259080</td>\n",
       "      <td>0.006096</td>\n",
       "      <td>0.015008</td>\n",
       "      <td>0.265176</td>\n",
       "    </tr>\n",
       "    <tr>\n",
       "      <th>3</th>\n",
       "      <td>0.86</td>\n",
       "      <td>0.02</td>\n",
       "      <td>0.80</td>\n",
       "      <td>0.88</td>\n",
       "      <td>0.262128</td>\n",
       "      <td>0.006096</td>\n",
       "      <td>0.022653</td>\n",
       "      <td>0.268224</td>\n",
       "    </tr>\n",
       "    <tr>\n",
       "      <th>4</th>\n",
       "      <td>0.87</td>\n",
       "      <td>0.02</td>\n",
       "      <td>1.07</td>\n",
       "      <td>0.89</td>\n",
       "      <td>0.265176</td>\n",
       "      <td>0.006096</td>\n",
       "      <td>0.030299</td>\n",
       "      <td>0.271272</td>\n",
       "    </tr>\n",
       "  </tbody>\n",
       "</table>\n",
       "</div>"
      ],
      "text/plain": [
       "   INDEP  SHIFT   DEP  INDEP_SHIFT   INDEP_m   SHIFT_m   DEP_cms  \\\n",
       "0   0.83   0.02  0.00         0.85  0.252984  0.006096  0.000000   \n",
       "1   0.84   0.02  0.27         0.86  0.256032  0.006096  0.007646   \n",
       "2   0.85   0.02  0.53         0.87  0.259080  0.006096  0.015008   \n",
       "3   0.86   0.02  0.80         0.88  0.262128  0.006096  0.022653   \n",
       "4   0.87   0.02  1.07         0.89  0.265176  0.006096  0.030299   \n",
       "\n",
       "   INDEP_SHIFT_m  \n",
       "0       0.259080  \n",
       "1       0.262128  \n",
       "2       0.265176  \n",
       "3       0.268224  \n",
       "4       0.271272  "
      ]
     },
     "execution_count": 4,
     "metadata": {},
     "output_type": "execute_result"
    }
   ],
   "source": [
    "usgs_rc = test_station.rating_curve\n",
    "usgs_rc.head()"
   ]
  },
  {
   "cell_type": "code",
   "execution_count": 5,
   "metadata": {},
   "outputs": [
    {
     "data": {
      "image/png": "[encoded data removed]",
      "text/plain": [
       "<Figure size 1440x432 with 1 Axes>"
      ]
     },
     "metadata": {
      "needs_background": "light"
     },
     "output_type": "display_data"
    }
   ],
   "source": [
    "fig, ax = new_plot()\n",
    "ax.plot(usgs_rc.DEP_cms, usgs_rc.INDEP_SHIFT_m, label='USGS Shifted')\n",
    "ax.plot(usgs_rc.DEP_cms, usgs_rc.INDEP_m, label='USGS Base')\n",
    "ax.legend();"
   ]
  },
  {
   "cell_type": "markdown",
   "metadata": {},
   "source": [
    "### Edge Cases"
   ]
  },
  {
   "cell_type": "code",
   "execution_count": null,
   "metadata": {},
   "outputs": [],
   "source": [
    "# gage = '01651750'\n",
    "# metaData = get_gage_meta(gage)\n",
    "# usgs_rc = get_USGS_ratingcurve(gage)\n",
    "# fig, ax = new_plot()\n",
    "# ax.plot(usgs_rc.DEP_cms, usgs_rc.INDEP_SHIFT_m, label='USGS Shifted')\n",
    "# ax.plot(usgs_rc.DEP_cms, usgs_rc.INDEP_m, label='USGS Base')\n",
    "# ax.legend();"
   ]
  },
  {
   "cell_type": "code",
   "execution_count": null,
   "metadata": {},
   "outputs": [],
   "source": [
    "# gage = '01651827'\n",
    "# metaData = get_gage_meta(gage)\n",
    "# usgs_rc = get_USGS_ratingcurve(gage)\n",
    "# fig, ax = new_plot()\n",
    "# ax.plot(usgs_rc.DEP_cms, usgs_rc.INDEP_SHIFT_m, label='USGS Shifted')\n",
    "# ax.plot(usgs_rc.DEP_cms, usgs_rc.INDEP_m, label='USGS Base')\n",
    "# ax.legend();"
   ]
  },
  {
   "cell_type": "code",
   "execution_count": null,
   "metadata": {},
   "outputs": [],
   "source": [
    "# gage = '0165258890'\n",
    "# metaData = get_gage_meta(gage)\n",
    "# usgs_rc = get_USGS_ratingcurve(gage)\n",
    "# fig, ax = new_plot()\n",
    "# ax.plot(usgs_rc.DEP_cms, usgs_rc.INDEP_SHIFT_m, label='USGS Shifted')\n",
    "# ax.plot(usgs_rc.DEP_cms, usgs_rc.INDEP_m, label='USGS Base')\n",
    "# ax.legend();"
   ]
  },
  {
   "cell_type": "code",
   "execution_count": null,
   "metadata": {},
   "outputs": [],
   "source": [
    "edgecase1 = '01651750'\n",
    "edgecase2 = '01651827'\n",
    "edgecase3 = '0165258890'\n",
    "\n",
    "notimplemented1 = GageUSGS(edgecase1)\n",
    "# notimplemented2 = GageUSGS(edgecase2)\n",
    "# notimplemented3 = GageUSGS(edgecase3)"
   ]
  },
  {
   "cell_type": "code",
   "execution_count": null,
   "metadata": {},
   "outputs": [],
   "source": []
  }
 ],
 "metadata": {
  "kernelspec": {
   "display_name": "Python [conda env:gis]",
   "language": "python",
   "name": "conda-env-gis-py"
  },
  "language_info": {
   "codemirror_mode": {
    "name": "ipython",
    "version": 3
   },
   "file_extension": ".py",
   "mimetype": "text/x-python",
   "name": "python",
   "nbconvert_exporter": "python",
   "pygments_lexer": "ipython3",
   "version": "3.7.3"
  }
 },
 "nbformat": 4,
 "nbformat_minor": 4
}
