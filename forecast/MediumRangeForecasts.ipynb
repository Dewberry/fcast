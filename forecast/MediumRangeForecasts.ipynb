{
 "cells": [
  {
   "cell_type": "markdown",
   "metadata": {},
   "source": [
    "# Medium_range National Water Model Forecast\n",
    "### Workflow for creating a 10-day streamflow forecast given a date, time, and NHDplus COMID (stream segment identifier)"
   ]
  },
  {
   "cell_type": "code",
   "execution_count": 1,
   "metadata": {},
   "outputs": [],
   "source": [
    "import gcsfs\n",
    "import xarray as xr\n",
    "import matplotlib.pyplot as plt\n",
    "import numpy as np\n",
    "import json\n",
    "\n",
    "import dask \n",
    "from dask.distributed import Client, LocalCluster\n",
    "# import dask.bag as db\n",
    "from multiprocessing import cpu_count\n",
    "\n",
    "%matplotlib inline"
   ]
  },
  {
   "cell_type": "markdown",
   "metadata": {},
   "source": [
    "## Start the local cluster\n",
    "#### *__NOTE__*: this is *currently* equal or slower in computation time because of the overhead of the dask scheduler. Without the local cluster, xarray operates serially."
   ]
  },
  {
   "cell_type": "code",
   "execution_count": 5,
   "metadata": {},
   "outputs": [
    {
     "data": {
      "text/html": [
       "<table style=\"border: 2px solid white;\">\n",
       "<tr>\n",
       "<td style=\"vertical-align: top; border: 0px solid white\">\n",
       "<h3>Client</h3>\n",
       "<ul>\n",
       "  <li><b>Scheduler: </b>tcp://127.0.0.1:50573\n",
       "  <li><b>Dashboard: </b><a href='http://127.0.0.1:8787/status' target='_blank'>http://127.0.0.1:8787/status</a>\n",
       "</ul>\n",
       "</td>\n",
       "<td style=\"vertical-align: top; border: 0px solid white\">\n",
       "<h3>Cluster</h3>\n",
       "<ul>\n",
       "  <li><b>Workers: </b>8</li>\n",
       "  <li><b>Cores: </b>8</li>\n",
       "  <li><b>Memory: </b>34.21 GB</li>\n",
       "</ul>\n",
       "</td>\n",
       "</tr>\n",
       "</table>"
      ],
      "text/plain": [
       "<Client: scheduler='tcp://127.0.0.1:50573' processes=8 cores=8>"
      ]
     },
     "execution_count": 5,
     "metadata": {},
     "output_type": "execute_result"
    }
   ],
   "source": [
    "num_workers = cpu_count()\n",
    "cluster = LocalCluster(n_workers=num_workers)\n",
    "client = Client(cluster)\n",
    "client"
   ]
  },
  {
   "cell_type": "markdown",
   "metadata": {},
   "source": [
    "## Set up the Google Cloud File System"
   ]
  },
  {
   "cell_type": "code",
   "execution_count": 6,
   "metadata": {},
   "outputs": [],
   "source": [
    "fs = gcsfs.GCSFileSystem(project='national-water-model')\n",
    "# alldays = fs.ls('national-water-model')\n",
    "# len(alldays)"
   ]
  },
  {
   "cell_type": "markdown",
   "metadata": {},
   "source": [
    "## Open all netcdf files of interest, concat them into an xarray multifile dataset\n",
    "\n",
    "- This step takes longer than expected due to reading from GCS over the internet"
   ]
  },
  {
   "cell_type": "code",
   "execution_count": 8,
   "metadata": {},
   "outputs": [
    {
     "data": {
      "text/plain": [
       "<xarray.Dataset>\n",
       "Dimensions:         (feature_id: 2729077, reference_time: 1, time: 80)\n",
       "Coordinates:\n",
       "  * reference_time  (reference_time) datetime64[ns] 2019-07-30\n",
       "  * feature_id      (feature_id) int32 101 179 181 ... 1180001803 1180001804\n",
       "  * time            (time) datetime64[ns] 2019-07-30T03:00:00 ... 2019-08-09\n",
       "Data variables:\n",
       "    crs             (time) |S1 b'' b'' b'' b'' b'' b'' ... b'' b'' b'' b'' b''\n",
       "    streamflow      (time, feature_id) float64 dask.array<shape=(80, 2729077), chunksize=(1, 2729077)>\n",
       "    nudge           (time, feature_id) float64 dask.array<shape=(80, 2729077), chunksize=(1, 2729077)>\n",
       "    velocity        (time, feature_id) float64 dask.array<shape=(80, 2729077), chunksize=(1, 2729077)>\n",
       "Attributes:\n",
       "    featureType:                timeSeries\n",
       "    proj4:                      +proj=lcc +units=m +a=6370000.0 +b=6370000.0 ...\n",
       "    model_initialization_time:  2019-07-30_00:00:00\n",
       "    station_dimension:          feature_id\n",
       "    model_output_valid_time:    2019-07-30_03:00:00\n",
       "    model_total_valid_times:    [80]\n",
       "    stream_order_output:        [1]\n",
       "    cdm_datatype:               Station\n",
       "    Conventions:                CF-1.6\n",
       "    code_version:               v5.1.0-beta2\n",
       "    NWM_version_number:         v2.0\n",
       "    model_output_type:          channel_rt\n",
       "    model_configuration:        medium_range\n",
       "    dev_OVRTSWCRT:              [1]\n",
       "    dev_NOAH_TIMESTEP:          [3600]\n",
       "    dev_channel_only:           [0]\n",
       "    dev_channelBucket_only:     [0]\n",
       "    dev:                        dev_ prefix indicates development/internal me...\n",
       "    ensemble_member_number:     1"
      ]
     },
     "execution_count": 8,
     "metadata": {},
     "output_type": "execute_result"
    }
   ],
   "source": [
    "date = '20190730' # todays date\n",
    "start_time = '00' # start at 00:00 \n",
    "mem = '1' # medium range mem number\n",
    "open_ncdfs = []\n",
    "for i in range(3,241, 3): # for times 3-240 in steps of 3\n",
    "    hr = str(i).zfill(3)\n",
    "    filepath = f'national-water-model/nwm.{date}/medium_range_mem{mem}/nwm.t{start_time}z.medium_range.channel_rt_{mem}.f{hr}.conus.nc'\n",
    "    file = fs.open(filepath, 'rb')\n",
    "    open_ncdfs.append(file)\n",
    "mfdset = xr.open_mfdataset(open_ncdfs)\n",
    "mfdset"
   ]
  },
  {
   "cell_type": "markdown",
   "metadata": {},
   "source": [
    "## Get only the streamflow data for the COMID of interest"
   ]
  },
  {
   "cell_type": "code",
   "execution_count": 9,
   "metadata": {},
   "outputs": [
    {
     "data": {
      "text/plain": [
       "<xarray.DataArray 'streamflow' (time: 80)>\n",
       "dask.array<shape=(80,), dtype=float64, chunksize=(1,)>\n",
       "Coordinates:\n",
       "    feature_id  int32 4512772\n",
       "  * time        (time) datetime64[ns] 2019-07-30T03:00:00 ... 2019-08-09\n",
       "Attributes:\n",
       "    long_name:     River Flow\n",
       "    units:         m3 s-1\n",
       "    coordinates:   latitude longitude\n",
       "    grid_mapping:  crs\n",
       "    valid_range:   [      0 5000000]"
      ]
     },
     "execution_count": 9,
     "metadata": {},
     "output_type": "execute_result"
    }
   ],
   "source": [
    "comid = 4512772\n",
    "output_da = mfdset.sel(feature_id=comid)['streamflow']\n",
    "output_da"
   ]
  },
  {
   "cell_type": "markdown",
   "metadata": {},
   "source": [
    "# What is the desired output JSON format?"
   ]
  },
  {
   "cell_type": "code",
   "execution_count": 10,
   "metadata": {},
   "outputs": [
    {
     "name": "stdout",
     "output_type": "stream",
     "text": [
      "{\n",
      "    \"COMID\": 4512772,\n",
      "    \"data\": {\n",
      "        \"2019-07-30T03:00:00.000000000\": 171.6599961631,\n",
      "        \"2019-07-30T06:00:00.000000000\": 184.9199958667159,\n",
      "        \"2019-07-30T09:00:00.000000000\": 186.59999582916498,\n",
      "        \"2019-07-30T12:00:00.000000000\": 184.48999587632716,\n",
      "        \"2019-07-30T15:00:00.000000000\": 181.62999594025314,\n",
      "        \"2019-07-30T18:00:00.000000000\": 178.76999600417912,\n",
      "        \"2019-07-30T21:00:00.000000000\": 175.98999606631696,\n",
      "        \"2019-07-31T00:00:00.000000000\": 173.27999612689018,\n",
      "        \"2019-07-31T03:00:00.000000000\": 170.6899961847812,\n",
      "        \"2019-07-31T06:00:00.000000000\": 168.24999623931944,\n",
      "        \"2019-07-31T09:00:00.000000000\": 166.0899962875992,\n",
      "        \"2019-07-31T12:00:00.000000000\": 164.27999632805586,\n",
      "        \"2019-07-31T15:00:00.000000000\": 162.8799963593483,\n",
      "        \"2019-07-31T18:00:00.000000000\": 161.899996381253,\n",
      "        \"2019-07-31T21:00:00.000000000\": 161.27999639511108,\n",
      "        \"2019-08-01T00:00:00.000000000\": 160.93999640271068,\n",
      "        \"2019-08-01T03:00:00.000000000\": 160.78999640606344,\n",
      "        \"2019-08-01T06:00:00.000000000\": 160.759996406734,\n",
      "        \"2019-08-01T09:00:00.000000000\": 160.64999640919268,\n",
      "        \"2019-08-01T12:00:00.000000000\": 160.5299964118749,\n",
      "        \"2019-08-01T15:00:00.000000000\": 160.33999641612172,\n",
      "        \"2019-08-01T18:00:00.000000000\": 160.08999642170966,\n",
      "        \"2019-08-01T21:00:00.000000000\": 159.81999642774463,\n",
      "        \"2019-08-02T00:00:00.000000000\": 159.58999643288553,\n",
      "        \"2019-08-02T03:00:00.000000000\": 159.47999643534422,\n",
      "        \"2019-08-02T06:00:00.000000000\": 159.56999643333256,\n",
      "        \"2019-08-02T09:00:00.000000000\": 159.92999642528594,\n",
      "        \"2019-08-02T12:00:00.000000000\": 160.59999641031027,\n",
      "        \"2019-08-02T15:00:00.000000000\": 161.57999638840556,\n",
      "        \"2019-08-02T18:00:00.000000000\": 162.86999635957181,\n",
      "        \"2019-08-02T21:00:00.000000000\": 164.35999632626772,\n",
      "        \"2019-08-03T00:00:00.000000000\": 166.81999627128243,\n",
      "        \"2019-08-03T03:00:00.000000000\": 168.4999962337315,\n",
      "        \"2019-08-03T06:00:00.000000000\": 170.06999619863927,\n",
      "        \"2019-08-03T09:00:00.000000000\": 172.5199961438775,\n",
      "        \"2019-08-03T12:00:00.000000000\": 175.81999607011676,\n",
      "        \"2019-08-03T15:00:00.000000000\": 178.52999600954354,\n",
      "        \"2019-08-03T18:00:00.000000000\": 179.13999599590898,\n",
      "        \"2019-08-03T21:00:00.000000000\": 178.0999960191548,\n",
      "        \"2019-08-04T00:00:00.000000000\": 176.28999605961144,\n",
      "        \"2019-08-04T03:00:00.000000000\": 174.15999610722065,\n",
      "        \"2019-08-04T06:00:00.000000000\": 171.95999615639448,\n",
      "        \"2019-08-04T09:00:00.000000000\": 169.7599962055683,\n",
      "        \"2019-08-04T12:00:00.000000000\": 167.59999625384808,\n",
      "        \"2019-08-04T15:00:00.000000000\": 165.49999630078673,\n",
      "        \"2019-08-04T18:00:00.000000000\": 163.4499963466078,\n",
      "        \"2019-08-04T21:00:00.000000000\": 161.4499963913113,\n",
      "        \"2019-08-05T00:00:00.000000000\": 159.50999643467367,\n",
      "        \"2019-08-05T03:00:00.000000000\": 157.6499964762479,\n",
      "        \"2019-08-05T06:00:00.000000000\": 155.8799965158105,\n",
      "        \"2019-08-05T09:00:00.000000000\": 154.22999655269086,\n",
      "        \"2019-08-05T12:00:00.000000000\": 152.69999658688903,\n",
      "        \"2019-08-05T15:00:00.000000000\": 151.26999661885202,\n",
      "        \"2019-08-05T18:00:00.000000000\": 149.91999664902687,\n",
      "        \"2019-08-05T21:00:00.000000000\": 148.62999667786062,\n",
      "        \"2019-08-06T00:00:00.000000000\": 147.38999670557678,\n",
      "        \"2019-08-06T03:00:00.000000000\": 146.15999673306942,\n",
      "        \"2019-08-06T06:00:00.000000000\": 144.94999676011503,\n",
      "        \"2019-08-06T09:00:00.000000000\": 143.74999678693712,\n",
      "        \"2019-08-06T12:00:00.000000000\": 142.56999681331217,\n",
      "        \"2019-08-06T15:00:00.000000000\": 141.41999683901668,\n",
      "        \"2019-08-06T18:00:00.000000000\": 140.33999686315656,\n",
      "        \"2019-08-06T21:00:00.000000000\": 139.53999688103795,\n",
      "        \"2019-08-07T00:00:00.000000000\": 138.48999690450728,\n",
      "        \"2019-08-07T03:00:00.000000000\": 137.52999692596495,\n",
      "        \"2019-08-07T06:00:00.000000000\": 136.76999694295228,\n",
      "        \"2019-08-07T09:00:00.000000000\": 136.19999695569277,\n",
      "        \"2019-08-07T12:00:00.000000000\": 135.8299969639629,\n",
      "        \"2019-08-07T15:00:00.000000000\": 135.50999697111547,\n",
      "        \"2019-08-07T18:00:00.000000000\": 135.10999698005617,\n",
      "        \"2019-08-07T21:00:00.000000000\": 134.63999699056149,\n",
      "        \"2019-08-08T00:00:00.000000000\": 134.1699970010668,\n",
      "        \"2019-08-08T03:00:00.000000000\": 133.7099970113486,\n",
      "        \"2019-08-08T06:00:00.000000000\": 133.26999702118337,\n",
      "        \"2019-08-08T09:00:00.000000000\": 132.86999703012407,\n",
      "        \"2019-08-08T12:00:00.000000000\": 132.4999970383942,\n",
      "        \"2019-08-08T15:00:00.000000000\": 132.1599970459938,\n",
      "        \"2019-08-08T18:00:00.000000000\": 131.88999705202878,\n",
      "        \"2019-08-08T21:00:00.000000000\": 131.66999705694616,\n",
      "        \"2019-08-09T00:00:00.000000000\": 131.4699970614165\n",
      "    }\n",
      "}\n"
     ]
    }
   ],
   "source": [
    "test_output = {'COMID': comid, 'data': dict(zip(output_da['time'].values.astype(str), output_da.values))}\n",
    "print(json.dumps(test_output, sort_keys=True, indent=4))"
   ]
  },
  {
   "cell_type": "code",
   "execution_count": 11,
   "metadata": {},
   "outputs": [
    {
     "name": "stdout",
     "output_type": "stream",
     "text": [
      "{\n",
      "    \"dims\": [\n",
      "        \"time\"\n",
      "    ],\n",
      "    \"attrs\": {\n",
      "        \"long_name\": \"River Flow\",\n",
      "        \"units\": \"m3 s-1\",\n",
      "        \"coordinates\": \"latitude longitude\",\n",
      "        \"grid_mapping\": \"crs\",\n",
      "        \"valid_range\": [\n",
      "            0,\n",
      "            5000000\n",
      "        ]\n",
      "    },\n",
      "    \"data\": [\n",
      "        171.6599961631,\n",
      "        184.9199958667159,\n",
      "        186.59999582916498,\n",
      "        184.48999587632716,\n",
      "        181.62999594025314,\n",
      "        178.76999600417912,\n",
      "        175.98999606631696,\n",
      "        173.27999612689018,\n",
      "        170.6899961847812,\n",
      "        168.24999623931944,\n",
      "        166.0899962875992,\n",
      "        164.27999632805586,\n",
      "        162.8799963593483,\n",
      "        161.899996381253,\n",
      "        161.27999639511108,\n",
      "        160.93999640271068,\n",
      "        160.78999640606344,\n",
      "        160.759996406734,\n",
      "        160.64999640919268,\n",
      "        160.5299964118749,\n",
      "        160.33999641612172,\n",
      "        160.08999642170966,\n",
      "        159.81999642774463,\n",
      "        159.58999643288553,\n",
      "        159.47999643534422,\n",
      "        159.56999643333256,\n",
      "        159.92999642528594,\n",
      "        160.59999641031027,\n",
      "        161.57999638840556,\n",
      "        162.86999635957181,\n",
      "        164.35999632626772,\n",
      "        166.81999627128243,\n",
      "        168.4999962337315,\n",
      "        170.06999619863927,\n",
      "        172.5199961438775,\n",
      "        175.81999607011676,\n",
      "        178.52999600954354,\n",
      "        179.13999599590898,\n",
      "        178.0999960191548,\n",
      "        176.28999605961144,\n",
      "        174.15999610722065,\n",
      "        171.95999615639448,\n",
      "        169.7599962055683,\n",
      "        167.59999625384808,\n",
      "        165.49999630078673,\n",
      "        163.4499963466078,\n",
      "        161.4499963913113,\n",
      "        159.50999643467367,\n",
      "        157.6499964762479,\n",
      "        155.8799965158105,\n",
      "        154.22999655269086,\n",
      "        152.69999658688903,\n",
      "        151.26999661885202,\n",
      "        149.91999664902687,\n",
      "        148.62999667786062,\n",
      "        147.38999670557678,\n",
      "        146.15999673306942,\n",
      "        144.94999676011503,\n",
      "        143.74999678693712,\n",
      "        142.56999681331217,\n",
      "        141.41999683901668,\n",
      "        140.33999686315656,\n",
      "        139.53999688103795,\n",
      "        138.48999690450728,\n",
      "        137.52999692596495,\n",
      "        136.76999694295228,\n",
      "        136.19999695569277,\n",
      "        135.8299969639629,\n",
      "        135.50999697111547,\n",
      "        135.10999698005617,\n",
      "        134.63999699056149,\n",
      "        134.1699970010668,\n",
      "        133.7099970113486,\n",
      "        133.26999702118337,\n",
      "        132.86999703012407,\n",
      "        132.4999970383942,\n",
      "        132.1599970459938,\n",
      "        131.88999705202878,\n",
      "        131.66999705694616,\n",
      "        131.4699970614165\n",
      "    ],\n",
      "    \"coords\": {\n",
      "        \"feature_id\": {\n",
      "            \"dims\": [],\n",
      "            \"attrs\": {\n",
      "                \"long_name\": \"Reach ID\",\n",
      "                \"comment\": \"NHDPlusv2 ComIDs within CONUS, arbitrary Reach IDs outside of CONUS\",\n",
      "                \"cf_role\": \"timeseries_id\"\n",
      "            },\n",
      "            \"data\": 4512772\n",
      "        },\n",
      "        \"time\": {\n",
      "            \"dims\": [\n",
      "                \"time\"\n",
      "            ],\n",
      "            \"attrs\": {\n",
      "                \"long_name\": \"valid output time\",\n",
      "                \"standard_name\": \"time\",\n",
      "                \"valid_min\": [\n",
      "                    26074260\n",
      "                ],\n",
      "                \"valid_max\": [\n",
      "                    26088480\n",
      "                ]\n",
      "            },\n",
      "            \"data\": [\n",
      "                \"2019-07-30 03:00:00\",\n",
      "                \"2019-07-30 06:00:00\",\n",
      "                \"2019-07-30 09:00:00\",\n",
      "                \"2019-07-30 12:00:00\",\n",
      "                \"2019-07-30 15:00:00\",\n",
      "                \"2019-07-30 18:00:00\",\n",
      "                \"2019-07-30 21:00:00\",\n",
      "                \"2019-07-31 00:00:00\",\n",
      "                \"2019-07-31 03:00:00\",\n",
      "                \"2019-07-31 06:00:00\",\n",
      "                \"2019-07-31 09:00:00\",\n",
      "                \"2019-07-31 12:00:00\",\n",
      "                \"2019-07-31 15:00:00\",\n",
      "                \"2019-07-31 18:00:00\",\n",
      "                \"2019-07-31 21:00:00\",\n",
      "                \"2019-08-01 00:00:00\",\n",
      "                \"2019-08-01 03:00:00\",\n",
      "                \"2019-08-01 06:00:00\",\n",
      "                \"2019-08-01 09:00:00\",\n",
      "                \"2019-08-01 12:00:00\",\n",
      "                \"2019-08-01 15:00:00\",\n",
      "                \"2019-08-01 18:00:00\",\n",
      "                \"2019-08-01 21:00:00\",\n",
      "                \"2019-08-02 00:00:00\",\n",
      "                \"2019-08-02 03:00:00\",\n",
      "                \"2019-08-02 06:00:00\",\n",
      "                \"2019-08-02 09:00:00\",\n",
      "                \"2019-08-02 12:00:00\",\n",
      "                \"2019-08-02 15:00:00\",\n",
      "                \"2019-08-02 18:00:00\",\n",
      "                \"2019-08-02 21:00:00\",\n",
      "                \"2019-08-03 00:00:00\",\n",
      "                \"2019-08-03 03:00:00\",\n",
      "                \"2019-08-03 06:00:00\",\n",
      "                \"2019-08-03 09:00:00\",\n",
      "                \"2019-08-03 12:00:00\",\n",
      "                \"2019-08-03 15:00:00\",\n",
      "                \"2019-08-03 18:00:00\",\n",
      "                \"2019-08-03 21:00:00\",\n",
      "                \"2019-08-04 00:00:00\",\n",
      "                \"2019-08-04 03:00:00\",\n",
      "                \"2019-08-04 06:00:00\",\n",
      "                \"2019-08-04 09:00:00\",\n",
      "                \"2019-08-04 12:00:00\",\n",
      "                \"2019-08-04 15:00:00\",\n",
      "                \"2019-08-04 18:00:00\",\n",
      "                \"2019-08-04 21:00:00\",\n",
      "                \"2019-08-05 00:00:00\",\n",
      "                \"2019-08-05 03:00:00\",\n",
      "                \"2019-08-05 06:00:00\",\n",
      "                \"2019-08-05 09:00:00\",\n",
      "                \"2019-08-05 12:00:00\",\n",
      "                \"2019-08-05 15:00:00\",\n",
      "                \"2019-08-05 18:00:00\",\n",
      "                \"2019-08-05 21:00:00\",\n",
      "                \"2019-08-06 00:00:00\",\n",
      "                \"2019-08-06 03:00:00\",\n",
      "                \"2019-08-06 06:00:00\",\n",
      "                \"2019-08-06 09:00:00\",\n",
      "                \"2019-08-06 12:00:00\",\n",
      "                \"2019-08-06 15:00:00\",\n",
      "                \"2019-08-06 18:00:00\",\n",
      "                \"2019-08-06 21:00:00\",\n",
      "                \"2019-08-07 00:00:00\",\n",
      "                \"2019-08-07 03:00:00\",\n",
      "                \"2019-08-07 06:00:00\",\n",
      "                \"2019-08-07 09:00:00\",\n",
      "                \"2019-08-07 12:00:00\",\n",
      "                \"2019-08-07 15:00:00\",\n",
      "                \"2019-08-07 18:00:00\",\n",
      "                \"2019-08-07 21:00:00\",\n",
      "                \"2019-08-08 00:00:00\",\n",
      "                \"2019-08-08 03:00:00\",\n",
      "                \"2019-08-08 06:00:00\",\n",
      "                \"2019-08-08 09:00:00\",\n",
      "                \"2019-08-08 12:00:00\",\n",
      "                \"2019-08-08 15:00:00\",\n",
      "                \"2019-08-08 18:00:00\",\n",
      "                \"2019-08-08 21:00:00\",\n",
      "                \"2019-08-09 00:00:00\"\n",
      "            ]\n",
      "        }\n",
      "    },\n",
      "    \"name\": \"streamflow\"\n",
      "}\n"
     ]
    }
   ],
   "source": [
    "print(json.dumps(output_da.to_dict(), indent=4, default=str))"
   ]
  },
  {
   "cell_type": "markdown",
   "metadata": {},
   "source": [
    "# Plot it and compare to a plot grabbed from the Hydroshare NWM forecast Viewer"
   ]
  },
  {
   "cell_type": "code",
   "execution_count": 12,
   "metadata": {},
   "outputs": [
    {
     "data": {
      "text/plain": [
       "array([171.65999616, 184.91999587, 186.59999583, 184.48999588,\n",
       "       181.62999594, 178.769996  , 175.98999607, 173.27999613,\n",
       "       170.68999618, 168.24999624, 166.08999629, 164.27999633,\n",
       "       162.87999636, 161.89999638, 161.2799964 , 160.9399964 ,\n",
       "       160.78999641, 160.75999641, 160.64999641, 160.52999641,\n",
       "       160.33999642, 160.08999642, 159.81999643, 159.58999643,\n",
       "       159.47999644, 159.56999643, 159.92999643, 160.59999641,\n",
       "       161.57999639, 162.86999636, 164.35999633, 166.81999627,\n",
       "       168.49999623, 170.0699962 , 172.51999614, 175.81999607,\n",
       "       178.52999601, 179.139996  , 178.09999602, 176.28999606,\n",
       "       174.15999611, 171.95999616, 169.75999621, 167.59999625,\n",
       "       165.4999963 , 163.44999635, 161.44999639, 159.50999643,\n",
       "       157.64999648, 155.87999652, 154.22999655, 152.69999659,\n",
       "       151.26999662, 149.91999665, 148.62999668, 147.38999671,\n",
       "       146.15999673, 144.94999676, 143.74999679, 142.56999681,\n",
       "       141.41999684, 140.33999686, 139.53999688, 138.4899969 ,\n",
       "       137.52999693, 136.76999694, 136.19999696, 135.82999696,\n",
       "       135.50999697, 135.10999698, 134.63999699, 134.169997  ,\n",
       "       133.70999701, 133.26999702, 132.86999703, 132.49999704,\n",
       "       132.15999705, 131.88999705, 131.66999706, 131.46999706])"
      ]
     },
     "execution_count": 12,
     "metadata": {},
     "output_type": "execute_result"
    }
   ],
   "source": [
    "# get an array of the streamflow values in cms\n",
    "output_arr = output_da.values\n",
    "output_arr"
   ]
  },
  {
   "cell_type": "code",
   "execution_count": 11,
   "metadata": {},
   "outputs": [],
   "source": [
    "# cms_to_cfs_factor = 35.31467\n",
    "# cfsout = output_arr*cms_to_cfs_factor"
   ]
  },
  {
   "cell_type": "code",
   "execution_count": 14,
   "metadata": {},
   "outputs": [
    {
     "data": {
      "image/png": "[encoded data removed]",
      "text/plain": [
       "<Figure size 1440x432 with 1 Axes>"
      ]
     },
     "metadata": {
      "needs_background": "light"
     },
     "output_type": "display_data"
    }
   ],
   "source": [
    "# plot it\n",
    "fig, ax = plt.subplots(figsize=(20, 6))\n",
    "ax.grid(True, which=\"both\")\n",
    "ax.plot(output_arr)\n",
    "ax.set_ylabel('Flow(cms)')\n",
    "# ax.set_xlabel('Hours from start time in multiples of three?')\n",
    "\n",
    "ax.set_title(f'COMID {comid} 10-day medium range forecast for {date}')\n",
    "ax.set_autoscaley_on(False)\n",
    "ax.set_ylim([0,300])\n",
    "\n",
    "plt.show()"
   ]
  },
  {
   "cell_type": "code",
   "execution_count": 19,
   "metadata": {},
   "outputs": [],
   "source": [
    "[f.close() for f in open_ncdfs];"
   ]
  }
 ],
 "metadata": {
  "kernelspec": {
   "display_name": "Python [conda env:gis]",
   "language": "python",
   "name": "conda-env-gis-py"
  },
  "language_info": {
   "codemirror_mode": {
    "name": "ipython",
    "version": 3
   },
   "file_extension": ".py",
   "mimetype": "text/x-python",
   "name": "python",
   "nbconvert_exporter": "python",
   "pygments_lexer": "ipython3",
   "version": "3.7.3"
  }
 },
 "nbformat": 4,
 "nbformat_minor": 2
}
