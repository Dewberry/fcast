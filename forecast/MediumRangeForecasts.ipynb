{
 "cells": [
  {
   "cell_type": "markdown",
   "metadata": {},
   "source": [
    "# Medium_range National Water Model Forecast\n",
    "### Workflow for creating a 10-day (member 1) or 8.5-day (members 2-7) streamflow forecast given a date, time, and NHDplus COMID (stream segment identifier)"
   ]
  },
  {
   "cell_type": "code",
   "execution_count": 1,
   "metadata": {},
   "outputs": [],
   "source": [
    "import gcsfs\n",
    "import xarray as xr\n",
    "import matplotlib.pyplot as plt\n",
    "import numpy as np\n",
    "import json\n",
    "import os\n",
    "\n",
    "import dask \n",
    "#from dask.distributed import Client, LocalCluster\n",
    "# import dask.bag as db\n",
    "from multiprocessing import cpu_count\n",
    "\n",
    "%matplotlib inline"
   ]
  },
  {
   "cell_type": "markdown",
   "metadata": {},
   "source": [
    "## Start the local cluster\n",
    "#### *__NOTE__*: this is *currently* equal or slower in computation time because of the overhead of the dask scheduler. Without the local cluster, xarray operates serially."
   ]
  },
  {
   "cell_type": "code",
   "execution_count": null,
   "metadata": {},
   "outputs": [],
   "source": [
    "# num_workers = cpu_count()\n",
    "# cluster = LocalCluster(n_workers=num_workers)\n",
    "# client = Client(cluster)\n",
    "# client"
   ]
  },
  {
   "cell_type": "markdown",
   "metadata": {},
   "source": [
    "## Set up the Google Cloud File System"
   ]
  },
  {
   "cell_type": "code",
   "execution_count": 2,
   "metadata": {},
   "outputs": [],
   "source": [
    "fs = gcsfs.GCSFileSystem(project='national-water-model')\n",
    "# alldays = fs.ls('national-water-model')\n",
    "# len(alldays)"
   ]
  },
  {
   "cell_type": "markdown",
   "metadata": {},
   "source": [
    "## Open all netcdf files of interest, concat them into an xarray multifile dataset -- **_1 for each member_**\n",
    "\n",
    "- This step takes longer than expected due to reading from GCS over the internet"
   ]
  },
  {
   "cell_type": "code",
   "execution_count": 3,
   "metadata": {},
   "outputs": [],
   "source": [
    "date = '20190730' # yesterdays date\n",
    "start_time = '00' # start at 00:00 "
   ]
  },
  {
   "cell_type": "code",
   "execution_count": 4,
   "metadata": {},
   "outputs": [
    {
     "name": "stdout",
     "output_type": "stream",
     "text": [
      "Multi-member: True\n"
     ]
    }
   ],
   "source": [
    "datepath = f'national-water-model/nwm.{date}'\n",
    "if 'medium_range_mem' in str(fs.ls(datepath)): \n",
    "    xr_datasets = []\n",
    "    multi_mem = True\n",
    "    len_forecast = '8.5-day'\n",
    "    for i in range(1,8):\n",
    "        mem = str(i)\n",
    "        open_ncdfs = []\n",
    "        for i in range(3, 204, 3): # for times 3-240 or 3-204 in steps of 3\n",
    "            hr = str(i).zfill(3)\n",
    "            filepath = f'national-water-model/nwm.{date}/medium_range_mem{mem}/nwm.t{start_time}z.medium_range.channel_rt_{mem}.f{hr}.conus.nc'\n",
    "            file = fs.open(filepath, 'rb')\n",
    "            open_ncdfs.append(file)\n",
    "        mfdset = xr.open_mfdataset(open_ncdfs)\n",
    "        xr_datasets.append(mfdset)\n",
    "\n",
    "else:\n",
    "    multi_mem = False\n",
    "    len_forecast = '10-day'\n",
    "    open_ncdfs = []\n",
    "    for i in range(3, 241, 3): # for times 3-240 or 3-204 in steps of 3\n",
    "        hr = str(i).zfill(3)\n",
    "        filepath = f'national-water-model/nwm.{date}/medium_range_mem{mem}/nwm.t{start_time}z.medium_range.channel_rt.f{hr}.conus.nc'\n",
    "        file = fs.open(filepath, 'rb')\n",
    "        open_ncdfs.append(file)\n",
    "    mfdset = xr.open_mfdataset(open_ncdfs)\n",
    "    \n",
    "print(f'Multi-member: {multi_mem}')"
   ]
  },
  {
   "cell_type": "markdown",
   "metadata": {},
   "source": [
    "## Pull the data from each multifile xarray dataset, make a list of dictionaries"
   ]
  },
  {
   "cell_type": "code",
   "execution_count": 43,
   "metadata": {},
   "outputs": [],
   "source": [
    "comid = 4512772\n",
    "outjson = []\n",
    "for ds in xr_datasets:\n",
    "    output_da = ds.sel(feature_id=comid)['streamflow']\n",
    "    times = output_da['time'].values.astype(str)\n",
    "    arr = output_da.values\n",
    "    d = {}\n",
    "    d[ds.attrs['ensemble_member_number']] = dict(zip(times, arr))\n",
    "    outjson.append(d)"
   ]
  },
  {
   "cell_type": "markdown",
   "metadata": {},
   "source": [
    "## Dump them into a pandas dataframe"
   ]
  },
  {
   "cell_type": "code",
   "execution_count": 68,
   "metadata": {},
   "outputs": [
    {
     "data": {
      "text/html": [
       "<div>\n",
       "<style scoped>\n",
       "    .dataframe tbody tr th:only-of-type {\n",
       "        vertical-align: middle;\n",
       "    }\n",
       "\n",
       "    .dataframe tbody tr th {\n",
       "        vertical-align: top;\n",
       "    }\n",
       "\n",
       "    .dataframe thead th {\n",
       "        text-align: right;\n",
       "    }\n",
       "</style>\n",
       "<table border=\"1\" class=\"dataframe\">\n",
       "  <thead>\n",
       "    <tr style=\"text-align: right;\">\n",
       "      <th></th>\n",
       "      <th>1</th>\n",
       "      <th>2</th>\n",
       "      <th>3</th>\n",
       "      <th>4</th>\n",
       "      <th>5</th>\n",
       "      <th>6</th>\n",
       "      <th>7</th>\n",
       "      <th>mean</th>\n",
       "    </tr>\n",
       "  </thead>\n",
       "  <tbody>\n",
       "    <tr>\n",
       "      <th>2019-07-30 03:00:00</th>\n",
       "      <td>171.659996</td>\n",
       "      <td>171.659996</td>\n",
       "      <td>171.659996</td>\n",
       "      <td>171.659996</td>\n",
       "      <td>171.659996</td>\n",
       "      <td>171.659996</td>\n",
       "      <td>171.659996</td>\n",
       "      <td>171.659996</td>\n",
       "    </tr>\n",
       "    <tr>\n",
       "      <th>2019-07-30 06:00:00</th>\n",
       "      <td>184.919996</td>\n",
       "      <td>184.919996</td>\n",
       "      <td>184.919996</td>\n",
       "      <td>184.919996</td>\n",
       "      <td>184.919996</td>\n",
       "      <td>184.919996</td>\n",
       "      <td>184.919996</td>\n",
       "      <td>184.919996</td>\n",
       "    </tr>\n",
       "    <tr>\n",
       "      <th>2019-07-30 09:00:00</th>\n",
       "      <td>186.599996</td>\n",
       "      <td>186.599996</td>\n",
       "      <td>186.599996</td>\n",
       "      <td>186.599996</td>\n",
       "      <td>186.599996</td>\n",
       "      <td>186.599996</td>\n",
       "      <td>186.599996</td>\n",
       "      <td>186.599996</td>\n",
       "    </tr>\n",
       "    <tr>\n",
       "      <th>2019-07-30 12:00:00</th>\n",
       "      <td>184.489996</td>\n",
       "      <td>184.489996</td>\n",
       "      <td>184.489996</td>\n",
       "      <td>184.489996</td>\n",
       "      <td>184.489996</td>\n",
       "      <td>184.489996</td>\n",
       "      <td>184.489996</td>\n",
       "      <td>184.489996</td>\n",
       "    </tr>\n",
       "    <tr>\n",
       "      <th>2019-07-30 15:00:00</th>\n",
       "      <td>181.629996</td>\n",
       "      <td>181.629996</td>\n",
       "      <td>181.629996</td>\n",
       "      <td>181.629996</td>\n",
       "      <td>181.629996</td>\n",
       "      <td>181.629996</td>\n",
       "      <td>181.629996</td>\n",
       "      <td>181.629996</td>\n",
       "    </tr>\n",
       "  </tbody>\n",
       "</table>\n",
       "</div>"
      ],
      "text/plain": [
       "                              1           2           3           4  \\\n",
       "2019-07-30 03:00:00  171.659996  171.659996  171.659996  171.659996   \n",
       "2019-07-30 06:00:00  184.919996  184.919996  184.919996  184.919996   \n",
       "2019-07-30 09:00:00  186.599996  186.599996  186.599996  186.599996   \n",
       "2019-07-30 12:00:00  184.489996  184.489996  184.489996  184.489996   \n",
       "2019-07-30 15:00:00  181.629996  181.629996  181.629996  181.629996   \n",
       "\n",
       "                              5           6           7        mean  \n",
       "2019-07-30 03:00:00  171.659996  171.659996  171.659996  171.659996  \n",
       "2019-07-30 06:00:00  184.919996  184.919996  184.919996  184.919996  \n",
       "2019-07-30 09:00:00  186.599996  186.599996  186.599996  186.599996  \n",
       "2019-07-30 12:00:00  184.489996  184.489996  184.489996  184.489996  \n",
       "2019-07-30 15:00:00  181.629996  181.629996  181.629996  181.629996  "
      ]
     },
     "execution_count": 68,
     "metadata": {},
     "output_type": "execute_result"
    }
   ],
   "source": [
    "df = pd.concat([pd.read_json(json.dumps(x), orient='index') for x in outjson]).T\n",
    "df['mean'] = df.mean(axis=1)\n",
    "df.head()"
   ]
  },
  {
   "cell_type": "markdown",
   "metadata": {},
   "source": [
    "## Stats"
   ]
  },
  {
   "cell_type": "code",
   "execution_count": 69,
   "metadata": {},
   "outputs": [
    {
     "data": {
      "text/html": [
       "<div>\n",
       "<style scoped>\n",
       "    .dataframe tbody tr th:only-of-type {\n",
       "        vertical-align: middle;\n",
       "    }\n",
       "\n",
       "    .dataframe tbody tr th {\n",
       "        vertical-align: top;\n",
       "    }\n",
       "\n",
       "    .dataframe thead th {\n",
       "        text-align: right;\n",
       "    }\n",
       "</style>\n",
       "<table border=\"1\" class=\"dataframe\">\n",
       "  <thead>\n",
       "    <tr style=\"text-align: right;\">\n",
       "      <th></th>\n",
       "      <th>1</th>\n",
       "      <th>2</th>\n",
       "      <th>3</th>\n",
       "      <th>4</th>\n",
       "      <th>5</th>\n",
       "      <th>6</th>\n",
       "      <th>7</th>\n",
       "      <th>mean</th>\n",
       "    </tr>\n",
       "  </thead>\n",
       "  <tbody>\n",
       "    <tr>\n",
       "      <th>count</th>\n",
       "      <td>67.000000</td>\n",
       "      <td>67.000000</td>\n",
       "      <td>67.000000</td>\n",
       "      <td>67.000000</td>\n",
       "      <td>67.000000</td>\n",
       "      <td>67.000000</td>\n",
       "      <td>67.000000</td>\n",
       "      <td>67.000000</td>\n",
       "    </tr>\n",
       "    <tr>\n",
       "      <th>mean</th>\n",
       "      <td>161.629549</td>\n",
       "      <td>160.481638</td>\n",
       "      <td>160.448205</td>\n",
       "      <td>164.732832</td>\n",
       "      <td>170.772981</td>\n",
       "      <td>163.742086</td>\n",
       "      <td>166.557757</td>\n",
       "      <td>164.052150</td>\n",
       "    </tr>\n",
       "    <tr>\n",
       "      <th>std</th>\n",
       "      <td>12.720519</td>\n",
       "      <td>12.457196</td>\n",
       "      <td>12.277108</td>\n",
       "      <td>8.899701</td>\n",
       "      <td>11.560883</td>\n",
       "      <td>11.686117</td>\n",
       "      <td>9.393473</td>\n",
       "      <td>9.498107</td>\n",
       "    </tr>\n",
       "    <tr>\n",
       "      <th>min</th>\n",
       "      <td>136.199997</td>\n",
       "      <td>134.469997</td>\n",
       "      <td>135.779997</td>\n",
       "      <td>152.149997</td>\n",
       "      <td>159.869996</td>\n",
       "      <td>142.919997</td>\n",
       "      <td>152.679997</td>\n",
       "      <td>150.172854</td>\n",
       "    </tr>\n",
       "    <tr>\n",
       "      <th>25%</th>\n",
       "      <td>155.054997</td>\n",
       "      <td>154.624997</td>\n",
       "      <td>154.289997</td>\n",
       "      <td>158.904996</td>\n",
       "      <td>161.259996</td>\n",
       "      <td>157.284996</td>\n",
       "      <td>159.944996</td>\n",
       "      <td>157.884282</td>\n",
       "    </tr>\n",
       "    <tr>\n",
       "      <th>50%</th>\n",
       "      <td>161.279996</td>\n",
       "      <td>160.939996</td>\n",
       "      <td>161.099996</td>\n",
       "      <td>162.289996</td>\n",
       "      <td>168.249996</td>\n",
       "      <td>161.889996</td>\n",
       "      <td>163.909996</td>\n",
       "      <td>161.894282</td>\n",
       "    </tr>\n",
       "    <tr>\n",
       "      <th>75%</th>\n",
       "      <td>170.379996</td>\n",
       "      <td>168.549996</td>\n",
       "      <td>168.399996</td>\n",
       "      <td>171.579996</td>\n",
       "      <td>174.729996</td>\n",
       "      <td>172.894996</td>\n",
       "      <td>174.164996</td>\n",
       "      <td>171.224282</td>\n",
       "    </tr>\n",
       "    <tr>\n",
       "      <th>max</th>\n",
       "      <td>186.599996</td>\n",
       "      <td>186.599996</td>\n",
       "      <td>186.599996</td>\n",
       "      <td>186.599996</td>\n",
       "      <td>204.899995</td>\n",
       "      <td>186.599996</td>\n",
       "      <td>186.599996</td>\n",
       "      <td>186.599996</td>\n",
       "    </tr>\n",
       "  </tbody>\n",
       "</table>\n",
       "</div>"
      ],
      "text/plain": [
       "                1           2           3           4           5           6  \\\n",
       "count   67.000000   67.000000   67.000000   67.000000   67.000000   67.000000   \n",
       "mean   161.629549  160.481638  160.448205  164.732832  170.772981  163.742086   \n",
       "std     12.720519   12.457196   12.277108    8.899701   11.560883   11.686117   \n",
       "min    136.199997  134.469997  135.779997  152.149997  159.869996  142.919997   \n",
       "25%    155.054997  154.624997  154.289997  158.904996  161.259996  157.284996   \n",
       "50%    161.279996  160.939996  161.099996  162.289996  168.249996  161.889996   \n",
       "75%    170.379996  168.549996  168.399996  171.579996  174.729996  172.894996   \n",
       "max    186.599996  186.599996  186.599996  186.599996  204.899995  186.599996   \n",
       "\n",
       "                7        mean  \n",
       "count   67.000000   67.000000  \n",
       "mean   166.557757  164.052150  \n",
       "std      9.393473    9.498107  \n",
       "min    152.679997  150.172854  \n",
       "25%    159.944996  157.884282  \n",
       "50%    163.909996  161.894282  \n",
       "75%    174.164996  171.224282  \n",
       "max    186.599996  186.599996  "
      ]
     },
     "execution_count": 69,
     "metadata": {},
     "output_type": "execute_result"
    }
   ],
   "source": [
    "df.describe()"
   ]
  },
  {
   "cell_type": "markdown",
   "metadata": {},
   "source": [
    "## Plot it"
   ]
  },
  {
   "cell_type": "code",
   "execution_count": 76,
   "metadata": {},
   "outputs": [
    {
     "data": {
      "text/plain": [
       "<matplotlib.axes._subplots.AxesSubplot at 0x202396f24e0>"
      ]
     },
     "execution_count": 76,
     "metadata": {},
     "output_type": "execute_result"
    },
    {
     "data": {
      "image/png": "[encoded data removed]",
      "text/plain": [
       "<Figure size 1440x432 with 1 Axes>"
      ]
     },
     "metadata": {
      "needs_background": "light"
     },
     "output_type": "display_data"
    }
   ],
   "source": [
    "df.plot(figsize=(20,6))"
   ]
  }
 ],
 "metadata": {
  "kernelspec": {
   "display_name": "Python [conda env:gis]",
   "language": "python",
   "name": "conda-env-gis-py"
  },
  "language_info": {
   "codemirror_mode": {
    "name": "ipython",
    "version": 3
   },
   "file_extension": ".py",
   "mimetype": "text/x-python",
   "name": "python",
   "nbconvert_exporter": "python",
   "pygments_lexer": "ipython3",
   "version": "3.7.3"
  }
 },
 "nbformat": 4,
 "nbformat_minor": 2
}
