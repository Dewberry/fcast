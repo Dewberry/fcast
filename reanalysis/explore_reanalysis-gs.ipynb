{
 "cells": [
  {
   "cell_type": "markdown",
   "metadata": {},
   "source": [
    "# Exploring the NWM Reanalysis dataset"
   ]
  },
  {
   "cell_type": "markdown",
   "metadata": {},
   "source": [
    "## Download/Real-time access a timeseries of compressed netcdf files from gs ([national-water-model-v2](https://console.cloud.google.com/storage/browser/national-water-model-v2?pli=1)), then plot the streamflow at one ComID and export the time series as CSV file"
   ]
  },
  {
   "cell_type": "code",
   "execution_count": 15,
   "metadata": {},
   "outputs": [],
   "source": [
    "from reanalysis import get_reanalysis_paths_gs, data_access_gs, plotReanalysis\n",
    "import pandas as pd\n",
    "\n",
    "%matplotlib inline"
   ]
  },
  {
   "cell_type": "markdown",
   "metadata": {},
   "source": [
    "### Provide the start and end data for the target duration."
   ]
  },
  {
   "cell_type": "code",
   "execution_count": 16,
   "metadata": {},
   "outputs": [],
   "source": [
    "start_date = '2016-10-05'\n",
    "end_date = '2016-10-15'\n",
    "freq = \"1H\" # Used time step to retrieve the data"
   ]
  },
  {
   "cell_type": "markdown",
   "metadata": {},
   "source": [
    "### Prepare the list of the files to access through gs"
   ]
  },
  {
   "cell_type": "code",
   "execution_count": 17,
   "metadata": {},
   "outputs": [],
   "source": [
    "target_analysis = 'full_physics' # Choose between: 1) full_physics; 2) long_range\n",
    "gs_paths = get_reanalysis_paths_gs(start_date, end_date, freq, target_analysis=target_analysis)"
   ]
  },
  {
   "cell_type": "code",
   "execution_count": 18,
   "metadata": {},
   "outputs": [
    {
     "data": {
      "text/plain": [
       "'national-water-model-v2/full_physics/2016/201610050000.CHRTOUT_DOMAIN1.comp'"
      ]
     },
     "execution_count": 18,
     "metadata": {},
     "output_type": "execute_result"
    }
   ],
   "source": [
    "gs_paths[0]"
   ]
  },
  {
   "cell_type": "code",
   "execution_count": 19,
   "metadata": {},
   "outputs": [
    {
     "data": {
      "text/plain": [
       "241"
      ]
     },
     "execution_count": 19,
     "metadata": {},
     "output_type": "execute_result"
    }
   ],
   "source": [
    "len(gs_paths)"
   ]
  },
  {
   "cell_type": "markdown",
   "metadata": {},
   "source": [
    "### Choose between two methods to access the data: 1) 'real-time' (default); 2) 'download'.\n",
    "#### If the second method is chosen, please provide the target local directory to download the data. \n",
    "#### By default, the local directory to store the downloaded data is './data'"
   ]
  },
  {
   "cell_type": "code",
   "execution_count": 20,
   "metadata": {},
   "outputs": [
    {
     "name": "stdout",
     "output_type": "stream",
     "text": [
      "1812.35 seconds to download 10.670910636 GB of data for the given duration\n"
     ]
    }
   ],
   "source": [
    "all_data = data_access_gs(gs_paths, gs_access_method='download')"
   ]
  },
  {
   "cell_type": "markdown",
   "metadata": {},
   "source": [
    "## Begin exploration"
   ]
  },
  {
   "cell_type": "code",
   "execution_count": 21,
   "metadata": {},
   "outputs": [],
   "source": [
    "comid = 8785685"
   ]
  },
  {
   "cell_type": "code",
   "execution_count": 22,
   "metadata": {},
   "outputs": [],
   "source": [
    "df = all_data.sel(feature_id=comid)['streamflow'].to_dataframe().drop(columns=['feature_id', 'latitude', 'longitude'])"
   ]
  },
  {
   "cell_type": "code",
   "execution_count": 23,
   "metadata": {},
   "outputs": [
    {
     "data": {
      "text/html": [
       "<div>\n",
       "<style scoped>\n",
       "    .dataframe tbody tr th:only-of-type {\n",
       "        vertical-align: middle;\n",
       "    }\n",
       "\n",
       "    .dataframe tbody tr th {\n",
       "        vertical-align: top;\n",
       "    }\n",
       "\n",
       "    .dataframe thead th {\n",
       "        text-align: right;\n",
       "    }\n",
       "</style>\n",
       "<table border=\"1\" class=\"dataframe\">\n",
       "  <thead>\n",
       "    <tr style=\"text-align: right;\">\n",
       "      <th></th>\n",
       "      <th>streamflow</th>\n",
       "    </tr>\n",
       "    <tr>\n",
       "      <th>time</th>\n",
       "      <th></th>\n",
       "    </tr>\n",
       "  </thead>\n",
       "  <tbody>\n",
       "    <tr>\n",
       "      <th>2016-10-05 00:00:00</th>\n",
       "      <td>29.239999</td>\n",
       "    </tr>\n",
       "    <tr>\n",
       "      <th>2016-10-05 01:00:00</th>\n",
       "      <td>29.159999</td>\n",
       "    </tr>\n",
       "    <tr>\n",
       "      <th>2016-10-05 02:00:00</th>\n",
       "      <td>29.089999</td>\n",
       "    </tr>\n",
       "    <tr>\n",
       "      <th>2016-10-05 03:00:00</th>\n",
       "      <td>29.029999</td>\n",
       "    </tr>\n",
       "    <tr>\n",
       "      <th>2016-10-05 04:00:00</th>\n",
       "      <td>28.959999</td>\n",
       "    </tr>\n",
       "  </tbody>\n",
       "</table>\n",
       "</div>"
      ],
      "text/plain": [
       "                     streamflow\n",
       "time                           \n",
       "2016-10-05 00:00:00   29.239999\n",
       "2016-10-05 01:00:00   29.159999\n",
       "2016-10-05 02:00:00   29.089999\n",
       "2016-10-05 03:00:00   29.029999\n",
       "2016-10-05 04:00:00   28.959999"
      ]
     },
     "execution_count": 23,
     "metadata": {},
     "output_type": "execute_result"
    }
   ],
   "source": [
    "df.head()"
   ]
  },
  {
   "cell_type": "code",
   "execution_count": 24,
   "metadata": {},
   "outputs": [
    {
     "data": {
      "image/png": "[encoded data removed]",
      "text/plain": [
       "<Figure size 1440x432 with 1 Axes>"
      ]
     },
     "metadata": {
      "needs_background": "light"
     },
     "output_type": "display_data"
    }
   ],
   "source": [
    "plotReanalysis(df, comid, freq)"
   ]
  },
  {
   "cell_type": "code",
   "execution_count": 14,
   "metadata": {},
   "outputs": [],
   "source": [
    "df.to_csv(f'streamflow_{target_analysis}_{comid}_{start_date}_{end_date}_{freq}')"
   ]
  },
  {
   "cell_type": "markdown",
   "metadata": {},
   "source": [
    "# End"
   ]
  }
 ],
 "metadata": {
  "kernelspec": {
   "display_name": "Python 3",
   "language": "python",
   "name": "python3"
  },
  "language_info": {
   "codemirror_mode": {
    "name": "ipython",
    "version": 3
   },
   "file_extension": ".py",
   "mimetype": "text/x-python",
   "name": "python",
   "nbconvert_exporter": "python",
   "pygments_lexer": "ipython3",
   "version": "3.7.3"
  }
 },
 "nbformat": 4,
 "nbformat_minor": 4
}
