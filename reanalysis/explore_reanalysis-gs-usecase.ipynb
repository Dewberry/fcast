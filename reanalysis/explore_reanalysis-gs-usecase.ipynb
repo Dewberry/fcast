{
 "cells": [
  {
   "cell_type": "markdown",
   "metadata": {},
   "source": [
    "# Exploring the NWM Reanalysis dataset"
   ]
  },
  {
   "cell_type": "markdown",
   "metadata": {},
   "source": [
    "## Download a timeseries of compressed netcdf files from gs (national-water-model-v2), then plot the streamflow at one ComID and export the time series as CSV file"
   ]
  },
  {
   "cell_type": "code",
   "execution_count": 1,
   "metadata": {},
   "outputs": [
    {
     "name": "stderr",
     "output_type": "stream",
     "text": [
      "C:\\Anaconda3\\lib\\site-packages\\dask\\config.py:168: YAMLLoadWarning: calling yaml.load() without Loader=... is deprecated, as the default Loader is unsafe. Please read https://msg.pyyaml.org/load for full details.\n",
      "  data = yaml.load(f.read()) or {}\n",
      "C:\\Anaconda3\\lib\\site-packages\\distributed\\config.py:20: YAMLLoadWarning: calling yaml.load() without Loader=... is deprecated, as the default Loader is unsafe. Please read https://msg.pyyaml.org/load for full details.\n",
      "  defaults = yaml.load(f)\n"
     ]
    }
   ],
   "source": [
    "from reanalysis import get_reanalysis_paths_gs, data_access_gs, plotReanalysis\n",
    "import gcsfs\n",
    "import json\n",
    "import os\n",
    "import urllib3\n",
    "import xarray as xr\n",
    "import pandas as pd\n",
    "from glob import glob\n",
    "from time import time\n",
    "from IPython.display import IFrame\n",
    "from scipy.interpolate import interp1d\n",
    "import matplotlib.pyplot as plt\n",
    "%matplotlib inline"
   ]
  },
  {
   "cell_type": "code",
   "execution_count": 2,
   "metadata": {},
   "outputs": [],
   "source": [
    "def new_plot(x_label='Time (hr)', y_label='Discharge (cfs)', figsize=(20,6), fontsize=18) -> plt.subplots:\n",
    "    '''Return a created new plotframe.'''\n",
    "    \n",
    "    fig,  ax = plt.subplots(figsize=figsize)\n",
    "    ax.set_xlabel(x_label, fontsize=fontsize)\n",
    "    ax.set_ylabel(y_label, fontsize=fontsize)\n",
    "    ax.tick_params(axis='both', which='major', labelsize=18)\n",
    "    ax.grid(which='major', color='lightgrey', linestyle='--', linewidth=2)\n",
    "    return fig, ax"
   ]
  },
  {
   "cell_type": "code",
   "execution_count": 3,
   "metadata": {},
   "outputs": [],
   "source": [
    "def get_NWM_rc(comid, rc_filepath=r\"data/hydroprop-fulltable2D.nc\") -> (interp1d, pd.DataFrame):\n",
    "    \"\"\"Opens the hydroprop-fulltable2D.nc file and retireves rating curves.\n",
    "    This is available for download at: \n",
    "    https://web.corral.tacc.utexas.edu/nfiedata/hydraulic-property-table/.\n",
    "    More information can be found at: https://web.corral.tacc.utexas.edu/nfiedata/.\n",
    "    \"\"\"\n",
    "    ds = xr.open_dataset(rc_filepath)\n",
    "    dis_ds = ds.Discharge.sel(CatchId=comid)\n",
    "    dis_df = dis_ds.to_dataframe().reset_index().drop(columns=[\"CatchId\"]).dropna()\n",
    "    f = interp1d(dis_df.Discharge, dis_df.Stage, kind=\"cubic\")\n",
    "    return f, dis_df"
   ]
  },
  {
   "cell_type": "code",
   "execution_count": 4,
   "metadata": {},
   "outputs": [],
   "source": [
    "def open_station_website(USGS_ID:str) -> IFrame:\n",
    "    '''Open the selected USGS station website. Users can use this website to prepare the required parameters for retrieving the desired records.'''\n",
    "    \n",
    "    return IFrame(src=\"https://waterdata.usgs.gov/usa/nwis/uv?{}\".format(USGS_ID), width='100%', height='500px')"
   ]
  },
  {
   "cell_type": "code",
   "execution_count": 5,
   "metadata": {},
   "outputs": [],
   "source": [
    "def usgs_data(station_id:str, start_date:str, end_date:str, parameter:str) -> dict:\n",
    "    '''Retrieve time series data for a USGS gauge.'''\n",
    "        \n",
    "    urllib3.disable_warnings(urllib3.exceptions.InsecureRequestWarning)\n",
    "    http = urllib3.PoolManager()\n",
    "\n",
    "    # Define URL parameters    \n",
    "    data_format = \"json\"\n",
    "    station_id = station_id\n",
    "    start_date = start_date\n",
    "    end_date = end_date\n",
    "    parameter = parameter\n",
    "    site_type = \"ST\"\n",
    "    site_status = \"all\"\n",
    "    \n",
    "    # Build the URL to retrieve the data\n",
    "    st_service_url = \"https://nwis.waterservices.usgs.gov/nwis/iv/?format=\"+ data_format +\\\n",
    "    \"&sites=\"+ station_id +\"&startDT=\"+ start_date +\"&endDT=\"+ end_date +\"&parameterCd=\"+ parameter +\\\n",
    "    \"&siteType=\"+ site_type +\"&siteStatus=\"+ site_status\n",
    "    url = http.request('GET', st_service_url).data\n",
    "    response = json.loads(url)\n",
    "    usgs_values = response['value']['timeSeries'][0]['values'][0]['value']\n",
    "    \n",
    "    # usgs_values = {'value': value in str, 'qualifiers': qualifiers in str, 'dateTime': dateTime in str}\n",
    "    return usgs_values"
   ]
  },
  {
   "cell_type": "code",
   "execution_count": 6,
   "metadata": {},
   "outputs": [],
   "source": [
    "start_date = '2016-10-05'\n",
    "end_date = '2016-10-15'\n",
    "freq = \"1H\""
   ]
  },
  {
   "cell_type": "code",
   "execution_count": 7,
   "metadata": {},
   "outputs": [],
   "source": [
    "fs = gcsfs.GCSFileSystem(project='national-water-model-v2')"
   ]
  },
  {
   "cell_type": "code",
   "execution_count": 8,
   "metadata": {},
   "outputs": [],
   "source": [
    "subfolders=fs.ls('national-water-model-v2')"
   ]
  },
  {
   "cell_type": "code",
   "execution_count": 9,
   "metadata": {},
   "outputs": [
    {
     "data": {
      "text/plain": [
       "['national-water-model-v2/full_physics/',\n",
       " 'national-water-model-v2/long_range/']"
      ]
     },
     "execution_count": 9,
     "metadata": {},
     "output_type": "execute_result"
    }
   ],
   "source": [
    "subfolders"
   ]
  },
  {
   "cell_type": "code",
   "execution_count": 10,
   "metadata": {},
   "outputs": [],
   "source": [
    "records_wanted = list(pd.date_range(start_date, end_date, freq=freq).strftime('%Y%m%d%H%M'))"
   ]
  },
  {
   "cell_type": "code",
   "execution_count": 11,
   "metadata": {},
   "outputs": [],
   "source": [
    "file_paths = []\n",
    "for record in records_wanted:\n",
    "    file_paths.append(subfolders[0] + record[:4] + \"/\" + record +'.CHRTOUT_DOMAIN1.comp')"
   ]
  },
  {
   "cell_type": "code",
   "execution_count": 12,
   "metadata": {},
   "outputs": [
    {
     "data": {
      "text/plain": [
       "'national-water-model-v2/full_physics/2016/201610050000.CHRTOUT_DOMAIN1.comp'"
      ]
     },
     "execution_count": 12,
     "metadata": {},
     "output_type": "execute_result"
    }
   ],
   "source": [
    "file_paths[0]"
   ]
  },
  {
   "cell_type": "code",
   "execution_count": 13,
   "metadata": {},
   "outputs": [],
   "source": [
    "openfiles = [fs.open(f, \"rb\") for f in file_paths]"
   ]
  },
  {
   "cell_type": "code",
   "execution_count": 14,
   "metadata": {},
   "outputs": [
    {
     "data": {
      "text/plain": [
       "241"
      ]
     },
     "execution_count": 14,
     "metadata": {},
     "output_type": "execute_result"
    }
   ],
   "source": [
    "len(openfiles)"
   ]
  },
  {
   "cell_type": "code",
   "execution_count": 15,
   "metadata": {},
   "outputs": [],
   "source": [
    "all_data = xr.open_mfdataset(openfiles)"
   ]
  },
  {
   "cell_type": "markdown",
   "metadata": {},
   "source": [
    "## Begin exploration"
   ]
  },
  {
   "cell_type": "code",
   "execution_count": 16,
   "metadata": {},
   "outputs": [
    {
     "data": {
      "text/plain": [
       "1574371430.553504"
      ]
     },
     "execution_count": 16,
     "metadata": {},
     "output_type": "execute_result"
    }
   ],
   "source": [
    "start = time()\n",
    "start"
   ]
  },
  {
   "cell_type": "code",
   "execution_count": 17,
   "metadata": {},
   "outputs": [],
   "source": [
    "comid = 8785685\n",
    "files = glob('data/*')"
   ]
  },
  {
   "cell_type": "code",
   "execution_count": 18,
   "metadata": {},
   "outputs": [],
   "source": [
    "df = all_data.sel(feature_id=comid)['streamflow'].to_dataframe().drop(columns=['feature_id', 'latitude', 'longitude'])"
   ]
  },
  {
   "cell_type": "code",
   "execution_count": 19,
   "metadata": {},
   "outputs": [
    {
     "data": {
      "text/html": [
       "<div>\n",
       "<style scoped>\n",
       "    .dataframe tbody tr th:only-of-type {\n",
       "        vertical-align: middle;\n",
       "    }\n",
       "\n",
       "    .dataframe tbody tr th {\n",
       "        vertical-align: top;\n",
       "    }\n",
       "\n",
       "    .dataframe thead th {\n",
       "        text-align: right;\n",
       "    }\n",
       "</style>\n",
       "<table border=\"1\" class=\"dataframe\">\n",
       "  <thead>\n",
       "    <tr style=\"text-align: right;\">\n",
       "      <th></th>\n",
       "      <th>streamflow</th>\n",
       "    </tr>\n",
       "    <tr>\n",
       "      <th>time</th>\n",
       "      <th></th>\n",
       "    </tr>\n",
       "  </thead>\n",
       "  <tbody>\n",
       "    <tr>\n",
       "      <th>2016-10-05 00:00:00</th>\n",
       "      <td>29.239999</td>\n",
       "    </tr>\n",
       "    <tr>\n",
       "      <th>2016-10-05 01:00:00</th>\n",
       "      <td>29.159999</td>\n",
       "    </tr>\n",
       "    <tr>\n",
       "      <th>2016-10-05 02:00:00</th>\n",
       "      <td>29.089999</td>\n",
       "    </tr>\n",
       "    <tr>\n",
       "      <th>2016-10-05 03:00:00</th>\n",
       "      <td>29.029999</td>\n",
       "    </tr>\n",
       "    <tr>\n",
       "      <th>2016-10-05 04:00:00</th>\n",
       "      <td>28.959999</td>\n",
       "    </tr>\n",
       "  </tbody>\n",
       "</table>\n",
       "</div>"
      ],
      "text/plain": [
       "                     streamflow\n",
       "time                           \n",
       "2016-10-05 00:00:00   29.239999\n",
       "2016-10-05 01:00:00   29.159999\n",
       "2016-10-05 02:00:00   29.089999\n",
       "2016-10-05 03:00:00   29.029999\n",
       "2016-10-05 04:00:00   28.959999"
      ]
     },
     "execution_count": 19,
     "metadata": {},
     "output_type": "execute_result"
    }
   ],
   "source": [
    "df.head()"
   ]
  },
  {
   "cell_type": "code",
   "execution_count": 20,
   "metadata": {},
   "outputs": [
    {
     "data": {
      "image/png": "[encoded data removed]",
      "text/plain": [
       "<Figure size 1440x432 with 1 Axes>"
      ]
     },
     "metadata": {
      "needs_background": "light"
     },
     "output_type": "display_data"
    }
   ],
   "source": [
    "plotReanalysis(df, comid, freq)"
   ]
  },
  {
   "cell_type": "code",
   "execution_count": 21,
   "metadata": {},
   "outputs": [
    {
     "name": "stdout",
     "output_type": "stream",
     "text": [
      "622.0 seconds to access 0.0 GB of data and produce a time series plot\n"
     ]
    }
   ],
   "source": [
    "print(round((time()-start), 2), 'seconds to access', sum([os.path.getsize(f) for f in files])/1e9, 'GB of data and produce a time series plot')"
   ]
  },
  {
   "cell_type": "code",
   "execution_count": 22,
   "metadata": {},
   "outputs": [],
   "source": [
    "nwm_rc_path = r\"C:\\Users\\mmorsy\\Documents\\GitHub\\fcast\\notebooks\\data\\hydroprop-fulltable2D.nc\"\n",
    "\n",
    "ds = xr.open_dataset(nwm_rc_path)"
   ]
  },
  {
   "cell_type": "code",
   "execution_count": 23,
   "metadata": {},
   "outputs": [],
   "source": [
    "f, nwm_rc = get_NWM_rc(comid, nwm_rc_path)"
   ]
  },
  {
   "cell_type": "code",
   "execution_count": 24,
   "metadata": {},
   "outputs": [
    {
     "data": {
      "text/html": [
       "<div>\n",
       "<style scoped>\n",
       "    .dataframe tbody tr th:only-of-type {\n",
       "        vertical-align: middle;\n",
       "    }\n",
       "\n",
       "    .dataframe tbody tr th {\n",
       "        vertical-align: top;\n",
       "    }\n",
       "\n",
       "    .dataframe thead th {\n",
       "        text-align: right;\n",
       "    }\n",
       "</style>\n",
       "<table border=\"1\" class=\"dataframe\">\n",
       "  <thead>\n",
       "    <tr style=\"text-align: right;\">\n",
       "      <th></th>\n",
       "      <th>Stage</th>\n",
       "      <th>Discharge</th>\n",
       "    </tr>\n",
       "  </thead>\n",
       "  <tbody>\n",
       "    <tr>\n",
       "      <th>0</th>\n",
       "      <td>0.0000</td>\n",
       "      <td>0.000000</td>\n",
       "    </tr>\n",
       "    <tr>\n",
       "      <th>1</th>\n",
       "      <td>0.3048</td>\n",
       "      <td>0.293121</td>\n",
       "    </tr>\n",
       "    <tr>\n",
       "      <th>2</th>\n",
       "      <td>0.6096</td>\n",
       "      <td>0.987556</td>\n",
       "    </tr>\n",
       "    <tr>\n",
       "      <th>3</th>\n",
       "      <td>0.9144</td>\n",
       "      <td>2.014828</td>\n",
       "    </tr>\n",
       "    <tr>\n",
       "      <th>4</th>\n",
       "      <td>1.2192</td>\n",
       "      <td>3.333481</td>\n",
       "    </tr>\n",
       "  </tbody>\n",
       "</table>\n",
       "</div>"
      ],
      "text/plain": [
       "    Stage  Discharge\n",
       "0  0.0000   0.000000\n",
       "1  0.3048   0.293121\n",
       "2  0.6096   0.987556\n",
       "3  0.9144   2.014828\n",
       "4  1.2192   3.333481"
      ]
     },
     "execution_count": 24,
     "metadata": {},
     "output_type": "execute_result"
    }
   ],
   "source": [
    "nwm_rc.head()"
   ]
  },
  {
   "cell_type": "code",
   "execution_count": 25,
   "metadata": {},
   "outputs": [
    {
     "data": {
      "text/plain": [
       "array(0.30479972)"
      ]
     },
     "execution_count": 25,
     "metadata": {},
     "output_type": "execute_result"
    }
   ],
   "source": [
    "f(0.293121)"
   ]
  },
  {
   "cell_type": "code",
   "execution_count": 26,
   "metadata": {},
   "outputs": [
    {
     "data": {
      "text/plain": [
       "<matplotlib.axes._subplots.AxesSubplot at 0x25c6120a198>"
      ]
     },
     "execution_count": 26,
     "metadata": {},
     "output_type": "execute_result"
    },
    {
     "data": {
      "image/png": "[encoded data removed]",
      "text/plain": [
       "<Figure size 432x288 with 1 Axes>"
      ]
     },
     "metadata": {
      "needs_background": "light"
     },
     "output_type": "display_data"
    }
   ],
   "source": [
    "nwm_rc.Discharge.plot()"
   ]
  },
  {
   "cell_type": "code",
   "execution_count": 27,
   "metadata": {},
   "outputs": [],
   "source": [
    "stage_df = df.apply(f).rename(columns={'streamflow': 'stage'})"
   ]
  },
  {
   "cell_type": "code",
   "execution_count": 28,
   "metadata": {},
   "outputs": [
    {
     "data": {
      "text/html": [
       "<div>\n",
       "<style scoped>\n",
       "    .dataframe tbody tr th:only-of-type {\n",
       "        vertical-align: middle;\n",
       "    }\n",
       "\n",
       "    .dataframe tbody tr th {\n",
       "        vertical-align: top;\n",
       "    }\n",
       "\n",
       "    .dataframe thead th {\n",
       "        text-align: right;\n",
       "    }\n",
       "</style>\n",
       "<table border=\"1\" class=\"dataframe\">\n",
       "  <thead>\n",
       "    <tr style=\"text-align: right;\">\n",
       "      <th></th>\n",
       "      <th>stage</th>\n",
       "    </tr>\n",
       "    <tr>\n",
       "      <th>time</th>\n",
       "      <th></th>\n",
       "    </tr>\n",
       "  </thead>\n",
       "  <tbody>\n",
       "    <tr>\n",
       "      <th>2016-10-05 00:00:00</th>\n",
       "      <td>3.633636</td>\n",
       "    </tr>\n",
       "    <tr>\n",
       "      <th>2016-10-05 01:00:00</th>\n",
       "      <td>3.632522</td>\n",
       "    </tr>\n",
       "    <tr>\n",
       "      <th>2016-10-05 02:00:00</th>\n",
       "      <td>3.631543</td>\n",
       "    </tr>\n",
       "    <tr>\n",
       "      <th>2016-10-05 03:00:00</th>\n",
       "      <td>3.630698</td>\n",
       "    </tr>\n",
       "    <tr>\n",
       "      <th>2016-10-05 04:00:00</th>\n",
       "      <td>3.629707</td>\n",
       "    </tr>\n",
       "  </tbody>\n",
       "</table>\n",
       "</div>"
      ],
      "text/plain": [
       "                        stage\n",
       "time                         \n",
       "2016-10-05 00:00:00  3.633636\n",
       "2016-10-05 01:00:00  3.632522\n",
       "2016-10-05 02:00:00  3.631543\n",
       "2016-10-05 03:00:00  3.630698\n",
       "2016-10-05 04:00:00  3.629707"
      ]
     },
     "execution_count": 28,
     "metadata": {},
     "output_type": "execute_result"
    }
   ],
   "source": [
    "stage_df.head()"
   ]
  },
  {
   "cell_type": "code",
   "execution_count": 29,
   "metadata": {},
   "outputs": [
    {
     "data": {
      "image/png": "[encoded data removed]",
      "text/plain": [
       "<Figure size 1440x432 with 1 Axes>"
      ]
     },
     "metadata": {
      "needs_background": "light"
     },
     "output_type": "display_data"
    }
   ],
   "source": [
    "plotReanalysis(stage_df, comid, freq, flow=False)"
   ]
  },
  {
   "cell_type": "code",
   "execution_count": 62,
   "metadata": {},
   "outputs": [],
   "source": [
    "USGS_ID = '02087570'\n",
    "parameter = \"00065\"  # USGS discharge code"
   ]
  },
  {
   "cell_type": "code",
   "execution_count": 63,
   "metadata": {},
   "outputs": [
    {
     "data": {
      "text/html": [
       "\n",
       "        <iframe\n",
       "            width=\"100%\"\n",
       "            height=\"500px\"\n",
       "            src=\"https://waterdata.usgs.gov/usa/nwis/uv?02087570\"\n",
       "            frameborder=\"0\"\n",
       "            allowfullscreen\n",
       "        ></iframe>\n",
       "        "
      ],
      "text/plain": [
       "<IPython.lib.display.IFrame at 0x25c01b7a358>"
      ]
     },
     "execution_count": 63,
     "metadata": {},
     "output_type": "execute_result"
    }
   ],
   "source": [
    "open_station_website(USGS_ID)"
   ]
  },
  {
   "cell_type": "code",
   "execution_count": 64,
   "metadata": {},
   "outputs": [],
   "source": [
    "start_date_of_record = \"2016-10-05\"  # Start of record\n",
    "end_date_of_record = \"2016-10-15\"    # End of record"
   ]
  },
  {
   "cell_type": "code",
   "execution_count": 65,
   "metadata": {},
   "outputs": [],
   "source": [
    "usgs_values = usgs_data(USGS_ID, start_date_of_record, end_date_of_record, parameter)"
   ]
  },
  {
   "cell_type": "code",
   "execution_count": 66,
   "metadata": {},
   "outputs": [
    {
     "data": {
      "text/html": [
       "<div>\n",
       "<style scoped>\n",
       "    .dataframe tbody tr th:only-of-type {\n",
       "        vertical-align: middle;\n",
       "    }\n",
       "\n",
       "    .dataframe tbody tr th {\n",
       "        vertical-align: top;\n",
       "    }\n",
       "\n",
       "    .dataframe thead th {\n",
       "        text-align: right;\n",
       "    }\n",
       "</style>\n",
       "<table border=\"1\" class=\"dataframe\">\n",
       "  <thead>\n",
       "    <tr style=\"text-align: right;\">\n",
       "      <th></th>\n",
       "      <th>dateTime</th>\n",
       "      <th>qualifiers</th>\n",
       "      <th>value</th>\n",
       "    </tr>\n",
       "  </thead>\n",
       "  <tbody>\n",
       "    <tr>\n",
       "      <th>0</th>\n",
       "      <td>2016-10-05T00:00:00.000-04:00</td>\n",
       "      <td>[A]</td>\n",
       "      <td>7.37</td>\n",
       "    </tr>\n",
       "    <tr>\n",
       "      <th>1</th>\n",
       "      <td>2016-10-05T00:15:00.000-04:00</td>\n",
       "      <td>[A]</td>\n",
       "      <td>7.36</td>\n",
       "    </tr>\n",
       "    <tr>\n",
       "      <th>2</th>\n",
       "      <td>2016-10-05T00:30:00.000-04:00</td>\n",
       "      <td>[A]</td>\n",
       "      <td>7.36</td>\n",
       "    </tr>\n",
       "    <tr>\n",
       "      <th>3</th>\n",
       "      <td>2016-10-05T00:45:00.000-04:00</td>\n",
       "      <td>[A]</td>\n",
       "      <td>7.35</td>\n",
       "    </tr>\n",
       "    <tr>\n",
       "      <th>4</th>\n",
       "      <td>2016-10-05T01:00:00.000-04:00</td>\n",
       "      <td>[A]</td>\n",
       "      <td>7.33</td>\n",
       "    </tr>\n",
       "  </tbody>\n",
       "</table>\n",
       "</div>"
      ],
      "text/plain": [
       "                        dateTime qualifiers value\n",
       "0  2016-10-05T00:00:00.000-04:00        [A]  7.37\n",
       "1  2016-10-05T00:15:00.000-04:00        [A]  7.36\n",
       "2  2016-10-05T00:30:00.000-04:00        [A]  7.36\n",
       "3  2016-10-05T00:45:00.000-04:00        [A]  7.35\n",
       "4  2016-10-05T01:00:00.000-04:00        [A]  7.33"
      ]
     },
     "execution_count": 66,
     "metadata": {},
     "output_type": "execute_result"
    }
   ],
   "source": [
    "usgs_df = pd.DataFrame.from_records(usgs_values)\n",
    "usgs_df.head()"
   ]
  },
  {
   "cell_type": "code",
   "execution_count": 67,
   "metadata": {},
   "outputs": [
    {
     "data": {
      "text/plain": [
       "'9.98'"
      ]
     },
     "execution_count": 67,
     "metadata": {},
     "output_type": "execute_result"
    }
   ],
   "source": [
    "max(usgs_df.value)"
   ]
  },
  {
   "cell_type": "code",
   "execution_count": 61,
   "metadata": {},
   "outputs": [
    {
     "data": {
      "text/html": [
       "<div>\n",
       "<style scoped>\n",
       "    .dataframe tbody tr th:only-of-type {\n",
       "        vertical-align: middle;\n",
       "    }\n",
       "\n",
       "    .dataframe tbody tr th {\n",
       "        vertical-align: top;\n",
       "    }\n",
       "\n",
       "    .dataframe thead th {\n",
       "        text-align: right;\n",
       "    }\n",
       "</style>\n",
       "<table border=\"1\" class=\"dataframe\">\n",
       "  <thead>\n",
       "    <tr style=\"text-align: right;\">\n",
       "      <th></th>\n",
       "      <th>dateTime</th>\n",
       "      <th>qualifiers</th>\n",
       "      <th>value</th>\n",
       "    </tr>\n",
       "  </thead>\n",
       "  <tbody>\n",
       "    <tr>\n",
       "      <th>0</th>\n",
       "      <td>2016-10-05 00:00:00-04:00</td>\n",
       "      <td>[A]</td>\n",
       "      <td>7.37</td>\n",
       "    </tr>\n",
       "    <tr>\n",
       "      <th>1</th>\n",
       "      <td>2016-10-05 00:15:00-04:00</td>\n",
       "      <td>[A]</td>\n",
       "      <td>7.36</td>\n",
       "    </tr>\n",
       "    <tr>\n",
       "      <th>2</th>\n",
       "      <td>2016-10-05 00:30:00-04:00</td>\n",
       "      <td>[A]</td>\n",
       "      <td>7.36</td>\n",
       "    </tr>\n",
       "    <tr>\n",
       "      <th>3</th>\n",
       "      <td>2016-10-05 00:45:00-04:00</td>\n",
       "      <td>[A]</td>\n",
       "      <td>7.35</td>\n",
       "    </tr>\n",
       "    <tr>\n",
       "      <th>4</th>\n",
       "      <td>2016-10-05 01:00:00-04:00</td>\n",
       "      <td>[A]</td>\n",
       "      <td>7.33</td>\n",
       "    </tr>\n",
       "  </tbody>\n",
       "</table>\n",
       "</div>"
      ],
      "text/plain": [
       "                   dateTime qualifiers  value\n",
       "0 2016-10-05 00:00:00-04:00        [A]   7.37\n",
       "1 2016-10-05 00:15:00-04:00        [A]   7.36\n",
       "2 2016-10-05 00:30:00-04:00        [A]   7.36\n",
       "3 2016-10-05 00:45:00-04:00        [A]   7.35\n",
       "4 2016-10-05 01:00:00-04:00        [A]   7.33"
      ]
     },
     "execution_count": 61,
     "metadata": {},
     "output_type": "execute_result"
    }
   ],
   "source": [
    "usgs_df.head()"
   ]
  },
  {
   "cell_type": "code",
   "execution_count": 35,
   "metadata": {},
   "outputs": [
    {
     "data": {
      "text/html": [
       "<div>\n",
       "<style scoped>\n",
       "    .dataframe tbody tr th:only-of-type {\n",
       "        vertical-align: middle;\n",
       "    }\n",
       "\n",
       "    .dataframe tbody tr th {\n",
       "        vertical-align: top;\n",
       "    }\n",
       "\n",
       "    .dataframe thead th {\n",
       "        text-align: right;\n",
       "    }\n",
       "</style>\n",
       "<table border=\"1\" class=\"dataframe\">\n",
       "  <thead>\n",
       "    <tr style=\"text-align: right;\">\n",
       "      <th></th>\n",
       "      <th>dateTime</th>\n",
       "      <th>qualifiers</th>\n",
       "      <th>value</th>\n",
       "      <th>increment_hr</th>\n",
       "    </tr>\n",
       "  </thead>\n",
       "  <tbody>\n",
       "    <tr>\n",
       "      <th>0</th>\n",
       "      <td>2016-10-05 00:00:00-04:00</td>\n",
       "      <td>[A]</td>\n",
       "      <td>2.246376</td>\n",
       "      <td>NaT</td>\n",
       "    </tr>\n",
       "    <tr>\n",
       "      <th>1</th>\n",
       "      <td>2016-10-05 00:15:00-04:00</td>\n",
       "      <td>[A]</td>\n",
       "      <td>2.243328</td>\n",
       "      <td>00:15:00</td>\n",
       "    </tr>\n",
       "    <tr>\n",
       "      <th>2</th>\n",
       "      <td>2016-10-05 00:30:00-04:00</td>\n",
       "      <td>[A]</td>\n",
       "      <td>2.243328</td>\n",
       "      <td>00:15:00</td>\n",
       "    </tr>\n",
       "    <tr>\n",
       "      <th>3</th>\n",
       "      <td>2016-10-05 00:45:00-04:00</td>\n",
       "      <td>[A]</td>\n",
       "      <td>2.240280</td>\n",
       "      <td>00:15:00</td>\n",
       "    </tr>\n",
       "    <tr>\n",
       "      <th>4</th>\n",
       "      <td>2016-10-05 01:00:00-04:00</td>\n",
       "      <td>[A]</td>\n",
       "      <td>2.234184</td>\n",
       "      <td>00:15:00</td>\n",
       "    </tr>\n",
       "  </tbody>\n",
       "</table>\n",
       "</div>"
      ],
      "text/plain": [
       "                   dateTime qualifiers     value increment_hr\n",
       "0 2016-10-05 00:00:00-04:00        [A]  2.246376          NaT\n",
       "1 2016-10-05 00:15:00-04:00        [A]  2.243328     00:15:00\n",
       "2 2016-10-05 00:30:00-04:00        [A]  2.243328     00:15:00\n",
       "3 2016-10-05 00:45:00-04:00        [A]  2.240280     00:15:00\n",
       "4 2016-10-05 01:00:00-04:00        [A]  2.234184     00:15:00"
      ]
     },
     "execution_count": 35,
     "metadata": {},
     "output_type": "execute_result"
    }
   ],
   "source": [
    "usgs_df = usgs_df[usgs_df.value != '-999999']\n",
    "usgs_df['dateTime'] =  pd.to_datetime(usgs_df['dateTime'], utc=False)\n",
    "usgs_df['value']= pd.to_numeric(usgs_df['value']) * 0.3048 #if stage, multiply by 0.3048 to change the units from feet to meter\n",
    "usgs_df = usgs_df.assign(increment_hr = usgs_df.dateTime.diff())\n",
    "usgs_df.head()"
   ]
  },
  {
   "cell_type": "code",
   "execution_count": 36,
   "metadata": {},
   "outputs": [
    {
     "data": {
      "text/plain": [
       "[<matplotlib.lines.Line2D at 0x25c017854a8>]"
      ]
     },
     "execution_count": 36,
     "metadata": {},
     "output_type": "execute_result"
    },
    {
     "data": {
      "image/png": "[encoded data removed]",
      "text/plain": [
       "<Figure size 1440x432 with 1 Axes>"
      ]
     },
     "metadata": {
      "needs_background": "light"
     },
     "output_type": "display_data"
    }
   ],
   "source": [
    "fig, ax = new_plot(x_label='Date/Time', y_label='Stage(m)')\n",
    "ax.plot(usgs_df.dateTime, usgs_df.value)\n",
    "ax.plot(stage_df)"
   ]
  },
  {
   "cell_type": "markdown",
   "metadata": {},
   "source": [
    "# End"
   ]
  }
 ],
 "metadata": {
  "kernelspec": {
   "display_name": "Python 3",
   "language": "python",
   "name": "python3"
  },
  "language_info": {
   "codemirror_mode": {
    "name": "ipython",
    "version": 3
   },
   "file_extension": ".py",
   "mimetype": "text/x-python",
   "name": "python",
   "nbconvert_exporter": "python",
   "pygments_lexer": "ipython3",
   "version": "3.7.3"
  }
 },
 "nbformat": 4,
 "nbformat_minor": 4
}
