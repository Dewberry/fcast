{
 "cells": [
  {
   "cell_type": "markdown",
   "metadata": {},
   "source": [
    "# Exploring the NWM Reanalysis dataset"
   ]
  },
  {
   "cell_type": "markdown",
   "metadata": {},
   "source": [
    "## Download a timeseries of netcdf files from s3, then plot the streamflow at one ComID "
   ]
  },
  {
   "cell_type": "code",
   "execution_count": 1,
   "metadata": {},
   "outputs": [
    {
     "name": "stderr",
     "output_type": "stream",
     "text": [
      "C:\\Anaconda3\\lib\\site-packages\\dask\\config.py:168: YAMLLoadWarning: calling yaml.load() without Loader=... is deprecated, as the default Loader is unsafe. Please read https://msg.pyyaml.org/load for full details.\n",
      "  data = yaml.load(f.read()) or {}\n",
      "C:\\Anaconda3\\lib\\site-packages\\distributed\\config.py:20: YAMLLoadWarning: calling yaml.load() without Loader=... is deprecated, as the default Loader is unsafe. Please read https://msg.pyyaml.org/load for full details.\n",
      "  defaults = yaml.load(f)\n"
     ]
    }
   ],
   "source": [
    "from reanalysis import *\n",
    "import pandas as pd\n",
    "import os\n",
    "import xarray as xr\n",
    "from glob import glob\n",
    "from time import time\n",
    "\n",
    "%matplotlib inline"
   ]
  },
  {
   "cell_type": "markdown",
   "metadata": {},
   "source": [
    "### Download 2 years worth of data in 12 hour intervals"
   ]
  },
  {
   "cell_type": "code",
   "execution_count": 2,
   "metadata": {},
   "outputs": [],
   "source": [
    "start_date = '2016-10-05'\n",
    "end_date = '2016-10-15'\n",
    "freq = \"1H\""
   ]
  },
  {
   "cell_type": "code",
   "execution_count": 3,
   "metadata": {},
   "outputs": [],
   "source": [
    "s3paths = get_reanalysis_paths(start_date, end_date, freq)"
   ]
  },
  {
   "cell_type": "code",
   "execution_count": 4,
   "metadata": {},
   "outputs": [
    {
     "data": {
      "text/plain": [
       "241"
      ]
     },
     "execution_count": 4,
     "metadata": {},
     "output_type": "execute_result"
    }
   ],
   "source": [
    "len(s3paths)"
   ]
  },
  {
   "cell_type": "code",
   "execution_count": 5,
   "metadata": {},
   "outputs": [
    {
     "name": "stdout",
     "output_type": "stream",
     "text": [
      "85.5 seconds to download\n"
     ]
    }
   ],
   "source": [
    "st = time()\n",
    "\n",
    "s3download_parallel(s3paths, 'data_aws')\n",
    "    \n",
    "print(round((time()-st), 2), 'seconds to download')"
   ]
  },
  {
   "cell_type": "markdown",
   "metadata": {},
   "source": [
    "## Begin exploration"
   ]
  },
  {
   "cell_type": "code",
   "execution_count": 6,
   "metadata": {},
   "outputs": [],
   "source": [
    "start = time()"
   ]
  },
  {
   "cell_type": "code",
   "execution_count": 9,
   "metadata": {},
   "outputs": [],
   "source": [
    "comid = 8785685\n",
    "files = glob('data_aws/*')\n",
    "assert len(files) == len(s3paths), 'Downloading error'"
   ]
  },
  {
   "cell_type": "code",
   "execution_count": 10,
   "metadata": {},
   "outputs": [
    {
     "data": {
      "text/plain": [
       "<xarray.Dataset>\n",
       "Dimensions:         (feature_id: 2729077, reference_time: 1, time: 241)\n",
       "Coordinates:\n",
       "  * reference_time  (reference_time) datetime64[ns] 2016-10-01\n",
       "  * feature_id      (feature_id) int32 101 179 181 ... 1180001803 1180001804\n",
       "  * time            (time) datetime64[ns] 2016-10-05 ... 2016-10-15\n",
       "Data variables:\n",
       "    streamflow      (time, feature_id) float64 dask.array<shape=(241, 2729077), chunksize=(1, 2729077)>\n",
       "    q_lateral       (time, feature_id) float64 dask.array<shape=(241, 2729077), chunksize=(1, 2729077)>\n",
       "    velocity        (time, feature_id) float64 dask.array<shape=(241, 2729077), chunksize=(1, 2729077)>\n",
       "    qSfcLatRunoff   (time, feature_id) float64 dask.array<shape=(241, 2729077), chunksize=(1, 2729077)>\n",
       "    qBucket         (time, feature_id) float64 dask.array<shape=(241, 2729077), chunksize=(1, 2729077)>\n",
       "    qBtmVertRunoff  (time, feature_id) float64 dask.array<shape=(241, 2729077), chunksize=(1, 2729077)>\n",
       "Attributes:\n",
       "    featureType:                timeSeries\n",
       "    proj4:                      +proj=longlat +datum=NAD83 +no_defs\n",
       "    model_initialization_time:  2016-10-01_00:00:00\n",
       "    station_dimension:          feature_id\n",
       "    model_output_valid_time:    2016-10-05_00:00:00\n",
       "    stream_order_output:        1\n",
       "    cdm_datatype:               Station\n",
       "    esri_pe_string:             GEOGCS[GCS_North_American_1983,DATUM[D_North_...\n",
       "    Conventions:                CF-1.6\n",
       "    model_version:              NWM 1.2\n",
       "    dev_OVRTSWCRT:              1\n",
       "    dev_NOAH_TIMESTEP:          3600\n",
       "    dev_channel_only:           0\n",
       "    dev_channelBucket_only:     0\n",
       "    dev:                        dev_ prefix indicates development/internal me..."
      ]
     },
     "execution_count": 10,
     "metadata": {},
     "output_type": "execute_result"
    }
   ],
   "source": [
    "all_data = xr.open_mfdataset(files)\n",
    "all_data"
   ]
  },
  {
   "cell_type": "code",
   "execution_count": 12,
   "metadata": {},
   "outputs": [],
   "source": [
    "df = all_data.sel(feature_id=comid)['streamflow'].to_dataframe().drop(columns=['feature_id'])"
   ]
  },
  {
   "cell_type": "code",
   "execution_count": 13,
   "metadata": {},
   "outputs": [
    {
     "data": {
      "text/html": [
       "<div>\n",
       "<style scoped>\n",
       "    .dataframe tbody tr th:only-of-type {\n",
       "        vertical-align: middle;\n",
       "    }\n",
       "\n",
       "    .dataframe tbody tr th {\n",
       "        vertical-align: top;\n",
       "    }\n",
       "\n",
       "    .dataframe thead th {\n",
       "        text-align: right;\n",
       "    }\n",
       "</style>\n",
       "<table border=\"1\" class=\"dataframe\">\n",
       "  <thead>\n",
       "    <tr style=\"text-align: right;\">\n",
       "      <th></th>\n",
       "      <th>streamflow</th>\n",
       "    </tr>\n",
       "    <tr>\n",
       "      <th>time</th>\n",
       "      <th></th>\n",
       "    </tr>\n",
       "  </thead>\n",
       "  <tbody>\n",
       "    <tr>\n",
       "      <th>2016-10-05 00:00:00</th>\n",
       "      <td>15.14</td>\n",
       "    </tr>\n",
       "    <tr>\n",
       "      <th>2016-10-05 01:00:00</th>\n",
       "      <td>14.96</td>\n",
       "    </tr>\n",
       "    <tr>\n",
       "      <th>2016-10-05 02:00:00</th>\n",
       "      <td>14.79</td>\n",
       "    </tr>\n",
       "    <tr>\n",
       "      <th>2016-10-05 03:00:00</th>\n",
       "      <td>14.62</td>\n",
       "    </tr>\n",
       "    <tr>\n",
       "      <th>2016-10-05 04:00:00</th>\n",
       "      <td>14.46</td>\n",
       "    </tr>\n",
       "  </tbody>\n",
       "</table>\n",
       "</div>"
      ],
      "text/plain": [
       "                     streamflow\n",
       "time                           \n",
       "2016-10-05 00:00:00       15.14\n",
       "2016-10-05 01:00:00       14.96\n",
       "2016-10-05 02:00:00       14.79\n",
       "2016-10-05 03:00:00       14.62\n",
       "2016-10-05 04:00:00       14.46"
      ]
     },
     "execution_count": 13,
     "metadata": {},
     "output_type": "execute_result"
    }
   ],
   "source": [
    "df.head()"
   ]
  },
  {
   "cell_type": "code",
   "execution_count": 14,
   "metadata": {},
   "outputs": [
    {
     "data": {
      "image/png": "[encoded data removed]",
      "text/plain": [
       "<Figure size 1440x432 with 1 Axes>"
      ]
     },
     "metadata": {
      "needs_background": "light"
     },
     "output_type": "display_data"
    }
   ],
   "source": [
    "plotReanalysis(df, comid, freq)"
   ]
  },
  {
   "cell_type": "code",
   "execution_count": 15,
   "metadata": {},
   "outputs": [
    {
     "name": "stdout",
     "output_type": "stream",
     "text": [
      "325.07 seconds to access 3.934458218 GB of data and produce a time series plot\n"
     ]
    }
   ],
   "source": [
    "print(round((time()-start), 2), 'seconds to access', sum([os.path.getsize(f) for f in files])/1e9, 'GB of data and produce a time series plot')"
   ]
  },
  {
   "cell_type": "markdown",
   "metadata": {},
   "source": [
    "# End"
   ]
  }
 ],
 "metadata": {
  "kernelspec": {
   "display_name": "Python 3",
   "language": "python",
   "name": "python3"
  },
  "language_info": {
   "codemirror_mode": {
    "name": "ipython",
    "version": 3
   },
   "file_extension": ".py",
   "mimetype": "text/x-python",
   "name": "python",
   "nbconvert_exporter": "python",
   "pygments_lexer": "ipython3",
   "version": "3.7.3"
  }
 },
 "nbformat": 4,
 "nbformat_minor": 4
}
