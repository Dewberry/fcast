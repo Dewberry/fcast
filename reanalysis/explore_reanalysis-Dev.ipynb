{
 "cells": [
  {
   "cell_type": "markdown",
   "metadata": {},
   "source": [
    "# Exploring the NWM Reanalysis dataset"
   ]
  },
  {
   "cell_type": "markdown",
   "metadata": {},
   "source": [
    "## Add more info here"
   ]
  },
  {
   "cell_type": "code",
   "execution_count": 1,
   "metadata": {},
   "outputs": [],
   "source": [
    "from Download_Reanalysis_Data import s3List\n",
    "import boto3\n",
    "import pandas as pd\n",
    "import os\n",
    "import xarray as xr\n",
    "from glob import glob\n",
    "from time import time\n",
    "\n",
    "%matplotlib inline"
   ]
  },
  {
   "cell_type": "markdown",
   "metadata": {},
   "source": [
    "### Download a years worth of data in 12 hour intervals"
   ]
  },
  {
   "cell_type": "code",
   "execution_count": 4,
   "metadata": {},
   "outputs": [],
   "source": [
    "bucket = 'nwm-archive'\n",
    "prefix1 = '2003'\n",
    "prefix2 = '2004'\n",
    "freq = \"12H\"\n",
    "s3client = boto3.client(\"s3\")"
   ]
  },
  {
   "cell_type": "code",
   "execution_count": 5,
   "metadata": {},
   "outputs": [
    {
     "data": {
      "text/plain": [
       "17544"
      ]
     },
     "execution_count": 5,
     "metadata": {},
     "output_type": "execute_result"
    }
   ],
   "source": [
    "datafiles = s3List(bucket, prefix1, 'CHRTOUT', 'DOMAIN1.comp') + s3List(bucket, prefix2, 'CHRTOUT', 'DOMAIN1.comp')\n",
    "len(datafiles)"
   ]
  },
  {
   "cell_type": "code",
   "execution_count": 6,
   "metadata": {},
   "outputs": [
    {
     "data": {
      "text/plain": [
       "733"
      ]
     },
     "execution_count": 6,
     "metadata": {},
     "output_type": "execute_result"
    }
   ],
   "source": [
    "dates_wanted = list(pd.date_range('2003-09-10', '2004-09-10', freq=freq).strftime('%Y%m%d%H'))\n",
    "s3paths = [path for path in datafiles if path.split(\"/\")[-1][:10] in dates_wanted]\n",
    "len(s3paths)"
   ]
  },
  {
   "cell_type": "code",
   "execution_count": 12,
   "metadata": {},
   "outputs": [
    {
     "data": {
      "text/plain": [
       "'200309100000.CHRTOUT_DOMAIN1.comp'"
      ]
     },
     "execution_count": 12,
     "metadata": {},
     "output_type": "execute_result"
    }
   ],
   "source": [
    "os.path.basename(s3paths[0])"
   ]
  },
  {
   "cell_type": "code",
   "execution_count": 13,
   "metadata": {},
   "outputs": [
    {
     "name": "stdout",
     "output_type": "stream",
     "text": [
      "339.84 seconds to download\n"
     ]
    }
   ],
   "source": [
    "st = time()\n",
    "\n",
    "for f in s3paths:\n",
    "    filename = os.path.basename(f)\n",
    "    key = f.split(f's3://{bucket}/')[-1]\n",
    "    if not os.path.exists(\"./data/\" + filename):\n",
    "        s3client.download_file(bucket, key, \"./data/\" + filename)\n",
    "    \n",
    "print(round((time()-st), 2), 'seconds to download')"
   ]
  },
  {
   "cell_type": "markdown",
   "metadata": {},
   "source": [
    "## Begin exploration"
   ]
  },
  {
   "cell_type": "code",
   "execution_count": 32,
   "metadata": {},
   "outputs": [],
   "source": [
    "def plotReanalysis(df: pd.DataFrame, comid: int, freq: str, flow: bool = True):\n",
    "    \"\"\"Function for plotting Reanalysis datasets\"\"\"\n",
    "    start = str(df.index[0]).split(' ')[0]\n",
    "    end = str(df.index[-1]).split(' ')[0]\n",
    "    ax = df.plot(figsize=(20, 6),\n",
    "                 title=f\"NWM Reanalysis for COMID: {comid} from dates {start} to {end} in {freq} steps\")\n",
    "    ax.grid(True, which=\"both\")\n",
    "    if flow:\n",
    "        ax.set(xlabel=\"Date\", ylabel=\"Streamflow (cms)\")\n",
    "    else:\n",
    "        ax.set(xlabel=\"Date\", ylabel=\"Depth (m)\")"
   ]
  },
  {
   "cell_type": "code",
   "execution_count": 25,
   "metadata": {},
   "outputs": [],
   "source": [
    "start = time()"
   ]
  },
  {
   "cell_type": "code",
   "execution_count": 26,
   "metadata": {},
   "outputs": [],
   "source": [
    "comid = 22340547\n",
    "files = glob('data/*')\n",
    "assert len(files) == len(s3paths), 'Downloading error'"
   ]
  },
  {
   "cell_type": "code",
   "execution_count": 27,
   "metadata": {},
   "outputs": [
    {
     "data": {
      "text/plain": [
       "<xarray.Dataset>\n",
       "Dimensions:         (feature_id: 2729077, reference_time: 5, time: 733)\n",
       "Coordinates:\n",
       "  * reference_time  (reference_time) datetime64[ns] 2003-07-01 ... 2004-07-01\n",
       "  * feature_id      (feature_id) int32 101 179 181 ... 1180001803 1180001804\n",
       "  * time            (time) datetime64[ns] 2003-09-10 ... 2004-09-10\n",
       "Data variables:\n",
       "    streamflow      (time, feature_id) float64 dask.array<shape=(733, 2729077), chunksize=(1, 2729077)>\n",
       "    q_lateral       (time, feature_id) float64 dask.array<shape=(733, 2729077), chunksize=(1, 2729077)>\n",
       "    velocity        (time, feature_id) float64 dask.array<shape=(733, 2729077), chunksize=(1, 2729077)>\n",
       "    qSfcLatRunoff   (time, feature_id) float64 dask.array<shape=(733, 2729077), chunksize=(1, 2729077)>\n",
       "    qBucket         (time, feature_id) float64 dask.array<shape=(733, 2729077), chunksize=(1, 2729077)>\n",
       "    qBtmVertRunoff  (time, feature_id) float64 dask.array<shape=(733, 2729077), chunksize=(1, 2729077)>\n",
       "Attributes:\n",
       "    featureType:                timeSeries\n",
       "    proj4:                      +proj=longlat +datum=NAD83 +no_defs\n",
       "    model_initialization_time:  2003-07-01_00:00:00\n",
       "    station_dimension:          feature_id\n",
       "    model_output_valid_time:    2003-09-10_00:00:00\n",
       "    stream_order_output:        1\n",
       "    cdm_datatype:               Station\n",
       "    esri_pe_string:             GEOGCS[GCS_North_American_1983,DATUM[D_North_...\n",
       "    Conventions:                CF-1.6\n",
       "    model_version:              NWM 1.2\n",
       "    dev_OVRTSWCRT:              1\n",
       "    dev_NOAH_TIMESTEP:          3600\n",
       "    dev_channel_only:           0\n",
       "    dev_channelBucket_only:     0\n",
       "    dev:                        dev_ prefix indicates development/internal me..."
      ]
     },
     "execution_count": 27,
     "metadata": {},
     "output_type": "execute_result"
    }
   ],
   "source": [
    "all_data = xr.open_mfdataset(files)\n",
    "all_data"
   ]
  },
  {
   "cell_type": "code",
   "execution_count": 28,
   "metadata": {},
   "outputs": [],
   "source": [
    "df = all_data.sel(feature_id=comid)['streamflow'].to_dataframe().drop(columns=['feature_id'])"
   ]
  },
  {
   "cell_type": "code",
   "execution_count": 29,
   "metadata": {},
   "outputs": [
    {
     "data": {
      "text/html": [
       "<div>\n",
       "<style scoped>\n",
       "    .dataframe tbody tr th:only-of-type {\n",
       "        vertical-align: middle;\n",
       "    }\n",
       "\n",
       "    .dataframe tbody tr th {\n",
       "        vertical-align: top;\n",
       "    }\n",
       "\n",
       "    .dataframe thead th {\n",
       "        text-align: right;\n",
       "    }\n",
       "</style>\n",
       "<table border=\"1\" class=\"dataframe\">\n",
       "  <thead>\n",
       "    <tr style=\"text-align: right;\">\n",
       "      <th></th>\n",
       "      <th>streamflow</th>\n",
       "    </tr>\n",
       "    <tr>\n",
       "      <th>time</th>\n",
       "      <th></th>\n",
       "    </tr>\n",
       "  </thead>\n",
       "  <tbody>\n",
       "    <tr>\n",
       "      <th>2003-09-10 00:00:00</th>\n",
       "      <td>824.949982</td>\n",
       "    </tr>\n",
       "    <tr>\n",
       "      <th>2003-09-10 12:00:00</th>\n",
       "      <td>722.259984</td>\n",
       "    </tr>\n",
       "    <tr>\n",
       "      <th>2003-09-11 00:00:00</th>\n",
       "      <td>633.909986</td>\n",
       "    </tr>\n",
       "    <tr>\n",
       "      <th>2003-09-11 12:00:00</th>\n",
       "      <td>554.939988</td>\n",
       "    </tr>\n",
       "    <tr>\n",
       "      <th>2003-09-12 00:00:00</th>\n",
       "      <td>488.949989</td>\n",
       "    </tr>\n",
       "  </tbody>\n",
       "</table>\n",
       "</div>"
      ],
      "text/plain": [
       "                     streamflow\n",
       "time                           \n",
       "2003-09-10 00:00:00  824.949982\n",
       "2003-09-10 12:00:00  722.259984\n",
       "2003-09-11 00:00:00  633.909986\n",
       "2003-09-11 12:00:00  554.939988\n",
       "2003-09-12 00:00:00  488.949989"
      ]
     },
     "execution_count": 29,
     "metadata": {},
     "output_type": "execute_result"
    }
   ],
   "source": [
    "df.head()"
   ]
  },
  {
   "cell_type": "code",
   "execution_count": 33,
   "metadata": {},
   "outputs": [
    {
     "data": {
      "image/png": "[encoded data removed]",
      "text/plain": [
       "<Figure size 1440x432 with 1 Axes>"
      ]
     },
     "metadata": {
      "needs_background": "light"
     },
     "output_type": "display_data"
    }
   ],
   "source": [
    "plotReanalysis(df, comid, freq)"
   ]
  },
  {
   "cell_type": "code",
   "execution_count": 31,
   "metadata": {},
   "outputs": [
    {
     "name": "stdout",
     "output_type": "stream",
     "text": [
      "152.13 seconds to access 13.149859792 GB of data and produce a time series plot\n"
     ]
    }
   ],
   "source": [
    "print(round((time()-start), 2), 'seconds to access', sum([os.path.getsize(f) for f in files])/1e9, 'GB of data and produce a time series plot')"
   ]
  },
  {
   "cell_type": "code",
   "execution_count": null,
   "metadata": {},
   "outputs": [],
   "source": []
  }
 ],
 "metadata": {
  "kernelspec": {
   "display_name": "Python [conda env:gis]",
   "language": "python",
   "name": "conda-env-gis-py"
  },
  "language_info": {
   "codemirror_mode": {
    "name": "ipython",
    "version": 3
   },
   "file_extension": ".py",
   "mimetype": "text/x-python",
   "name": "python",
   "nbconvert_exporter": "python",
   "pygments_lexer": "ipython3",
   "version": "3.7.3"
  }
 },
 "nbformat": 4,
 "nbformat_minor": 4
}
