{
 "cells": [
  {
   "cell_type": "markdown",
   "metadata": {},
   "source": [
    "__Merge Excel Documents__</br>\n",
    "<img src=\"http://static1.squarespace.com/static/530979d9e4b04bff4a3aadf5/t/5446c34ce4b0e5a2c7ff2614/1413923661373/DewberryLogo_RGB.png?format=1500w\" width=\"40%\" align='right'/>\n",
    "PYTHON 3.6</br>\n",
    "Overview: This notebook is to combine Excel files with water surface elevations into one file.</br>\n",
    "Updated 2018-12-12</br>\n",
    "by Chris Maderia: cmaderia@dewberry.com <br/>\n",
    "by Stephen Duncan: sduncan@dewberry.com <br/>"
   ]
  },
  {
   "cell_type": "markdown",
   "metadata": {},
   "source": [
    "# Merge Excel\n",
    "\n",
    "__May require the following:__ </br>\n",
    "conda install openpyxl</br>\n",
    "or</br>\n",
    "pip install openpyxl</br>\n"
   ]
  },
  {
   "cell_type": "code",
   "execution_count": 1,
   "metadata": {},
   "outputs": [],
   "source": [
    "import os\n",
    "import boto3\n",
    "from glob import glob\n",
    "import pandas as pd\n",
    "from io import StringIO, BytesIO\n",
    "import openpyxl  # used for Excel Writer\n",
    "s3 = boto3.resource('s3')\n",
    "client = boto3.client('s3')"
   ]
  },
  {
   "cell_type": "markdown",
   "metadata": {},
   "source": [
    "## Define bucket and folder path (Prefix) to where Excel WSE files are stored"
   ]
  },
  {
   "cell_type": "markdown",
   "metadata": {},
   "source": [
    "#### Input working directory"
   ]
  },
  {
   "cell_type": "code",
   "execution_count": 2,
   "metadata": {},
   "outputs": [],
   "source": [
    "in_bucket_name = 'probmodelingrepository'\n",
    "#in_working_dir = 'Augusta-Levee-AOP/ProductionRuns/outputs'\n",
    "in_working_dir = 'AR-LA-MS-River/ProductionRuns/outputs'\n",
    "in_folder_name = 'BaseMiss'\n",
    "in_prefix_name = os.path.join(in_working_dir, in_folder_name).replace(\"\\\\\",\"/\")\n",
    "file_ext = '.xlsx'  # Excel file extension"
   ]
  },
  {
   "cell_type": "markdown",
   "metadata": {},
   "source": [
    "#### Output working directory"
   ]
  },
  {
   "cell_type": "code",
   "execution_count": 3,
   "metadata": {},
   "outputs": [
    {
     "name": "stdout",
     "output_type": "stream",
     "text": [
      "In:  AR-LA-MS-River/ProductionRuns/outputs/BaseMiss\n",
      "Out:  Augusta-Levee-AOP/ProductionRuns/outputs/Augusta_Base\n"
     ]
    }
   ],
   "source": [
    "out_bucket_name = 'probmodelingrepository'\n",
    "out_working_dir = 'Augusta-Levee-AOP/ProductionRuns/outputs'\n",
    "out_folder_name = 'Augusta_Base'\n",
    "out_prefix_name = os.path.join(out_working_dir, out_folder_name).replace(\"\\\\\",\"/\")\n",
    "\n",
    "print('In: ', in_prefix_name)\n",
    "print('Out: ',out_prefix_name)"
   ]
  },
  {
   "cell_type": "markdown",
   "metadata": {},
   "source": [
    "## Functions"
   ]
  },
  {
   "cell_type": "markdown",
   "metadata": {},
   "source": [
    "### Function to check if file or directory exists"
   ]
  },
  {
   "cell_type": "code",
   "execution_count": 4,
   "metadata": {},
   "outputs": [],
   "source": [
    "# http://easyprog99.blogspot.com/2017/05/boto3-check-if-s3-folder-exists.html\n",
    "def fileExists(bucket_name, key, filename=None):\n",
    "    client = boto3.client('s3')\n",
    "    # for folders only\n",
    "    if filename is None:\n",
    "        result = client.list_objects_v2(Bucket=bucket_name, Prefix=key+'/')\n",
    "    # for files only\n",
    "    else:\n",
    "        result = client.list_objects_v2(Bucket=bucket_name, Prefix=key+'/'+filename)\n",
    "    exists=False\n",
    "    if 'Contents' in result:\n",
    "        exists=True\n",
    "    return exists"
   ]
  },
  {
   "cell_type": "markdown",
   "metadata": {},
   "source": [
    "### Function to get list of files using Boto3\n",
    "in = (bucket name, prefix (path) name, file extension)</br>\n",
    "out = list of files"
   ]
  },
  {
   "cell_type": "code",
   "execution_count": 5,
   "metadata": {},
   "outputs": [],
   "source": [
    "def get_files(bucketname, prefixname, textstring):\n",
    "    filelist = []\n",
    "    bucket = s3.Bucket(name=bucketname)\n",
    "    FilesNotFound = True\n",
    "    for obj in bucket.objects.filter(Prefix=prefixname):\n",
    "        if textstring in str(obj) and 'xml' not in str(obj):\n",
    "            filelist.append('{0}:{1}'.format(bucket.name, obj.key))\n",
    "        FilesNotFound = False\n",
    "    if FilesNotFound:\n",
    "        print(\"ALERT\", \"No file in {0}/{1}\".format(bucket, prefixname))\n",
    "    return filelist"
   ]
  },
  {
   "cell_type": "markdown",
   "metadata": {},
   "source": [
    "### Function to compile all Excel files as data frames into an Ordered Dict (one key for each set of structures - market baskets, uncorrelated, uniform, etc.)\n",
    "in = list of Excel files with one or more sheets (one sheet for each structure set)</br>\n",
    "out = ordered dictionary of data frames (one for each structure set)"
   ]
  },
  {
   "cell_type": "code",
   "execution_count": 11,
   "metadata": {},
   "outputs": [],
   "source": [
    "def compile_excel(in_xlsx):\n",
    "    first_excel_file = in_xlsx[:1]\n",
    "    other_excel_files = in_xlsx[1:]\n",
    "    # get first Excel file as dictionary of data frames (one for each sheet)\n",
    "    for res in first_excel_file:\n",
    "        print(res)\n",
    "        colstring = os.path.basename(res).split('_')[0].replace('-','_')\n",
    "        # read the data\n",
    "        obj = s3.Object(res.split(':')[0], res.split(':')[1])\n",
    "        data = BytesIO(obj.get()['Body'].read())\n",
    "        data.seek(0)\n",
    "        # create dict of data frames\n",
    "        first_dfdict = pd.read_excel(data, sheet_name=None, sep=',', encoding='utf-8')\n",
    "        for sheet in first_dfdict:\n",
    "            first_dfdict[str(sheet)].rename(columns={0:colstring}, inplace=True)\n",
    "            \n",
    "    # append the others to first_dfdict\n",
    "    \n",
    "    for i, res in enumerate(other_excel_files):\n",
    "        if i%30==0: print(res)\n",
    "        if i==len(other_excel_files)-1: print(res)\n",
    "        colstring = os.path.basename(res).split('_')[0].replace('-','_')\n",
    "        # read the data\n",
    "        obj = s3.Object(res.split(':')[0], res.split(':')[1])\n",
    "        data = BytesIO(obj.get()['Body'].read())\n",
    "        data.seek(0)\n",
    "        # creat dict of data frames and append\n",
    "        if i == 0:\n",
    "            second_dfdict = pd.read_excel(data, sheet_name=None, sep=',', encoding='utf-8')\n",
    "            for sheet in second_dfdict:\n",
    "                second_dfdict[str(sheet)].rename(columns={0:colstring}, inplace=True)\n",
    "                second_dfdict[str(sheet)] = pd.concat([first_dfdict[str(sheet)], second_dfdict[str(sheet)]], axis=1)#, sort=False)\n",
    "            base_dfdict = second_dfdict\n",
    "        else:\n",
    "            next_dfdict = pd.read_excel(data, sheet_name=None, sep=',', encoding='utf-8')\n",
    "            for sheet in next_dfdict:\n",
    "                next_dfdict[str(sheet)].rename(columns={0:colstring}, inplace=True)\n",
    "                next_dfdict[str(sheet)] = pd.concat([base_dfdict[str(sheet)], next_dfdict[str(sheet)]], axis=1)#, sort=False)\n",
    "            base_dfdict = next_dfdict\n",
    "            \n",
    "    return base_dfdict"
   ]
  },
  {
   "cell_type": "markdown",
   "metadata": {},
   "source": [
    "## Run it"
   ]
  },
  {
   "cell_type": "code",
   "execution_count": 7,
   "metadata": {},
   "outputs": [
    {
     "name": "stdout",
     "output_type": "stream",
     "text": [
      "probmodelingrepository:AR-LA-MS-River/ProductionRuns/outputs/BaseMiss/E301/BaseMiss-E301_structures.xlsx\n",
      "Count: 300\n"
     ]
    }
   ],
   "source": [
    "results_xlsx = get_files(in_bucket_name, in_prefix_name, file_ext)\n",
    "print(results_xlsx[0])\n",
    "print('Count:', len(results_xlsx))"
   ]
  },
  {
   "cell_type": "code",
   "execution_count": 12,
   "metadata": {},
   "outputs": [
    {
     "name": "stdout",
     "output_type": "stream",
     "text": [
      "probmodelingrepository:AR-LA-MS-River/ProductionRuns/outputs/BaseMiss/E301/BaseMiss-E301_structures.xlsx\n",
      "probmodelingrepository:AR-LA-MS-River/ProductionRuns/outputs/BaseMiss/E302/BaseMiss-E302_structures.xlsx\n",
      "probmodelingrepository:AR-LA-MS-River/ProductionRuns/outputs/BaseMiss/E332/BaseMiss-E332_structures.xlsx\n",
      "probmodelingrepository:AR-LA-MS-River/ProductionRuns/outputs/BaseMiss/E362/BaseMiss-E362_structures.xlsx\n",
      "probmodelingrepository:AR-LA-MS-River/ProductionRuns/outputs/BaseMiss/E392/BaseMiss-E392_structures.xlsx\n",
      "probmodelingrepository:AR-LA-MS-River/ProductionRuns/outputs/BaseMiss/E422/BaseMiss-E422_structures.xlsx\n",
      "probmodelingrepository:AR-LA-MS-River/ProductionRuns/outputs/BaseMiss/E452/BaseMiss-E452_structures.xlsx\n",
      "probmodelingrepository:AR-LA-MS-River/ProductionRuns/outputs/BaseMiss/E482/BaseMiss-E482_structures.xlsx\n",
      "probmodelingrepository:AR-LA-MS-River/ProductionRuns/outputs/BaseMiss/E512/BaseMiss-E512_structures.xlsx\n",
      "probmodelingrepository:AR-LA-MS-River/ProductionRuns/outputs/BaseMiss/E542/BaseMiss-E542_structures.xlsx\n",
      "probmodelingrepository:AR-LA-MS-River/ProductionRuns/outputs/BaseMiss/E572/BaseMiss-E572_structures.xlsx\n",
      "probmodelingrepository:AR-LA-MS-River/ProductionRuns/outputs/BaseMiss/E600/BaseMiss-E600_structures.xlsx\n"
     ]
    }
   ],
   "source": [
    "out_dfdict = compile_excel(results_xlsx)"
   ]
  },
  {
   "cell_type": "code",
   "execution_count": 13,
   "metadata": {},
   "outputs": [
    {
     "data": {
      "text/html": [
       "<div>\n",
       "<style scoped>\n",
       "    .dataframe tbody tr th:only-of-type {\n",
       "        vertical-align: middle;\n",
       "    }\n",
       "\n",
       "    .dataframe tbody tr th {\n",
       "        vertical-align: top;\n",
       "    }\n",
       "\n",
       "    .dataframe thead th {\n",
       "        text-align: right;\n",
       "    }\n",
       "</style>\n",
       "<table border=\"1\" class=\"dataframe\">\n",
       "  <thead>\n",
       "    <tr style=\"text-align: right;\">\n",
       "      <th></th>\n",
       "      <th>BaseMiss_E301</th>\n",
       "      <th>BaseMiss_E302</th>\n",
       "      <th>BaseMiss_E303</th>\n",
       "      <th>BaseMiss_E304</th>\n",
       "      <th>BaseMiss_E305</th>\n",
       "      <th>BaseMiss_E306</th>\n",
       "      <th>BaseMiss_E307</th>\n",
       "      <th>BaseMiss_E308</th>\n",
       "      <th>BaseMiss_E309</th>\n",
       "      <th>BaseMiss_E310</th>\n",
       "      <th>...</th>\n",
       "      <th>BaseMiss_E591</th>\n",
       "      <th>BaseMiss_E592</th>\n",
       "      <th>BaseMiss_E593</th>\n",
       "      <th>BaseMiss_E594</th>\n",
       "      <th>BaseMiss_E595</th>\n",
       "      <th>BaseMiss_E596</th>\n",
       "      <th>BaseMiss_E597</th>\n",
       "      <th>BaseMiss_E598</th>\n",
       "      <th>BaseMiss_E599</th>\n",
       "      <th>BaseMiss_E600</th>\n",
       "    </tr>\n",
       "  </thead>\n",
       "  <tbody>\n",
       "    <tr>\n",
       "      <th>0</th>\n",
       "      <td>-9999.000000</td>\n",
       "      <td>-9999.000000</td>\n",
       "      <td>-9999.000000</td>\n",
       "      <td>-9999.000000</td>\n",
       "      <td>-9999.000000</td>\n",
       "      <td>-9999.000000</td>\n",
       "      <td>-9999.000000</td>\n",
       "      <td>-9999.000000</td>\n",
       "      <td>-9999.000000</td>\n",
       "      <td>-9999.000000</td>\n",
       "      <td>...</td>\n",
       "      <td>-9999.000000</td>\n",
       "      <td>-9999.000000</td>\n",
       "      <td>-9999.000000</td>\n",
       "      <td>-9999.000000</td>\n",
       "      <td>-9999.000000</td>\n",
       "      <td>-9999.000000</td>\n",
       "      <td>-9999.000000</td>\n",
       "      <td>-9999.000000</td>\n",
       "      <td>-9999.000000</td>\n",
       "      <td>-9999.000000</td>\n",
       "    </tr>\n",
       "    <tr>\n",
       "      <th>1</th>\n",
       "      <td>180.311111</td>\n",
       "      <td>180.310135</td>\n",
       "      <td>180.312195</td>\n",
       "      <td>180.316971</td>\n",
       "      <td>180.311478</td>\n",
       "      <td>180.321625</td>\n",
       "      <td>180.319763</td>\n",
       "      <td>180.318314</td>\n",
       "      <td>180.310287</td>\n",
       "      <td>180.313263</td>\n",
       "      <td>...</td>\n",
       "      <td>180.310120</td>\n",
       "      <td>180.312271</td>\n",
       "      <td>180.311172</td>\n",
       "      <td>180.310318</td>\n",
       "      <td>180.311813</td>\n",
       "      <td>180.311188</td>\n",
       "      <td>180.316330</td>\n",
       "      <td>180.312027</td>\n",
       "      <td>180.309387</td>\n",
       "      <td>180.319824</td>\n",
       "    </tr>\n",
       "    <tr>\n",
       "      <th>2</th>\n",
       "      <td>164.518860</td>\n",
       "      <td>164.507782</td>\n",
       "      <td>164.500809</td>\n",
       "      <td>164.495453</td>\n",
       "      <td>164.521881</td>\n",
       "      <td>164.618317</td>\n",
       "      <td>164.568848</td>\n",
       "      <td>164.633820</td>\n",
       "      <td>164.515427</td>\n",
       "      <td>164.584976</td>\n",
       "      <td>...</td>\n",
       "      <td>167.747314</td>\n",
       "      <td>169.580292</td>\n",
       "      <td>167.129211</td>\n",
       "      <td>164.532974</td>\n",
       "      <td>165.528824</td>\n",
       "      <td>169.283676</td>\n",
       "      <td>170.861649</td>\n",
       "      <td>164.893463</td>\n",
       "      <td>168.210876</td>\n",
       "      <td>168.280914</td>\n",
       "    </tr>\n",
       "    <tr>\n",
       "      <th>3</th>\n",
       "      <td>145.739716</td>\n",
       "      <td>141.730331</td>\n",
       "      <td>144.122314</td>\n",
       "      <td>144.587997</td>\n",
       "      <td>145.928528</td>\n",
       "      <td>145.244202</td>\n",
       "      <td>144.618301</td>\n",
       "      <td>146.751083</td>\n",
       "      <td>146.349258</td>\n",
       "      <td>146.117783</td>\n",
       "      <td>...</td>\n",
       "      <td>161.099197</td>\n",
       "      <td>163.091003</td>\n",
       "      <td>160.425262</td>\n",
       "      <td>155.983154</td>\n",
       "      <td>158.374069</td>\n",
       "      <td>163.054764</td>\n",
       "      <td>164.425552</td>\n",
       "      <td>157.505539</td>\n",
       "      <td>161.606003</td>\n",
       "      <td>161.947235</td>\n",
       "    </tr>\n",
       "    <tr>\n",
       "      <th>4</th>\n",
       "      <td>129.238373</td>\n",
       "      <td>125.501053</td>\n",
       "      <td>127.657265</td>\n",
       "      <td>128.220886</td>\n",
       "      <td>129.415451</td>\n",
       "      <td>128.799927</td>\n",
       "      <td>128.229492</td>\n",
       "      <td>130.132065</td>\n",
       "      <td>129.763168</td>\n",
       "      <td>129.536606</td>\n",
       "      <td>...</td>\n",
       "      <td>144.669815</td>\n",
       "      <td>146.353668</td>\n",
       "      <td>143.929184</td>\n",
       "      <td>139.527985</td>\n",
       "      <td>141.938522</td>\n",
       "      <td>146.382202</td>\n",
       "      <td>147.327042</td>\n",
       "      <td>141.136688</td>\n",
       "      <td>144.942398</td>\n",
       "      <td>145.333221</td>\n",
       "    </tr>\n",
       "  </tbody>\n",
       "</table>\n",
       "<p>5 rows × 300 columns</p>\n",
       "</div>"
      ],
      "text/plain": [
       "   BaseMiss_E301  BaseMiss_E302  BaseMiss_E303  BaseMiss_E304  BaseMiss_E305  \\\n",
       "0   -9999.000000   -9999.000000   -9999.000000   -9999.000000   -9999.000000   \n",
       "1     180.311111     180.310135     180.312195     180.316971     180.311478   \n",
       "2     164.518860     164.507782     164.500809     164.495453     164.521881   \n",
       "3     145.739716     141.730331     144.122314     144.587997     145.928528   \n",
       "4     129.238373     125.501053     127.657265     128.220886     129.415451   \n",
       "\n",
       "   BaseMiss_E306  BaseMiss_E307  BaseMiss_E308  BaseMiss_E309  BaseMiss_E310  \\\n",
       "0   -9999.000000   -9999.000000   -9999.000000   -9999.000000   -9999.000000   \n",
       "1     180.321625     180.319763     180.318314     180.310287     180.313263   \n",
       "2     164.618317     164.568848     164.633820     164.515427     164.584976   \n",
       "3     145.244202     144.618301     146.751083     146.349258     146.117783   \n",
       "4     128.799927     128.229492     130.132065     129.763168     129.536606   \n",
       "\n",
       "       ...        BaseMiss_E591  BaseMiss_E592  BaseMiss_E593  BaseMiss_E594  \\\n",
       "0      ...         -9999.000000   -9999.000000   -9999.000000   -9999.000000   \n",
       "1      ...           180.310120     180.312271     180.311172     180.310318   \n",
       "2      ...           167.747314     169.580292     167.129211     164.532974   \n",
       "3      ...           161.099197     163.091003     160.425262     155.983154   \n",
       "4      ...           144.669815     146.353668     143.929184     139.527985   \n",
       "\n",
       "   BaseMiss_E595  BaseMiss_E596  BaseMiss_E597  BaseMiss_E598  BaseMiss_E599  \\\n",
       "0   -9999.000000   -9999.000000   -9999.000000   -9999.000000   -9999.000000   \n",
       "1     180.311813     180.311188     180.316330     180.312027     180.309387   \n",
       "2     165.528824     169.283676     170.861649     164.893463     168.210876   \n",
       "3     158.374069     163.054764     164.425552     157.505539     161.606003   \n",
       "4     141.938522     146.382202     147.327042     141.136688     144.942398   \n",
       "\n",
       "   BaseMiss_E600  \n",
       "0   -9999.000000  \n",
       "1     180.319824  \n",
       "2     168.280914  \n",
       "3     161.947235  \n",
       "4     145.333221  \n",
       "\n",
       "[5 rows x 300 columns]"
      ]
     },
     "execution_count": 13,
     "metadata": {},
     "output_type": "execute_result"
    }
   ],
   "source": [
    "# get the first five rows of the data frame associated with the first key in the dict\n",
    "out_dfdict[list(out_dfdict.keys())[0]].head()"
   ]
  },
  {
   "cell_type": "markdown",
   "metadata": {},
   "source": [
    "### Write to Excel and CSV files (one sheet)"
   ]
  },
  {
   "cell_type": "code",
   "execution_count": 16,
   "metadata": {},
   "outputs": [],
   "source": [
    "outfolder = os.getcwd()\n",
    "for sheet in out_dfdict:\n",
    "    out_dfdict[str(sheet)].to_excel(os.path.join(outfolder, str(sheet)+'.xlsx'))\n",
    "    #out_dfdict[str(sheet)].to_csv(os.path.join(outfolder, str(sheet)+'.csv'))"
   ]
  },
  {
   "cell_type": "code",
   "execution_count": null,
   "metadata": {},
   "outputs": [],
   "source": []
  },
  {
   "cell_type": "markdown",
   "metadata": {},
   "source": [
    "### Write to Excel file (multiple sheets - one for each structure set)"
   ]
  },
  {
   "cell_type": "code",
   "execution_count": 17,
   "metadata": {},
   "outputs": [],
   "source": [
    "writer = pd.ExcelWriter(os.path.join(os.getcwd(), 'Augusta_Base', 'Augusta.xlsx'), engine='openpyxl')"
   ]
  },
  {
   "cell_type": "code",
   "execution_count": 18,
   "metadata": {},
   "outputs": [
    {
     "data": {
      "text/plain": [
       "'C:\\\\Users\\\\sduncan\\\\Desktop\\\\probrisk\\\\zarr'"
      ]
     },
     "execution_count": 18,
     "metadata": {},
     "output_type": "execute_result"
    }
   ],
   "source": [
    "os.getcwd()"
   ]
  },
  {
   "cell_type": "code",
   "execution_count": 19,
   "metadata": {},
   "outputs": [
    {
     "name": "stderr",
     "output_type": "stream",
     "text": [
      "C:\\Users\\sduncan\\AppData\\Local\\Continuum\\anaconda3\\lib\\site-packages\\openpyxl\\workbook\\child.py:99: UserWarning: Title is more than 31 characters. Some applications may not be able to read the file\n",
      "  warnings.warn(\"Title is more than 31 characters. Some applications may not be able to read the file\")\n"
     ]
    }
   ],
   "source": [
    "for sheet in out_dfdict:\n",
    "    out_dfdict[str(sheet)].to_excel(writer, sheet_name=str(sheet))"
   ]
  },
  {
   "cell_type": "code",
   "execution_count": 20,
   "metadata": {},
   "outputs": [
    {
     "ename": "FileNotFoundError",
     "evalue": "[Errno 2] No such file or directory: 'C:\\\\Users\\\\sduncan\\\\Desktop\\\\probrisk\\\\zarr\\\\Augusta_Base\\\\Augusta.xlsx'",
     "output_type": "error",
     "traceback": [
      "\u001b[1;31m---------------------------------------------------------------------------\u001b[0m",
      "\u001b[1;31mFileNotFoundError\u001b[0m                         Traceback (most recent call last)",
      "\u001b[1;32m<ipython-input-20-16d93d5523a4>\u001b[0m in \u001b[0;36m<module>\u001b[1;34m()\u001b[0m\n\u001b[1;32m----> 1\u001b[1;33m \u001b[0mwriter\u001b[0m\u001b[1;33m.\u001b[0m\u001b[0msave\u001b[0m\u001b[1;33m(\u001b[0m\u001b[1;33m)\u001b[0m\u001b[1;33m\u001b[0m\u001b[0m\n\u001b[0m",
      "\u001b[1;32m~\\AppData\\Local\\Continuum\\anaconda3\\lib\\site-packages\\pandas\\io\\excel.py\u001b[0m in \u001b[0;36msave\u001b[1;34m(self)\u001b[0m\n\u001b[0;32m    860\u001b[0m         \u001b[0mSave\u001b[0m \u001b[0mworkbook\u001b[0m \u001b[0mto\u001b[0m \u001b[0mdisk\u001b[0m\u001b[1;33m.\u001b[0m\u001b[1;33m\u001b[0m\u001b[0m\n\u001b[0;32m    861\u001b[0m         \"\"\"\n\u001b[1;32m--> 862\u001b[1;33m         \u001b[1;32mreturn\u001b[0m \u001b[0mself\u001b[0m\u001b[1;33m.\u001b[0m\u001b[0mbook\u001b[0m\u001b[1;33m.\u001b[0m\u001b[0msave\u001b[0m\u001b[1;33m(\u001b[0m\u001b[0mself\u001b[0m\u001b[1;33m.\u001b[0m\u001b[0mpath\u001b[0m\u001b[1;33m)\u001b[0m\u001b[1;33m\u001b[0m\u001b[0m\n\u001b[0m\u001b[0;32m    863\u001b[0m \u001b[1;33m\u001b[0m\u001b[0m\n\u001b[0;32m    864\u001b[0m     def write_cells(self, cells, sheet_name=None, startrow=0, startcol=0,\n",
      "\u001b[1;32m~\\AppData\\Local\\Continuum\\anaconda3\\lib\\site-packages\\openpyxl\\workbook\\workbook.py\u001b[0m in \u001b[0;36msave\u001b[1;34m(self, filename)\u001b[0m\n\u001b[0;32m    358\u001b[0m             \u001b[0msave_dump\u001b[0m\u001b[1;33m(\u001b[0m\u001b[0mself\u001b[0m\u001b[1;33m,\u001b[0m \u001b[0mfilename\u001b[0m\u001b[1;33m)\u001b[0m\u001b[1;33m\u001b[0m\u001b[0m\n\u001b[0;32m    359\u001b[0m         \u001b[1;32melse\u001b[0m\u001b[1;33m:\u001b[0m\u001b[1;33m\u001b[0m\u001b[0m\n\u001b[1;32m--> 360\u001b[1;33m             \u001b[0msave_workbook\u001b[0m\u001b[1;33m(\u001b[0m\u001b[0mself\u001b[0m\u001b[1;33m,\u001b[0m \u001b[0mfilename\u001b[0m\u001b[1;33m)\u001b[0m\u001b[1;33m\u001b[0m\u001b[0m\n\u001b[0m\u001b[0;32m    361\u001b[0m \u001b[1;33m\u001b[0m\u001b[0m\n\u001b[0;32m    362\u001b[0m \u001b[1;33m\u001b[0m\u001b[0m\n",
      "\u001b[1;32m~\\AppData\\Local\\Continuum\\anaconda3\\lib\\site-packages\\openpyxl\\writer\\excel.py\u001b[0m in \u001b[0;36msave_workbook\u001b[1;34m(workbook, filename)\u001b[0m\n\u001b[0;32m    265\u001b[0m \u001b[1;33m\u001b[0m\u001b[0m\n\u001b[0;32m    266\u001b[0m     \"\"\"\n\u001b[1;32m--> 267\u001b[1;33m     \u001b[0marchive\u001b[0m \u001b[1;33m=\u001b[0m \u001b[0mZipFile\u001b[0m\u001b[1;33m(\u001b[0m\u001b[0mfilename\u001b[0m\u001b[1;33m,\u001b[0m \u001b[1;34m'w'\u001b[0m\u001b[1;33m,\u001b[0m \u001b[0mZIP_DEFLATED\u001b[0m\u001b[1;33m,\u001b[0m \u001b[0mallowZip64\u001b[0m\u001b[1;33m=\u001b[0m\u001b[1;32mTrue\u001b[0m\u001b[1;33m)\u001b[0m\u001b[1;33m\u001b[0m\u001b[0m\n\u001b[0m\u001b[0;32m    268\u001b[0m     \u001b[0mwriter\u001b[0m \u001b[1;33m=\u001b[0m \u001b[0mExcelWriter\u001b[0m\u001b[1;33m(\u001b[0m\u001b[0mworkbook\u001b[0m\u001b[1;33m,\u001b[0m \u001b[0marchive\u001b[0m\u001b[1;33m)\u001b[0m\u001b[1;33m\u001b[0m\u001b[0m\n\u001b[0;32m    269\u001b[0m     \u001b[0mwriter\u001b[0m\u001b[1;33m.\u001b[0m\u001b[0msave\u001b[0m\u001b[1;33m(\u001b[0m\u001b[0mfilename\u001b[0m\u001b[1;33m)\u001b[0m\u001b[1;33m\u001b[0m\u001b[0m\n",
      "\u001b[1;32m~\\AppData\\Local\\Continuum\\anaconda3\\lib\\zipfile.py\u001b[0m in \u001b[0;36m__init__\u001b[1;34m(self, file, mode, compression, allowZip64)\u001b[0m\n\u001b[0;32m   1088\u001b[0m             \u001b[1;32mwhile\u001b[0m \u001b[1;32mTrue\u001b[0m\u001b[1;33m:\u001b[0m\u001b[1;33m\u001b[0m\u001b[0m\n\u001b[0;32m   1089\u001b[0m                 \u001b[1;32mtry\u001b[0m\u001b[1;33m:\u001b[0m\u001b[1;33m\u001b[0m\u001b[0m\n\u001b[1;32m-> 1090\u001b[1;33m                     \u001b[0mself\u001b[0m\u001b[1;33m.\u001b[0m\u001b[0mfp\u001b[0m \u001b[1;33m=\u001b[0m \u001b[0mio\u001b[0m\u001b[1;33m.\u001b[0m\u001b[0mopen\u001b[0m\u001b[1;33m(\u001b[0m\u001b[0mfile\u001b[0m\u001b[1;33m,\u001b[0m \u001b[0mfilemode\u001b[0m\u001b[1;33m)\u001b[0m\u001b[1;33m\u001b[0m\u001b[0m\n\u001b[0m\u001b[0;32m   1091\u001b[0m                 \u001b[1;32mexcept\u001b[0m \u001b[0mOSError\u001b[0m\u001b[1;33m:\u001b[0m\u001b[1;33m\u001b[0m\u001b[0m\n\u001b[0;32m   1092\u001b[0m                     \u001b[1;32mif\u001b[0m \u001b[0mfilemode\u001b[0m \u001b[1;32min\u001b[0m \u001b[0mmodeDict\u001b[0m\u001b[1;33m:\u001b[0m\u001b[1;33m\u001b[0m\u001b[0m\n",
      "\u001b[1;31mFileNotFoundError\u001b[0m: [Errno 2] No such file or directory: 'C:\\\\Users\\\\sduncan\\\\Desktop\\\\probrisk\\\\zarr\\\\Augusta_Base\\\\Augusta.xlsx'"
     ]
    }
   ],
   "source": [
    "writer.save()"
   ]
  },
  {
   "cell_type": "markdown",
   "metadata": {},
   "source": [
    "## Output to S3 (Testing)"
   ]
  },
  {
   "cell_type": "raw",
   "metadata": {},
   "source": [
    "out_bucket_name = \n",
    "out_prefix_name = "
   ]
  },
  {
   "cell_type": "raw",
   "metadata": {},
   "source": [
    "response = client.put_object(Bucket='probmodelingrepository', Body='', Key=out_prefix_name+'/')"
   ]
  },
  {
   "cell_type": "raw",
   "metadata": {},
   "source": [
    "if fileExists(out_bucket_name, out_prefix_name) == False:\n",
    "    "
   ]
  },
  {
   "cell_type": "markdown",
   "metadata": {},
   "source": [
    "#### how does this take an Excel file?"
   ]
  },
  {
   "cell_type": "raw",
   "metadata": {},
   "source": [
    "client.put_object(Bucket=in_bucket_name, Body=out_dfdict, Key=out_prefix_name+'/test')"
   ]
  },
  {
   "cell_type": "code",
   "execution_count": null,
   "metadata": {},
   "outputs": [],
   "source": []
  }
 ],
 "metadata": {
  "kernelspec": {
   "display_name": "Python 3",
   "language": "python",
   "name": "python3"
  },
  "language_info": {
   "codemirror_mode": {
    "name": "ipython",
    "version": 3
   },
   "file_extension": ".py",
   "mimetype": "text/x-python",
   "name": "python",
   "nbconvert_exporter": "python",
   "pygments_lexer": "ipython3",
   "version": "3.6.4"
  },
  "toc-autonumbering": true,
  "toc-showmarkdowntxt": false
 },
 "nbformat": 4,
 "nbformat_minor": 2
}
