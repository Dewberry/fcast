{
 "cells": [
  {
   "cell_type": "markdown",
   "metadata": {},
   "source": [
    "__Zarr Development Notebooks__</br>\n",
    "<img src=\"http://static1.squarespace.com/static/530979d9e4b04bff4a3aadf5/t/5446c34ce4b0e5a2c7ff2614/1413923661373/DewberryLogo_RGB.png?format=1500w\" width=\"40%\" align='right'/>\n",
    "__Probability Risk: Post Processor Group__</br>\n",
    "PYTHON 3.6</br>\n",
    "Overview: This notebook is to analyze how to store WSE tifs from multiple models into one cube of data.</br>\n",
    "Updated 2018-10-15</br>\n",
    "by Stephen Duncan: sduncan@dewberry.com <br/>\n",
    "\n",
    "*Use Environment with boto3, zarr, & s3fs*"
   ]
  },
  {
   "cell_type": "markdown",
   "metadata": {},
   "source": [
    "# Math With Zarr Arrays\n",
    "\n",
    "We can read in and create a heat map of water surface elevations based on data saved in the Zarr Arrays"
   ]
  },
  {
   "cell_type": "markdown",
   "metadata": {},
   "source": [
    "# Python Librarys Needed"
   ]
  },
  {
   "cell_type": "code",
   "execution_count": 1,
   "metadata": {},
   "outputs": [],
   "source": [
    "import os, sys, time, glob, s3fs, zarr, json, boto3\n",
    "import pathlib as pl\n",
    "import numpy as np\n",
    "import pandas as pd\n",
    "from io import BytesIO\n",
    "from osgeo import gdal, osr\n",
    "from matplotlib import pyplot as plt\n",
    "from IPython.display import display, Markdown, Latex\n",
    "%matplotlib inline\n",
    "\n",
    "import zarr_aws #Script with functions"
   ]
  },
  {
   "cell_type": "markdown",
   "metadata": {},
   "source": [
    "# Define and read in zarr group"
   ]
  },
  {
   "cell_type": "code",
   "execution_count": 2,
   "metadata": {},
   "outputs": [],
   "source": [
    "bucket2 = 'probmodelingrepository'\n",
    "prefix2 = 'zarr'\n",
    "zarr_file_name = 'demo.zarr'\n",
    "zarr_file = f's3://{bucket2}/{prefix2}/{zarr_file_name}'\n",
    "zarr_path = 'Bool'"
   ]
  },
  {
   "cell_type": "code",
   "execution_count": 3,
   "metadata": {},
   "outputs": [],
   "source": [
    "zarr_store = s3fs.S3Map(root=zarr_file, s3=s3fs.S3FileSystem(), check=False)\n",
    "z = zarr.open_group(store=zarr_store, path=zarr_path, mode='r')"
   ]
  },
  {
   "cell_type": "markdown",
   "metadata": {},
   "source": [
    "# Read in the bool arrays"
   ]
  },
  {
   "cell_type": "code",
   "execution_count": 4,
   "metadata": {},
   "outputs": [
    {
     "name": "stdout",
     "output_type": "stream",
     "text": [
      "path:Bool/WSE_Pluvial_E001 | key: WSE_Pluvial_E001, ckey: r0_c0\n",
      "path:Bool/WSE_Pluvial_E002 | key: WSE_Pluvial_E002, ckey: r0_c0\n",
      "path:Bool/WSE_Pluvial_E003 | key: WSE_Pluvial_E003, ckey: r0_c0\n",
      "path:Bool/WSE_Pluvial_E008 | key: WSE_Pluvial_E008, ckey: r0_c0\n",
      "path:Bool/WSE_Pluvial_E050 | key: WSE_Pluvial_E050, ckey: r0_c0\n",
      "path:Bool/WSE_Pluvial_E094 | key: WSE_Pluvial_E094, ckey: r0_c0\n",
      "path:Bool/WSE_Pluvial_E1139 | key: WSE_Pluvial_E1139, ckey: r0_c0\n",
      "path:Bool/WSE_Pluvial_E1181 | key: WSE_Pluvial_E1181, ckey: r0_c0\n",
      "path:Bool/WSE_Pluvial_E1182 | key: WSE_Pluvial_E1182, ckey: r0_c0\n"
     ]
    }
   ],
   "source": [
    "zarrays = []\n",
    "zarr_path = 'Bool'\n",
    "for key in z.attrs.keys():\n",
    "    zg = zarr.open_group(store=zarr_store, path=f'{zarr_path}/{key}', mode='r')\n",
    "    for ckey in zg.attrs.keys():\n",
    "        print(f'path:{zarr_path}/{key} | key: {key}, ckey: {ckey}')\n",
    "        zrry = zg[ckey]\n",
    "        zarrays.append(zrry)"
   ]
  },
  {
   "cell_type": "code",
   "execution_count": 5,
   "metadata": {},
   "outputs": [
    {
     "data": {
      "text/plain": [
       "(13252, 13549)"
      ]
     },
     "execution_count": 5,
     "metadata": {},
     "output_type": "execute_result"
    }
   ],
   "source": [
    "zrry.shape"
   ]
  },
  {
   "cell_type": "markdown",
   "metadata": {},
   "source": [
    "# Create a local zarr array to store results to\n",
    "\n",
    "this particular array can start from zero. We can make a zero array to start with!"
   ]
  },
  {
   "cell_type": "code",
   "execution_count": 6,
   "metadata": {},
   "outputs": [],
   "source": [
    "root = pl.PurePath(os.getcwd())\n",
    "data_dir = root / 'data'\n",
    "heat_zarr = data_dir / 'heatmap.zarr'"
   ]
  },
  {
   "cell_type": "markdown",
   "metadata": {},
   "source": [
    "# Start adding arrays to the hard disk zarr\n",
    "\n",
    "This example here can create a sort of heat map for where pluvial flooding has occured"
   ]
  },
  {
   "cell_type": "code",
   "execution_count": 7,
   "metadata": {},
   "outputs": [
    {
     "name": "stdout",
     "output_type": "stream",
     "text": [
      "Progress at 0: 0.54 Minutes\n",
      "Progress at 1: 1.04 Minutes\n",
      "Progress at 2: 1.55 Minutes\n",
      "Progress at 3: 2.03 Minutes\n",
      "Progress at 4: 2.50 Minutes\n",
      "Progress at 5: 3.00 Minutes\n",
      "Progress at 6: 3.45 Minutes\n",
      "Progress at 7: 3.92 Minutes\n",
      "Progress at 8: 4.39 Minutes\n",
      "Total Time: 4.46 Minutes\n"
     ]
    }
   ],
   "source": [
    "start_time = time.time()\n",
    "z_hm = zarr.zeros(store=str(heat_zarr), shape=zrry.shape, chunks=(1000, 1000), dtype='i4', overwrite=True)\n",
    "z_hm = zarr.open(str(heat_zarr), mode='a', shape=zrry.shape)\n",
    "z_hmnp = np.array(z_hm)\n",
    "for i, zrry in enumerate(zarrays):\n",
    "    zrry_np = np.array(zrry)\n",
    "    z_hmnp = np.add(z_hmnp, zrry_np)\n",
    "    print(f'Progress at {i}: {(time.time()-start_time)/60:0.2f} Minutes')\n",
    "z_hm = zarr.array(z_hmnp,store=str(heat_zarr),shape=z_hmnp.shape, overwrite=True)\n",
    "print(f'Total Time: {(time.time()-start_time)/60:0.2f} Minutes')"
   ]
  },
  {
   "cell_type": "markdown",
   "metadata": {},
   "source": [
    "## Id that math worked with arrays"
   ]
  },
  {
   "cell_type": "code",
   "execution_count": 8,
   "metadata": {},
   "outputs": [
    {
     "data": {
      "text/plain": [
       "array([0., 1., 2., 3., 4., 5., 6., 7., 8., 9.])"
      ]
     },
     "execution_count": 8,
     "metadata": {},
     "output_type": "execute_result"
    }
   ],
   "source": [
    "np.unique(z_hmnp)"
   ]
  },
  {
   "cell_type": "markdown",
   "metadata": {},
   "source": [
    "# Quick Plot the results Below"
   ]
  },
  {
   "cell_type": "code",
   "execution_count": 9,
   "metadata": {},
   "outputs": [
    {
     "data": {
      "text/plain": [
       "<matplotlib.image.AxesImage at 0x24955a2c8d0>"
      ]
     },
     "execution_count": 9,
     "metadata": {},
     "output_type": "execute_result"
    },
    {
     "data": {
      "image/png": "[encoded data removed]",
      "text/plain": [
       "<Figure size 432x288 with 1 Axes>"
      ]
     },
     "metadata": {
      "needs_background": "light"
     },
     "output_type": "display_data"
    }
   ],
   "source": [
    "plt.imshow(z_hmnp)"
   ]
  },
  {
   "cell_type": "code",
   "execution_count": null,
   "metadata": {},
   "outputs": [],
   "source": []
  },
  {
   "cell_type": "code",
   "execution_count": null,
   "metadata": {},
   "outputs": [],
   "source": []
  },
  {
   "cell_type": "code",
   "execution_count": null,
   "metadata": {},
   "outputs": [],
   "source": []
  },
  {
   "cell_type": "code",
   "execution_count": null,
   "metadata": {},
   "outputs": [],
   "source": []
  },
  {
   "cell_type": "code",
   "execution_count": null,
   "metadata": {},
   "outputs": [],
   "source": []
  },
  {
   "cell_type": "code",
   "execution_count": null,
   "metadata": {},
   "outputs": [],
   "source": []
  },
  {
   "cell_type": "code",
   "execution_count": null,
   "metadata": {},
   "outputs": [],
   "source": []
  },
  {
   "cell_type": "code",
   "execution_count": null,
   "metadata": {},
   "outputs": [],
   "source": []
  }
 ],
 "metadata": {
  "kernelspec": {
   "display_name": "ZarrXarry",
   "language": "python",
   "name": "zarrxarray"
  },
  "language_info": {
   "codemirror_mode": {
    "name": "ipython",
    "version": 3
   },
   "file_extension": ".py",
   "mimetype": "text/x-python",
   "name": "python",
   "nbconvert_exporter": "python",
   "pygments_lexer": "ipython3",
   "version": "3.6.7"
  }
 },
 "nbformat": 4,
 "nbformat_minor": 2
}
