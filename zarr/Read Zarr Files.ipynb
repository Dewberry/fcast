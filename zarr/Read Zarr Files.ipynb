{
 "cells": [
  {
   "cell_type": "markdown",
   "metadata": {},
   "source": [
    "__Zarr Development Notebooks__</br>\n",
    "<img src=\"http://static1.squarespace.com/static/530979d9e4b04bff4a3aadf5/t/5446c34ce4b0e5a2c7ff2614/1413923661373/DewberryLogo_RGB.png?format=1500w\" width=\"40%\" align='right'/>\n",
    "__Probability Risk: Post Processor Group__</br>\n",
    "PYTHON 3.6</br>\n",
    "Overview: This notebook is to analyze how to store WSE tifs from multiple models into one cube of data.</br>\n",
    "Updated 2018-10-15</br>\n",
    "by Stephen Duncan: sduncan@dewberry.com <br/>\n",
    "\n",
    "*Use Environment with boto3, zarr, & s3fs*"
   ]
  },
  {
   "cell_type": "markdown",
   "metadata": {},
   "source": [
    "# Read Zarr File Tutorial\n",
    "\n",
    " - [Zarr Tutorial & Documentation](https://zarr.readthedocs.io/en/stable/tutorial.html)"
   ]
  },
  {
   "cell_type": "markdown",
   "metadata": {},
   "source": [
    "# Python Librarys Needed"
   ]
  },
  {
   "cell_type": "code",
   "execution_count": 1,
   "metadata": {},
   "outputs": [],
   "source": [
    "import os, sys, time, glob, s3fs, zarr, json, boto3\n",
    "import numpy as np\n",
    "import pandas as pd\n",
    "from io import BytesIO\n",
    "from osgeo import gdal, osr\n",
    "from matplotlib import pyplot as plt\n",
    "from IPython.display import display, Markdown, Latex\n",
    "%matplotlib inline\n",
    "\n",
    "import zarr_aws #Script with functions"
   ]
  },
  {
   "cell_type": "markdown",
   "metadata": {},
   "source": [
    "# Define and read in zarr group"
   ]
  },
  {
   "cell_type": "code",
   "execution_count": 2,
   "metadata": {},
   "outputs": [],
   "source": [
    "bucket2 = 'probmodelingrepository'\n",
    "prefix2 = 'zarr'\n",
    "zarr_file_name = 'demo.zarr'\n",
    "zarr_file = f's3://{bucket2}/{prefix2}/{zarr_file_name}'\n",
    "zarr_path = 'WSE'\n",
    "\n",
    "zarr_store = s3fs.S3Map(root=zarr_file, s3=s3fs.S3FileSystem(), check=False)\n",
    "z = zarr.open_group(store=zarr_store, path=zarr_path, mode='r')"
   ]
  },
  {
   "cell_type": "markdown",
   "metadata": {},
   "source": [
    "# From part 1, we can see the included groups\n",
    "\n",
    "We do this using the `zarrgroup.attrs.keys()` function"
   ]
  },
  {
   "cell_type": "code",
   "execution_count": 3,
   "metadata": {},
   "outputs": [
    {
     "data": {
      "text/plain": [
       "dict_keys(['WSE_Pluvial_E1181', 'WSE_Pluvial_E1182'])"
      ]
     },
     "execution_count": 3,
     "metadata": {},
     "output_type": "execute_result"
    }
   ],
   "source": [
    "z.attrs.keys()"
   ]
  },
  {
   "cell_type": "markdown",
   "metadata": {},
   "source": [
    "## We can use these group keys to get the metadata from each Tif"
   ]
  },
  {
   "cell_type": "code",
   "execution_count": 7,
   "metadata": {},
   "outputs": [
    {
     "data": {
      "text/plain": [
       "dict_keys(['Cell Size', 'Extents', 'Full GetStatistics', 'Projection', 'Unit Type', 'XYSize'])"
      ]
     },
     "execution_count": 7,
     "metadata": {},
     "output_type": "execute_result"
    }
   ],
   "source": [
    "z.attrs['WSE_Pluvial_E1181'].keys()"
   ]
  },
  {
   "cell_type": "markdown",
   "metadata": {},
   "source": [
    "# With these group keys we can use them to search chunk data within each group."
   ]
  },
  {
   "cell_type": "code",
   "execution_count": 8,
   "metadata": {},
   "outputs": [
    {
     "name": "stdout",
     "output_type": "stream",
     "text": [
      "WSE_Pluvial_E1181: ['r0_c0']\n",
      "WSE_Pluvial_E1182: ['r0_c0']\n"
     ]
    }
   ],
   "source": [
    "zarr_path = 'WSE'\n",
    "for key in z.attrs.keys():\n",
    "    z1 = zarr.open_group(store=zarr_store, path=f'{zarr_path}/{key}', mode='r')\n",
    "    print(f'{key}:', list(z1.attrs.keys()))"
   ]
  },
  {
   "cell_type": "markdown",
   "metadata": {},
   "source": [
    "# Read can now read in the different arrays"
   ]
  },
  {
   "cell_type": "code",
   "execution_count": 5,
   "metadata": {},
   "outputs": [
    {
     "name": "stdout",
     "output_type": "stream",
     "text": [
      "key: WSE_Pluvial_E1181, ckey: r0_c0\n",
      "key: WSE_Pluvial_E1182, ckey: r0_c0\n"
     ]
    }
   ],
   "source": [
    "zarrays = []\n",
    "zarr_path = 'Bool'\n",
    "for key in z.attrs.keys():\n",
    "    z1 = zarr.open_group(store=zarr_store, path=f'{zarr_path}/{key}', mode='r')\n",
    "    for ckey in z1.attrs.keys():\n",
    "        print(f'key: {key}, ckey: {ckey}')\n",
    "        zrry = z1[ckey]\n",
    "        zarrays.append(zrry)"
   ]
  },
  {
   "cell_type": "code",
   "execution_count": 6,
   "metadata": {},
   "outputs": [
    {
     "data": {
      "text/plain": [
       "array([[0., 0., 0., ..., 0., 0., 0.],\n",
       "       [0., 0., 0., ..., 0., 0., 0.],\n",
       "       [0., 0., 0., ..., 0., 0., 0.],\n",
       "       ...,\n",
       "       [0., 0., 0., ..., 0., 0., 0.],\n",
       "       [0., 0., 0., ..., 0., 0., 0.],\n",
       "       [0., 0., 0., ..., 0., 0., 0.]], dtype=float32)"
      ]
     },
     "execution_count": 6,
     "metadata": {},
     "output_type": "execute_result"
    }
   ],
   "source": [
    "npzarr = np.array(zarrays[0])\n",
    "npzarr"
   ]
  },
  {
   "cell_type": "code",
   "execution_count": null,
   "metadata": {},
   "outputs": [],
   "source": []
  }
 ],
 "metadata": {
  "kernelspec": {
   "display_name": "ZarrXarry",
   "language": "python",
   "name": "zarrxarray"
  },
  "language_info": {
   "codemirror_mode": {
    "name": "ipython",
    "version": 3
   },
   "file_extension": ".py",
   "mimetype": "text/x-python",
   "name": "python",
   "nbconvert_exporter": "python",
   "pygments_lexer": "ipython3",
   "version": "3.6.7"
  }
 },
 "nbformat": 4,
 "nbformat_minor": 2
}
