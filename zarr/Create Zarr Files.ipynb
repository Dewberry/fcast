{
 "cells": [
  {
   "cell_type": "markdown",
   "metadata": {},
   "source": [
    "__Zarr Development Notebooks__</br>\n",
    "<img src=\"http://static1.squarespace.com/static/530979d9e4b04bff4a3aadf5/t/5446c34ce4b0e5a2c7ff2614/1413923661373/DewberryLogo_RGB.png?format=1500w\" width=\"40%\" align='right'/>\n",
    "__Probability Risk: Post Processor Group__</br>\n",
    "PYTHON 3.6</br>\n",
    "Overview: This notebook is to analyze how to store WSE tifs from multiple models into one cube of data.</br>\n",
    "Updated 2018-10-15</br>\n",
    "by Stephen Duncan: sduncan@dewberry.com <br/>\n",
    "\n",
    "*Use Environment with boto3, zarr, & s3fs*"
   ]
  },
  {
   "cell_type": "markdown",
   "metadata": {},
   "source": [
    "# Create Zarr File Tutorial\n",
    "\n",
    " - [Zarr Tutorial & Documentation](https://zarr.readthedocs.io/en/stable/tutorial.html)"
   ]
  },
  {
   "cell_type": "markdown",
   "metadata": {},
   "source": [
    "# Python Libraries Needed"
   ]
  },
  {
   "cell_type": "code",
   "execution_count": 1,
   "metadata": {},
   "outputs": [],
   "source": [
    "import os, sys, time, glob, s3fs, zarr\n",
    "import numpy as np\n",
    "import pandas as pd\n",
    "from io import BytesIO\n",
    "from osgeo import gdal, osr\n",
    "from matplotlib import pyplot as plt\n",
    "from IPython.display import display, Markdown, Latex\n",
    "%matplotlib inline\n",
    "\n",
    "import zarr_aws #Script with functions"
   ]
  },
  {
   "cell_type": "markdown",
   "metadata": {
    "toc-hr-collapsed": true
   },
   "source": [
    "# Gather Sources for Creating Zarr Files"
   ]
  },
  {
   "cell_type": "code",
   "execution_count": 2,
   "metadata": {},
   "outputs": [
    {
     "data": {
      "text/markdown": [
       "## Number of tifs found: 2\n",
       "\n",
       " - probmodelingrepository:Augusta-Levee-AOP/ProductionRuns/outputs/Pluvial/E1181/WSE_Pluvial_E1181.tif\n",
       " - probmodelingrepository:Augusta-Levee-AOP/ProductionRuns/outputs/Pluvial/E1182/WSE_Pluvial_E1182.tif"
      ],
      "text/plain": [
       "<IPython.core.display.Markdown object>"
      ]
     },
     "metadata": {},
     "output_type": "display_data"
    }
   ],
   "source": [
    "bucket1 = 'probmodelingrepository'\n",
    "prefix1 = 'Augusta-Levee-AOP/ProductionRuns/outputs/Pluvial'\n",
    "tifs = ['WSE_Pluvial_E1181.tif','WSE_Pluvial_E1182.tif']\n",
    "s3_tifs = [zarr_aws.get_files(bucket1,prefix1,tif)[0] for tif in tifs]\n",
    "zarr_aws.mprint(f'## Number of tifs found: {len(s3_tifs)}\\n\\n - '+'\\n - '.join(s3_tifs))"
   ]
  },
  {
   "cell_type": "markdown",
   "metadata": {},
   "source": [
    "## We should now read in the TIF objects\n",
    "\n",
    "This is down with IOBytes"
   ]
  },
  {
   "cell_type": "code",
   "execution_count": 3,
   "metadata": {},
   "outputs": [],
   "source": [
    "obj_s3paths = [zarr_aws.s3Attributes(tif, '.tif', rtype='S3PATH') for tif in s3_tifs]\n",
    "obj_s3names = [zarr_aws.s3Attributes(tif, '.tif', rtype='NAME').split('/')[-1] for tif in s3_tifs]"
   ]
  },
  {
   "cell_type": "markdown",
   "metadata": {
    "toc-hr-collapsed": true
   },
   "source": [
    "# Define Where to save and store the zarr file"
   ]
  },
  {
   "cell_type": "code",
   "execution_count": 4,
   "metadata": {},
   "outputs": [
    {
     "data": {
      "text/markdown": [
       "## Save Zarr File at:\n",
       "\n",
       " - s3://probmodelingrepository/zarr/demo.zarr"
      ],
      "text/plain": [
       "<IPython.core.display.Markdown object>"
      ]
     },
     "metadata": {},
     "output_type": "display_data"
    }
   ],
   "source": [
    "bucket2 = 'probmodelingrepository'\n",
    "prefix2 = 'zarr'\n",
    "zarr_file_name = 'demo.zarr'\n",
    "zarr_file = f's3://{bucket2}/{prefix2}/{zarr_file_name}'\n",
    "zarr_aws.mprint(f'## Save Zarr File at:\\n\\n - {zarr_file}')"
   ]
  },
  {
   "cell_type": "markdown",
   "metadata": {},
   "source": [
    "## Create the mapping object for zarr creation on s3fs"
   ]
  },
  {
   "cell_type": "code",
   "execution_count": 5,
   "metadata": {},
   "outputs": [],
   "source": [
    "zarr_store = s3fs.S3Map(root=zarr_file, s3=s3fs.S3FileSystem(), check=False)"
   ]
  },
  {
   "cell_type": "markdown",
   "metadata": {
    "toc-hr-collapsed": true
   },
   "source": [
    "# Create Zarr Group File\n",
    "\n",
    " - [Zarr Arrays API](https://zarr.readthedocs.io/en/stable/api/creation.html)\n",
    "     - Zarr Arrays are good for single datasets.\n",
    " - [Zarr Groups API](https://zarr.readthedocs.io/en/stable/api/hierarchy.html)\n",
    "     - Zarr Groups are good for storring multiple datasets\n",
    "     - They can also store seperate chunk groups with different sizes.\n",
    "     - These are our ideal canidates for storing data with Tifs\n",
    "     \n",
    "## Paths\n",
    "\n",
    " - Paths are necessary to help the zarr file know what group to associate the data with. Since these are WSE tifs, we can call the path __'WSE'__\n",
    " - `path` is the location in the tree that we want to save the datasets in, like 'WSE' or 'Bool' or 'Depth'"
   ]
  },
  {
   "cell_type": "code",
   "execution_count": 6,
   "metadata": {},
   "outputs": [],
   "source": [
    "zarr_path = 'WSE'\n",
    "\n",
    "z = zarr.group(store=zarr_store, path=zarr_path, overwrite=True)"
   ]
  },
  {
   "cell_type": "markdown",
   "metadata": {},
   "source": [
    "## We need to designate a model group\n",
    "\n",
    "In the zarr file to add our WSE tifs to their own model groups"
   ]
  },
  {
   "cell_type": "code",
   "execution_count": 7,
   "metadata": {},
   "outputs": [],
   "source": [
    "# We can do this for one tif\n",
    "s3name = obj_s3names[0]\n",
    "s3path = obj_s3paths[0]\n",
    "model_group = z.create_group(f'{s3name}', overwrite=True)"
   ]
  },
  {
   "cell_type": "markdown",
   "metadata": {},
   "source": [
    "## With any model group create a dataset\n",
    "\n",
    " - Model groups can have multiple datasets"
   ]
  },
  {
   "cell_type": "code",
   "execution_count": 8,
   "metadata": {},
   "outputs": [
    {
     "data": {
      "text/markdown": [
       " - Cell Size: 10.0\n",
       " - rows x cols: 13252 x 13549\n",
       " - Data Type: \"f4\""
      ],
      "text/plain": [
       "<IPython.core.display.Markdown object>"
      ]
     },
     "metadata": {},
     "output_type": "display_data"
    }
   ],
   "source": [
    "rb, gt, ras = zarr_aws.getRasData(s3path)\n",
    "cell_size, xsize, ysize = gt[1], rb.XSize, rb.YSize\n",
    "np_dtype = zarr_aws.GDALtypeToDtype(zarr_aws.FindGDALtype(rb.DataType))\n",
    "zarr_aws.mprint(f' - Cell Size: {cell_size:0.1f}\\n - rows x cols: {ysize} x {xsize}' + \\\n",
    "                f'\\n - Data Type: \"{np_dtype}\"')"
   ]
  },
  {
   "cell_type": "markdown",
   "metadata": {
    "toc-hr-collapsed": true
   },
   "source": [
    "## Get the whole TIF as an array and write to Zarr File\n",
    "\n",
    "- Warning, you need to make sure that you have enough free memory or it will crash compute"
   ]
  },
  {
   "cell_type": "code",
   "execution_count": 9,
   "metadata": {},
   "outputs": [
    {
     "data": {
      "text/markdown": [
       "Current Free memory is enough for 13252 x 13549 array"
      ],
      "text/plain": [
       "<IPython.core.display.Markdown object>"
      ]
     },
     "metadata": {},
     "output_type": "display_data"
    }
   ],
   "source": [
    "newx_size, newy_size, ismemenough = zarr_aws.IsFreeMemoryEnough(xsize,ysize)\n",
    "if ismemenough:\n",
    "    zarr_aws.mprint(f'Current Free memory is enough for {ysize} x {xsize} array')\n",
    "else:\n",
    "    zarr_aws.mprint(f'Current Free memory is not enough for {ysize}, {xsize} array</br>' + \\\n",
    "                    f'Recommend changing Chunks to be {newx_size} x {newx_size}')"
   ]
  },
  {
   "cell_type": "markdown",
   "metadata": {},
   "source": [
    "### Assuming free memory is enough, continue with full raster size"
   ]
  },
  {
   "cell_type": "code",
   "execution_count": 10,
   "metadata": {},
   "outputs": [
    {
     "data": {
      "text/plain": [
       "<zarr.core.Array '/WSE/WSE_Pluvial_E1181/r0_c0' (13252, 13549) float32>"
      ]
     },
     "execution_count": 10,
     "metadata": {},
     "output_type": "execute_result"
    }
   ],
   "source": [
    "data_ = zarr_aws.GetChunkAsArray(rb, 0, 0, xsize, ysize)\n",
    "model_group.create_dataset(f'r0_c0', data=data_, shape=(ysize,xsize), overwrite=True, dtype=np_dtype)"
   ]
  },
  {
   "cell_type": "markdown",
   "metadata": {},
   "source": [
    "## Metadata can aslo be included to help users later.\n",
    "\n",
    " - Keys are designated with the brackets. The data can be anything. They will be grouped into a dictionary JSON filetype for readability later"
   ]
  },
  {
   "cell_type": "code",
   "execution_count": 11,
   "metadata": {},
   "outputs": [
    {
     "data": {
      "text/plain": [
       "dict_keys(['Cell Size', 'Extents', 'Full GetStatistics', 'Projection', 'Unit Type', 'XYSize'])"
      ]
     },
     "execution_count": 11,
     "metadata": {},
     "output_type": "execute_result"
    }
   ],
   "source": [
    "model_metadata = zarr_aws.getFullRASMetaData(ras,gt,rb,xsize,ysize)\n",
    "model_metadata.keys()"
   ]
  },
  {
   "cell_type": "code",
   "execution_count": 12,
   "metadata": {},
   "outputs": [
    {
     "data": {
      "text/plain": [
       "dict_keys(['XMIN', 'YMIN', 'XMAX', 'YMAX'])"
      ]
     },
     "execution_count": 12,
     "metadata": {},
     "output_type": "execute_result"
    }
   ],
   "source": [
    "data_metadata = zarr_aws.GetChunkMetaData(gt,xsize,ysize,0,0,cell_size)\n",
    "data_metadata.keys()"
   ]
  },
  {
   "cell_type": "code",
   "execution_count": 13,
   "metadata": {},
   "outputs": [],
   "source": [
    "z.attrs[f'{s3name}'] = model_metadata\n",
    "model_group.attrs[f'r0_c0'] = data_metadata"
   ]
  },
  {
   "cell_type": "markdown",
   "metadata": {},
   "source": [
    "# Write multiple datasets to same Zarr Group"
   ]
  },
  {
   "cell_type": "code",
   "execution_count": 14,
   "metadata": {},
   "outputs": [
    {
     "data": {
      "text/markdown": [
       "Total Time: 3.16 Minutes"
      ],
      "text/plain": [
       "<IPython.core.display.Markdown object>"
      ]
     },
     "metadata": {},
     "output_type": "display_data"
    }
   ],
   "source": [
    "zarr_path, start_time = 'WSE', time.time()\n",
    "z = zarr.group(store=zarr_store, path=zarr_path, overwrite=True)\n",
    "for i, s3name in enumerate(obj_s3names):\n",
    "    s3path = obj_s3paths[i]\n",
    "    model_group = z.create_group(f'{s3name}', overwrite=True)\n",
    "    rb, gt, ras = zarr_aws.getRasData(s3path)\n",
    "    cell_size, xsize, ysize = gt[1], rb.XSize, rb.YSize\n",
    "    np_dtype = zarr_aws.GDALtypeToDtype(zarr_aws.FindGDALtype(rb.DataType))\n",
    "    data_ = zarr_aws.GetChunkAsArray(rb, 0, 0, xsize, ysize)\n",
    "    model_group.create_dataset(f'r0_c0', data=data_, shape=(ysize,xsize), overwrite=True, dtype=np_dtype)\n",
    "    model_group.attrs[f'r0_c0'] = zarr_aws.GetChunkMetaData(gt,xsize,ysize,0,0,cell_size)\n",
    "    z.attrs[f'{s3name}'] = zarr_aws.getFullRASMetaData(ras,gt,rb,xsize,ysize)\n",
    "zarr_aws.mprint('Total Time: {:0.2f} Minutes'.format((time.time()-start_time)/60))"
   ]
  },
  {
   "cell_type": "markdown",
   "metadata": {},
   "source": [
    "# Write the WSE as a Bool\n",
    "\n",
    "*Only flooded areas will have 1, null areas will be 0*\n",
    "\n",
    "Line Changed with `data_ = zarr_aws.GetChunkAsArray(rb, 0, 0, xsize, ysize, boolize=makebool)`"
   ]
  },
  {
   "cell_type": "code",
   "execution_count": 15,
   "metadata": {},
   "outputs": [
    {
     "data": {
      "text/markdown": [
       "Total Time: 2.72 Minutes"
      ],
      "text/plain": [
       "<IPython.core.display.Markdown object>"
      ]
     },
     "metadata": {},
     "output_type": "display_data"
    }
   ],
   "source": [
    "zarr_path, start_time = 'Bool', time.time()\n",
    "makebool = True\n",
    "z = zarr.group(store=zarr_store, path=zarr_path, overwrite=True)\n",
    "for i, s3name in enumerate(obj_s3names):\n",
    "    s3path = obj_s3paths[i]\n",
    "    model_group = z.create_group(f'{s3name}', overwrite=True)\n",
    "    rb, gt, ras = zarr_aws.getRasData(s3path)\n",
    "    cell_size, xsize, ysize = gt[1], rb.XSize, rb.YSize\n",
    "    np_dtype = zarr_aws.GDALtypeToDtype(zarr_aws.FindGDALtype(rb.DataType))\n",
    "    data_ = zarr_aws.GetChunkAsArray(rb, 0, 0, xsize, ysize, boolize=makebool)\n",
    "    model_group.create_dataset(f'r0_c0', data=data_, shape=(ysize,xsize), overwrite=True, dtype=np_dtype)\n",
    "    model_group.attrs[f'r0_c0'] = zarr_aws.GetChunkMetaData(gt,xsize,ysize,0,0,cell_size)\n",
    "    z.attrs[f'{s3name}'] = zarr_aws.getFullRASMetaData(ras,gt,rb,xsize,ysize)\n",
    "zarr_aws.mprint('Total Time: {:0.2f} Minutes'.format((time.time()-start_time)/60))"
   ]
  },
  {
   "cell_type": "markdown",
   "metadata": {},
   "source": [
    "# Example with a larger group of data"
   ]
  },
  {
   "cell_type": "code",
   "execution_count": 4,
   "metadata": {
    "toc-hr-collapsed": false
   },
   "outputs": [
    {
     "data": {
      "text/markdown": [
       "## Number of tifs found: 9\n",
       "\n",
       " - probmodelingrepository:Augusta-Levee-AOP/ProductionRuns/outputs/Pluvial/E001/WSE_Pluvial_E001.tif\n",
       " - probmodelingrepository:Augusta-Levee-AOP/ProductionRuns/outputs/Pluvial/E002/WSE_Pluvial_E002.tif\n",
       " - probmodelingrepository:Augusta-Levee-AOP/ProductionRuns/outputs/Pluvial/E003/WSE_Pluvial_E003.tif\n",
       " - probmodelingrepository:Augusta-Levee-AOP/ProductionRuns/outputs/Pluvial/E008/WSE_Pluvial_E008.tif\n",
       " - probmodelingrepository:Augusta-Levee-AOP/ProductionRuns/outputs/Pluvial/E050/WSE_Pluvial_E050.tif\n",
       " - probmodelingrepository:Augusta-Levee-AOP/ProductionRuns/outputs/Pluvial/E094/WSE_Pluvial_E094.tif\n",
       " - probmodelingrepository:Augusta-Levee-AOP/ProductionRuns/outputs/Pluvial/E1139/WSE_Pluvial_E1139.tif\n",
       " - probmodelingrepository:Augusta-Levee-AOP/ProductionRuns/outputs/Pluvial/E1181/WSE_Pluvial_E1181.tif\n",
       " - probmodelingrepository:Augusta-Levee-AOP/ProductionRuns/outputs/Pluvial/E1182/WSE_Pluvial_E1182.tif"
      ],
      "text/plain": [
       "<IPython.core.display.Markdown object>"
      ]
     },
     "metadata": {},
     "output_type": "display_data"
    },
    {
     "data": {
      "text/markdown": [
       "## Save Zarr File at:\n",
       "\n",
       " - s3://probmodelingrepository/zarr/demo.zarr"
      ],
      "text/plain": [
       "<IPython.core.display.Markdown object>"
      ]
     },
     "metadata": {},
     "output_type": "display_data"
    },
    {
     "name": "stdout",
     "output_type": "stream",
     "text": [
      "['WSE_Pluvial_E001', 'WSE_Pluvial_E002', 'WSE_Pluvial_E003', 'WSE_Pluvial_E008', 'WSE_Pluvial_E050', 'WSE_Pluvial_E094', 'WSE_Pluvial_E1139', 'WSE_Pluvial_E1181', 'WSE_Pluvial_E1182']\n"
     ]
    },
    {
     "data": {
      "text/markdown": [
       "0 Time: 1.03 Minutes"
      ],
      "text/plain": [
       "<IPython.core.display.Markdown object>"
      ]
     },
     "metadata": {},
     "output_type": "display_data"
    },
    {
     "data": {
      "text/markdown": [
       "1 Time: 1.45 Minutes"
      ],
      "text/plain": [
       "<IPython.core.display.Markdown object>"
      ]
     },
     "metadata": {},
     "output_type": "display_data"
    },
    {
     "data": {
      "text/markdown": [
       "2 Time: 1.87 Minutes"
      ],
      "text/plain": [
       "<IPython.core.display.Markdown object>"
      ]
     },
     "metadata": {},
     "output_type": "display_data"
    },
    {
     "data": {
      "text/markdown": [
       "3 Time: 2.27 Minutes"
      ],
      "text/plain": [
       "<IPython.core.display.Markdown object>"
      ]
     },
     "metadata": {},
     "output_type": "display_data"
    },
    {
     "data": {
      "text/markdown": [
       "4 Time: 2.74 Minutes"
      ],
      "text/plain": [
       "<IPython.core.display.Markdown object>"
      ]
     },
     "metadata": {},
     "output_type": "display_data"
    },
    {
     "data": {
      "text/markdown": [
       "5 Time: 3.17 Minutes"
      ],
      "text/plain": [
       "<IPython.core.display.Markdown object>"
      ]
     },
     "metadata": {},
     "output_type": "display_data"
    },
    {
     "data": {
      "text/markdown": [
       "6 Time: 3.64 Minutes"
      ],
      "text/plain": [
       "<IPython.core.display.Markdown object>"
      ]
     },
     "metadata": {},
     "output_type": "display_data"
    },
    {
     "data": {
      "text/markdown": [
       "7 Time: 4.08 Minutes"
      ],
      "text/plain": [
       "<IPython.core.display.Markdown object>"
      ]
     },
     "metadata": {},
     "output_type": "display_data"
    },
    {
     "data": {
      "text/markdown": [
       "8 Time: 4.57 Minutes"
      ],
      "text/plain": [
       "<IPython.core.display.Markdown object>"
      ]
     },
     "metadata": {},
     "output_type": "display_data"
    },
    {
     "data": {
      "text/markdown": [
       "0 Time: 5.05 Minutes"
      ],
      "text/plain": [
       "<IPython.core.display.Markdown object>"
      ]
     },
     "metadata": {},
     "output_type": "display_data"
    },
    {
     "data": {
      "text/markdown": [
       "1 Time: 5.74 Minutes"
      ],
      "text/plain": [
       "<IPython.core.display.Markdown object>"
      ]
     },
     "metadata": {},
     "output_type": "display_data"
    },
    {
     "data": {
      "text/markdown": [
       "2 Time: 6.16 Minutes"
      ],
      "text/plain": [
       "<IPython.core.display.Markdown object>"
      ]
     },
     "metadata": {},
     "output_type": "display_data"
    },
    {
     "data": {
      "text/markdown": [
       "3 Time: 6.56 Minutes"
      ],
      "text/plain": [
       "<IPython.core.display.Markdown object>"
      ]
     },
     "metadata": {},
     "output_type": "display_data"
    },
    {
     "data": {
      "text/markdown": [
       "4 Time: 6.99 Minutes"
      ],
      "text/plain": [
       "<IPython.core.display.Markdown object>"
      ]
     },
     "metadata": {},
     "output_type": "display_data"
    },
    {
     "data": {
      "text/markdown": [
       "5 Time: 7.41 Minutes"
      ],
      "text/plain": [
       "<IPython.core.display.Markdown object>"
      ]
     },
     "metadata": {},
     "output_type": "display_data"
    },
    {
     "data": {
      "text/markdown": [
       "6 Time: 7.86 Minutes"
      ],
      "text/plain": [
       "<IPython.core.display.Markdown object>"
      ]
     },
     "metadata": {},
     "output_type": "display_data"
    },
    {
     "data": {
      "text/markdown": [
       "7 Time: 8.27 Minutes"
      ],
      "text/plain": [
       "<IPython.core.display.Markdown object>"
      ]
     },
     "metadata": {},
     "output_type": "display_data"
    },
    {
     "data": {
      "text/markdown": [
       "8 Time: 8.67 Minutes"
      ],
      "text/plain": [
       "<IPython.core.display.Markdown object>"
      ]
     },
     "metadata": {},
     "output_type": "display_data"
    },
    {
     "data": {
      "text/markdown": [
       "Total Time: 8.67 Minutes"
      ],
      "text/plain": [
       "<IPython.core.display.Markdown object>"
      ]
     },
     "metadata": {},
     "output_type": "display_data"
    }
   ],
   "source": [
    "start_time = time.time()\n",
    "bucket1 = 'probmodelingrepository'\n",
    "prefix1 = 'Augusta-Levee-AOP/ProductionRuns/outputs/Pluvial'\n",
    "tifs = ['WSE_Pluvial_E001.tif','WSE_Pluvial_E002.tif','WSE_Pluvial_E003.tif',\n",
    "        'WSE_Pluvial_E008.tif','WSE_Pluvial_E050.tif','WSE_Pluvial_E094.tif',\n",
    "        'WSE_Pluvial_E1139.tif','WSE_Pluvial_E1181.tif','WSE_Pluvial_E1182.tif']\n",
    "s3_tifs = [zarr_aws.get_files(bucket1,prefix1,tif)[0] for tif in tifs]\n",
    "zarr_aws.mprint(f'## Number of tifs found: {len(s3_tifs)}\\n\\n - '+'\\n - '.join(s3_tifs))\n",
    "\n",
    "bucket2 = 'probmodelingrepository'\n",
    "prefix2 = 'zarr'\n",
    "zarr_file_name = 'demo.zarr'\n",
    "zarr_file = f's3://{bucket2}/{prefix2}/{zarr_file_name}'\n",
    "zarr_aws.mprint(f'## Save Zarr File at:\\n\\n - {zarr_file}')\n",
    "\n",
    "obj_s3paths = [zarr_aws.s3Attributes(tif, '.tif', rtype='S3PATH') for tif in s3_tifs]\n",
    "obj_s3names = [zarr_aws.s3Attributes(tif, '.tif', rtype='NAME').split('/')[-1] for tif in s3_tifs]\n",
    "print(obj_s3names)\n",
    "\n",
    "zarr_store = s3fs.S3Map(root=zarr_file, s3=s3fs.S3FileSystem(), check=False)\n",
    "\n",
    "zarr_paths = ['WSE','Bool']\n",
    "makebools = [False,True]\n",
    "\n",
    "for j, makebool in enumerate(makebools):\n",
    "    zarr_path = zarr_paths[j]\n",
    "    for i, s3name in enumerate(obj_s3names):\n",
    "        s3path = obj_s3paths[i]\n",
    "        z = zarr.group(store=zarr_store, path=zarr_path, overwrite=True)\n",
    "        model_group = z.create_group(f'{s3name}', overwrite=True)\n",
    "        rb, gt, ras = zarr_aws.getRasData(s3path)\n",
    "        cell_size, xsize, ysize = gt[1], rb.XSize, rb.YSize\n",
    "        np_dtype = zarr_aws.GDALtypeToDtype(zarr_aws.FindGDALtype(rb.DataType))\n",
    "        data_ = zarr_aws.GetChunkAsArray(rb, 0, 0, xsize, ysize, boolize=makebool)\n",
    "        model_group.create_dataset(f'r0_c0', data=data_, shape=(ysize,xsize), overwrite=True, dtype=np_dtype)\n",
    "        model_group.attrs[f'r0_c0'] = zarr_aws.GetChunkMetaData(gt,xsize,ysize,0,0,cell_size)\n",
    "        z.attrs[f'{s3name}'] = zarr_aws.getFullRASMetaData(ras,gt,rb,xsize,ysize)\n",
    "        zarr_aws.mprint(f'{i+1},{j+1} Time: {(time.time()-start_time)/60:0.2f} Minutes')\n",
    "zarr_aws.mprint(f'Total Time: {(time.time()-start_time)/60:0.2f} Minutes')"
   ]
  },
  {
   "cell_type": "code",
   "execution_count": null,
   "metadata": {},
   "outputs": [],
   "source": []
  },
  {
   "cell_type": "code",
   "execution_count": null,
   "metadata": {},
   "outputs": [],
   "source": []
  }
 ],
 "metadata": {
  "kernelspec": {
   "display_name": "ZarrXarry",
   "language": "python",
   "name": "zarrxarray"
  },
  "language_info": {
   "codemirror_mode": {
    "name": "ipython",
    "version": 3
   },
   "file_extension": ".py",
   "mimetype": "text/x-python",
   "name": "python",
   "nbconvert_exporter": "python",
   "pygments_lexer": "ipython3",
   "version": "3.6.7"
  },
  "toc-autonumbering": true,
  "toc-showmarkdowntxt": false,
  "toc-showtags": false
 },
 "nbformat": 4,
 "nbformat_minor": 2
}
