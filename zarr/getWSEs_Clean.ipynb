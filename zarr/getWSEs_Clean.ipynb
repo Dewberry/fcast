{
 "cells": [
  {
   "cell_type": "markdown",
   "metadata": {},
   "source": [
    "__get_WSEs__</br>\n",
    "<img src=\"http://static1.squarespace.com/static/530979d9e4b04bff4a3aadf5/t/5446c34ce4b0e5a2c7ff2614/1413923661373/DewberryLogo_RGB.png?format=1500w\" width=\"40%\" align='right'/>\n",
    "PYTHON 3.6</br></br>\n",
    "__Overview: Retrieve water surface elevations from tifs and output to a single CSV__</br></br>\n",
    "Updated 2018-12-14</br>\n",
    "by Chris Maderia: cmaderia@dewberry.com</br>\n",
    "by Stephen Duncan: sduncan@dewberry.com"
   ]
  },
  {
   "cell_type": "markdown",
   "metadata": {},
   "source": [
    "# Import Python Libraries"
   ]
  },
  {
   "cell_type": "code",
   "execution_count": 1,
   "metadata": {},
   "outputs": [],
   "source": [
    "import os, sys, time, boto3\n",
    "import numpy as np\n",
    "import pandas as pd\n",
    "from osgeo import gdal\n",
    "from io import BytesIO\n",
    "import geopandas as gpd\n",
    "\n",
    "%matplotlib inline"
   ]
  },
  {
   "cell_type": "code",
   "execution_count": 11,
   "metadata": {},
   "outputs": [],
   "source": [
    "shapefile = gpd.GeoDataFrame\n",
    "s3 = boto3.resource('s3')"
   ]
  },
  {
   "cell_type": "markdown",
   "metadata": {},
   "source": [
    "# Functions"
   ]
  },
  {
   "cell_type": "code",
   "execution_count": 2,
   "metadata": {},
   "outputs": [],
   "source": [
    "def tprint(stime:time.time):\n",
    "    '''Print the time given a start time'''\n",
    "    print('Total Time: {:0.6f} seconds'.format(time.time() - stime))"
   ]
  },
  {
   "cell_type": "code",
   "execution_count": 3,
   "metadata": {},
   "outputs": [],
   "source": [
    "# https://stackoverflow.com/questions/2130016/splitting-a-list-into-n-parts-of-approximately-equal-length\n",
    "def chunkIt(seq:float, num:float):\n",
    "    '''Divide data into chunks - this is only for multiprocessing'''\n",
    "    avg = len(seq) / float(num)\n",
    "    out = []\n",
    "    last = 0.0\n",
    "    while last < len(seq):\n",
    "        out.append(seq[int(last):int(last + avg)])\n",
    "        last += avg\n",
    "    return out"
   ]
  },
  {
   "cell_type": "code",
   "execution_count": 12,
   "metadata": {},
   "outputs": [],
   "source": [
    "def getRasData(s3path:s3.Object):\n",
    "    '''Read a raster from S3 into memory and get attributes'''\n",
    "    image_data = BytesIO(s3path.get()['Body'].read())\n",
    "    tif_inmem = \"/vsimem/wse.tif\" #Virtual Folder to Store Data\n",
    "    gdal.FileFromMemBuffer(tif_inmem, image_data.read())\n",
    "    ras = gdal.Open(tif_inmem)  \n",
    "    rb, gt = ras.GetRasterBand(1), ras.GetGeoTransform()\n",
    "    return rb, gt, ras"
   ]
  },
  {
   "cell_type": "code",
   "execution_count": 5,
   "metadata": {},
   "outputs": [],
   "source": [
    "def get_files(bucketname:str, prefixname:str, textstring:str):\n",
    "    '''For navigating \"folder\" structures in bucket, Get list of files from bucket/prefix in S3\n",
    "    https://stackoverflow.com/questions/35803027/retrieving-subfolders-names-in-s3-bucket-from-boto3'''\n",
    "    wselist = []\n",
    "    s3 = boto3.resource('s3')\n",
    "    bucket = s3.Bucket(name=bucketname)\n",
    "    FilesNotFound = True\n",
    "    for obj in bucket.objects.filter(Prefix=prefixname):\n",
    "        if textstring in str(obj) and 'xml' not in str(obj):\n",
    "            #print('{0}:{1}'.format(bucket.name, obj.key))\n",
    "            wselist.append('{0}:{1}'.format(bucket.name, obj.key))\n",
    "        FilesNotFound = False\n",
    "    if FilesNotFound:\n",
    "        print(\"ALERT\", \"No file in {0}/{1}\".format(bucket, prefixname))\n",
    "    return wselist "
   ]
  },
  {
   "cell_type": "code",
   "execution_count": 6,
   "metadata": {},
   "outputs": [],
   "source": [
    "def query(x:float,y:float,gt:any,rb:any) -> float:\n",
    "    '''Queries one specific cell in the rasterband given an x, y in the geotransform'''\n",
    "    px = int((x - gt[0]) / gt[1])   \n",
    "    py = int((y - gt[3]) / gt[5])   \n",
    "    return rb.ReadAsArray(px,py,1,1)[0][0]  "
   ]
  },
  {
   "cell_type": "code",
   "execution_count": 9,
   "metadata": {},
   "outputs": [],
   "source": [
    "def s3Attributes(s3path:str, replace_str:str='', rtype='') -> any:\n",
    "    '''Creates the S3 object to write or read from AWS bucket'''\n",
    "    s3 = boto3.resource('s3')\n",
    "    parent = s3path.split(':')[0]\n",
    "    name = s3path.split(':')[1].split('//')[-1].replace(replace_str,'')\n",
    "    s3path = s3.Object(s3path.split(':')[0], s3path.split(':')[1])\n",
    "    if rtype == 'NAME': return name\n",
    "    elif rtype == 'PARENT': return parent\n",
    "    elif rtype == 'S3PATH': return s3path\n",
    "    else: return parent, name, s3path"
   ]
  },
  {
   "cell_type": "code",
   "execution_count": 26,
   "metadata": {},
   "outputs": [],
   "source": [
    "def getWSEfromS3(list_of_wses:list,structures:shapefile,bldgidfield:str,mod_value:int=False):\n",
    "    '''For a given GeoDataFrame and list of s3 Tif paths, a list of dataframes is returned to the user.\n",
    "    Each Dataframe contains the Tif value from the intersect and the Building x,y location.'''\n",
    "    start_time, dflist = time.time(), []\n",
    "    s3_objects = [s3Attributes(wse,'.tif','S3PATH') for wse in list_of_wses]\n",
    "    s3_names = [s3Attributes(wse,'.tif','NAME') for wse in list_of_wses]\n",
    "    for i, s3_obj in enumerate(s3_objects):\n",
    "        if mod_value:\n",
    "            if i%mod_value==0:print(f' - Progress at {i}: {(time.time()-start_time)/60:0.2f} Minutes')\n",
    "        rb, gt, ras = getRasData(s3_obj)\n",
    "        results = []\n",
    "        for idx in structures.index:\n",
    "            uniqueId = structures.loc[idx,bldgidfield]\n",
    "            bldg = structures.loc[idx,'geometry']\n",
    "            x, y = bldg.x, bldg.y\n",
    "            wse_value = query(x,y,gt,rb)\n",
    "            results.append([uniqueId,wse_value])\n",
    "        df_temp = pd.DataFrame(results,columns=[bldgidfield,s3_names[i]])\n",
    "        df_temp.set_index(bldgidfield, inplace=True)\n",
    "        dflist.append(df_temp)\n",
    "    print(f'Total Time: {(time.time()-start_time)/60:0.2f} Minutes')\n",
    "    return dflist"
   ]
  },
  {
   "cell_type": "markdown",
   "metadata": {},
   "source": [
    "# Read in structures"
   ]
  },
  {
   "cell_type": "code",
   "execution_count": 15,
   "metadata": {},
   "outputs": [
    {
     "data": {
      "text/html": [
       "<div>\n",
       "<style scoped>\n",
       "    .dataframe tbody tr th:only-of-type {\n",
       "        vertical-align: middle;\n",
       "    }\n",
       "\n",
       "    .dataframe tbody tr th {\n",
       "        vertical-align: top;\n",
       "    }\n",
       "\n",
       "    .dataframe thead th {\n",
       "        text-align: right;\n",
       "    }\n",
       "</style>\n",
       "<table border=\"1\" class=\"dataframe\">\n",
       "  <thead>\n",
       "    <tr style=\"text-align: right;\">\n",
       "      <th></th>\n",
       "      <th>accntnum</th>\n",
       "      <th>location</th>\n",
       "      <th>BLDG_DED</th>\n",
       "      <th>BLDG_LIMIT</th>\n",
       "      <th>CNT_DED</th>\n",
       "      <th>CNT_LIMIT</th>\n",
       "      <th>STATE</th>\n",
       "      <th>POSTCODE</th>\n",
       "      <th>COUNTRY</th>\n",
       "      <th>LON</th>\n",
       "      <th>...</th>\n",
       "      <th>CONSTR_COD</th>\n",
       "      <th>NUM_STORIE</th>\n",
       "      <th>YEAR_BUILT</th>\n",
       "      <th>BasementFi</th>\n",
       "      <th>FIRST_FLOO</th>\n",
       "      <th>BASE_FLOOD</th>\n",
       "      <th>elev_ft</th>\n",
       "      <th>LEVEED_ID</th>\n",
       "      <th>FC_SYSTEM_</th>\n",
       "      <th>geometry</th>\n",
       "    </tr>\n",
       "  </thead>\n",
       "  <tbody>\n",
       "    <tr>\n",
       "      <th>0</th>\n",
       "      <td>0-LA00972988</td>\n",
       "      <td>LA00972988</td>\n",
       "      <td>5000</td>\n",
       "      <td>105352</td>\n",
       "      <td>3000</td>\n",
       "      <td>52103</td>\n",
       "      <td>LA</td>\n",
       "      <td>71355</td>\n",
       "      <td>US</td>\n",
       "      <td>-91.884948</td>\n",
       "      <td>...</td>\n",
       "      <td>2</td>\n",
       "      <td>1</td>\n",
       "      <td>1934</td>\n",
       "      <td>0</td>\n",
       "      <td>0</td>\n",
       "      <td>0</td>\n",
       "      <td>40.954913</td>\n",
       "      <td>4.406000e+09</td>\n",
       "      <td>4.405001e+09</td>\n",
       "      <td>POINT (1284806.470806942 2922399.00763996)</td>\n",
       "    </tr>\n",
       "    <tr>\n",
       "      <th>1</th>\n",
       "      <td>0-LA00972988</td>\n",
       "      <td>LA00972988</td>\n",
       "      <td>5000</td>\n",
       "      <td>105352</td>\n",
       "      <td>3000</td>\n",
       "      <td>52103</td>\n",
       "      <td>LA</td>\n",
       "      <td>71355</td>\n",
       "      <td>US</td>\n",
       "      <td>-91.884948</td>\n",
       "      <td>...</td>\n",
       "      <td>2</td>\n",
       "      <td>1</td>\n",
       "      <td>1934</td>\n",
       "      <td>0</td>\n",
       "      <td>0</td>\n",
       "      <td>0</td>\n",
       "      <td>40.954913</td>\n",
       "      <td>5.906000e+09</td>\n",
       "      <td>5.905000e+09</td>\n",
       "      <td>POINT (1284806.470806942 2922399.00763996)</td>\n",
       "    </tr>\n",
       "  </tbody>\n",
       "</table>\n",
       "<p>2 rows × 23 columns</p>\n",
       "</div>"
      ],
      "text/plain": [
       "       accntnum    location  BLDG_DED  BLDG_LIMIT  CNT_DED  CNT_LIMIT STATE  \\\n",
       "0  0-LA00972988  LA00972988      5000      105352     3000      52103    LA   \n",
       "1  0-LA00972988  LA00972988      5000      105352     3000      52103    LA   \n",
       "\n",
       "   POSTCODE COUNTRY        LON                     ...                      \\\n",
       "0     71355      US -91.884948                     ...                       \n",
       "1     71355      US -91.884948                     ...                       \n",
       "\n",
       "   CONSTR_COD  NUM_STORIE  YEAR_BUILT  BasementFi  FIRST_FLOO  BASE_FLOOD  \\\n",
       "0           2           1        1934           0           0           0   \n",
       "1           2           1        1934           0           0           0   \n",
       "\n",
       "     elev_ft     LEVEED_ID    FC_SYSTEM_  \\\n",
       "0  40.954913  4.406000e+09  4.405001e+09   \n",
       "1  40.954913  5.906000e+09  5.905000e+09   \n",
       "\n",
       "                                     geometry  \n",
       "0  POINT (1284806.470806942 2922399.00763996)  \n",
       "1  POINT (1284806.470806942 2922399.00763996)  \n",
       "\n",
       "[2 rows x 23 columns]"
      ]
     },
     "execution_count": 15,
     "metadata": {},
     "output_type": "execute_result"
    }
   ],
   "source": [
    "structures_path = r'T:\\CCSI\\TECH\\FEMA\\2018_SO4_Innovation\\AAL_Comps\\LEVEE_AREAS\\AR_LA_MS\\structures\\market_basket\\all_risks_ucmb_MarketBasket_0_ARLAMS_REPROJ.shp'\n",
    "gdf = gpd.read_file(structures_path)\n",
    "gdf.head(2)"
   ]
  },
  {
   "cell_type": "markdown",
   "metadata": {},
   "source": [
    "# Identify Amazon S3 Location of Data"
   ]
  },
  {
   "cell_type": "code",
   "execution_count": 23,
   "metadata": {},
   "outputs": [
    {
     "name": "stdout",
     "output_type": "stream",
     "text": [
      "Found 300 \"WSE_\" Tifs\n"
     ]
    }
   ],
   "source": [
    "# s3 runs that I need to read</br>\n",
    "bucket = 'probmodelingrepository'\n",
    "prefix = 'AR-LA-MS-River/ProductionRuns/outputs/BaseAR'\n",
    "search_str = 'WSE_'\n",
    "s3_wses = get_files(bucket,prefix,'WSE_')\n",
    "print(f'Found {len(s3_wses)} \"{search_str}\" Tifs')"
   ]
  },
  {
   "cell_type": "markdown",
   "metadata": {},
   "source": [
    "# Get and Read Values from tifs, concatonate the results into 1 dataframe"
   ]
  },
  {
   "cell_type": "code",
   "execution_count": null,
   "metadata": {},
   "outputs": [
    {
     "name": "stdout",
     "output_type": "stream",
     "text": [
      " - Progress at 0: 0.09 Minutes\n",
      " - Progress at 15: 2.18 Minutes\n",
      " - Progress at 30: 4.28 Minutes\n",
      " - Progress at 45: 6.46 Minutes\n",
      " - Progress at 60: 8.48 Minutes\n",
      " - Progress at 75: 10.52 Minutes\n",
      " - Progress at 90: 12.57 Minutes\n",
      " - Progress at 105: 14.83 Minutes\n",
      " - Progress at 120: 17.03 Minutes\n",
      " - Progress at 135: 19.28 Minutes\n",
      " - Progress at 150: 21.34 Minutes\n",
      " - Progress at 165: 23.43 Minutes\n",
      " - Progress at 180: 25.58 Minutes\n",
      " - Progress at 195: 27.79 Minutes\n",
      " - Progress at 210: 30.35 Minutes\n",
      " - Progress at 225: 32.75 Minutes\n",
      " - Progress at 240: 35.00 Minutes\n",
      " - Progress at 255: 37.12 Minutes\n",
      " - Progress at 270: 39.31 Minutes\n",
      " - Progress at 285: 41.57 Minutes\n"
     ]
    }
   ],
   "source": [
    "bldgidfield = 'accntnum'\n",
    "dflist = getWSEfromS3(s3_wses,gdf,bldgidfield,mod_value=15)"
   ]
  },
  {
   "cell_type": "code",
   "execution_count": null,
   "metadata": {},
   "outputs": [],
   "source": [
    "df_full = pd.concat(dflist)"
   ]
  },
  {
   "cell_type": "code",
   "execution_count": null,
   "metadata": {},
   "outputs": [],
   "source": [
    "df_full.head()"
   ]
  },
  {
   "cell_type": "code",
   "execution_count": null,
   "metadata": {},
   "outputs": [],
   "source": []
  },
  {
   "cell_type": "code",
   "execution_count": null,
   "metadata": {},
   "outputs": [],
   "source": []
  },
  {
   "cell_type": "code",
   "execution_count": null,
   "metadata": {},
   "outputs": [],
   "source": []
  },
  {
   "cell_type": "code",
   "execution_count": null,
   "metadata": {},
   "outputs": [],
   "source": []
  },
  {
   "cell_type": "code",
   "execution_count": null,
   "metadata": {},
   "outputs": [],
   "source": []
  }
 ],
 "metadata": {
  "kernelspec": {
   "display_name": "Python 3",
   "language": "python",
   "name": "python3"
  },
  "language_info": {
   "codemirror_mode": {
    "name": "ipython",
    "version": 3
   },
   "file_extension": ".py",
   "mimetype": "text/x-python",
   "name": "python",
   "nbconvert_exporter": "python",
   "pygments_lexer": "ipython3",
   "version": "3.6.4"
  },
  "toc-showmarkdowntxt": true
 },
 "nbformat": 4,
 "nbformat_minor": 2
}
