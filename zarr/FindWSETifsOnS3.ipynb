{
 "cells": [
  {
   "cell_type": "markdown",
   "metadata": {},
   "source": [
    "__Zarr Development Notebooks__</br>\n",
    "<img src=\"http://static1.squarespace.com/static/530979d9e4b04bff4a3aadf5/t/5446c34ce4b0e5a2c7ff2614/1413923661373/DewberryLogo_RGB.png?format=1500w\" width=\"40%\" align='right'/>\n",
    "__Probability Risk: Post Processor Group__</br>\n",
    "PYTHON 3.6</br>\n",
    "Overview: This notebook is to analyze how to store WSE tifs from multiple models into one cube of data.</br>\n",
    "Updated 2018-10-15</br>\n",
    "by Stephen Duncan: sduncan@dewberry.com <br/>\n",
    "\n",
    "*Use Environment with boto3, zarr, & s3fs*"
   ]
  },
  {
   "cell_type": "code",
   "execution_count": 1,
   "metadata": {},
   "outputs": [],
   "source": [
    "import os, sys, time, glob, s3fs, zarr, json, boto3\n",
    "import pathlib as pl\n",
    "import numpy as np\n",
    "import pandas as pd\n",
    "from io import BytesIO\n",
    "from osgeo import gdal, osr\n",
    "from matplotlib import pyplot as plt\n",
    "from IPython.display import display, Markdown, Latex\n",
    "%matplotlib inline"
   ]
  },
  {
   "cell_type": "code",
   "execution_count": 2,
   "metadata": {},
   "outputs": [],
   "source": [
    "def get_files(bucketname, prefixname, textstring):\n",
    "    '''Gets Files list from AWS based on a bucket name and prefix'''\n",
    "    wselist = []\n",
    "    s3 = boto3.resource('s3')\n",
    "    bucket = s3.Bucket(name=bucketname)\n",
    "    FilesNotFound = True\n",
    "    for obj in bucket.objects.filter(Prefix=prefixname):\n",
    "        if textstring in str(obj) and 'xml' not in str(obj):\n",
    "            #print('{0}:{1}'.format(bucket.name, obj.key))\n",
    "            wselist.append('{0}:{1}'.format(bucket.name, obj.key))\n",
    "        FilesNotFound = False\n",
    "    if FilesNotFound:\n",
    "        print(\"ALERT\", \"No file in {0}/{1}\".format(bucket, prefixname))\n",
    "    return sorted(wselist)\n",
    "\n",
    "def mprint(txt:str) -> print:\n",
    "    '''Print Text as Markdown for Jupyter Lab and Notebooks'''\n",
    "    display(Markdown(txt))"
   ]
  },
  {
   "cell_type": "markdown",
   "metadata": {},
   "source": [
    "# Get Tif Locations"
   ]
  },
  {
   "cell_type": "code",
   "execution_count": 4,
   "metadata": {},
   "outputs": [
    {
     "data": {
      "text/markdown": [
       "## Tifs Found: 300"
      ],
      "text/plain": [
       "<IPython.core.display.Markdown object>"
      ]
     },
     "metadata": {},
     "output_type": "display_data"
    },
    {
     "data": {
      "text/markdown": [
       "The first couple are located at:"
      ],
      "text/plain": [
       "<IPython.core.display.Markdown object>"
      ]
     },
     "metadata": {},
     "output_type": "display_data"
    },
    {
     "data": {
      "text/markdown": [
       "- probmodelingrepository:AR-LA-MS-River/ProductionRuns/outputs/BaseMiss/E301/WSE_BaseMiss_E301.tif\n",
       "- probmodelingrepository:AR-LA-MS-River/ProductionRuns/outputs/BaseMiss/E302/WSE_BaseMiss_E302.tif\n",
       "- probmodelingrepository:AR-LA-MS-River/ProductionRuns/outputs/BaseMiss/E303/WSE_BaseMiss_E303.tif\n",
       "- probmodelingrepository:AR-LA-MS-River/ProductionRuns/outputs/BaseMiss/E304/WSE_BaseMiss_E304.tif\n",
       "- probmodelingrepository:AR-LA-MS-River/ProductionRuns/outputs/BaseMiss/E305/WSE_BaseMiss_E305.tif"
      ],
      "text/plain": [
       "<IPython.core.display.Markdown object>"
      ]
     },
     "metadata": {},
     "output_type": "display_data"
    }
   ],
   "source": [
    "bucket = 'probmodelingrepository'\n",
    "prefix = 'AR-LA-MS-River/ProductionRuns/outputs/BaseMiss' #'Augusta-Levee-AOP/ProductionRuns/outputs/Pluvial'\n",
    "searchfor = 'WSE_'\n",
    "\n",
    "s3tifs = get_files(bucket,prefix,searchfor)\n",
    "mprint(f'## Tifs Found: {len(s3tifs)}')\n",
    "mprint('The first couple are located at:')\n",
    "mprint('- '+'\\n- '.join(s3tifs[0:5]))"
   ]
  },
  {
   "cell_type": "code",
   "execution_count": 15,
   "metadata": {},
   "outputs": [
    {
     "data": {
      "text/markdown": [
       "## Tifs Lost: 198"
      ],
      "text/plain": [
       "<IPython.core.display.Markdown object>"
      ]
     },
     "metadata": {},
     "output_type": "display_data"
    },
    {
     "data": {
      "text/markdown": [
       "WSE_Pluvial_E095.tif\n",
       "- WSE_Pluvial_E096.tif\n",
       "- WSE_Pluvial_E097.tif\n",
       "- WSE_Pluvial_E098.tif\n",
       "- WSE_Pluvial_E099.tif\n",
       "- WSE_Pluvial_E100.tif\n",
       "- WSE_Pluvial_E101.tif\n",
       "- WSE_Pluvial_E102.tif\n",
       "- WSE_Pluvial_E103.tif\n",
       "- WSE_Pluvial_E104.tif\n",
       "- WSE_Pluvial_E105.tif\n",
       "- WSE_Pluvial_E106.tif\n",
       "- WSE_Pluvial_E107.tif\n",
       "- WSE_Pluvial_E108.tif\n",
       "- WSE_Pluvial_E109.tif\n",
       "- WSE_Pluvial_E110.tif\n",
       "- WSE_Pluvial_E111.tif\n",
       "- WSE_Pluvial_E112.tif\n",
       "- WSE_Pluvial_E113.tif\n",
       "- WSE_Pluvial_E114.tif\n",
       "- WSE_Pluvial_E115.tif\n",
       "- WSE_Pluvial_E116.tif\n",
       "- WSE_Pluvial_E117.tif\n",
       "- WSE_Pluvial_E118.tif\n",
       "- WSE_Pluvial_E119.tif\n",
       "- WSE_Pluvial_E120.tif\n",
       "- WSE_Pluvial_E121.tif\n",
       "- WSE_Pluvial_E122.tif\n",
       "- WSE_Pluvial_E123.tif\n",
       "- WSE_Pluvial_E124.tif\n",
       "- WSE_Pluvial_E125.tif\n",
       "- WSE_Pluvial_E126.tif\n",
       "- WSE_Pluvial_E127.tif\n",
       "- WSE_Pluvial_E128.tif\n",
       "- WSE_Pluvial_E129.tif\n",
       "- WSE_Pluvial_E130.tif\n",
       "- WSE_Pluvial_E131.tif\n",
       "- WSE_Pluvial_E132.tif\n",
       "- WSE_Pluvial_E133.tif\n",
       "- WSE_Pluvial_E134.tif\n",
       "- WSE_Pluvial_E135.tif\n",
       "- WSE_Pluvial_E136.tif\n",
       "- WSE_Pluvial_E137.tif\n",
       "- WSE_Pluvial_E138.tif\n",
       "- WSE_Pluvial_E139.tif\n",
       "- WSE_Pluvial_E140.tif\n",
       "- WSE_Pluvial_E141.tif\n",
       "- WSE_Pluvial_E142.tif\n",
       "- WSE_Pluvial_E143.tif\n",
       "- WSE_Pluvial_E144.tif\n",
       "- WSE_Pluvial_E145.tif\n",
       "- WSE_Pluvial_E146.tif\n",
       "- WSE_Pluvial_E147.tif\n",
       "- WSE_Pluvial_E148.tif\n",
       "- WSE_Pluvial_E149.tif\n",
       "- WSE_Pluvial_E150.tif\n",
       "- WSE_Pluvial_E151.tif\n",
       "- WSE_Pluvial_E152.tif\n",
       "- WSE_Pluvial_E153.tif\n",
       "- WSE_Pluvial_E154.tif\n",
       "- WSE_Pluvial_E155.tif\n",
       "- WSE_Pluvial_E156.tif\n",
       "- WSE_Pluvial_E157.tif\n",
       "- WSE_Pluvial_E158.tif\n",
       "- WSE_Pluvial_E159.tif\n",
       "- WSE_Pluvial_E160.tif\n",
       "- WSE_Pluvial_E161.tif\n",
       "- WSE_Pluvial_E162.tif\n",
       "- WSE_Pluvial_E163.tif\n",
       "- WSE_Pluvial_E164.tif\n",
       "- WSE_Pluvial_E165.tif\n",
       "- WSE_Pluvial_E166.tif\n",
       "- WSE_Pluvial_E167.tif\n",
       "- WSE_Pluvial_E168.tif\n",
       "- WSE_Pluvial_E169.tif\n",
       "- WSE_Pluvial_E170.tif\n",
       "- WSE_Pluvial_E171.tif\n",
       "- WSE_Pluvial_E172.tif\n",
       "- WSE_Pluvial_E173.tif\n",
       "- WSE_Pluvial_E174.tif\n",
       "- WSE_Pluvial_E175.tif\n",
       "- WSE_Pluvial_E176.tif\n",
       "- WSE_Pluvial_E177.tif\n",
       "- WSE_Pluvial_E178.tif\n",
       "- WSE_Pluvial_E179.tif\n",
       "- WSE_Pluvial_E180.tif\n",
       "- WSE_Pluvial_E181.tif\n",
       "- WSE_Pluvial_E182.tif\n",
       "- WSE_Pluvial_E183.tif\n",
       "- WSE_Pluvial_E184.tif\n",
       "- WSE_Pluvial_E185.tif\n",
       "- WSE_Pluvial_E186.tif\n",
       "- WSE_Pluvial_E187.tif\n",
       "- WSE_Pluvial_E188.tif\n",
       "- WSE_Pluvial_E189.tif\n",
       "- WSE_Pluvial_E190.tif\n",
       "- WSE_Pluvial_E191.tif\n",
       "- WSE_Pluvial_E192.tif\n",
       "- WSE_Pluvial_E193.tif\n",
       "- WSE_Pluvial_E194.tif\n",
       "- WSE_Pluvial_E195.tif\n",
       "- WSE_Pluvial_E196.tif\n",
       "- WSE_Pluvial_E197.tif\n",
       "- WSE_Pluvial_E198.tif\n",
       "- WSE_Pluvial_E199.tif\n",
       "- WSE_Pluvial_E200.tif\n",
       "- WSE_Pluvial_E201.tif\n",
       "- WSE_Pluvial_E202.tif\n",
       "- WSE_Pluvial_E203.tif\n",
       "- WSE_Pluvial_E204.tif\n",
       "- WSE_Pluvial_E205.tif\n",
       "- WSE_Pluvial_E206.tif\n",
       "- WSE_Pluvial_E207.tif\n",
       "- WSE_Pluvial_E208.tif\n",
       "- WSE_Pluvial_E209.tif\n",
       "- WSE_Pluvial_E210.tif\n",
       "- WSE_Pluvial_E211.tif\n",
       "- WSE_Pluvial_E212.tif\n",
       "- WSE_Pluvial_E213.tif\n",
       "- WSE_Pluvial_E214.tif\n",
       "- WSE_Pluvial_E215.tif\n",
       "- WSE_Pluvial_E216.tif\n",
       "- WSE_Pluvial_E217.tif\n",
       "- WSE_Pluvial_E218.tif\n",
       "- WSE_Pluvial_E219.tif\n",
       "- WSE_Pluvial_E220.tif\n",
       "- WSE_Pluvial_E221.tif\n",
       "- WSE_Pluvial_E222.tif\n",
       "- WSE_Pluvial_E223.tif\n",
       "- WSE_Pluvial_E224.tif\n",
       "- WSE_Pluvial_E225.tif\n",
       "- WSE_Pluvial_E226.tif\n",
       "- WSE_Pluvial_E227.tif\n",
       "- WSE_Pluvial_E228.tif\n",
       "- WSE_Pluvial_E229.tif\n",
       "- WSE_Pluvial_E230.tif\n",
       "- WSE_Pluvial_E231.tif\n",
       "- WSE_Pluvial_E232.tif\n",
       "- WSE_Pluvial_E233.tif\n",
       "- WSE_Pluvial_E234.tif\n",
       "- WSE_Pluvial_E235.tif\n",
       "- WSE_Pluvial_E236.tif\n",
       "- WSE_Pluvial_E237.tif\n",
       "- WSE_Pluvial_E238.tif\n",
       "- WSE_Pluvial_E239.tif\n",
       "- WSE_Pluvial_E240.tif\n",
       "- WSE_Pluvial_E241.tif\n",
       "- WSE_Pluvial_E242.tif\n",
       "- WSE_Pluvial_E243.tif\n",
       "- WSE_Pluvial_E244.tif\n",
       "- WSE_Pluvial_E245.tif\n",
       "- WSE_Pluvial_E246.tif\n",
       "- WSE_Pluvial_E247.tif\n",
       "- WSE_Pluvial_E248.tif\n",
       "- WSE_Pluvial_E249.tif\n",
       "- WSE_Pluvial_E250.tif\n",
       "- WSE_Pluvial_E252.tif\n",
       "- WSE_Pluvial_E253.tif\n",
       "- WSE_Pluvial_E254.tif\n",
       "- WSE_Pluvial_E255.tif\n",
       "- WSE_Pluvial_E256.tif\n",
       "- WSE_Pluvial_E257.tif\n",
       "- WSE_Pluvial_E258.tif\n",
       "- WSE_Pluvial_E259.tif\n",
       "- WSE_Pluvial_E260.tif\n",
       "- WSE_Pluvial_E261.tif\n",
       "- WSE_Pluvial_E262.tif\n",
       "- WSE_Pluvial_E263.tif\n",
       "- WSE_Pluvial_E264.tif\n",
       "- WSE_Pluvial_E265.tif\n",
       "- WSE_Pluvial_E266.tif\n",
       "- WSE_Pluvial_E267.tif\n",
       "- WSE_Pluvial_E268.tif\n",
       "- WSE_Pluvial_E269.tif\n",
       "- WSE_Pluvial_E270.tif\n",
       "- WSE_Pluvial_E271.tif\n",
       "- WSE_Pluvial_E272.tif\n",
       "- WSE_Pluvial_E273.tif\n",
       "- WSE_Pluvial_E274.tif\n",
       "- WSE_Pluvial_E275.tif\n",
       "- WSE_Pluvial_E276.tif\n",
       "- WSE_Pluvial_E277.tif\n",
       "- WSE_Pluvial_E278.tif\n",
       "- WSE_Pluvial_E279.tif\n",
       "- WSE_Pluvial_E280.tif\n",
       "- WSE_Pluvial_E281.tif\n",
       "- WSE_Pluvial_E282.tif\n",
       "- WSE_Pluvial_E283.tif\n",
       "- WSE_Pluvial_E284.tif\n",
       "- WSE_Pluvial_E285.tif\n",
       "- WSE_Pluvial_E286.tif\n",
       "- WSE_Pluvial_E287.tif\n",
       "- WSE_Pluvial_E288.tif\n",
       "- WSE_Pluvial_E289.tif\n",
       "- WSE_Pluvial_E290.tif\n",
       "- WSE_Pluvial_E291.tif\n",
       "- WSE_Pluvial_E881.tif\n",
       "- WSE_Pluvial_E1112.tif"
      ],
      "text/plain": [
       "<IPython.core.display.Markdown object>"
      ]
     },
     "metadata": {},
     "output_type": "display_data"
    }
   ],
   "source": [
    "zeropaddedstr = '_E{:03d}.tif'\n",
    "lost_tifs = []\n",
    "for i in range(1200):\n",
    "    j = i+1\n",
    "    notfound = True\n",
    "    for tif in s3tifs:\n",
    "        if tif.find(zeropaddedstr.format(j)) >= 0:\n",
    "            notfound = False\n",
    "    if notfound:\n",
    "        lost_tifs.append('WSE_Pluvial'+zeropaddedstr.format(j))\n",
    "mprint(f'## Tifs Lost: {len(lost_tifs)}')\n",
    "mprint(''+'\\n- '.join(lost_tifs))"
   ]
  },
  {
   "cell_type": "code",
   "execution_count": null,
   "metadata": {},
   "outputs": [],
   "source": []
  },
  {
   "cell_type": "code",
   "execution_count": null,
   "metadata": {},
   "outputs": [],
   "source": []
  },
  {
   "cell_type": "code",
   "execution_count": null,
   "metadata": {},
   "outputs": [],
   "source": []
  },
  {
   "cell_type": "code",
   "execution_count": null,
   "metadata": {},
   "outputs": [],
   "source": []
  },
  {
   "cell_type": "code",
   "execution_count": null,
   "metadata": {},
   "outputs": [],
   "source": []
  },
  {
   "cell_type": "code",
   "execution_count": null,
   "metadata": {},
   "outputs": [],
   "source": []
  },
  {
   "cell_type": "code",
   "execution_count": null,
   "metadata": {},
   "outputs": [],
   "source": []
  },
  {
   "cell_type": "code",
   "execution_count": null,
   "metadata": {},
   "outputs": [],
   "source": []
  },
  {
   "cell_type": "code",
   "execution_count": null,
   "metadata": {},
   "outputs": [],
   "source": []
  },
  {
   "cell_type": "code",
   "execution_count": null,
   "metadata": {},
   "outputs": [],
   "source": []
  }
 ],
 "metadata": {
  "kernelspec": {
   "display_name": "ZarrXarry",
   "language": "python",
   "name": "zarrxarray"
  },
  "language_info": {
   "codemirror_mode": {
    "name": "ipython",
    "version": 3
   },
   "file_extension": ".py",
   "mimetype": "text/x-python",
   "name": "python",
   "nbconvert_exporter": "python",
   "pygments_lexer": "ipython3",
   "version": "3.6.7"
  }
 },
 "nbformat": 4,
 "nbformat_minor": 2
}
