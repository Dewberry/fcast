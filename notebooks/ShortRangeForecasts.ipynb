{
 "cells": [
  {
   "cell_type": "markdown",
   "metadata": {},
   "source": [
    "# Short_range National Water Model Forecast\n",
    "### Workflow for creating an 18 hour stream flow forecast given a date, time, and NHDplus COMID (stream segment identifier)"
   ]
  },
  {
   "cell_type": "code",
   "execution_count": 3,
   "metadata": {},
   "outputs": [],
   "source": [
    "import sys; sys.path.append('..')"
   ]
  },
  {
   "cell_type": "code",
   "execution_count": 2,
   "metadata": {},
   "outputs": [],
   "source": [
    "import gcsfs\n",
    "import xarray as xr\n",
    "import matplotlib.pyplot as plt\n",
    "import numpy as np\n",
    "import json\n",
    "import pandas as pd\n",
    "from scipy.interpolate import interp1d\n",
    "\n",
    "%matplotlib inline"
   ]
  },
  {
   "cell_type": "markdown",
   "metadata": {},
   "source": [
    "## Set up the Google Cloud File System"
   ]
  },
  {
   "cell_type": "code",
   "execution_count": 2,
   "metadata": {},
   "outputs": [],
   "source": [
    "fs = gcsfs.GCSFileSystem(project='national-water-model')"
   ]
  },
  {
   "cell_type": "markdown",
   "metadata": {},
   "source": [
    "## Open all netcdf files of interest, concat them into an xarray multifile dataset\n",
    "\n",
    "- This step takes longer than expected due to reading from GCS over the internet"
   ]
  },
  {
   "cell_type": "code",
   "execution_count": 3,
   "metadata": {},
   "outputs": [],
   "source": [
    "date = '20190802' # a date\n",
    "start_time = '00' # start at 00:00 because its easy at the moment\n",
    "comid = 4512772 # some small segment on the Potomac near DC\n",
    "# comid = 229757 # the South Platte River in Denver\n",
    "# comid = 7471678 # somewhere on the Mississippi River"
   ]
  },
  {
   "cell_type": "code",
   "execution_count": 4,
   "metadata": {},
   "outputs": [],
   "source": [
    "open_ncdfs = []\n",
    "for i in range(1,19): # for times 1-18\n",
    "    hr_from_start = str(i).zfill(3)\n",
    "    filepath = f'national-water-model/nwm.{date}/short_range/nwm.t{start_time}z.short_range.channel_rt.f{hr_from_start}.conus.nc'\n",
    "    file = fs.open(filepath, 'rb')\n",
    "    open_ncdfs.append(file)\n",
    "mfdset = xr.open_mfdataset(open_ncdfs)"
   ]
  },
  {
   "cell_type": "markdown",
   "metadata": {},
   "source": [
    "## Get the model analysis_assim time and streamflow (AKA time zero)"
   ]
  },
  {
   "cell_type": "code",
   "execution_count": 5,
   "metadata": {},
   "outputs": [
    {
     "name": "stdout",
     "output_type": "stream",
     "text": [
      "2019-08-02T00:00:00.000000000 112.6999974809587\n"
     ]
    }
   ],
   "source": [
    "filepath = f'national-water-model/nwm.{date}/analysis_assim/nwm.t{start_time}z.analysis_assim.channel_rt.tm00.conus.nc'\n",
    "file = fs.open(filepath, 'rb')\n",
    "assim = xr.open_dataset(file)\n",
    "ds = assim.sel(feature_id=comid)\n",
    "assim_time = ds['time'].values[0]\n",
    "df = assim['streamflow'].to_dataframe()\n",
    "assim_flow = df.loc[comid].values[0]\n",
    "print(assim_time, assim_flow)"
   ]
  },
  {
   "cell_type": "markdown",
   "metadata": {},
   "source": [
    "## Get only the streamflow data for the COMID of interest"
   ]
  },
  {
   "cell_type": "code",
   "execution_count": 6,
   "metadata": {},
   "outputs": [
    {
     "data": {
      "text/html": [
       "<div>\n",
       "<style scoped>\n",
       "    .dataframe tbody tr th:only-of-type {\n",
       "        vertical-align: middle;\n",
       "    }\n",
       "\n",
       "    .dataframe tbody tr th {\n",
       "        vertical-align: top;\n",
       "    }\n",
       "\n",
       "    .dataframe thead th {\n",
       "        text-align: right;\n",
       "    }\n",
       "</style>\n",
       "<table border=\"1\" class=\"dataframe\">\n",
       "  <thead>\n",
       "    <tr style=\"text-align: right;\">\n",
       "      <th></th>\n",
       "      <th>streamflow</th>\n",
       "    </tr>\n",
       "  </thead>\n",
       "  <tbody>\n",
       "    <tr>\n",
       "      <th>2019-08-02 00:00:00</th>\n",
       "      <td>112.699997</td>\n",
       "    </tr>\n",
       "    <tr>\n",
       "      <th>2019-08-02 01:00:00</th>\n",
       "      <td>119.389997</td>\n",
       "    </tr>\n",
       "    <tr>\n",
       "      <th>2019-08-02 02:00:00</th>\n",
       "      <td>124.859997</td>\n",
       "    </tr>\n",
       "    <tr>\n",
       "      <th>2019-08-02 03:00:00</th>\n",
       "      <td>129.759997</td>\n",
       "    </tr>\n",
       "    <tr>\n",
       "      <th>2019-08-02 04:00:00</th>\n",
       "      <td>133.689997</td>\n",
       "    </tr>\n",
       "  </tbody>\n",
       "</table>\n",
       "</div>"
      ],
      "text/plain": [
       "                     streamflow\n",
       "2019-08-02 00:00:00  112.699997\n",
       "2019-08-02 01:00:00  119.389997\n",
       "2019-08-02 02:00:00  124.859997\n",
       "2019-08-02 03:00:00  129.759997\n",
       "2019-08-02 04:00:00  133.689997"
      ]
     },
     "execution_count": 6,
     "metadata": {},
     "output_type": "execute_result"
    }
   ],
   "source": [
    "output_da = mfdset.sel(feature_id=comid)['streamflow']\n",
    "times = output_da['time'].values\n",
    "arr = output_da.values\n",
    "d = {**{assim_time: assim_flow}, **dict(zip(times, arr))}\n",
    "df = pd.DataFrame([d]).T.rename(columns={0:'streamflow'})\n",
    "df.head()"
   ]
  },
  {
   "cell_type": "markdown",
   "metadata": {},
   "source": [
    "# Plot it "
   ]
  },
  {
   "cell_type": "code",
   "execution_count": 7,
   "metadata": {},
   "outputs": [
    {
     "data": {
      "image/png": "[encoded data removed]",
      "text/plain": [
       "<Figure size 1440x432 with 1 Axes>"
      ]
     },
     "metadata": {
      "needs_background": "light"
     },
     "output_type": "display_data"
    }
   ],
   "source": [
    "ax = df.plot(figsize=(20,6), title=f'Short-range 18-hour forecast for COMID: {comid}')\n",
    "ax.grid(True, which=\"both\")\n",
    "# ax.set_xticklabels(pd.Series(df.index).dt.strftime('%Y-%m-%d %H:00'), rotation='vertical')\n",
    "ax.set(xlabel='Date', ylabel='Streamflow (cms)');"
   ]
  },
  {
   "cell_type": "markdown",
   "metadata": {},
   "source": [
    "# Convert Flow to Stage"
   ]
  },
  {
   "cell_type": "code",
   "execution_count": 8,
   "metadata": {},
   "outputs": [],
   "source": [
    "ds = xr.open_dataset(r'data/hydroprop-fulltable2D.nc')\n",
    "dis_ds = ds.Discharge.sel(CatchId=comid)\n",
    "dis_df = dis_ds.to_dataframe().reset_index().drop(columns=['CatchId']).dropna()"
   ]
  },
  {
   "cell_type": "code",
   "execution_count": 9,
   "metadata": {},
   "outputs": [
    {
     "data": {
      "text/html": [
       "<div>\n",
       "<style scoped>\n",
       "    .dataframe tbody tr th:only-of-type {\n",
       "        vertical-align: middle;\n",
       "    }\n",
       "\n",
       "    .dataframe tbody tr th {\n",
       "        vertical-align: top;\n",
       "    }\n",
       "\n",
       "    .dataframe thead th {\n",
       "        text-align: right;\n",
       "    }\n",
       "</style>\n",
       "<table border=\"1\" class=\"dataframe\">\n",
       "  <thead>\n",
       "    <tr style=\"text-align: right;\">\n",
       "      <th></th>\n",
       "      <th>Stage</th>\n",
       "      <th>Discharge</th>\n",
       "    </tr>\n",
       "  </thead>\n",
       "  <tbody>\n",
       "    <tr>\n",
       "      <th>0</th>\n",
       "      <td>0.0000</td>\n",
       "      <td>0.000000</td>\n",
       "    </tr>\n",
       "    <tr>\n",
       "      <th>1</th>\n",
       "      <td>0.3048</td>\n",
       "      <td>30.085741</td>\n",
       "    </tr>\n",
       "    <tr>\n",
       "      <th>2</th>\n",
       "      <td>0.6096</td>\n",
       "      <td>96.720480</td>\n",
       "    </tr>\n",
       "    <tr>\n",
       "      <th>3</th>\n",
       "      <td>0.9144</td>\n",
       "      <td>180.899337</td>\n",
       "    </tr>\n",
       "    <tr>\n",
       "      <th>4</th>\n",
       "      <td>1.2192</td>\n",
       "      <td>323.340296</td>\n",
       "    </tr>\n",
       "  </tbody>\n",
       "</table>\n",
       "</div>"
      ],
      "text/plain": [
       "    Stage   Discharge\n",
       "0  0.0000    0.000000\n",
       "1  0.3048   30.085741\n",
       "2  0.6096   96.720480\n",
       "3  0.9144  180.899337\n",
       "4  1.2192  323.340296"
      ]
     },
     "execution_count": 9,
     "metadata": {},
     "output_type": "execute_result"
    }
   ],
   "source": [
    "dis_df.head()"
   ]
  },
  {
   "cell_type": "markdown",
   "metadata": {},
   "source": [
    "## Make an interpolation function to convert from streamflow to stage based on the rating curve provided by the NWM"
   ]
  },
  {
   "cell_type": "code",
   "execution_count": 10,
   "metadata": {},
   "outputs": [],
   "source": [
    "f = interp1d(dis_df.Discharge, dis_df.Stage, kind='cubic')\n",
    "stage_df = df.apply(f).rename(columns={'streamflow': 'stage'})"
   ]
  },
  {
   "cell_type": "markdown",
   "metadata": {},
   "source": [
    "## Plot the forecasted stage depth"
   ]
  },
  {
   "cell_type": "code",
   "execution_count": 11,
   "metadata": {},
   "outputs": [
    {
     "data": {
      "image/png": "[encoded data removed]",
      "text/plain": [
       "<Figure size 1440x432 with 1 Axes>"
      ]
     },
     "metadata": {
      "needs_background": "light"
     },
     "output_type": "display_data"
    }
   ],
   "source": [
    "ax = stage_df.plot(figsize=(20,6), title='Short-range 18-hour forecast')\n",
    "ax.grid(True, which=\"both\")\n",
    "ax.set(xlabel='Date', ylabel='Depth (m)');"
   ]
  },
  {
   "cell_type": "markdown",
   "metadata": {},
   "source": [
    "# Compare NWM rating curve with the USGS rating curve"
   ]
  },
  {
   "cell_type": "code",
   "execution_count": 4,
   "metadata": {},
   "outputs": [],
   "source": [
    "from fcast import GageUSGS\n",
    "with open('data/STATID_COMID_dict.json', 'r') as fp:\n",
    "    usgs_nhd = json.load(fp)"
   ]
  },
  {
   "cell_type": "markdown",
   "metadata": {},
   "source": [
    "### Get gage ids that match the COMID"
   ]
  },
  {
   "cell_type": "code",
   "execution_count": 13,
   "metadata": {},
   "outputs": [],
   "source": [
    "gageids = []\n",
    "for k, v in usgs_nhd.items():\n",
    "    if v == comid:\n",
    "        gageids.append(k)"
   ]
  },
  {
   "cell_type": "markdown",
   "metadata": {},
   "source": [
    "## Get hte USGS Rating curve"
   ]
  },
  {
   "cell_type": "code",
   "execution_count": 14,
   "metadata": {},
   "outputs": [],
   "source": [
    "mathcing_gage = GageUSGS(gageids[0])"
   ]
  },
  {
   "cell_type": "code",
   "execution_count": 15,
   "metadata": {},
   "outputs": [
    {
     "data": {
      "text/html": [
       "<div>\n",
       "<style scoped>\n",
       "    .dataframe tbody tr th:only-of-type {\n",
       "        vertical-align: middle;\n",
       "    }\n",
       "\n",
       "    .dataframe tbody tr th {\n",
       "        vertical-align: top;\n",
       "    }\n",
       "\n",
       "    .dataframe thead th {\n",
       "        text-align: right;\n",
       "    }\n",
       "</style>\n",
       "<table border=\"1\" class=\"dataframe\">\n",
       "  <thead>\n",
       "    <tr style=\"text-align: right;\">\n",
       "      <th></th>\n",
       "      <th>INDEP</th>\n",
       "      <th>SHIFT</th>\n",
       "      <th>DEP</th>\n",
       "      <th>INDEP_SHIFT</th>\n",
       "      <th>INDEP_m</th>\n",
       "      <th>SHIFT_m</th>\n",
       "      <th>DEP_cms</th>\n",
       "      <th>INDEP_SHIFT_m</th>\n",
       "    </tr>\n",
       "  </thead>\n",
       "  <tbody>\n",
       "    <tr>\n",
       "      <th>0</th>\n",
       "      <td>2.01</td>\n",
       "      <td>0.0</td>\n",
       "      <td>223.00</td>\n",
       "      <td>2.01</td>\n",
       "      <td>0.612648</td>\n",
       "      <td>0.0</td>\n",
       "      <td>6.314657</td>\n",
       "      <td>0.612648</td>\n",
       "    </tr>\n",
       "    <tr>\n",
       "      <th>1</th>\n",
       "      <td>2.02</td>\n",
       "      <td>0.0</td>\n",
       "      <td>226.14</td>\n",
       "      <td>2.02</td>\n",
       "      <td>0.615696</td>\n",
       "      <td>0.0</td>\n",
       "      <td>6.403572</td>\n",
       "      <td>0.615696</td>\n",
       "    </tr>\n",
       "    <tr>\n",
       "      <th>2</th>\n",
       "      <td>2.03</td>\n",
       "      <td>0.0</td>\n",
       "      <td>228.00</td>\n",
       "      <td>2.03</td>\n",
       "      <td>0.618744</td>\n",
       "      <td>0.0</td>\n",
       "      <td>6.456241</td>\n",
       "      <td>0.618744</td>\n",
       "    </tr>\n",
       "    <tr>\n",
       "      <th>3</th>\n",
       "      <td>2.04</td>\n",
       "      <td>0.0</td>\n",
       "      <td>230.80</td>\n",
       "      <td>2.04</td>\n",
       "      <td>0.621792</td>\n",
       "      <td>0.0</td>\n",
       "      <td>6.535528</td>\n",
       "      <td>0.621792</td>\n",
       "    </tr>\n",
       "    <tr>\n",
       "      <th>4</th>\n",
       "      <td>2.05</td>\n",
       "      <td>0.0</td>\n",
       "      <td>233.00</td>\n",
       "      <td>2.05</td>\n",
       "      <td>0.624840</td>\n",
       "      <td>0.0</td>\n",
       "      <td>6.597825</td>\n",
       "      <td>0.624840</td>\n",
       "    </tr>\n",
       "  </tbody>\n",
       "</table>\n",
       "</div>"
      ],
      "text/plain": [
       "   INDEP  SHIFT     DEP  INDEP_SHIFT   INDEP_m  SHIFT_m   DEP_cms  \\\n",
       "0   2.01    0.0  223.00         2.01  0.612648      0.0  6.314657   \n",
       "1   2.02    0.0  226.14         2.02  0.615696      0.0  6.403572   \n",
       "2   2.03    0.0  228.00         2.03  0.618744      0.0  6.456241   \n",
       "3   2.04    0.0  230.80         2.04  0.621792      0.0  6.535528   \n",
       "4   2.05    0.0  233.00         2.05  0.624840      0.0  6.597825   \n",
       "\n",
       "   INDEP_SHIFT_m  \n",
       "0       0.612648  \n",
       "1       0.615696  \n",
       "2       0.618744  \n",
       "3       0.621792  \n",
       "4       0.624840  "
      ]
     },
     "execution_count": 15,
     "metadata": {},
     "output_type": "execute_result"
    }
   ],
   "source": [
    "rc = mathcing_gage.rating_curve.dropna()\n",
    "rc.head()"
   ]
  },
  {
   "cell_type": "markdown",
   "metadata": {},
   "source": [
    "## Apply it to the stream flow data to convert it to stage"
   ]
  },
  {
   "cell_type": "code",
   "execution_count": 22,
   "metadata": {},
   "outputs": [],
   "source": [
    "f_usgs = interp1d(rc.DEP_cms, rc.INDEP_SHIFT_m, kind='cubic')\n",
    "stage_df_usgs = df.apply(f_usgs).rename(columns={'streamflow': 'stage_usgs'})"
   ]
  },
  {
   "cell_type": "code",
   "execution_count": 19,
   "metadata": {},
   "outputs": [
    {
     "data": {
      "text/html": [
       "<div>\n",
       "<style scoped>\n",
       "    .dataframe tbody tr th:only-of-type {\n",
       "        vertical-align: middle;\n",
       "    }\n",
       "\n",
       "    .dataframe tbody tr th {\n",
       "        vertical-align: top;\n",
       "    }\n",
       "\n",
       "    .dataframe thead th {\n",
       "        text-align: right;\n",
       "    }\n",
       "</style>\n",
       "<table border=\"1\" class=\"dataframe\">\n",
       "  <thead>\n",
       "    <tr style=\"text-align: right;\">\n",
       "      <th></th>\n",
       "      <th>stage</th>\n",
       "    </tr>\n",
       "  </thead>\n",
       "  <tbody>\n",
       "    <tr>\n",
       "      <th>2019-08-02 00:00:00</th>\n",
       "      <td>0.975155</td>\n",
       "    </tr>\n",
       "    <tr>\n",
       "      <th>2019-08-02 01:00:00</th>\n",
       "      <td>0.986826</td>\n",
       "    </tr>\n",
       "    <tr>\n",
       "      <th>2019-08-02 02:00:00</th>\n",
       "      <td>0.996148</td>\n",
       "    </tr>\n",
       "    <tr>\n",
       "      <th>2019-08-02 03:00:00</th>\n",
       "      <td>1.004343</td>\n",
       "    </tr>\n",
       "    <tr>\n",
       "      <th>2019-08-02 04:00:00</th>\n",
       "      <td>1.010814</td>\n",
       "    </tr>\n",
       "  </tbody>\n",
       "</table>\n",
       "</div>"
      ],
      "text/plain": [
       "                        stage\n",
       "2019-08-02 00:00:00  0.975155\n",
       "2019-08-02 01:00:00  0.986826\n",
       "2019-08-02 02:00:00  0.996148\n",
       "2019-08-02 03:00:00  1.004343\n",
       "2019-08-02 04:00:00  1.010814"
      ]
     },
     "execution_count": 19,
     "metadata": {},
     "output_type": "execute_result"
    }
   ],
   "source": [
    "stage_df_usgs.head()"
   ]
  },
  {
   "cell_type": "markdown",
   "metadata": {},
   "source": [
    "## Plot them and compare"
   ]
  },
  {
   "cell_type": "code",
   "execution_count": 30,
   "metadata": {},
   "outputs": [],
   "source": [
    "ab = stage_df_usgs.loc['2019-08-02 00:00:00'].values[0] - stage_df.loc['2019-08-02 00:00:00'].values[0]"
   ]
  },
  {
   "cell_type": "code",
   "execution_count": 34,
   "metadata": {},
   "outputs": [],
   "source": [
    "newdf = stage_df + ab\n",
    "newdf = newdf.rename(columns={'stage': 'stage_usgs_shifted'})"
   ]
  },
  {
   "cell_type": "code",
   "execution_count": 43,
   "metadata": {},
   "outputs": [],
   "source": [
    "newdf = newdf.rename(columns={'stage': 'stage_usgs_shifted'})"
   ]
  },
  {
   "cell_type": "code",
   "execution_count": 44,
   "metadata": {},
   "outputs": [
    {
     "data": {
      "image/png": "[encoded data removed]",
      "text/plain": [
       "<Figure size 1440x432 with 1 Axes>"
      ]
     },
     "metadata": {
      "needs_background": "light"
     },
     "output_type": "display_data"
    }
   ],
   "source": [
    "ax1 = stage_df_usgs.plot(figsize=(20,6), title='Short-range 18-hour forecast')\n",
    "ax2 = newdf.plot(ax=ax1, figsize=(20,6), title='Short-range 18-hour forecast')\n",
    "ax = stage_df.plot(ax=ax2, figsize=(20,6), title='Short-range 18-hour forecast')\n",
    "ax.grid(True, which=\"both\")\n",
    "ax.set(xlabel='Date', ylabel='Depth (m)');"
   ]
  },
  {
   "cell_type": "code",
   "execution_count": 45,
   "metadata": {},
   "outputs": [],
   "source": [
    "mm = stage_df_usgs.loc['2019-08-02 09:00:00'].values[0] - stage_df.loc['2019-08-02 09:00:00'].values[0]"
   ]
  },
  {
   "cell_type": "code",
   "execution_count": 46,
   "metadata": {},
   "outputs": [],
   "source": [
    "newdf1 = stage_df + mm\n",
    "newdf1 = newdf1.rename(columns={'stage': 'stage_usgs_shifted_from_middle'})"
   ]
  },
  {
   "cell_type": "code",
   "execution_count": 47,
   "metadata": {},
   "outputs": [
    {
     "data": {
      "image/png": "[encoded data removed]",
      "text/plain": [
       "<Figure size 1440x432 with 1 Axes>"
      ]
     },
     "metadata": {
      "needs_background": "light"
     },
     "output_type": "display_data"
    }
   ],
   "source": [
    "ax1 = stage_df_usgs.plot(figsize=(20,6), title='Short-range 18-hour forecast')\n",
    "ax2 = newdf1.plot(ax=ax1, figsize=(20,6), title='Short-range 18-hour forecast')\n",
    "ax = stage_df.plot(ax=ax2, figsize=(20,6), title='Short-range 18-hour forecast')\n",
    "ax.grid(True, which=\"both\")\n",
    "ax.set(xlabel='Date', ylabel='Depth (m)');"
   ]
  },
  {
   "cell_type": "code",
   "execution_count": null,
   "metadata": {},
   "outputs": [],
   "source": []
  }
 ],
 "metadata": {
  "kernelspec": {
   "display_name": "Python [conda env:gis]",
   "language": "python",
   "name": "conda-env-gis-py"
  },
  "language_info": {
   "codemirror_mode": {
    "name": "ipython",
    "version": 3
   },
   "file_extension": ".py",
   "mimetype": "text/x-python",
   "name": "python",
   "nbconvert_exporter": "python",
   "pygments_lexer": "ipython3",
   "version": "3.7.3"
  }
 },
 "nbformat": 4,
 "nbformat_minor": 4
}
