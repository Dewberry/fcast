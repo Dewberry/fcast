{
 "cells": [
  {
   "cell_type": "markdown",
   "metadata": {},
   "source": [
    "# Short_range National Water Model Forecast\n",
    "### Workflow for creating an 18 hour stream flow forecast given a date, time, and NHDplus COMID (stream segment identifier)"
   ]
  },
  {
   "cell_type": "code",
   "execution_count": 1,
   "metadata": {},
   "outputs": [],
   "source": [
    "import sys; sys.path.append('..')\n",
    "from fcast import ShortRange, Assim, get_USGS_rc, plotShortRange\n",
    "import gcsfs\n",
    "%matplotlib inline"
   ]
  },
  {
   "cell_type": "markdown",
   "metadata": {},
   "source": [
    "## Set up the Google Cloud File System"
   ]
  },
  {
   "cell_type": "code",
   "execution_count": 2,
   "metadata": {},
   "outputs": [],
   "source": [
    "fs = gcsfs.GCSFileSystem(project='national-water-model')"
   ]
  },
  {
   "cell_type": "markdown",
   "metadata": {},
   "source": [
    "## Set the parameters"
   ]
  },
  {
   "cell_type": "code",
   "execution_count": 3,
   "metadata": {},
   "outputs": [],
   "source": [
    "date = '20190802' # a date\n",
    "start_hr = '00' # start at 00:00 because its easy at the moment\n",
    "comid = 4512772 # some small segment on the Potomac near DC\n",
    "# comid = 229757 # the South Platte River in Denver\n",
    "# comid = 7471678 # somewhere on the Mississippi River"
   ]
  },
  {
   "cell_type": "markdown",
   "metadata": {},
   "source": [
    "## Get short range streamflow forecast"
   ]
  },
  {
   "cell_type": "code",
   "execution_count": 4,
   "metadata": {},
   "outputs": [
    {
     "data": {
      "text/html": [
       "<div>\n",
       "<style scoped>\n",
       "    .dataframe tbody tr th:only-of-type {\n",
       "        vertical-align: middle;\n",
       "    }\n",
       "\n",
       "    .dataframe tbody tr th {\n",
       "        vertical-align: top;\n",
       "    }\n",
       "\n",
       "    .dataframe thead th {\n",
       "        text-align: right;\n",
       "    }\n",
       "</style>\n",
       "<table border=\"1\" class=\"dataframe\">\n",
       "  <thead>\n",
       "    <tr style=\"text-align: right;\">\n",
       "      <th></th>\n",
       "      <th>streamflow</th>\n",
       "    </tr>\n",
       "  </thead>\n",
       "  <tbody>\n",
       "    <tr>\n",
       "      <th>2019-08-02 00:00:00</th>\n",
       "      <td>112.699997</td>\n",
       "    </tr>\n",
       "    <tr>\n",
       "      <th>2019-08-02 01:00:00</th>\n",
       "      <td>119.389997</td>\n",
       "    </tr>\n",
       "    <tr>\n",
       "      <th>2019-08-02 02:00:00</th>\n",
       "      <td>124.859997</td>\n",
       "    </tr>\n",
       "    <tr>\n",
       "      <th>2019-08-02 03:00:00</th>\n",
       "      <td>129.759997</td>\n",
       "    </tr>\n",
       "    <tr>\n",
       "      <th>2019-08-02 04:00:00</th>\n",
       "      <td>133.689997</td>\n",
       "    </tr>\n",
       "  </tbody>\n",
       "</table>\n",
       "</div>"
      ],
      "text/plain": [
       "                     streamflow\n",
       "2019-08-02 00:00:00  112.699997\n",
       "2019-08-02 01:00:00  119.389997\n",
       "2019-08-02 02:00:00  124.859997\n",
       "2019-08-02 03:00:00  129.759997\n",
       "2019-08-02 04:00:00  133.689997"
      ]
     },
     "execution_count": 4,
     "metadata": {},
     "output_type": "execute_result"
    }
   ],
   "source": [
    "sim = Assim(fs, comid, date, start_hr)\n",
    "sr = ShortRange(fs, comid, date, start_hr)\n",
    "sr_df = sr.get_streamflow(sim.assim_time, sim.assim_flow)\n",
    "sr_df.head()"
   ]
  },
  {
   "cell_type": "code",
   "execution_count": 5,
   "metadata": {},
   "outputs": [
    {
     "data": {
      "image/png": "[encoded data removed]",
      "text/plain": [
       "<Figure size 1440x432 with 1 Axes>"
      ]
     },
     "metadata": {
      "needs_background": "light"
     },
     "output_type": "display_data"
    }
   ],
   "source": [
    "plotShortRange(sr_df, comid)"
   ]
  },
  {
   "cell_type": "markdown",
   "metadata": {},
   "source": [
    "# Convert Flow to Stage"
   ]
  },
  {
   "cell_type": "code",
   "execution_count": 6,
   "metadata": {},
   "outputs": [
    {
     "data": {
      "text/html": [
       "<div>\n",
       "<style scoped>\n",
       "    .dataframe tbody tr th:only-of-type {\n",
       "        vertical-align: middle;\n",
       "    }\n",
       "\n",
       "    .dataframe tbody tr th {\n",
       "        vertical-align: top;\n",
       "    }\n",
       "\n",
       "    .dataframe thead th {\n",
       "        text-align: right;\n",
       "    }\n",
       "</style>\n",
       "<table border=\"1\" class=\"dataframe\">\n",
       "  <thead>\n",
       "    <tr style=\"text-align: right;\">\n",
       "      <th></th>\n",
       "      <th>Stage</th>\n",
       "      <th>Discharge</th>\n",
       "    </tr>\n",
       "  </thead>\n",
       "  <tbody>\n",
       "    <tr>\n",
       "      <th>0</th>\n",
       "      <td>0.0000</td>\n",
       "      <td>0.000000</td>\n",
       "    </tr>\n",
       "    <tr>\n",
       "      <th>1</th>\n",
       "      <td>0.3048</td>\n",
       "      <td>30.085741</td>\n",
       "    </tr>\n",
       "    <tr>\n",
       "      <th>2</th>\n",
       "      <td>0.6096</td>\n",
       "      <td>96.720480</td>\n",
       "    </tr>\n",
       "    <tr>\n",
       "      <th>3</th>\n",
       "      <td>0.9144</td>\n",
       "      <td>180.899337</td>\n",
       "    </tr>\n",
       "    <tr>\n",
       "      <th>4</th>\n",
       "      <td>1.2192</td>\n",
       "      <td>323.340296</td>\n",
       "    </tr>\n",
       "  </tbody>\n",
       "</table>\n",
       "</div>"
      ],
      "text/plain": [
       "    Stage   Discharge\n",
       "0  0.0000    0.000000\n",
       "1  0.3048   30.085741\n",
       "2  0.6096   96.720480\n",
       "3  0.9144  180.899337\n",
       "4  1.2192  323.340296"
      ]
     },
     "execution_count": 6,
     "metadata": {},
     "output_type": "execute_result"
    }
   ],
   "source": [
    "f, rc_df = sr.get_NWM_rc()\n",
    "rc_df.head()"
   ]
  },
  {
   "cell_type": "markdown",
   "metadata": {},
   "source": [
    "## Apply the NWM rating curve and convert from streamflow to stage"
   ]
  },
  {
   "cell_type": "code",
   "execution_count": 7,
   "metadata": {},
   "outputs": [],
   "source": [
    "stage_df = sr_df.apply(f).rename(columns={'streamflow': 'stage'})"
   ]
  },
  {
   "cell_type": "markdown",
   "metadata": {},
   "source": [
    "## Plot the forecasted stage depth"
   ]
  },
  {
   "cell_type": "code",
   "execution_count": 8,
   "metadata": {},
   "outputs": [
    {
     "data": {
      "image/png": "[encoded data removed]",
      "text/plain": [
       "<Figure size 1440x432 with 1 Axes>"
      ]
     },
     "metadata": {
      "needs_background": "light"
     },
     "output_type": "display_data"
    }
   ],
   "source": [
    "plotShortRange(stage_df, comid, flow=False)"
   ]
  },
  {
   "cell_type": "markdown",
   "metadata": {},
   "source": [
    "# Compare NWM rating curve with the USGS rating curve"
   ]
  },
  {
   "cell_type": "code",
   "execution_count": 9,
   "metadata": {},
   "outputs": [
    {
     "name": "stdout",
     "output_type": "stream",
     "text": [
      "No rating curve available, please set `get_rc` = False for station 01646502\n",
      "<scipy.interpolate.interpolate.interp1d object at 0x000002AE45B878B8>\n"
     ]
    },
    {
     "data": {
      "text/html": [
       "<div>\n",
       "<style scoped>\n",
       "    .dataframe tbody tr th:only-of-type {\n",
       "        vertical-align: middle;\n",
       "    }\n",
       "\n",
       "    .dataframe tbody tr th {\n",
       "        vertical-align: top;\n",
       "    }\n",
       "\n",
       "    .dataframe thead th {\n",
       "        text-align: right;\n",
       "    }\n",
       "</style>\n",
       "<table border=\"1\" class=\"dataframe\">\n",
       "  <thead>\n",
       "    <tr style=\"text-align: right;\">\n",
       "      <th></th>\n",
       "      <th>INDEP</th>\n",
       "      <th>SHIFT</th>\n",
       "      <th>DEP</th>\n",
       "      <th>INDEP_SHIFT</th>\n",
       "      <th>INDEP_m</th>\n",
       "      <th>SHIFT_m</th>\n",
       "      <th>DEP_cms</th>\n",
       "      <th>INDEP_SHIFT_m</th>\n",
       "    </tr>\n",
       "  </thead>\n",
       "  <tbody>\n",
       "    <tr>\n",
       "      <th>0</th>\n",
       "      <td>2.01</td>\n",
       "      <td>0.0</td>\n",
       "      <td>223.00</td>\n",
       "      <td>2.01</td>\n",
       "      <td>0.612648</td>\n",
       "      <td>0.0</td>\n",
       "      <td>6.314657</td>\n",
       "      <td>0.612648</td>\n",
       "    </tr>\n",
       "    <tr>\n",
       "      <th>1</th>\n",
       "      <td>2.02</td>\n",
       "      <td>0.0</td>\n",
       "      <td>226.14</td>\n",
       "      <td>2.02</td>\n",
       "      <td>0.615696</td>\n",
       "      <td>0.0</td>\n",
       "      <td>6.403572</td>\n",
       "      <td>0.615696</td>\n",
       "    </tr>\n",
       "    <tr>\n",
       "      <th>2</th>\n",
       "      <td>2.03</td>\n",
       "      <td>0.0</td>\n",
       "      <td>228.00</td>\n",
       "      <td>2.03</td>\n",
       "      <td>0.618744</td>\n",
       "      <td>0.0</td>\n",
       "      <td>6.456241</td>\n",
       "      <td>0.618744</td>\n",
       "    </tr>\n",
       "    <tr>\n",
       "      <th>3</th>\n",
       "      <td>2.04</td>\n",
       "      <td>0.0</td>\n",
       "      <td>230.80</td>\n",
       "      <td>2.04</td>\n",
       "      <td>0.621792</td>\n",
       "      <td>0.0</td>\n",
       "      <td>6.535528</td>\n",
       "      <td>0.621792</td>\n",
       "    </tr>\n",
       "    <tr>\n",
       "      <th>4</th>\n",
       "      <td>2.05</td>\n",
       "      <td>0.0</td>\n",
       "      <td>233.00</td>\n",
       "      <td>2.05</td>\n",
       "      <td>0.624840</td>\n",
       "      <td>0.0</td>\n",
       "      <td>6.597825</td>\n",
       "      <td>0.624840</td>\n",
       "    </tr>\n",
       "  </tbody>\n",
       "</table>\n",
       "</div>"
      ],
      "text/plain": [
       "   INDEP  SHIFT     DEP  INDEP_SHIFT   INDEP_m  SHIFT_m   DEP_cms  \\\n",
       "0   2.01    0.0  223.00         2.01  0.612648      0.0  6.314657   \n",
       "1   2.02    0.0  226.14         2.02  0.615696      0.0  6.403572   \n",
       "2   2.03    0.0  228.00         2.03  0.618744      0.0  6.456241   \n",
       "3   2.04    0.0  230.80         2.04  0.621792      0.0  6.535528   \n",
       "4   2.05    0.0  233.00         2.05  0.624840      0.0  6.597825   \n",
       "\n",
       "   INDEP_SHIFT_m  \n",
       "0       0.612648  \n",
       "1       0.615696  \n",
       "2       0.618744  \n",
       "3       0.621792  \n",
       "4       0.624840  "
      ]
     },
     "execution_count": 9,
     "metadata": {},
     "output_type": "execute_result"
    }
   ],
   "source": [
    "USGS_rcs = get_USGS_rc(comid)\n",
    "print(USGS_rcs[0])\n",
    "USGS_rcs[1].head()"
   ]
  },
  {
   "cell_type": "markdown",
   "metadata": {},
   "source": [
    "## Apply it to the stream flow data to convert it to stage"
   ]
  },
  {
   "cell_type": "code",
   "execution_count": 10,
   "metadata": {},
   "outputs": [
    {
     "data": {
      "text/html": [
       "<div>\n",
       "<style scoped>\n",
       "    .dataframe tbody tr th:only-of-type {\n",
       "        vertical-align: middle;\n",
       "    }\n",
       "\n",
       "    .dataframe tbody tr th {\n",
       "        vertical-align: top;\n",
       "    }\n",
       "\n",
       "    .dataframe thead th {\n",
       "        text-align: right;\n",
       "    }\n",
       "</style>\n",
       "<table border=\"1\" class=\"dataframe\">\n",
       "  <thead>\n",
       "    <tr style=\"text-align: right;\">\n",
       "      <th></th>\n",
       "      <th>stage_usgs</th>\n",
       "    </tr>\n",
       "  </thead>\n",
       "  <tbody>\n",
       "    <tr>\n",
       "      <th>2019-08-02 00:00:00</th>\n",
       "      <td>0.975155</td>\n",
       "    </tr>\n",
       "    <tr>\n",
       "      <th>2019-08-02 01:00:00</th>\n",
       "      <td>0.986826</td>\n",
       "    </tr>\n",
       "    <tr>\n",
       "      <th>2019-08-02 02:00:00</th>\n",
       "      <td>0.996148</td>\n",
       "    </tr>\n",
       "    <tr>\n",
       "      <th>2019-08-02 03:00:00</th>\n",
       "      <td>1.004343</td>\n",
       "    </tr>\n",
       "    <tr>\n",
       "      <th>2019-08-02 04:00:00</th>\n",
       "      <td>1.010814</td>\n",
       "    </tr>\n",
       "  </tbody>\n",
       "</table>\n",
       "</div>"
      ],
      "text/plain": [
       "                     stage_usgs\n",
       "2019-08-02 00:00:00    0.975155\n",
       "2019-08-02 01:00:00    0.986826\n",
       "2019-08-02 02:00:00    0.996148\n",
       "2019-08-02 03:00:00    1.004343\n",
       "2019-08-02 04:00:00    1.010814"
      ]
     },
     "execution_count": 10,
     "metadata": {},
     "output_type": "execute_result"
    }
   ],
   "source": [
    "stage_df_usgs = sr_df.apply(USGS_rcs[0]).rename(columns={'streamflow': 'stage_usgs'})\n",
    "stage_df_usgs.head()"
   ]
  },
  {
   "cell_type": "markdown",
   "metadata": {},
   "source": [
    "## Plot them and compare"
   ]
  },
  {
   "cell_type": "code",
   "execution_count": 11,
   "metadata": {},
   "outputs": [
    {
     "data": {
      "image/png": "[encoded data removed]",
      "text/plain": [
       "<Figure size 1440x432 with 1 Axes>"
      ]
     },
     "metadata": {
      "needs_background": "light"
     },
     "output_type": "display_data"
    }
   ],
   "source": [
    "ax1 = stage_df_usgs.plot(figsize=(20,6), title='Short-range 18-hour forecast')\n",
    "ax = stage_df.plot(ax=ax1, figsize=(20,6), title='Short-range 18-hour forecast')\n",
    "ax.grid(True, which=\"both\")\n",
    "ax.set(xlabel='Date', ylabel='Depth (m)');"
   ]
  },
  {
   "cell_type": "markdown",
   "metadata": {},
   "source": [
    "# USGS rating curve equates to a higher stage than the NWM rating curve"
   ]
  },
  {
   "cell_type": "code",
   "execution_count": null,
   "metadata": {},
   "outputs": [],
   "source": []
  }
 ],
 "metadata": {
  "kernelspec": {
   "display_name": "Python [conda env:gis]",
   "language": "python",
   "name": "conda-env-gis-py"
  },
  "language_info": {
   "codemirror_mode": {
    "name": "ipython",
    "version": 3
   },
   "file_extension": ".py",
   "mimetype": "text/x-python",
   "name": "python",
   "nbconvert_exporter": "python",
   "pygments_lexer": "ipython3",
   "version": "3.7.3"
  }
 },
 "nbformat": 4,
 "nbformat_minor": 4
}
