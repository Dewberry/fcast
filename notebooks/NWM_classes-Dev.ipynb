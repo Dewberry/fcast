{
 "cells": [
  {
   "cell_type": "code",
   "execution_count": null,
   "metadata": {},
   "outputs": [],
   "source": [
    "import sys; sys.path.append('..')\n",
    "from fcast import *\n",
    "import gcsfs\n",
    "%matplotlib inline"
   ]
  },
  {
   "cell_type": "code",
   "execution_count": null,
   "metadata": {},
   "outputs": [],
   "source": [
    "fs = gcsfs.GCSFileSystem(project='national-water-model')"
   ]
  },
  {
   "cell_type": "code",
   "execution_count": null,
   "metadata": {},
   "outputs": [],
   "source": [
    "date = '20190802' # a date\n",
    "start_hr = '00' # start at 00:00 because its easy at the moment\n",
    "comid = 4512772 # some small segment on the Potomac near DC\n",
    "# comid = 229757 # the South Platte River in Denver\n",
    "# comid = 7471678 # somewhere on the Mississippi River"
   ]
  },
  {
   "cell_type": "code",
   "execution_count": null,
   "metadata": {},
   "outputs": [],
   "source": [
    "x = Assim(fs, comid, date, start_hr)"
   ]
  },
  {
   "cell_type": "raw",
   "metadata": {},
   "source": [
    "x.copy_to_local(r'data\\test')"
   ]
  },
  {
   "cell_type": "code",
   "execution_count": null,
   "metadata": {},
   "outputs": [],
   "source": [
    "x.assim_time"
   ]
  },
  {
   "cell_type": "code",
   "execution_count": null,
   "metadata": {},
   "outputs": [],
   "source": [
    "sr = ShortRange(fs, comid, date, start_hr)"
   ]
  },
  {
   "cell_type": "raw",
   "metadata": {},
   "source": [
    "sr.copy_to_local(r'data\\test')"
   ]
  },
  {
   "cell_type": "code",
   "execution_count": null,
   "metadata": {},
   "outputs": [],
   "source": [
    "df = sr.get_streamflow(x.assim_time, x.assim_flow)"
   ]
  },
  {
   "cell_type": "code",
   "execution_count": null,
   "metadata": {},
   "outputs": [],
   "source": [
    "plotShortRange(df, comid)"
   ]
  },
  {
   "cell_type": "code",
   "execution_count": null,
   "metadata": {},
   "outputs": [],
   "source": [
    "sr.forecast_hours"
   ]
  },
  {
   "cell_type": "raw",
   "metadata": {},
   "source": [
    "res = get_USGS_rc(comid)\n",
    "print(res[0])\n",
    "res[1].head()"
   ]
  },
  {
   "cell_type": "code",
   "execution_count": null,
   "metadata": {},
   "outputs": [],
   "source": [
    "mr = MediumRange(fs, comid, date, start_hr)"
   ]
  },
  {
   "cell_type": "raw",
   "metadata": {},
   "source": [
    "res = mr.get_NWM_rc()\n",
    "print(res[0])\n",
    "res[1].head()"
   ]
  },
  {
   "cell_type": "code",
   "execution_count": null,
   "metadata": {},
   "outputs": [],
   "source": [
    "df = mr.get_streamflow(x.assim_time, x.assim_flow)\n",
    "plotMediumRange(df, comid)"
   ]
  },
  {
   "cell_type": "markdown",
   "metadata": {},
   "source": [
    "## Selecting specific members"
   ]
  },
  {
   "cell_type": "code",
   "execution_count": null,
   "metadata": {},
   "outputs": [],
   "source": [
    "mr = MediumRange(fs, comid, date, start_hr, members=[1,4,6])"
   ]
  },
  {
   "cell_type": "raw",
   "metadata": {},
   "source": [
    "mr.copy_to_local(r'data\\test')"
   ]
  },
  {
   "cell_type": "code",
   "execution_count": null,
   "metadata": {},
   "outputs": [],
   "source": [
    "df = mr.get_streamflow(x.assim_time, x.assim_flow)\n",
    "plotMediumRange(df, comid)"
   ]
  },
  {
   "cell_type": "code",
   "execution_count": null,
   "metadata": {},
   "outputs": [],
   "source": [
    "df.head()"
   ]
  }
 ],
 "metadata": {
  "kernelspec": {
   "display_name": "Python 3",
   "language": "python",
   "name": "python3"
  },
  "language_info": {
   "codemirror_mode": {
    "name": "ipython",
    "version": 3
   },
   "file_extension": ".py",
   "mimetype": "text/x-python",
   "name": "python",
   "nbconvert_exporter": "python",
   "pygments_lexer": "ipython3",
   "version": "3.7.4"
  }
 },
 "nbformat": 4,
 "nbformat_minor": 4
}
