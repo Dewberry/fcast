{
 "cells": [
  {
   "cell_type": "code",
   "execution_count": 1,
   "metadata": {},
   "outputs": [],
   "source": [
    "import xarray as xr\n",
    "import geopandas as gpd\n",
    "import pandas as pd\n",
    "from shapely.geometry import Point\n",
    "import gcsfs\n",
    "from time import time\n",
    "from shapely.vectorized import contains\n",
    "import numpy as np\n",
    "\n",
    "import warnings\n",
    "warnings.filterwarnings(\"ignore\")\n",
    "%matplotlib inline"
   ]
  },
  {
   "cell_type": "code",
   "execution_count": 2,
   "metadata": {},
   "outputs": [],
   "source": [
    "comid = 4512772 # some small segment on the Potomac near DC\n",
    "sp_idx_fp = 'data/nwm-v1.2-channel_spatial_index.nc'"
   ]
  },
  {
   "cell_type": "code",
   "execution_count": 3,
   "metadata": {},
   "outputs": [],
   "source": [
    "# fs = gcsfs.GCSFileSystem(project='floodcast')\n",
    "# d = fs.open('fcast/datastore/NWM/nwm-v1.2-channel_spatial_index.nc')\n",
    "# ds = xr.open_dataset(d)"
   ]
  },
  {
   "cell_type": "markdown",
   "metadata": {},
   "source": [
    "# Open the spatial index file"
   ]
  },
  {
   "cell_type": "code",
   "execution_count": 6,
   "metadata": {},
   "outputs": [],
   "source": [
    "ds = xr.open_dataset(sp_idx_fp)\n",
    "pt = Point(float(ds.sel(feature_id=comid)['longitude']), float(ds.sel(feature_id=comid)['latitude']))\n",
    "# pt"
   ]
  },
  {
   "cell_type": "code",
   "execution_count": 8,
   "metadata": {},
   "outputs": [
    {
     "data": {
      "text/html": [
       "<div>\n",
       "<style scoped>\n",
       "    .dataframe tbody tr th:only-of-type {\n",
       "        vertical-align: middle;\n",
       "    }\n",
       "\n",
       "    .dataframe tbody tr th {\n",
       "        vertical-align: top;\n",
       "    }\n",
       "\n",
       "    .dataframe thead th {\n",
       "        text-align: right;\n",
       "    }\n",
       "</style>\n",
       "<table border=\"1\" class=\"dataframe\">\n",
       "  <thead>\n",
       "    <tr style=\"text-align: right;\">\n",
       "      <th></th>\n",
       "      <th>latitude</th>\n",
       "      <th>longitude</th>\n",
       "    </tr>\n",
       "    <tr>\n",
       "      <th>feature_id</th>\n",
       "      <th></th>\n",
       "      <th></th>\n",
       "    </tr>\n",
       "  </thead>\n",
       "  <tbody>\n",
       "    <tr>\n",
       "      <th>101</th>\n",
       "      <td>31.086876</td>\n",
       "      <td>-94.640541</td>\n",
       "    </tr>\n",
       "    <tr>\n",
       "      <th>179</th>\n",
       "      <td>46.022163</td>\n",
       "      <td>-67.986412</td>\n",
       "    </tr>\n",
       "    <tr>\n",
       "      <th>181</th>\n",
       "      <td>46.016491</td>\n",
       "      <td>-67.998726</td>\n",
       "    </tr>\n",
       "    <tr>\n",
       "      <th>183</th>\n",
       "      <td>46.020847</td>\n",
       "      <td>-67.998833</td>\n",
       "    </tr>\n",
       "    <tr>\n",
       "      <th>185</th>\n",
       "      <td>46.019714</td>\n",
       "      <td>-67.998619</td>\n",
       "    </tr>\n",
       "  </tbody>\n",
       "</table>\n",
       "</div>"
      ],
      "text/plain": [
       "             latitude  longitude\n",
       "feature_id                      \n",
       "101         31.086876 -94.640541\n",
       "179         46.022163 -67.986412\n",
       "181         46.016491 -67.998726\n",
       "183         46.020847 -67.998833\n",
       "185         46.019714 -67.998619"
      ]
     },
     "execution_count": 8,
     "metadata": {},
     "output_type": "execute_result"
    }
   ],
   "source": [
    "# Make it a dataframe\n",
    "df = ds.to_dataframe()\n",
    "df.head()"
   ]
  },
  {
   "cell_type": "markdown",
   "metadata": {},
   "source": [
    "# Give each point a state fips code"
   ]
  },
  {
   "cell_type": "code",
   "execution_count": 9,
   "metadata": {},
   "outputs": [],
   "source": [
    "# a shapefile of states, to identify which points are in which state. Spatial reduction method\n",
    "stateshp = r'C:\\Data\\Boundaries\\cb_2017_us_state_500k\\cb_2017_us_state_500k.shp'\n",
    "usgdf = gpd.read_file(stateshp)\n",
    "usgdf = usgdf.copy().to_crs(ds.proj4)"
   ]
  },
  {
   "cell_type": "code",
   "execution_count": 10,
   "metadata": {},
   "outputs": [
    {
     "data": {
      "text/plain": [
       "<matplotlib.axes._subplots.AxesSubplot at 0x24fae52bd88>"
      ]
     },
     "execution_count": 10,
     "metadata": {},
     "output_type": "execute_result"
    },
    {
     "data": {
      "image/png": "[encoded data removed]",
      "text/plain": [
       "<Figure size 432x288 with 1 Axes>"
      ]
     },
     "metadata": {
      "needs_background": "light"
     },
     "output_type": "display_data"
    }
   ],
   "source": [
    "usgdf.plot()"
   ]
  },
  {
   "cell_type": "code",
   "execution_count": 11,
   "metadata": {},
   "outputs": [
    {
     "name": "stdout",
     "output_type": "stream",
     "text": [
      "length of x: 2729077, length of y: 2729077\n"
     ]
    }
   ],
   "source": [
    "x = df['longitude'].to_numpy()\n",
    "y = df['latitude'].to_numpy()\n",
    "print(f'length of x: {len(x)}, length of y: {len(y)}')\n",
    "assert len(x) == len(y), 'Error: there are x or y points missing'"
   ]
  },
  {
   "cell_type": "code",
   "execution_count": 12,
   "metadata": {},
   "outputs": [
    {
     "name": "stdout",
     "output_type": "stream",
     "text": [
      "Proccessing time = 1.13 minutes\n"
     ]
    }
   ],
   "source": [
    "start = time()\n",
    "\n",
    "for i, g in enumerate(usgdf.geometry.tolist()):\n",
    "    bmask = contains(g, x, y)\n",
    "    geoid = usgdf.iloc[i]['GEOID']\n",
    "    df['bool'] = bmask\n",
    "    df.loc[df['bool'] == True, 'ST'] = geoid\n",
    "\n",
    "print('Proccessing time = {} minutes'.format(round((time()-start)/60,2)))"
   ]
  },
  {
   "cell_type": "code",
   "execution_count": 13,
   "metadata": {},
   "outputs": [
    {
     "data": {
      "text/html": [
       "<div>\n",
       "<style scoped>\n",
       "    .dataframe tbody tr th:only-of-type {\n",
       "        vertical-align: middle;\n",
       "    }\n",
       "\n",
       "    .dataframe tbody tr th {\n",
       "        vertical-align: top;\n",
       "    }\n",
       "\n",
       "    .dataframe thead th {\n",
       "        text-align: right;\n",
       "    }\n",
       "</style>\n",
       "<table border=\"1\" class=\"dataframe\">\n",
       "  <thead>\n",
       "    <tr style=\"text-align: right;\">\n",
       "      <th></th>\n",
       "      <th>latitude</th>\n",
       "      <th>longitude</th>\n",
       "      <th>ST</th>\n",
       "    </tr>\n",
       "    <tr>\n",
       "      <th>feature_id</th>\n",
       "      <th></th>\n",
       "      <th></th>\n",
       "      <th></th>\n",
       "    </tr>\n",
       "  </thead>\n",
       "  <tbody>\n",
       "    <tr>\n",
       "      <th>101</th>\n",
       "      <td>31.086876</td>\n",
       "      <td>-94.640541</td>\n",
       "      <td>48</td>\n",
       "    </tr>\n",
       "    <tr>\n",
       "      <th>179</th>\n",
       "      <td>46.022163</td>\n",
       "      <td>-67.986412</td>\n",
       "      <td>23</td>\n",
       "    </tr>\n",
       "    <tr>\n",
       "      <th>181</th>\n",
       "      <td>46.016491</td>\n",
       "      <td>-67.998726</td>\n",
       "      <td>23</td>\n",
       "    </tr>\n",
       "    <tr>\n",
       "      <th>183</th>\n",
       "      <td>46.020847</td>\n",
       "      <td>-67.998833</td>\n",
       "      <td>23</td>\n",
       "    </tr>\n",
       "    <tr>\n",
       "      <th>185</th>\n",
       "      <td>46.019714</td>\n",
       "      <td>-67.998619</td>\n",
       "      <td>23</td>\n",
       "    </tr>\n",
       "  </tbody>\n",
       "</table>\n",
       "</div>"
      ],
      "text/plain": [
       "             latitude  longitude  ST\n",
       "feature_id                          \n",
       "101         31.086876 -94.640541  48\n",
       "179         46.022163 -67.986412  23\n",
       "181         46.016491 -67.998726  23\n",
       "183         46.020847 -67.998833  23\n",
       "185         46.019714 -67.998619  23"
      ]
     },
     "execution_count": 13,
     "metadata": {},
     "output_type": "execute_result"
    }
   ],
   "source": [
    "df = df.drop('bool', axis=1)\n",
    "df.head()"
   ]
  },
  {
   "cell_type": "markdown",
   "metadata": {},
   "source": [
    "# Give each point a county fips code"
   ]
  },
  {
   "cell_type": "code",
   "execution_count": 14,
   "metadata": {},
   "outputs": [
    {
     "data": {
      "text/plain": [
       "<matplotlib.axes._subplots.AxesSubplot at 0x24fc08d1a08>"
      ]
     },
     "execution_count": 14,
     "metadata": {},
     "output_type": "execute_result"
    },
    {
     "data": {
      "image/png": "[encoded data removed]",
      "text/plain": [
       "<Figure size 432x288 with 1 Axes>"
      ]
     },
     "metadata": {
      "needs_background": "light"
     },
     "output_type": "display_data"
    }
   ],
   "source": [
    "countyshp = r\"C:\\Data\\Boundaries\\cb_2017_us_county_500k\\cb_2017_us_county_500k.shp\"\n",
    "county_gdf = gpd.read_file(countyshp)\n",
    "county_gdf = county_gdf.copy().to_crs(ds.proj4)\n",
    "county_gdf.plot()"
   ]
  },
  {
   "cell_type": "code",
   "execution_count": 15,
   "metadata": {},
   "outputs": [
    {
     "data": {
      "text/html": [
       "<div>\n",
       "<style scoped>\n",
       "    .dataframe tbody tr th:only-of-type {\n",
       "        vertical-align: middle;\n",
       "    }\n",
       "\n",
       "    .dataframe tbody tr th {\n",
       "        vertical-align: top;\n",
       "    }\n",
       "\n",
       "    .dataframe thead th {\n",
       "        text-align: right;\n",
       "    }\n",
       "</style>\n",
       "<table border=\"1\" class=\"dataframe\">\n",
       "  <thead>\n",
       "    <tr style=\"text-align: right;\">\n",
       "      <th></th>\n",
       "      <th>STATEFP</th>\n",
       "      <th>COUNTYFP</th>\n",
       "      <th>COUNTYNS</th>\n",
       "      <th>AFFGEOID</th>\n",
       "      <th>GEOID</th>\n",
       "      <th>NAME</th>\n",
       "      <th>LSAD</th>\n",
       "      <th>ALAND</th>\n",
       "      <th>AWATER</th>\n",
       "      <th>geometry</th>\n",
       "    </tr>\n",
       "  </thead>\n",
       "  <tbody>\n",
       "    <tr>\n",
       "      <th>0</th>\n",
       "      <td>01</td>\n",
       "      <td>005</td>\n",
       "      <td>00161528</td>\n",
       "      <td>0500000US01005</td>\n",
       "      <td>01005</td>\n",
       "      <td>Barbour</td>\n",
       "      <td>06</td>\n",
       "      <td>2292144656</td>\n",
       "      <td>50538698</td>\n",
       "      <td>POLYGON ((-85.74803 31.61918, -85.74544 31.618...</td>\n",
       "    </tr>\n",
       "    <tr>\n",
       "      <th>1</th>\n",
       "      <td>01</td>\n",
       "      <td>023</td>\n",
       "      <td>00161537</td>\n",
       "      <td>0500000US01023</td>\n",
       "      <td>01023</td>\n",
       "      <td>Choctaw</td>\n",
       "      <td>06</td>\n",
       "      <td>2365869837</td>\n",
       "      <td>19144469</td>\n",
       "      <td>POLYGON ((-88.47323 31.89386, -88.46888 31.930...</td>\n",
       "    </tr>\n",
       "    <tr>\n",
       "      <th>2</th>\n",
       "      <td>01</td>\n",
       "      <td>035</td>\n",
       "      <td>00161543</td>\n",
       "      <td>0500000US01035</td>\n",
       "      <td>01035</td>\n",
       "      <td>Conecuh</td>\n",
       "      <td>06</td>\n",
       "      <td>2201948618</td>\n",
       "      <td>6643480</td>\n",
       "      <td>POLYGON ((-87.42720 31.26436, -87.42551 31.268...</td>\n",
       "    </tr>\n",
       "    <tr>\n",
       "      <th>3</th>\n",
       "      <td>01</td>\n",
       "      <td>051</td>\n",
       "      <td>00161551</td>\n",
       "      <td>0500000US01051</td>\n",
       "      <td>01051</td>\n",
       "      <td>Elmore</td>\n",
       "      <td>06</td>\n",
       "      <td>1601762124</td>\n",
       "      <td>99965171</td>\n",
       "      <td>POLYGON ((-86.41333 32.75059, -86.37115 32.750...</td>\n",
       "    </tr>\n",
       "    <tr>\n",
       "      <th>4</th>\n",
       "      <td>01</td>\n",
       "      <td>065</td>\n",
       "      <td>00161558</td>\n",
       "      <td>0500000US01065</td>\n",
       "      <td>01065</td>\n",
       "      <td>Hale</td>\n",
       "      <td>06</td>\n",
       "      <td>1667907107</td>\n",
       "      <td>32423356</td>\n",
       "      <td>POLYGON ((-87.87046 32.76244, -87.86818 32.765...</td>\n",
       "    </tr>\n",
       "  </tbody>\n",
       "</table>\n",
       "</div>"
      ],
      "text/plain": [
       "  STATEFP COUNTYFP  COUNTYNS        AFFGEOID  GEOID     NAME LSAD       ALAND  \\\n",
       "0      01      005  00161528  0500000US01005  01005  Barbour   06  2292144656   \n",
       "1      01      023  00161537  0500000US01023  01023  Choctaw   06  2365869837   \n",
       "2      01      035  00161543  0500000US01035  01035  Conecuh   06  2201948618   \n",
       "3      01      051  00161551  0500000US01051  01051   Elmore   06  1601762124   \n",
       "4      01      065  00161558  0500000US01065  01065     Hale   06  1667907107   \n",
       "\n",
       "     AWATER                                           geometry  \n",
       "0  50538698  POLYGON ((-85.74803 31.61918, -85.74544 31.618...  \n",
       "1  19144469  POLYGON ((-88.47323 31.89386, -88.46888 31.930...  \n",
       "2   6643480  POLYGON ((-87.42720 31.26436, -87.42551 31.268...  \n",
       "3  99965171  POLYGON ((-86.41333 32.75059, -86.37115 32.750...  \n",
       "4  32423356  POLYGON ((-87.87046 32.76244, -87.86818 32.765...  "
      ]
     },
     "execution_count": 15,
     "metadata": {},
     "output_type": "execute_result"
    }
   ],
   "source": [
    "county_gdf.head()"
   ]
  },
  {
   "cell_type": "code",
   "execution_count": 16,
   "metadata": {},
   "outputs": [
    {
     "name": "stdout",
     "output_type": "stream",
     "text": [
      "Proccessing time = 62.12 minutes\n"
     ]
    }
   ],
   "source": [
    "start = time()\n",
    "\n",
    "for i, g in enumerate(county_gdf.geometry.tolist()):\n",
    "    bmask = contains(g, x, y)\n",
    "    geoid = county_gdf.iloc[i]['GEOID']\n",
    "    df['bool'] = bmask\n",
    "    df.loc[df['bool'] == True, 'CNTY'] = geoid\n",
    "\n",
    "print('Proccessing time = {} minutes'.format(round((time()-start)/60,2)))"
   ]
  },
  {
   "cell_type": "code",
   "execution_count": 17,
   "metadata": {},
   "outputs": [
    {
     "data": {
      "text/html": [
       "<div>\n",
       "<style scoped>\n",
       "    .dataframe tbody tr th:only-of-type {\n",
       "        vertical-align: middle;\n",
       "    }\n",
       "\n",
       "    .dataframe tbody tr th {\n",
       "        vertical-align: top;\n",
       "    }\n",
       "\n",
       "    .dataframe thead th {\n",
       "        text-align: right;\n",
       "    }\n",
       "</style>\n",
       "<table border=\"1\" class=\"dataframe\">\n",
       "  <thead>\n",
       "    <tr style=\"text-align: right;\">\n",
       "      <th></th>\n",
       "      <th>latitude</th>\n",
       "      <th>longitude</th>\n",
       "      <th>ST</th>\n",
       "      <th>CNTY</th>\n",
       "    </tr>\n",
       "    <tr>\n",
       "      <th>feature_id</th>\n",
       "      <th></th>\n",
       "      <th></th>\n",
       "      <th></th>\n",
       "      <th></th>\n",
       "    </tr>\n",
       "  </thead>\n",
       "  <tbody>\n",
       "    <tr>\n",
       "      <th>101</th>\n",
       "      <td>31.086876</td>\n",
       "      <td>-94.640541</td>\n",
       "      <td>48</td>\n",
       "      <td>48373</td>\n",
       "    </tr>\n",
       "    <tr>\n",
       "      <th>179</th>\n",
       "      <td>46.022163</td>\n",
       "      <td>-67.986412</td>\n",
       "      <td>23</td>\n",
       "      <td>23003</td>\n",
       "    </tr>\n",
       "    <tr>\n",
       "      <th>181</th>\n",
       "      <td>46.016491</td>\n",
       "      <td>-67.998726</td>\n",
       "      <td>23</td>\n",
       "      <td>23003</td>\n",
       "    </tr>\n",
       "    <tr>\n",
       "      <th>183</th>\n",
       "      <td>46.020847</td>\n",
       "      <td>-67.998833</td>\n",
       "      <td>23</td>\n",
       "      <td>23003</td>\n",
       "    </tr>\n",
       "    <tr>\n",
       "      <th>185</th>\n",
       "      <td>46.019714</td>\n",
       "      <td>-67.998619</td>\n",
       "      <td>23</td>\n",
       "      <td>23003</td>\n",
       "    </tr>\n",
       "  </tbody>\n",
       "</table>\n",
       "</div>"
      ],
      "text/plain": [
       "             latitude  longitude  ST   CNTY\n",
       "feature_id                                 \n",
       "101         31.086876 -94.640541  48  48373\n",
       "179         46.022163 -67.986412  23  23003\n",
       "181         46.016491 -67.998726  23  23003\n",
       "183         46.020847 -67.998833  23  23003\n",
       "185         46.019714 -67.998619  23  23003"
      ]
     },
     "execution_count": 17,
     "metadata": {},
     "output_type": "execute_result"
    }
   ],
   "source": [
    "df = df.drop('bool', axis=1)\n",
    "df.head()"
   ]
  },
  {
   "cell_type": "markdown",
   "metadata": {},
   "source": [
    "## Save half way"
   ]
  },
  {
   "cell_type": "code",
   "execution_count": 18,
   "metadata": {},
   "outputs": [],
   "source": [
    "df.to_csv('data/nwm_lookup_table_intermediate.csv')"
   ]
  },
  {
   "cell_type": "markdown",
   "metadata": {},
   "source": [
    "# Give each point some well-known-text"
   ]
  },
  {
   "cell_type": "code",
   "execution_count": 19,
   "metadata": {},
   "outputs": [
    {
     "data": {
      "text/html": [
       "<div>\n",
       "<style scoped>\n",
       "    .dataframe tbody tr th:only-of-type {\n",
       "        vertical-align: middle;\n",
       "    }\n",
       "\n",
       "    .dataframe tbody tr th {\n",
       "        vertical-align: top;\n",
       "    }\n",
       "\n",
       "    .dataframe thead th {\n",
       "        text-align: right;\n",
       "    }\n",
       "</style>\n",
       "<table border=\"1\" class=\"dataframe\">\n",
       "  <thead>\n",
       "    <tr style=\"text-align: right;\">\n",
       "      <th></th>\n",
       "      <th>latitude</th>\n",
       "      <th>longitude</th>\n",
       "      <th>ST</th>\n",
       "      <th>CNTY</th>\n",
       "      <th>geometry</th>\n",
       "    </tr>\n",
       "    <tr>\n",
       "      <th>feature_id</th>\n",
       "      <th></th>\n",
       "      <th></th>\n",
       "      <th></th>\n",
       "      <th></th>\n",
       "      <th></th>\n",
       "    </tr>\n",
       "  </thead>\n",
       "  <tbody>\n",
       "    <tr>\n",
       "      <th>101</th>\n",
       "      <td>31.086876</td>\n",
       "      <td>-94.640541</td>\n",
       "      <td>48</td>\n",
       "      <td>48373</td>\n",
       "      <td>POINT (-94.64054 31.08688)</td>\n",
       "    </tr>\n",
       "    <tr>\n",
       "      <th>179</th>\n",
       "      <td>46.022163</td>\n",
       "      <td>-67.986412</td>\n",
       "      <td>23</td>\n",
       "      <td>23003</td>\n",
       "      <td>POINT (-67.98641 46.02216)</td>\n",
       "    </tr>\n",
       "    <tr>\n",
       "      <th>181</th>\n",
       "      <td>46.016491</td>\n",
       "      <td>-67.998726</td>\n",
       "      <td>23</td>\n",
       "      <td>23003</td>\n",
       "      <td>POINT (-67.99873 46.01649)</td>\n",
       "    </tr>\n",
       "    <tr>\n",
       "      <th>183</th>\n",
       "      <td>46.020847</td>\n",
       "      <td>-67.998833</td>\n",
       "      <td>23</td>\n",
       "      <td>23003</td>\n",
       "      <td>POINT (-67.99883 46.02085)</td>\n",
       "    </tr>\n",
       "    <tr>\n",
       "      <th>185</th>\n",
       "      <td>46.019714</td>\n",
       "      <td>-67.998619</td>\n",
       "      <td>23</td>\n",
       "      <td>23003</td>\n",
       "      <td>POINT (-67.99862 46.01971)</td>\n",
       "    </tr>\n",
       "  </tbody>\n",
       "</table>\n",
       "</div>"
      ],
      "text/plain": [
       "             latitude  longitude  ST   CNTY                    geometry\n",
       "feature_id                                                             \n",
       "101         31.086876 -94.640541  48  48373  POINT (-94.64054 31.08688)\n",
       "179         46.022163 -67.986412  23  23003  POINT (-67.98641 46.02216)\n",
       "181         46.016491 -67.998726  23  23003  POINT (-67.99873 46.01649)\n",
       "183         46.020847 -67.998833  23  23003  POINT (-67.99883 46.02085)\n",
       "185         46.019714 -67.998619  23  23003  POINT (-67.99862 46.01971)"
      ]
     },
     "execution_count": 19,
     "metadata": {},
     "output_type": "execute_result"
    }
   ],
   "source": [
    "gdf = gpd.GeoDataFrame(df, geometry=[Point(c) for c in list(zip(df.longitude, df.latitude))])\n",
    "gdf.crs = ds.proj4\n",
    "gdf.head()"
   ]
  },
  {
   "cell_type": "code",
   "execution_count": 20,
   "metadata": {},
   "outputs": [
    {
     "data": {
      "text/html": [
       "<div>\n",
       "<style scoped>\n",
       "    .dataframe tbody tr th:only-of-type {\n",
       "        vertical-align: middle;\n",
       "    }\n",
       "\n",
       "    .dataframe tbody tr th {\n",
       "        vertical-align: top;\n",
       "    }\n",
       "\n",
       "    .dataframe thead th {\n",
       "        text-align: right;\n",
       "    }\n",
       "</style>\n",
       "<table border=\"1\" class=\"dataframe\">\n",
       "  <thead>\n",
       "    <tr style=\"text-align: right;\">\n",
       "      <th></th>\n",
       "      <th>latitude</th>\n",
       "      <th>longitude</th>\n",
       "      <th>ST</th>\n",
       "      <th>CNTY</th>\n",
       "      <th>geometry</th>\n",
       "      <th>pt_wkt</th>\n",
       "    </tr>\n",
       "    <tr>\n",
       "      <th>feature_id</th>\n",
       "      <th></th>\n",
       "      <th></th>\n",
       "      <th></th>\n",
       "      <th></th>\n",
       "      <th></th>\n",
       "      <th></th>\n",
       "    </tr>\n",
       "  </thead>\n",
       "  <tbody>\n",
       "    <tr>\n",
       "      <th>101</th>\n",
       "      <td>31.086876</td>\n",
       "      <td>-94.640541</td>\n",
       "      <td>48</td>\n",
       "      <td>48373</td>\n",
       "      <td>POINT (-94.64054 31.08688)</td>\n",
       "      <td>POINT (-94.6405410766601563 31.0868759155273438)</td>\n",
       "    </tr>\n",
       "    <tr>\n",
       "      <th>179</th>\n",
       "      <td>46.022163</td>\n",
       "      <td>-67.986412</td>\n",
       "      <td>23</td>\n",
       "      <td>23003</td>\n",
       "      <td>POINT (-67.98641 46.02216)</td>\n",
       "      <td>POINT (-67.9864120483398438 46.0221633911132813)</td>\n",
       "    </tr>\n",
       "    <tr>\n",
       "      <th>181</th>\n",
       "      <td>46.016491</td>\n",
       "      <td>-67.998726</td>\n",
       "      <td>23</td>\n",
       "      <td>23003</td>\n",
       "      <td>POINT (-67.99873 46.01649)</td>\n",
       "      <td>POINT (-67.9987258911132813 46.0164909362792969)</td>\n",
       "    </tr>\n",
       "    <tr>\n",
       "      <th>183</th>\n",
       "      <td>46.020847</td>\n",
       "      <td>-67.998833</td>\n",
       "      <td>23</td>\n",
       "      <td>23003</td>\n",
       "      <td>POINT (-67.99883 46.02085)</td>\n",
       "      <td>POINT (-67.9988327026367188 46.0208473205566406)</td>\n",
       "    </tr>\n",
       "    <tr>\n",
       "      <th>185</th>\n",
       "      <td>46.019714</td>\n",
       "      <td>-67.998619</td>\n",
       "      <td>23</td>\n",
       "      <td>23003</td>\n",
       "      <td>POINT (-67.99862 46.01971)</td>\n",
       "      <td>POINT (-67.9986190795898438 46.0197143554687500)</td>\n",
       "    </tr>\n",
       "  </tbody>\n",
       "</table>\n",
       "</div>"
      ],
      "text/plain": [
       "             latitude  longitude  ST   CNTY                    geometry  \\\n",
       "feature_id                                                                \n",
       "101         31.086876 -94.640541  48  48373  POINT (-94.64054 31.08688)   \n",
       "179         46.022163 -67.986412  23  23003  POINT (-67.98641 46.02216)   \n",
       "181         46.016491 -67.998726  23  23003  POINT (-67.99873 46.01649)   \n",
       "183         46.020847 -67.998833  23  23003  POINT (-67.99883 46.02085)   \n",
       "185         46.019714 -67.998619  23  23003  POINT (-67.99862 46.01971)   \n",
       "\n",
       "                                                      pt_wkt  \n",
       "feature_id                                                    \n",
       "101         POINT (-94.6405410766601563 31.0868759155273438)  \n",
       "179         POINT (-67.9864120483398438 46.0221633911132813)  \n",
       "181         POINT (-67.9987258911132813 46.0164909362792969)  \n",
       "183         POINT (-67.9988327026367188 46.0208473205566406)  \n",
       "185         POINT (-67.9986190795898438 46.0197143554687500)  "
      ]
     },
     "execution_count": 20,
     "metadata": {},
     "output_type": "execute_result"
    }
   ],
   "source": [
    "gdf['pt_wkt'] = gdf.geometry.apply(lambda x: x.to_wkt())\n",
    "gdf.head()"
   ]
  },
  {
   "cell_type": "code",
   "execution_count": 23,
   "metadata": {},
   "outputs": [
    {
     "data": {
      "text/html": [
       "<div>\n",
       "<style scoped>\n",
       "    .dataframe tbody tr th:only-of-type {\n",
       "        vertical-align: middle;\n",
       "    }\n",
       "\n",
       "    .dataframe tbody tr th {\n",
       "        vertical-align: top;\n",
       "    }\n",
       "\n",
       "    .dataframe thead th {\n",
       "        text-align: right;\n",
       "    }\n",
       "</style>\n",
       "<table border=\"1\" class=\"dataframe\">\n",
       "  <thead>\n",
       "    <tr style=\"text-align: right;\">\n",
       "      <th></th>\n",
       "      <th>latitude</th>\n",
       "      <th>longitude</th>\n",
       "      <th>ST</th>\n",
       "      <th>CNTY</th>\n",
       "      <th>pt_wkt</th>\n",
       "    </tr>\n",
       "    <tr>\n",
       "      <th>feature_id</th>\n",
       "      <th></th>\n",
       "      <th></th>\n",
       "      <th></th>\n",
       "      <th></th>\n",
       "      <th></th>\n",
       "    </tr>\n",
       "  </thead>\n",
       "  <tbody>\n",
       "    <tr>\n",
       "      <th>101</th>\n",
       "      <td>31.086876</td>\n",
       "      <td>-94.640541</td>\n",
       "      <td>48</td>\n",
       "      <td>48373</td>\n",
       "      <td>POINT (-94.6405410766601563 31.0868759155273438)</td>\n",
       "    </tr>\n",
       "    <tr>\n",
       "      <th>179</th>\n",
       "      <td>46.022163</td>\n",
       "      <td>-67.986412</td>\n",
       "      <td>23</td>\n",
       "      <td>23003</td>\n",
       "      <td>POINT (-67.9864120483398438 46.0221633911132813)</td>\n",
       "    </tr>\n",
       "    <tr>\n",
       "      <th>181</th>\n",
       "      <td>46.016491</td>\n",
       "      <td>-67.998726</td>\n",
       "      <td>23</td>\n",
       "      <td>23003</td>\n",
       "      <td>POINT (-67.9987258911132813 46.0164909362792969)</td>\n",
       "    </tr>\n",
       "    <tr>\n",
       "      <th>183</th>\n",
       "      <td>46.020847</td>\n",
       "      <td>-67.998833</td>\n",
       "      <td>23</td>\n",
       "      <td>23003</td>\n",
       "      <td>POINT (-67.9988327026367188 46.0208473205566406)</td>\n",
       "    </tr>\n",
       "    <tr>\n",
       "      <th>185</th>\n",
       "      <td>46.019714</td>\n",
       "      <td>-67.998619</td>\n",
       "      <td>23</td>\n",
       "      <td>23003</td>\n",
       "      <td>POINT (-67.9986190795898438 46.0197143554687500)</td>\n",
       "    </tr>\n",
       "  </tbody>\n",
       "</table>\n",
       "</div>"
      ],
      "text/plain": [
       "             latitude  longitude  ST   CNTY  \\\n",
       "feature_id                                    \n",
       "101         31.086876 -94.640541  48  48373   \n",
       "179         46.022163 -67.986412  23  23003   \n",
       "181         46.016491 -67.998726  23  23003   \n",
       "183         46.020847 -67.998833  23  23003   \n",
       "185         46.019714 -67.998619  23  23003   \n",
       "\n",
       "                                                      pt_wkt  \n",
       "feature_id                                                    \n",
       "101         POINT (-94.6405410766601563 31.0868759155273438)  \n",
       "179         POINT (-67.9864120483398438 46.0221633911132813)  \n",
       "181         POINT (-67.9987258911132813 46.0164909362792969)  \n",
       "183         POINT (-67.9988327026367188 46.0208473205566406)  \n",
       "185         POINT (-67.9986190795898438 46.0197143554687500)  "
      ]
     },
     "execution_count": 23,
     "metadata": {},
     "output_type": "execute_result"
    }
   ],
   "source": [
    "out_df = pd.DataFrame(gdf.drop('geometry', axis=1))\n",
    "out_df.head()"
   ]
  },
  {
   "cell_type": "markdown",
   "metadata": {},
   "source": [
    "## Overwrite the half way save file"
   ]
  },
  {
   "cell_type": "code",
   "execution_count": 24,
   "metadata": {},
   "outputs": [],
   "source": [
    "out_df.to_csv('data/nwm_lookup_table_intermediate.csv')"
   ]
  },
  {
   "cell_type": "markdown",
   "metadata": {},
   "source": [
    "# Why are there nan values..?"
   ]
  },
  {
   "cell_type": "code",
   "execution_count": 58,
   "metadata": {},
   "outputs": [],
   "source": [
    "test_out_df = out_df.fillna(9999)"
   ]
  },
  {
   "cell_type": "code",
   "execution_count": 60,
   "metadata": {},
   "outputs": [
    {
     "data": {
      "text/plain": [
       "63004"
      ]
     },
     "execution_count": 60,
     "metadata": {},
     "output_type": "execute_result"
    }
   ],
   "source": [
    "count = 0\n",
    "for i, f in enumerate(test_out_df.ST):\n",
    "    if not type(f) == str:\n",
    "        count +=1\n",
    "count"
   ]
  },
  {
   "cell_type": "code",
   "execution_count": 61,
   "metadata": {},
   "outputs": [],
   "source": [
    "coastals = test_out_df.loc[test_out_df.ST == 9999]"
   ]
  },
  {
   "cell_type": "code",
   "execution_count": 62,
   "metadata": {},
   "outputs": [],
   "source": [
    "coastals_gdf = gpd.GeoDataFrame(coastals, geometry=[Point(c) for c in list(zip(coastals.longitude, coastals.latitude))])\n",
    "coastals_gdf.crs = ds.proj4"
   ]
  },
  {
   "cell_type": "code",
   "execution_count": 65,
   "metadata": {},
   "outputs": [
    {
     "data": {
      "text/plain": [
       "<matplotlib.axes._subplots.AxesSubplot at 0x24fdc9bc688>"
      ]
     },
     "execution_count": 65,
     "metadata": {},
     "output_type": "execute_result"
    },
    {
     "data": {
      "image/png": "[encoded data removed]",
      "text/plain": [
       "<Figure size 1440x1440 with 1 Axes>"
      ]
     },
     "metadata": {
      "needs_background": "light"
     },
     "output_type": "display_data"
    }
   ],
   "source": [
    "coastals_gdf.plot(figsize=(20,20))"
   ]
  },
  {
   "cell_type": "code",
   "execution_count": 68,
   "metadata": {},
   "outputs": [],
   "source": [
    "coastals_gdf.reset_index().to_file('data/not_conus_pts.shp')"
   ]
  },
  {
   "cell_type": "code",
   "execution_count": null,
   "metadata": {},
   "outputs": [],
   "source": []
  },
  {
   "cell_type": "code",
   "execution_count": 79,
   "metadata": {},
   "outputs": [
    {
     "name": "stdout",
     "output_type": "stream",
     "text": [
      "MEXICO\n",
      "CANADA\n",
      "COASTAL\n"
     ]
    }
   ],
   "source": [
    "for i, file in enumerate(['data/mexico.shp', 'data/canada.shp', 'data/coastal.shp']):\n",
    "    if i == 0:\n",
    "        code = file.split('.')[0].split('/')[1].upper()\n",
    "        print(code)\n",
    "        geodf = gpd.read_file(file)\n",
    "        geodf['ST'] = code\n",
    "        geodf['CNTY'] = code\n",
    "    else:\n",
    "        code = file.split('.')[0].split('/')[1].upper()\n",
    "        print(code)\n",
    "        geodf1 = gpd.read_file(file)\n",
    "        geodf1['ST'] = code\n",
    "        geodf1['CNTY'] = code\n",
    "        geodf = geodf.append(geodf1)"
   ]
  },
  {
   "cell_type": "code",
   "execution_count": 81,
   "metadata": {},
   "outputs": [],
   "source": [
    "geodf = geodf.set_index('feature_id', drop=True).drop('geometry', axis=1)"
   ]
  },
  {
   "cell_type": "code",
   "execution_count": 82,
   "metadata": {},
   "outputs": [
    {
     "data": {
      "text/html": [
       "<div>\n",
       "<style scoped>\n",
       "    .dataframe tbody tr th:only-of-type {\n",
       "        vertical-align: middle;\n",
       "    }\n",
       "\n",
       "    .dataframe tbody tr th {\n",
       "        vertical-align: top;\n",
       "    }\n",
       "\n",
       "    .dataframe thead th {\n",
       "        text-align: right;\n",
       "    }\n",
       "</style>\n",
       "<table border=\"1\" class=\"dataframe\">\n",
       "  <thead>\n",
       "    <tr style=\"text-align: right;\">\n",
       "      <th></th>\n",
       "      <th>latitude</th>\n",
       "      <th>longitude</th>\n",
       "      <th>ST</th>\n",
       "      <th>CNTY</th>\n",
       "      <th>pt_wkt</th>\n",
       "    </tr>\n",
       "    <tr>\n",
       "      <th>feature_id</th>\n",
       "      <th></th>\n",
       "      <th></th>\n",
       "      <th></th>\n",
       "      <th></th>\n",
       "      <th></th>\n",
       "    </tr>\n",
       "  </thead>\n",
       "  <tbody>\n",
       "    <tr>\n",
       "      <th>1130001096</th>\n",
       "      <td>28.565666</td>\n",
       "      <td>-101.584686</td>\n",
       "      <td>MEXICO</td>\n",
       "      <td>MEXICO</td>\n",
       "      <td>POINT (-101.5846862792968750 28.5656661987304688)</td>\n",
       "    </tr>\n",
       "    <tr>\n",
       "      <th>1130001099</th>\n",
       "      <td>28.560751</td>\n",
       "      <td>-101.929932</td>\n",
       "      <td>MEXICO</td>\n",
       "      <td>MEXICO</td>\n",
       "      <td>POINT (-101.9299316406250000 28.5607509613037109)</td>\n",
       "    </tr>\n",
       "    <tr>\n",
       "      <th>1130001098</th>\n",
       "      <td>28.575823</td>\n",
       "      <td>-101.525703</td>\n",
       "      <td>MEXICO</td>\n",
       "      <td>MEXICO</td>\n",
       "      <td>POINT (-101.5257034301757813 28.5758228302001953)</td>\n",
       "    </tr>\n",
       "    <tr>\n",
       "      <th>1130001101</th>\n",
       "      <td>28.211279</td>\n",
       "      <td>-106.131920</td>\n",
       "      <td>MEXICO</td>\n",
       "      <td>MEXICO</td>\n",
       "      <td>POINT (-106.1319198608398438 28.2112789154052734)</td>\n",
       "    </tr>\n",
       "    <tr>\n",
       "      <th>1130001100</th>\n",
       "      <td>28.553598</td>\n",
       "      <td>-101.923080</td>\n",
       "      <td>MEXICO</td>\n",
       "      <td>MEXICO</td>\n",
       "      <td>POINT (-101.9230804443359375 28.5535984039306641)</td>\n",
       "    </tr>\n",
       "  </tbody>\n",
       "</table>\n",
       "</div>"
      ],
      "text/plain": [
       "             latitude   longitude      ST    CNTY  \\\n",
       "feature_id                                          \n",
       "1130001096  28.565666 -101.584686  MEXICO  MEXICO   \n",
       "1130001099  28.560751 -101.929932  MEXICO  MEXICO   \n",
       "1130001098  28.575823 -101.525703  MEXICO  MEXICO   \n",
       "1130001101  28.211279 -106.131920  MEXICO  MEXICO   \n",
       "1130001100  28.553598 -101.923080  MEXICO  MEXICO   \n",
       "\n",
       "                                                       pt_wkt  \n",
       "feature_id                                                     \n",
       "1130001096  POINT (-101.5846862792968750 28.5656661987304688)  \n",
       "1130001099  POINT (-101.9299316406250000 28.5607509613037109)  \n",
       "1130001098  POINT (-101.5257034301757813 28.5758228302001953)  \n",
       "1130001101  POINT (-106.1319198608398438 28.2112789154052734)  \n",
       "1130001100  POINT (-101.9230804443359375 28.5535984039306641)  "
      ]
     },
     "execution_count": 82,
     "metadata": {},
     "output_type": "execute_result"
    }
   ],
   "source": [
    "geodf.head()"
   ]
  },
  {
   "cell_type": "code",
   "execution_count": 86,
   "metadata": {},
   "outputs": [],
   "source": [
    "forappending = test_out_df.loc[test_out_df.ST != 9999]"
   ]
  },
  {
   "cell_type": "code",
   "execution_count": 87,
   "metadata": {},
   "outputs": [
    {
     "data": {
      "text/plain": [
       "(2666073, 5)"
      ]
     },
     "execution_count": 87,
     "metadata": {},
     "output_type": "execute_result"
    }
   ],
   "source": [
    "forappending.shape"
   ]
  },
  {
   "cell_type": "code",
   "execution_count": 89,
   "metadata": {},
   "outputs": [],
   "source": [
    "final_output = forappending.append(geodf)"
   ]
  },
  {
   "cell_type": "code",
   "execution_count": 91,
   "metadata": {},
   "outputs": [
    {
     "data": {
      "text/plain": [
       "(2729077, 5)"
      ]
     },
     "execution_count": 91,
     "metadata": {},
     "output_type": "execute_result"
    }
   ],
   "source": [
    "final_output.shape"
   ]
  },
  {
   "cell_type": "code",
   "execution_count": 96,
   "metadata": {},
   "outputs": [],
   "source": [
    "for x in final_output.CNTY.unique():\n",
    "    assert type(x) == str "
   ]
  },
  {
   "cell_type": "code",
   "execution_count": 97,
   "metadata": {},
   "outputs": [],
   "source": [
    "final_output.to_csv('data/nwm-v1.2-channel_spatial_index_w_attrs.csv')"
   ]
  },
  {
   "cell_type": "markdown",
   "metadata": {},
   "source": [
    "# Convert it back to a net cdf with the additional data"
   ]
  },
  {
   "cell_type": "code",
   "execution_count": 98,
   "metadata": {},
   "outputs": [],
   "source": [
    "final_nc_ds = xr.Dataset.from_dataframe(final_output)"
   ]
  },
  {
   "cell_type": "code",
   "execution_count": 99,
   "metadata": {},
   "outputs": [
    {
     "data": {
      "text/plain": [
       "<xarray.Dataset>\n",
       "Dimensions:     (feature_id: 2729077)\n",
       "Coordinates:\n",
       "  * feature_id  (feature_id) int64 101 179 181 ... 932040360 947080027 948060094\n",
       "Data variables:\n",
       "    latitude    (feature_id) float64 31.09 46.02 46.02 ... 39.69 46.24 34.43\n",
       "    longitude   (feature_id) float64 -94.64 -67.99 -68.0 ... -123.6 -119.9\n",
       "    ST          (feature_id) object '48' '23' '23' ... 'COASTAL' 'COASTAL'\n",
       "    CNTY        (feature_id) object '48373' '23003' ... 'COASTAL' 'COASTAL'\n",
       "    pt_wkt      (feature_id) object 'POINT (-94.6405410766601563 31.0868759155273438)' ... 'POINT (-119.9183044433593750 34.4312324523925781)'\n",
       "Attributes:\n",
       "    proj4:                +proj=longlat +datum=NAD83 +no_defs\n",
       "    esri_pe_string:       GEOGCS[GCS_North_American_1983,DATUM[D_North_Americ...\n",
       "    model_version:        NWM 1.2\n",
       "    Conventions:          CF-1.6\n",
       "    cdm_datatype:         Station\n",
       "    station_dimension:    feature_id\n",
       "    stream_order_output:  1"
      ]
     },
     "execution_count": 99,
     "metadata": {},
     "output_type": "execute_result"
    }
   ],
   "source": [
    "final_nc_ds.attrs = ds.attrs\n",
    "final_nc_ds"
   ]
  },
  {
   "cell_type": "code",
   "execution_count": 100,
   "metadata": {},
   "outputs": [],
   "source": [
    "final_nc_ds.to_netcdf('data/nwm-v1.2-channel_spatial_index_w_attrs.nc')"
   ]
  },
  {
   "cell_type": "code",
   "execution_count": 101,
   "metadata": {},
   "outputs": [
    {
     "data": {
      "text/plain": [
       "<xarray.Dataset>\n",
       "Dimensions:     (feature_id: 2729077)\n",
       "Coordinates:\n",
       "  * feature_id  (feature_id) int64 101 179 181 ... 932040360 947080027 948060094\n",
       "Data variables:\n",
       "    latitude    (feature_id) float64 ...\n",
       "    longitude   (feature_id) float64 ...\n",
       "    ST          (feature_id) object ...\n",
       "    CNTY        (feature_id) object ...\n",
       "    pt_wkt      (feature_id) object ...\n",
       "Attributes:\n",
       "    proj4:                +proj=longlat +datum=NAD83 +no_defs\n",
       "    esri_pe_string:       GEOGCS[GCS_North_American_1983,DATUM[D_North_Americ...\n",
       "    model_version:        NWM 1.2\n",
       "    Conventions:          CF-1.6\n",
       "    cdm_datatype:         Station\n",
       "    station_dimension:    feature_id\n",
       "    stream_order_output:  [1]"
      ]
     },
     "execution_count": 101,
     "metadata": {},
     "output_type": "execute_result"
    }
   ],
   "source": [
    "fs = gcsfs.GCSFileSystem(project='floodcast')\n",
    "d = fs.open('fcast/datastore/NWM/nwm-v1.2-channel_spatial_index_w_attrs.nc')\n",
    "ds = xr.open_dataset(d)\n",
    "ds"
   ]
  },
  {
   "cell_type": "code",
   "execution_count": null,
   "metadata": {},
   "outputs": [],
   "source": []
  }
 ],
 "metadata": {
  "kernelspec": {
   "display_name": "Python 3",
   "language": "python",
   "name": "python3"
  },
  "language_info": {
   "codemirror_mode": {
    "name": "ipython",
    "version": 3
   },
   "file_extension": ".py",
   "mimetype": "text/x-python",
   "name": "python",
   "nbconvert_exporter": "python",
   "pygments_lexer": "ipython3",
   "version": "3.7.4"
  }
 },
 "nbformat": 4,
 "nbformat_minor": 4
}
