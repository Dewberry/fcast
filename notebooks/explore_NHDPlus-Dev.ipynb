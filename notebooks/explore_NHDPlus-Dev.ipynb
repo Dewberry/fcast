{
 "cells": [
  {
   "cell_type": "markdown",
   "metadata": {},
   "source": [
    "# Exploring the NHDPlus Seamless CONUS gdb\n",
    "## Making tools to access individual features quickly"
   ]
  },
  {
   "cell_type": "code",
   "execution_count": 3,
   "metadata": {},
   "outputs": [],
   "source": [
    "import fiona\n",
    "import json\n",
    "import pandas as pd\n",
    "import geopandas as gpd\n",
    "from shapely.geometry import Point\n",
    "from shapely.geometry import shape\n",
    "\n",
    "import sys; sys.path.append('..')\n",
    "from fcast import StreamSegmentNHD"
   ]
  },
  {
   "cell_type": "markdown",
   "metadata": {},
   "source": [
    "### Set the gdb path and the layer name\n",
    "gdb source: http://www.horizon-systems.com/NHDPlus/V2NationalData.php\n",
    "\n",
    "download link: http://www.horizon-systems.com/NHDPlusData/NHDPlusV21/Data/NationalData/NHDPlusV21_NationalData_Seamless_Geodatabase_Lower48_07.7z\n",
    "\n",
    "documentation: http://www.horizon-systems.com/NHDPlusData/NHDPlusV21/Data/NationalData/0Release_Notes_NationalData_Seamless_GeoDatabase.pdf"
   ]
  },
  {
   "cell_type": "code",
   "execution_count": 4,
   "metadata": {},
   "outputs": [],
   "source": [
    "gdb = r'data\\NHDPlusV21\\NHDPlusV21_National_Seamless_Flattened_Lower48.gdb'\n",
    "lyr = 'NHDFlowline_Network'"
   ]
  },
  {
   "cell_type": "markdown",
   "metadata": {},
   "source": [
    "### Open the gdb, layer"
   ]
  },
  {
   "cell_type": "code",
   "execution_count": 5,
   "metadata": {},
   "outputs": [],
   "source": [
    "src = fiona.open(gdb, layer=lyr)"
   ]
  },
  {
   "cell_type": "code",
   "execution_count": 6,
   "metadata": {},
   "outputs": [
    {
     "data": {
      "text/plain": [
       "{'driver': 'OpenFileGDB',\n",
       " 'schema': {'properties': OrderedDict([('COMID', 'int'),\n",
       "               ('FDATE', 'datetime'),\n",
       "               ('RESOLUTION', 'str:7'),\n",
       "               ('GNIS_ID', 'str:10'),\n",
       "               ('GNIS_NAME', 'str:65'),\n",
       "               ('LENGTHKM', 'float'),\n",
       "               ('REACHCODE', 'str:14'),\n",
       "               ('FLOWDIR', 'str:15'),\n",
       "               ('WBAREACOMI', 'int'),\n",
       "               ('FTYPE', 'str:24'),\n",
       "               ('FCODE', 'int'),\n",
       "               ('Shape_Length', 'float'),\n",
       "               ('StreamLeve', 'float'),\n",
       "               ('StreamOrde', 'float'),\n",
       "               ('StreamCalc', 'float'),\n",
       "               ('FromNode', 'float'),\n",
       "               ('ToNode', 'float'),\n",
       "               ('Hydroseq', 'float'),\n",
       "               ('LevelPathI', 'float'),\n",
       "               ('Pathlength', 'float'),\n",
       "               ('TerminalPa', 'float'),\n",
       "               ('ArbolateSu', 'float'),\n",
       "               ('Divergence', 'float'),\n",
       "               ('StartFlag', 'float'),\n",
       "               ('TerminalFl', 'float'),\n",
       "               ('DnLevel', 'float'),\n",
       "               ('UpLevelPat', 'float'),\n",
       "               ('UpHydroseq', 'float'),\n",
       "               ('DnLevelPat', 'float'),\n",
       "               ('DnMinorHyd', 'float'),\n",
       "               ('DnDrainCou', 'float'),\n",
       "               ('DnHydroseq', 'float'),\n",
       "               ('FromMeas', 'float'),\n",
       "               ('ToMeas', 'float'),\n",
       "               ('RtnDiv', 'float'),\n",
       "               ('VPUIn', 'float'),\n",
       "               ('VPUOut', 'float'),\n",
       "               ('AreaSqKM', 'float'),\n",
       "               ('TotDASqKM', 'float'),\n",
       "               ('DivDASqKM', 'float'),\n",
       "               ('Tidal', 'float'),\n",
       "               ('TOTMA', 'float'),\n",
       "               ('WBAreaType', 'str:24'),\n",
       "               ('PathTimeMA', 'float'),\n",
       "               ('HWNodeSqKM', 'float'),\n",
       "               ('MAXELEVRAW', 'float'),\n",
       "               ('MINELEVRAW', 'float'),\n",
       "               ('MAXELEVSMO', 'float'),\n",
       "               ('MINELEVSMO', 'float'),\n",
       "               ('SLOPE', 'float'),\n",
       "               ('ELEVFIXED', 'str:1'),\n",
       "               ('HWTYPE', 'str:1'),\n",
       "               ('SLOPELENKM', 'float'),\n",
       "               ('QA_MA', 'float'),\n",
       "               ('VA_MA', 'float'),\n",
       "               ('QC_MA', 'float'),\n",
       "               ('VC_MA', 'float'),\n",
       "               ('QE_MA', 'float'),\n",
       "               ('VE_MA', 'float'),\n",
       "               ('QA_01', 'float'),\n",
       "               ('VA_01', 'float'),\n",
       "               ('QC_01', 'float'),\n",
       "               ('VC_01', 'float'),\n",
       "               ('QE_01', 'float'),\n",
       "               ('VE_01', 'float'),\n",
       "               ('QA_02', 'float'),\n",
       "               ('VA_02', 'float'),\n",
       "               ('QC_02', 'float'),\n",
       "               ('VC_02', 'float'),\n",
       "               ('QE_02', 'float'),\n",
       "               ('VE_02', 'float'),\n",
       "               ('QA_03', 'float'),\n",
       "               ('VA_03', 'float'),\n",
       "               ('QC_03', 'float'),\n",
       "               ('VC_03', 'float'),\n",
       "               ('QE_03', 'float'),\n",
       "               ('VE_03', 'float'),\n",
       "               ('QA_04', 'float'),\n",
       "               ('VA_04', 'float'),\n",
       "               ('QC_04', 'float'),\n",
       "               ('VC_04', 'float'),\n",
       "               ('QE_04', 'float'),\n",
       "               ('VE_04', 'float'),\n",
       "               ('QA_05', 'float'),\n",
       "               ('VA_05', 'float'),\n",
       "               ('QC_05', 'float'),\n",
       "               ('VC_05', 'float'),\n",
       "               ('QE_05', 'float'),\n",
       "               ('VE_05', 'float'),\n",
       "               ('QA_06', 'float'),\n",
       "               ('VA_06', 'float'),\n",
       "               ('QC_06', 'float'),\n",
       "               ('VC_06', 'float'),\n",
       "               ('QE_06', 'float'),\n",
       "               ('VE_06', 'float'),\n",
       "               ('QA_07', 'float'),\n",
       "               ('VA_07', 'float'),\n",
       "               ('QC_07', 'float'),\n",
       "               ('VC_07', 'float'),\n",
       "               ('QE_07', 'float'),\n",
       "               ('VE_07', 'float'),\n",
       "               ('QA_08', 'float'),\n",
       "               ('VA_08', 'float'),\n",
       "               ('QC_08', 'float'),\n",
       "               ('VC_08', 'float'),\n",
       "               ('QE_08', 'float'),\n",
       "               ('VE_08', 'float'),\n",
       "               ('QA_09', 'float'),\n",
       "               ('VA_09', 'float'),\n",
       "               ('QC_09', 'float'),\n",
       "               ('VC_09', 'float'),\n",
       "               ('QE_09', 'float'),\n",
       "               ('VE_09', 'float'),\n",
       "               ('QA_10', 'float'),\n",
       "               ('VA_10', 'float'),\n",
       "               ('QC_10', 'float'),\n",
       "               ('VC_10', 'float'),\n",
       "               ('QE_10', 'float'),\n",
       "               ('VE_10', 'float'),\n",
       "               ('QA_11', 'float'),\n",
       "               ('VA_11', 'float'),\n",
       "               ('QC_11', 'float'),\n",
       "               ('VC_11', 'float'),\n",
       "               ('QE_11', 'float'),\n",
       "               ('VE_11', 'float'),\n",
       "               ('QA_12', 'float'),\n",
       "               ('VA_12', 'float'),\n",
       "               ('QC_12', 'float'),\n",
       "               ('VC_12', 'float'),\n",
       "               ('QE_12', 'float'),\n",
       "               ('VE_12', 'float'),\n",
       "               ('LakeFract', 'float'),\n",
       "               ('SurfArea', 'float'),\n",
       "               ('RAreaHLoad', 'float'),\n",
       "               ('RPUID', 'str:8'),\n",
       "               ('VPUID', 'str:8'),\n",
       "               ('Enabled', 'int')]),\n",
       "  'geometry': '3D MultiLineString'},\n",
       " 'crs': {'init': 'epsg:4269'},\n",
       " 'crs_wkt': 'GEOGCS[\"NAD83\",DATUM[\"North_American_Datum_1983\",SPHEROID[\"GRS 1980\",6378137,298.257222101,AUTHORITY[\"EPSG\",\"7019\"]],AUTHORITY[\"EPSG\",\"6269\"]],PRIMEM[\"Greenwich\",0,AUTHORITY[\"EPSG\",\"8901\"]],UNIT[\"degree\",0.0174532925199433,AUTHORITY[\"EPSG\",\"9122\"]],AXIS[\"Latitude\",NORTH],AXIS[\"Longitude\",EAST],AUTHORITY[\"EPSG\",\"4269\"]]'}"
      ]
     },
     "execution_count": 6,
     "metadata": {},
     "output_type": "execute_result"
    }
   ],
   "source": [
    "src.meta"
   ]
  },
  {
   "cell_type": "markdown",
   "metadata": {},
   "source": [
    "### Make a dict that allow for easy/fast indexing of our layer of interest"
   ]
  },
  {
   "cell_type": "code",
   "execution_count": 4,
   "metadata": {},
   "outputs": [],
   "source": [
    "# comidDict = {src[f]['properties']['COMID']: f for f in src.keys()}"
   ]
  },
  {
   "cell_type": "markdown",
   "metadata": {},
   "source": [
    "### Write it to a json"
   ]
  },
  {
   "cell_type": "code",
   "execution_count": 5,
   "metadata": {},
   "outputs": [],
   "source": [
    "# with open('data/comidDict_NHDPlusV21.json', 'w') as fp:\n",
    "#     json.dump(comidDict, fp, indent=2)"
   ]
  },
  {
   "cell_type": "markdown",
   "metadata": {},
   "source": [
    "# END\n",
    "\n",
    "---\n",
    "\n",
    "#### dev work below"
   ]
  },
  {
   "cell_type": "code",
   "execution_count": 6,
   "metadata": {},
   "outputs": [],
   "source": [
    "with open('data/NHDPlusV21/comidDict_NHDPlusV21.json') as f:\n",
    "    comidDict = json.loads(f.read())"
   ]
  },
  {
   "cell_type": "code",
   "execution_count": 7,
   "metadata": {},
   "outputs": [],
   "source": [
    "node_lyr = 'PlusFlow'\n",
    "node_src = fiona.open(gdb, layer=node_lyr)"
   ]
  },
  {
   "cell_type": "code",
   "execution_count": 8,
   "metadata": {},
   "outputs": [],
   "source": [
    "comid = 4512772 # some small segment on the Potomac near DC"
   ]
  },
  {
   "cell_type": "code",
   "execution_count": 9,
   "metadata": {},
   "outputs": [],
   "source": [
    "# import importlib\n",
    "# import fcast\n",
    "# importlib.reload(fcast)\n",
    "# import sys; sys.path.append('..')\n",
    "# from fcast import StreamSegmentNHD"
   ]
  },
  {
   "cell_type": "code",
   "execution_count": 10,
   "metadata": {},
   "outputs": [],
   "source": [
    "test = StreamSegmentNHD(comid, comidDict, src, warning=False)"
   ]
  },
  {
   "cell_type": "code",
   "execution_count": 11,
   "metadata": {},
   "outputs": [
    {
     "data": {
      "text/plain": [
       "200011819.0"
      ]
     },
     "execution_count": 11,
     "metadata": {},
     "output_type": "execute_result"
    }
   ],
   "source": [
    "test.from_node_id"
   ]
  },
  {
   "cell_type": "code",
   "execution_count": 12,
   "metadata": {},
   "outputs": [
    {
     "data": {
      "text/plain": [
       "200011746.0"
      ]
     },
     "execution_count": 12,
     "metadata": {},
     "output_type": "execute_result"
    }
   ],
   "source": [
    "test.to_node_id"
   ]
  },
  {
   "cell_type": "code",
   "execution_count": 13,
   "metadata": {},
   "outputs": [
    {
     "data": {
      "text/plain": [
       "OrderedDict([('FROMCOMID', 'int'),\n",
       "             ('FROMHYDSEQ', 'float'),\n",
       "             ('FROMLVLPAT', 'float'),\n",
       "             ('TOCOMID', 'int'),\n",
       "             ('TOHYDSEQ', 'float'),\n",
       "             ('TOLVLPAT', 'float'),\n",
       "             ('NODENUMBER', 'float'),\n",
       "             ('DELTALEVEL', 'int'),\n",
       "             ('DIRECTION', 'int'),\n",
       "             ('GAPDISTKM', 'float'),\n",
       "             ('HasGeo', 'str:1'),\n",
       "             ('TotDASqKM', 'float'),\n",
       "             ('DivDASqKM', 'float')])"
      ]
     },
     "execution_count": 13,
     "metadata": {},
     "output_type": "execute_result"
    }
   ],
   "source": [
    "node_src.meta['schema']['properties']"
   ]
  },
  {
   "cell_type": "markdown",
   "metadata": {},
   "source": [
    "## Make a dict to easily access the PlusFlow layer"
   ]
  },
  {
   "cell_type": "code",
   "execution_count": 14,
   "metadata": {},
   "outputs": [],
   "source": [
    "node_id_dict = {node_src[f]['properties']['NODENUMBER']: f for f in node_src.keys()}"
   ]
  },
  {
   "cell_type": "markdown",
   "metadata": {},
   "source": [
    "## Pull the to/from comid based on matching node numbers"
   ]
  },
  {
   "cell_type": "code",
   "execution_count": 15,
   "metadata": {},
   "outputs": [],
   "source": [
    "x = node_src[node_id_dict[test.from_node_id]]['properties']\n",
    "assert x['TOCOMID'] == comid, \"For some reason this Node Number is wrong\"\n",
    "fromcomid = x['FROMCOMID']"
   ]
  },
  {
   "cell_type": "code",
   "execution_count": 16,
   "metadata": {},
   "outputs": [],
   "source": [
    "fromcseg = StreamSegmentNHD(fromcomid, comidDict, src, warning=False)"
   ]
  },
  {
   "cell_type": "code",
   "execution_count": 17,
   "metadata": {},
   "outputs": [
    {
     "data": {
      "image/svg+xml": [
       "<svg xmlns=\"http://www.w3.org/2000/svg\" xmlns:xlink=\"http://www.w3.org/1999/xlink\" width=\"100.0\" height=\"100.0\" viewBox=\"-77.13755854004044 38.954172390201975 0.00400183199386106 0.0039008319940592173\" preserveAspectRatio=\"xMinYMin meet\"><g transform=\"matrix(1,0,0,-1,0,77.91224561239801)\"><g><polyline fill=\"none\" stroke=\"#66cc99\" stroke-width=\"8.00366398772212e-05\" points=\"-77.13741032404067,38.95792500619626 -77.13703232404117,38.95769920619654 -77.13374299071296,38.954389406201756 -77.13370492404636,38.95432060620175\" opacity=\"0.8\" /></g></g></svg>"
      ],
      "text/plain": [
       "<shapely.geometry.multilinestring.MultiLineString at 0x1f3e9fecf88>"
      ]
     },
     "execution_count": 17,
     "metadata": {},
     "output_type": "execute_result"
    }
   ],
   "source": [
    "fromcseg.geometry"
   ]
  },
  {
   "cell_type": "markdown",
   "metadata": {},
   "source": [
    "## Determine which end point is upstream and which is downstream"
   ]
  },
  {
   "cell_type": "code",
   "execution_count": 18,
   "metadata": {},
   "outputs": [],
   "source": [
    "endpt1 = Point(list(list(fromcseg.geometry)[0].coords)[0])\n",
    "endpt2 = Point(list(list(fromcseg.geometry)[0].coords)[-1])"
   ]
  },
  {
   "cell_type": "code",
   "execution_count": 19,
   "metadata": {},
   "outputs": [
    {
     "data": {
      "text/plain": [
       "0.005169302509850152"
      ]
     },
     "execution_count": 19,
     "metadata": {},
     "output_type": "execute_result"
    }
   ],
   "source": [
    "endpt1.distance(test.geometry) # downstream"
   ]
  },
  {
   "cell_type": "code",
   "execution_count": 20,
   "metadata": {},
   "outputs": [
    {
     "data": {
      "text/plain": [
       "0.0"
      ]
     },
     "execution_count": 20,
     "metadata": {},
     "output_type": "execute_result"
    }
   ],
   "source": [
    "endpt2.distance(test.geometry) # upstream"
   ]
  },
  {
   "cell_type": "markdown",
   "metadata": {},
   "source": [
    "# Plot to visibly make sure they are next to each other"
   ]
  },
  {
   "cell_type": "code",
   "execution_count": 21,
   "metadata": {},
   "outputs": [
    {
     "data": {
      "text/html": [
       "<div>\n",
       "<style scoped>\n",
       "    .dataframe tbody tr th:only-of-type {\n",
       "        vertical-align: middle;\n",
       "    }\n",
       "\n",
       "    .dataframe tbody tr th {\n",
       "        vertical-align: top;\n",
       "    }\n",
       "\n",
       "    .dataframe thead th {\n",
       "        text-align: right;\n",
       "    }\n",
       "</style>\n",
       "<table border=\"1\" class=\"dataframe\">\n",
       "  <thead>\n",
       "    <tr style=\"text-align: right;\">\n",
       "      <th></th>\n",
       "      <th>comid</th>\n",
       "      <th>geometry</th>\n",
       "    </tr>\n",
       "  </thead>\n",
       "  <tbody>\n",
       "    <tr>\n",
       "      <th>0</th>\n",
       "      <td>4512772</td>\n",
       "      <td>LINESTRING Z (-77.13370 38.95432 0.00000, -77....</td>\n",
       "    </tr>\n",
       "    <tr>\n",
       "      <th>1</th>\n",
       "      <td>4512770</td>\n",
       "      <td>LINESTRING Z (-77.13741 38.95793 0.00000, -77....</td>\n",
       "    </tr>\n",
       "  </tbody>\n",
       "</table>\n",
       "</div>"
      ],
      "text/plain": [
       "     comid                                           geometry\n",
       "0  4512772  LINESTRING Z (-77.13370 38.95432 0.00000, -77....\n",
       "1  4512770  LINESTRING Z (-77.13741 38.95793 0.00000, -77...."
      ]
     },
     "execution_count": 21,
     "metadata": {},
     "output_type": "execute_result"
    }
   ],
   "source": [
    "gdf = gpd.GeoDataFrame({comid: test.geometry, fromcomid: fromcseg.geometry}).T.reset_index().rename(columns={'index':'comid', 0:'geometry'}).set_geometry('geometry')\n",
    "gdf"
   ]
  },
  {
   "cell_type": "code",
   "execution_count": 22,
   "metadata": {},
   "outputs": [
    {
     "data": {
      "text/plain": [
       "<matplotlib.axes._subplots.AxesSubplot at 0x1f3b18d2488>"
      ]
     },
     "execution_count": 22,
     "metadata": {},
     "output_type": "execute_result"
    },
    {
     "data": {
      "image/png": "[encoded data removed]",
      "text/plain": [
       "<Figure size 720x720 with 1 Axes>"
      ]
     },
     "metadata": {
      "needs_background": "light"
     },
     "output_type": "display_data"
    }
   ],
   "source": [
    "gdf.plot(figsize=(10,10), categorical=True, column='comid', legend=True, cmap='prism')"
   ]
  },
  {
   "cell_type": "markdown",
   "metadata": {},
   "source": [
    "# Using the above, the upstream and downstream point can be determined, as well as the upstream and downstream comids"
   ]
  },
  {
   "cell_type": "markdown",
   "metadata": {},
   "source": [
    "## Try to set up 'from_comid' and 'to_comid' attributes for the spatial index file"
   ]
  },
  {
   "cell_type": "code",
   "execution_count": 49,
   "metadata": {
    "collapsed": true,
    "jupyter": {
     "outputs_hidden": true
    }
   },
   "outputs": [
    {
     "name": "stdout",
     "output_type": "stream",
     "text": [
      "Error: 200111281.0\n",
      " at node: 200111281.0, comid: 8411203\n",
      "\n",
      "\n",
      "Error: 200111272.0\n",
      " at node: 200111272.0, comid: 8411067\n",
      "\n",
      "\n",
      "Error: 200111280.0\n",
      " at node: 200111280.0, comid: 8411201\n",
      "\n",
      "\n",
      "Error: 200111279.0\n",
      " at node: 200111279.0, comid: 8411167\n",
      "\n",
      "\n",
      "Error: 200111278.0\n",
      " at node: 200111278.0, comid: 8411157\n",
      "\n",
      "\n",
      "Error: 200111276.0\n",
      " at node: 200111276.0, comid: 8411097\n",
      "\n",
      "\n",
      "Error: 200111275.0\n",
      " at node: 200111275.0, comid: 8411093\n",
      "\n",
      "\n",
      "Error: 200111273.0\n",
      " at node: 200111273.0, comid: 8411071\n",
      "\n",
      "\n",
      "Error: 200111274.0\n",
      " at node: 200111274.0, comid: 8411081\n",
      "\n",
      "\n",
      "Error: 200111271.0\n",
      " at node: 200111271.0, comid: 8411059\n",
      "\n",
      "\n",
      "Error: 200111270.0\n",
      " at node: 200111270.0, comid: 8411057\n",
      "\n",
      "\n",
      "Error: 200111267.0\n",
      " at node: 200111267.0, comid: 8411037\n",
      "\n",
      "\n",
      "Error: 200111268.0\n",
      " at node: 200111268.0, comid: 8411039\n",
      "\n",
      "\n",
      "Error: 200111269.0\n",
      " at node: 200111269.0, comid: 8411049\n",
      "\n",
      "\n",
      "Error: 200111308.0\n",
      " at node: 200111308.0, comid: 8413047\n",
      "\n",
      "\n",
      "Error: 200111307.0\n",
      " at node: 200111307.0, comid: 8413045\n",
      "\n",
      "\n",
      "Error: 200111305.0\n",
      " at node: 200111305.0, comid: 8413037\n",
      "\n",
      "\n",
      "Error: 200111309.0\n",
      " at node: 200111309.0, comid: 8413049\n",
      "\n",
      "\n",
      "Error: 200111310.0\n",
      " at node: 200111310.0, comid: 8413059\n",
      "\n",
      "\n",
      "Error: 200111317.0\n",
      " at node: 200111317.0, comid: 8413149\n",
      "\n",
      "\n",
      "Error: 200111320.0\n",
      " at node: 200111320.0, comid: 8413213\n",
      "\n",
      "\n",
      "Error: 200111306.0\n",
      " at node: 200111306.0, comid: 8413039\n",
      "\n",
      "\n",
      "Error: 200111318.0\n",
      " at node: 200111318.0, comid: 8413151\n",
      "\n",
      "\n"
     ]
    }
   ],
   "source": [
    "# comid : from node number\n",
    "from_to_cid = {}\n",
    "# comid : to node number\n",
    "# tonode = {}\n",
    "\n",
    "for cid, idx in comidDict.items():\n",
    "\n",
    "    nhd_props = src[idx]['properties']\n",
    "    \n",
    "    fnode = nhd_props['FromNode']\n",
    "    try:\n",
    "        fnode_props = node_src[node_id_dict[fnode]]['properties']\n",
    "        fromcomid = fnode_props['FROMCOMID']\n",
    "    except KeyError as e:\n",
    "        print(f'Error: {e}\\n at node: {fnode}, comid: {cid}\\n\\n')\n",
    "        fromcomid = 'HEADWATERS/COASTAL'\n",
    "    \n",
    "    tnode = nhd_props['ToNode']\n",
    "    try: \n",
    "        tnode_props = node_src[node_id_dict[tnode]]['properties']\n",
    "        tocomid = tnode_props['TOCOMID']\n",
    "    except KeyError as e:\n",
    "        print(f'Error: {e}\\n at node: {tnode}, comid: {cid}\\n\\n')\n",
    "        tocomid = 'HEADWATERS/COASTAL'\n",
    "    \n",
    "    from_to_cid[cid] = {'from_comid': fromcomid, 'to_comid': tocomid}"
   ]
  },
  {
   "cell_type": "markdown",
   "metadata": {},
   "source": [
    "### Why are there zeros?"
   ]
  },
  {
   "cell_type": "code",
   "execution_count": 66,
   "metadata": {},
   "outputs": [],
   "source": [
    "zeros_comids = []\n",
    "for k, v in from_to_cid.items():\n",
    "    if v['from_comid'] == 0 or v['to_comid'] == 0:\n",
    "        zeros_comids.append(k)"
   ]
  },
  {
   "cell_type": "code",
   "execution_count": 67,
   "metadata": {},
   "outputs": [
    {
     "data": {
      "text/plain": [
       "955351"
      ]
     },
     "execution_count": 67,
     "metadata": {},
     "output_type": "execute_result"
    }
   ],
   "source": [
    "len(zeros_comids)"
   ]
  },
  {
   "cell_type": "code",
   "execution_count": 68,
   "metadata": {},
   "outputs": [
    {
     "data": {
      "text/plain": [
       "{'from_comid': 0, 'to_comid': 1051685}"
      ]
     },
     "execution_count": 68,
     "metadata": {},
     "output_type": "execute_result"
    }
   ],
   "source": [
    "from_to_cid[zeros_comids[100000]]"
   ]
  },
  {
   "cell_type": "markdown",
   "metadata": {},
   "source": [
    "### Why are there so few coastal/headwaters comids?"
   ]
  },
  {
   "cell_type": "code",
   "execution_count": 69,
   "metadata": {},
   "outputs": [],
   "source": [
    "coast_head_comids = []\n",
    "for k, v in from_to_cid.items():\n",
    "    if v['from_comid'] == 'HEADWATERS/COASTAL' or v['to_comid'] == 'HEADWATERS/COASTAL':\n",
    "        coast_head_comids.append(k)"
   ]
  },
  {
   "cell_type": "code",
   "execution_count": 70,
   "metadata": {},
   "outputs": [
    {
     "data": {
      "text/plain": [
       "23"
      ]
     },
     "execution_count": 70,
     "metadata": {},
     "output_type": "execute_result"
    }
   ],
   "source": [
    "len(coast_head_comids)"
   ]
  },
  {
   "cell_type": "code",
   "execution_count": 71,
   "metadata": {},
   "outputs": [
    {
     "data": {
      "text/plain": [
       "{'from_comid': 'HEADWATERS/COASTAL', 'to_comid': 8413347}"
      ]
     },
     "execution_count": 71,
     "metadata": {},
     "output_type": "execute_result"
    }
   ],
   "source": [
    "from_to_cid[coast_head_comids[15]]"
   ]
  },
  {
   "cell_type": "markdown",
   "metadata": {},
   "source": [
    "## Get the line wkt geometry for the spatial index file"
   ]
  },
  {
   "cell_type": "code",
   "execution_count": 7,
   "metadata": {},
   "outputs": [
    {
     "name": "stderr",
     "output_type": "stream",
     "text": [
      "c:\\users\\abrazeau\\appdata\\local\\continuum\\miniconda3\\lib\\site-packages\\IPython\\core\\interactiveshell.py:3058: DtypeWarning: Columns (3,4) have mixed types. Specify dtype option on import or set low_memory=False.\n",
      "  interactivity=interactivity, compiler=compiler, result=result)\n",
      "c:\\users\\abrazeau\\appdata\\local\\continuum\\miniconda3\\lib\\site-packages\\numpy\\lib\\arraysetops.py:568: FutureWarning: elementwise comparison failed; returning scalar instead, but in the future will perform elementwise comparison\n",
      "  mask |= (ar1 == a)\n"
     ]
    }
   ],
   "source": [
    "df = pd.read_csv('data/nwm-v1.2-channel_spatial_index_w_attrs.csv', index_col='feature_id')\n",
    "df['ST'] = df['ST'].astype(str)\n",
    "df['CNTY'] = df['CNTY'].astype(str)"
   ]
  },
  {
   "cell_type": "code",
   "execution_count": 8,
   "metadata": {},
   "outputs": [
    {
     "data": {
      "text/html": [
       "<div>\n",
       "<style scoped>\n",
       "    .dataframe tbody tr th:only-of-type {\n",
       "        vertical-align: middle;\n",
       "    }\n",
       "\n",
       "    .dataframe tbody tr th {\n",
       "        vertical-align: top;\n",
       "    }\n",
       "\n",
       "    .dataframe thead th {\n",
       "        text-align: right;\n",
       "    }\n",
       "</style>\n",
       "<table border=\"1\" class=\"dataframe\">\n",
       "  <thead>\n",
       "    <tr style=\"text-align: right;\">\n",
       "      <th></th>\n",
       "      <th>latitude</th>\n",
       "      <th>longitude</th>\n",
       "      <th>ST</th>\n",
       "      <th>CNTY</th>\n",
       "      <th>pt_wkt</th>\n",
       "    </tr>\n",
       "    <tr>\n",
       "      <th>feature_id</th>\n",
       "      <th></th>\n",
       "      <th></th>\n",
       "      <th></th>\n",
       "      <th></th>\n",
       "      <th></th>\n",
       "    </tr>\n",
       "  </thead>\n",
       "  <tbody>\n",
       "    <tr>\n",
       "      <th>101</th>\n",
       "      <td>31.086876</td>\n",
       "      <td>-94.640541</td>\n",
       "      <td>48</td>\n",
       "      <td>48373</td>\n",
       "      <td>POINT (-94.6405410766601563 31.0868759155273438)</td>\n",
       "    </tr>\n",
       "    <tr>\n",
       "      <th>179</th>\n",
       "      <td>46.022163</td>\n",
       "      <td>-67.986412</td>\n",
       "      <td>23</td>\n",
       "      <td>23003</td>\n",
       "      <td>POINT (-67.9864120483398438 46.0221633911132813)</td>\n",
       "    </tr>\n",
       "    <tr>\n",
       "      <th>181</th>\n",
       "      <td>46.016491</td>\n",
       "      <td>-67.998726</td>\n",
       "      <td>23</td>\n",
       "      <td>23003</td>\n",
       "      <td>POINT (-67.9987258911132813 46.0164909362792969)</td>\n",
       "    </tr>\n",
       "    <tr>\n",
       "      <th>183</th>\n",
       "      <td>46.020847</td>\n",
       "      <td>-67.998833</td>\n",
       "      <td>23</td>\n",
       "      <td>23003</td>\n",
       "      <td>POINT (-67.9988327026367188 46.0208473205566406)</td>\n",
       "    </tr>\n",
       "    <tr>\n",
       "      <th>185</th>\n",
       "      <td>46.019714</td>\n",
       "      <td>-67.998619</td>\n",
       "      <td>23</td>\n",
       "      <td>23003</td>\n",
       "      <td>POINT (-67.9986190795898438 46.0197143554687500)</td>\n",
       "    </tr>\n",
       "  </tbody>\n",
       "</table>\n",
       "</div>"
      ],
      "text/plain": [
       "             latitude  longitude  ST   CNTY  \\\n",
       "feature_id                                    \n",
       "101         31.086876 -94.640541  48  48373   \n",
       "179         46.022163 -67.986412  23  23003   \n",
       "181         46.016491 -67.998726  23  23003   \n",
       "183         46.020847 -67.998833  23  23003   \n",
       "185         46.019714 -67.998619  23  23003   \n",
       "\n",
       "                                                      pt_wkt  \n",
       "feature_id                                                    \n",
       "101         POINT (-94.6405410766601563 31.0868759155273438)  \n",
       "179         POINT (-67.9864120483398438 46.0221633911132813)  \n",
       "181         POINT (-67.9987258911132813 46.0164909362792969)  \n",
       "183         POINT (-67.9988327026367188 46.0208473205566406)  \n",
       "185         POINT (-67.9986190795898438 46.0197143554687500)  "
      ]
     },
     "execution_count": 8,
     "metadata": {},
     "output_type": "execute_result"
    }
   ],
   "source": [
    "df.head()"
   ]
  },
  {
   "cell_type": "raw",
   "metadata": {},
   "source": [
    "for i in df.index:\n",
    "    df.loc[i, 'line_wkt'] = StreamSegmentNHD(i, comidDict, src, warning=False).geometry.to_wkt()"
   ]
  },
  {
   "cell_type": "code",
   "execution_count": 11,
   "metadata": {},
   "outputs": [],
   "source": [
    "# df['line_wkt'] = df.feature_id.apply(lambda x: StreamSegmentNHD(x, comidDict, src, warning=False).geometry.to_wkt())"
   ]
  },
  {
   "cell_type": "code",
   "execution_count": 28,
   "metadata": {},
   "outputs": [],
   "source": [
    "results = {src[f]['properties']['COMID']: shape(src[f]['geometry']).wkt for f in src.keys()}"
   ]
  },
  {
   "cell_type": "code",
   "execution_count": 29,
   "metadata": {},
   "outputs": [],
   "source": [
    "output_dataframe = pd.DataFrame.from_dict([results]).T"
   ]
  },
  {
   "cell_type": "code",
   "execution_count": 34,
   "metadata": {},
   "outputs": [],
   "source": [
    "output_dataframe.index.name = 'feature_id'\n",
    "output_dataframe.rename(columns={0:'line_wkt'}, inplace=True)"
   ]
  },
  {
   "cell_type": "code",
   "execution_count": 36,
   "metadata": {},
   "outputs": [],
   "source": [
    "output_dataframe.to_csv('data/comid_line_wkt.csv')"
   ]
  },
  {
   "cell_type": "code",
   "execution_count": 37,
   "metadata": {},
   "outputs": [
    {
     "data": {
      "text/html": [
       "<div>\n",
       "<style scoped>\n",
       "    .dataframe tbody tr th:only-of-type {\n",
       "        vertical-align: middle;\n",
       "    }\n",
       "\n",
       "    .dataframe tbody tr th {\n",
       "        vertical-align: top;\n",
       "    }\n",
       "\n",
       "    .dataframe thead th {\n",
       "        text-align: right;\n",
       "    }\n",
       "</style>\n",
       "<table border=\"1\" class=\"dataframe\">\n",
       "  <thead>\n",
       "    <tr style=\"text-align: right;\">\n",
       "      <th></th>\n",
       "      <th>latitude</th>\n",
       "      <th>longitude</th>\n",
       "      <th>ST</th>\n",
       "      <th>CNTY</th>\n",
       "      <th>pt_wkt</th>\n",
       "      <th>line_wkt</th>\n",
       "    </tr>\n",
       "    <tr>\n",
       "      <th>feature_id</th>\n",
       "      <th></th>\n",
       "      <th></th>\n",
       "      <th></th>\n",
       "      <th></th>\n",
       "      <th></th>\n",
       "      <th></th>\n",
       "    </tr>\n",
       "  </thead>\n",
       "  <tbody>\n",
       "    <tr>\n",
       "      <th>101</th>\n",
       "      <td>31.086876</td>\n",
       "      <td>-94.640541</td>\n",
       "      <td>48</td>\n",
       "      <td>48373</td>\n",
       "      <td>POINT (-94.6405410766601563 31.0868759155273438)</td>\n",
       "      <td>MULTILINESTRING Z ((-94.64844683019334 31.0991...</td>\n",
       "    </tr>\n",
       "    <tr>\n",
       "      <th>179</th>\n",
       "      <td>46.022163</td>\n",
       "      <td>-67.986412</td>\n",
       "      <td>23</td>\n",
       "      <td>23003</td>\n",
       "      <td>POINT (-67.9864120483398438 46.0221633911132813)</td>\n",
       "      <td>MULTILINESTRING Z ((-67.98139140491924 46.0332...</td>\n",
       "    </tr>\n",
       "    <tr>\n",
       "      <th>181</th>\n",
       "      <td>46.016491</td>\n",
       "      <td>-67.998726</td>\n",
       "      <td>23</td>\n",
       "      <td>23003</td>\n",
       "      <td>POINT (-67.9987258911132813 46.0164909362792969)</td>\n",
       "      <td>MULTILINESTRING Z ((-67.99783367156044 46.0183...</td>\n",
       "    </tr>\n",
       "    <tr>\n",
       "      <th>183</th>\n",
       "      <td>46.020847</td>\n",
       "      <td>-67.998833</td>\n",
       "      <td>23</td>\n",
       "      <td>23003</td>\n",
       "      <td>POINT (-67.9988327026367188 46.0208473205566406)</td>\n",
       "      <td>MULTILINESTRING Z ((-67.99946440489123 46.0210...</td>\n",
       "    </tr>\n",
       "    <tr>\n",
       "      <th>185</th>\n",
       "      <td>46.019714</td>\n",
       "      <td>-67.998619</td>\n",
       "      <td>23</td>\n",
       "      <td>23003</td>\n",
       "      <td>POINT (-67.9986190795898438 46.0197143554687500)</td>\n",
       "      <td>MULTILINESTRING Z ((-67.99829800489294 46.0204...</td>\n",
       "    </tr>\n",
       "  </tbody>\n",
       "</table>\n",
       "</div>"
      ],
      "text/plain": [
       "             latitude  longitude  ST   CNTY  \\\n",
       "feature_id                                    \n",
       "101         31.086876 -94.640541  48  48373   \n",
       "179         46.022163 -67.986412  23  23003   \n",
       "181         46.016491 -67.998726  23  23003   \n",
       "183         46.020847 -67.998833  23  23003   \n",
       "185         46.019714 -67.998619  23  23003   \n",
       "\n",
       "                                                      pt_wkt  \\\n",
       "feature_id                                                     \n",
       "101         POINT (-94.6405410766601563 31.0868759155273438)   \n",
       "179         POINT (-67.9864120483398438 46.0221633911132813)   \n",
       "181         POINT (-67.9987258911132813 46.0164909362792969)   \n",
       "183         POINT (-67.9988327026367188 46.0208473205566406)   \n",
       "185         POINT (-67.9986190795898438 46.0197143554687500)   \n",
       "\n",
       "                                                     line_wkt  \n",
       "feature_id                                                     \n",
       "101         MULTILINESTRING Z ((-94.64844683019334 31.0991...  \n",
       "179         MULTILINESTRING Z ((-67.98139140491924 46.0332...  \n",
       "181         MULTILINESTRING Z ((-67.99783367156044 46.0183...  \n",
       "183         MULTILINESTRING Z ((-67.99946440489123 46.0210...  \n",
       "185         MULTILINESTRING Z ((-67.99829800489294 46.0204...  "
      ]
     },
     "execution_count": 37,
     "metadata": {},
     "output_type": "execute_result"
    }
   ],
   "source": [
    "with_line = df.join(output_dataframe)\n",
    "with_line.head()"
   ]
  },
  {
   "cell_type": "code",
   "execution_count": 39,
   "metadata": {},
   "outputs": [],
   "source": [
    "import xarray as xr"
   ]
  },
  {
   "cell_type": "code",
   "execution_count": 40,
   "metadata": {},
   "outputs": [],
   "source": [
    "ds = xr.Dataset.from_dataframe(with_line)"
   ]
  },
  {
   "cell_type": "code",
   "execution_count": 41,
   "metadata": {},
   "outputs": [],
   "source": [
    "meta_ds = xr.open_dataset('data/nwm-v1.2-channel_spatial_index.nc')"
   ]
  },
  {
   "cell_type": "code",
   "execution_count": 45,
   "metadata": {},
   "outputs": [],
   "source": [
    "ds.attrs = meta_ds.attrs"
   ]
  },
  {
   "cell_type": "code",
   "execution_count": 46,
   "metadata": {},
   "outputs": [],
   "source": [
    "ds.to_netcdf('data/nwm-v1.2-channel_spatial_index_w_attrs.nc')"
   ]
  },
  {
   "cell_type": "code",
   "execution_count": 47,
   "metadata": {},
   "outputs": [],
   "source": [
    "with_line.to_csv('data/nwm-v1.2-channel_spatial_index_w_attrs.csv')"
   ]
  },
  {
   "cell_type": "code",
   "execution_count": null,
   "metadata": {},
   "outputs": [],
   "source": []
  }
 ],
 "metadata": {
  "kernelspec": {
   "display_name": "Python 3",
   "language": "python",
   "name": "python3"
  },
  "language_info": {
   "codemirror_mode": {
    "name": "ipython",
    "version": 3
   },
   "file_extension": ".py",
   "mimetype": "text/x-python",
   "name": "python",
   "nbconvert_exporter": "python",
   "pygments_lexer": "ipython3",
   "version": "3.7.4"
  }
 },
 "nbformat": 4,
 "nbformat_minor": 4
}
