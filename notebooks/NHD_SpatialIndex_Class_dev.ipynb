{
 "cells": [
  {
   "cell_type": "markdown",
   "metadata": {},
   "source": [
    "# TODO\n",
    "\n",
    "\n",
    " 1. Ensure that the point wkt and the line wkt are in the same projection. \n",
    "    - ~~Probably need to reproject the point wkt to epsg 4269 and update the metadata accordingly~~\n",
    "    - They are the same! Need to update the proj4 string and crs_wkt to be more clear.\n",
    " 2. Pull as many relevant attributes from the NHD geodatabase as needed, put them into the spatial index netcdf file.\n",
    " 3. Build those attributes into the NDHSpatialIndex classes"
   ]
  },
  {
   "cell_type": "code",
   "execution_count": 1,
   "metadata": {},
   "outputs": [],
   "source": [
    "import xarray as xr\n",
    "import shapely.wkt\n",
    "import pandas as pd\n",
    "import numpy as np\n",
    "import pathlib as pl"
   ]
  },
  {
   "cell_type": "code",
   "execution_count": 37,
   "metadata": {},
   "outputs": [],
   "source": [
    "sp_idx_path = pl.Path('data/nwm-v1.2-channel_spatial_index_w_attrs.nc')\n",
    "comid = 4512772 # some small segment on the Potomac near DC"
   ]
  },
  {
   "cell_type": "code",
   "execution_count": 126,
   "metadata": {},
   "outputs": [
    {
     "data": {
      "text/plain": [
       "<xarray.Dataset>\n",
       "Dimensions:     (feature_id: 2729077)\n",
       "Coordinates:\n",
       "  * feature_id  (feature_id) int64 101 179 181 ... 932040360 947080027 948060094\n",
       "Data variables:\n",
       "    latitude    (feature_id) float64 ...\n",
       "    longitude   (feature_id) float64 ...\n",
       "    ST          (feature_id) object ...\n",
       "    CNTY        (feature_id) object ...\n",
       "    pt_wkt      (feature_id) object ...\n",
       "    line_wkt    (feature_id) object ...\n",
       "Attributes:\n",
       "    proj4:                +proj=longlat +datum=NAD83 +no_defs\n",
       "    esri_pe_string:       GEOGCS[GCS_North_American_1983,DATUM[D_North_Americ...\n",
       "    model_version:        NWM 1.2\n",
       "    Conventions:          CF-1.6\n",
       "    cdm_datatype:         Station\n",
       "    station_dimension:    feature_id\n",
       "    stream_order_output:  1"
      ]
     },
     "execution_count": 126,
     "metadata": {},
     "output_type": "execute_result"
    }
   ],
   "source": [
    "ds = xr.open_dataset(sp_idx_path) #, chunks={'feature_id': 10}) for dask... not necessary right now\n",
    "ds"
   ]
  },
  {
   "cell_type": "code",
   "execution_count": 121,
   "metadata": {},
   "outputs": [
    {
     "data": {
      "text/plain": [
       "'GEOGCS[GCS_North_American_1983,DATUM[D_North_American_1983,SPHEROID[GRS_1980,6378137.0,298.257222101]],PRIMEM[Greenwich,0.0],UNIT[Degree,0.017453292519943295]]'"
      ]
     },
     "execution_count": 121,
     "metadata": {},
     "output_type": "execute_result"
    }
   ],
   "source": [
    "ds.esri_pe_string"
   ]
  },
  {
   "cell_type": "code",
   "execution_count": 123,
   "metadata": {},
   "outputs": [
    {
     "data": {
      "text/plain": [
       "'GEOGCS[\"NAD83\",DATUM[\"North_American_Datum_1983\",SPHEROID[\"GRS 1980\",6378137,298.257222101,AUTHORITY[\"EPSG\",\"7019\"]],AUTHORITY[\"EPSG\",\"6269\"]],PRIMEM[\"Greenwich\",0,AUTHORITY[\"EPSG\",\"8901\"]],UNIT[\"degree\",0.0174532925199433,AUTHORITY[\"EPSG\",\"9122\"]],AXIS[\"Latitude\",NORTH],AXIS[\"Longitude\",EAST],AUTHORITY[\"EPSG\",\"4269\"]]'"
      ]
     },
     "execution_count": 123,
     "metadata": {},
     "output_type": "execute_result"
    }
   ],
   "source": [
    "x = 'GEOGCS[\"NAD83\",DATUM[\"North_American_Datum_1983\",SPHEROID[\"GRS 1980\",6378137,298.257222101,AUTHORITY[\"EPSG\",\"7019\"]],AUTHORITY[\"EPSG\",\"6269\"]],PRIMEM[\"Greenwich\",0,AUTHORITY[\"EPSG\",\"8901\"]],UNIT[\"degree\",0.0174532925199433,AUTHORITY[\"EPSG\",\"9122\"]],AXIS[\"Latitude\",NORTH],AXIS[\"Longitude\",EAST],AUTHORITY[\"EPSG\",\"4269\"]]'\n",
    "x"
   ]
  },
  {
   "cell_type": "code",
   "execution_count": 115,
   "metadata": {},
   "outputs": [],
   "source": [
    "class NHDSpatialIndex:\n",
    "    def __init__(self):\n",
    "        \n",
    "        ## This will change to the location on GCS when the netcdf file is made public\n",
    "        self.__ds_path = pl.Path('data/nwm-v1.2-channel_spatial_index_w_attrs.nc')\n",
    "        self.__ds = xr.open_dataset(sp_idx_path)\n",
    "        \n",
    "    @property\n",
    "    def ds_path(self):\n",
    "        \"\"\"The path of the underlying NetCDF.\"\"\"\n",
    "        return self.__ds_path\n",
    "    \n",
    "    @property\n",
    "    def ds(self):\n",
    "        \"\"\"Provides access to the underlying xarray Dataset.\"\"\"\n",
    "        return self.__ds\n",
    "    \n",
    "    @property\n",
    "    def crs_proj4(self):\n",
    "        return self.__ds.proj4\n",
    "    \n",
    "    @property\n",
    "    def crs_wkt(self):\n",
    "        return self.__ds.esri_pe_string\n",
    "    \n",
    "    def __len__(self):\n",
    "        \"\"\"Length of the object is set to the number of comids in the ds.\"\"\"\n",
    "        return len(ds[list(ds.coords)[0]])\n",
    "    \n",
    "    def get_comid_ds(self, comid):\n",
    "        return SpatialComID(comid, self.__ds)\n",
    "    \n",
    "    \n",
    "class SpatialComID:\n",
    "    def __init__(self, comid, sp_idx_ds):\n",
    "        self.__comid = comid\n",
    "        self.__ds = sp_idx_ds.sel(feature_id=comid)\n",
    "        \n",
    "    @property\n",
    "    def comid(self):\n",
    "        return self.__comid\n",
    "    \n",
    "    @property\n",
    "    def ds(self):\n",
    "        return self.__ds\n",
    "\n",
    "    @property\n",
    "    def line(self):\n",
    "        return shapely.wkt.loads(str(self.__ds['line_wkt'].values))\n",
    "    \n",
    "    @property\n",
    "    def representative_pt(self):\n",
    "        return shapely.wkt.loads(str(self.__ds['pt_wkt'].values))\n",
    "    \n",
    "    @property\n",
    "    def state_fips(self):\n",
    "        return str(self.__ds.ST.values)\n",
    "    \n",
    "    @property\n",
    "    def county_fips(self):\n",
    "        return str(self.__ds.CNTY.values)\n",
    "    \n",
    "    @property\n",
    "    def lat(self):\n",
    "        return float(self.__ds.latitude) \n",
    "    \n",
    "    @property\n",
    "    def lon(self):\n",
    "        return float(self.__ds.longitude) "
   ]
  },
  {
   "cell_type": "code",
   "execution_count": 116,
   "metadata": {},
   "outputs": [],
   "source": [
    "test = NHDSpatialIndex()"
   ]
  },
  {
   "cell_type": "code",
   "execution_count": 117,
   "metadata": {},
   "outputs": [],
   "source": [
    "hmm = test.get_comid_ds(comid)"
   ]
  },
  {
   "cell_type": "code",
   "execution_count": 118,
   "metadata": {},
   "outputs": [
    {
     "data": {
      "image/svg+xml": [
       "<svg xmlns=\"http://www.w3.org/2000/svg\" xmlns:xlink=\"http://www.w3.org/1999/xlink\" width=\"100.0\" height=\"100.0\" viewBox=\"-77.13422226537888 38.940869731556106 0.006887015989235579 0.013968215978167109\" preserveAspectRatio=\"xMinYMin meet\"><g transform=\"matrix(1,0,0,-1,0,77.89570767909038)\"><g><polyline fill=\"none\" stroke=\"#66cc99\" stroke-width=\"0.0002793643195633422\" points=\"-77.13370492404636,38.95432060620175 -77.13227592404866,38.95174260620587 -77.1301695240519,38.94899707287686 -77.12879819072066,38.9466196728805 -77.12895899072038,38.94600747288138 -77.12873772405413,38.94431700621732 -77.12787719072207,38.94252800622007 -77.12807019072181,38.94179327288794 -77.12785259072217,38.94138707288863\" opacity=\"0.8\" /></g></g></svg>"
      ],
      "text/plain": [
       "<shapely.geometry.multilinestring.MultiLineString at 0x1a0365e3808>"
      ]
     },
     "execution_count": 118,
     "metadata": {},
     "output_type": "execute_result"
    }
   ],
   "source": [
    "hmm.line"
   ]
  },
  {
   "cell_type": "code",
   "execution_count": 119,
   "metadata": {},
   "outputs": [
    {
     "data": {
      "text/plain": [
       "'24031'"
      ]
     },
     "execution_count": 119,
     "metadata": {},
     "output_type": "execute_result"
    }
   ],
   "source": [
    "hmm.county_fips"
   ]
  },
  {
   "cell_type": "code",
   "execution_count": 120,
   "metadata": {},
   "outputs": [
    {
     "data": {
      "text/plain": [
       "38.948184967041016"
      ]
     },
     "execution_count": 120,
     "metadata": {},
     "output_type": "execute_result"
    }
   ],
   "source": [
    "hmm.lat"
   ]
  },
  {
   "cell_type": "code",
   "execution_count": 66,
   "metadata": {},
   "outputs": [
    {
     "data": {
      "text/plain": [
       "'feature_id'"
      ]
     },
     "execution_count": 66,
     "metadata": {},
     "output_type": "execute_result"
    }
   ],
   "source": [
    "list(ds.coords)[0]"
   ]
  },
  {
   "cell_type": "code",
   "execution_count": null,
   "metadata": {},
   "outputs": [],
   "source": []
  }
 ],
 "metadata": {
  "kernelspec": {
   "display_name": "Python 3",
   "language": "python",
   "name": "python3"
  },
  "language_info": {
   "codemirror_mode": {
    "name": "ipython",
    "version": 3
   },
   "file_extension": ".py",
   "mimetype": "text/x-python",
   "name": "python",
   "nbconvert_exporter": "python",
   "pygments_lexer": "ipython3",
   "version": "3.7.4"
  }
 },
 "nbformat": 4,
 "nbformat_minor": 4
}
